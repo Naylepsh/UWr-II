{
 "cells": [
  {
   "cell_type": "markdown",
   "metadata": {},
   "source": [
    "## Gather words"
   ]
  },
  {
   "cell_type": "markdown",
   "metadata": {},
   "source": [
    "## Exercise 1"
   ]
  },
  {
   "cell_type": "code",
   "execution_count": 1,
   "metadata": {},
   "outputs": [
    {
     "name": "stdout",
     "output_type": "stream",
     "text": [
      "Processed 10% of the file contents...\n",
      "Processed 20% of the file contents...\n",
      "Processed 30% of the file contents...\n",
      "Processed 40% of the file contents...\n",
      "Processed 50% of the file contents...\n",
      "Processed 60% of the file contents...\n",
      "Processed 70% of the file contents...\n",
      "Processed 80% of the file contents...\n",
      "Processed 90% of the file contents...\n",
      "Processed 100% of the file contents...\n"
     ]
    }
   ],
   "source": [
    "from gatherer import gather_words_from_file\n",
    "\n",
    "words = gather_words_from_file(filename='polish_corpora.txt', lines_to_read=500000)"
   ]
  },
  {
   "cell_type": "markdown",
   "metadata": {},
   "source": [
    "### a)"
   ]
  },
  {
   "cell_type": "code",
   "execution_count": 5,
   "metadata": {},
   "outputs": [],
   "source": [
    "def get_score(tokenization_attempt, proper_tokenization):\n",
    "    score = 0\n",
    "    for token in tokenization_attempt:\n",
    "        if token in proper_tokenization:\n",
    "            score +=1\n",
    "    return score / len(proper_tokenization)"
   ]
  },
  {
   "cell_type": "code",
   "execution_count": 6,
   "metadata": {},
   "outputs": [
    {
     "data": {
      "text/plain": [
       "0.5"
      ]
     },
     "execution_count": 6,
     "metadata": {},
     "output_type": "execute_result"
    }
   ],
   "source": [
    "get_score(['t1', 't2t3', 't3'], ['t1', 't2', 't3', 't3'])"
   ]
  },
  {
   "cell_type": "markdown",
   "metadata": {},
   "source": [
    "### b)"
   ]
  },
  {
   "cell_type": "code",
   "execution_count": 7,
   "metadata": {},
   "outputs": [],
   "source": [
    "def max_match(text):\n",
    "    tokens = []\n",
    "    current_token = ''\n",
    "    for letter in text:\n",
    "        extended_token = current_token + letter\n",
    "        if extended_token in words:\n",
    "            current_token = extended_token\n",
    "        else:\n",
    "            tokens.append(current_token)\n",
    "            current_token = letter\n",
    "    if current_token != '':\n",
    "        tokens.append(current_token)\n",
    "    return tokens"
   ]
  },
  {
   "cell_type": "code",
   "execution_count": 8,
   "metadata": {},
   "outputs": [],
   "source": [
    "def tokenize_and_compare(line):\n",
    "    proper_tokenization = line.lower().split(' ')\n",
    "    processed_line = \"\".join(line.split()).lower()\n",
    "    attempted_tokenization = max_match(processed_line)\n",
    "    score = get_score(attempted_tokenization, proper_tokenization)\n",
    "    print(f'expected: {proper_tokenization}')\n",
    "    print(f'got: {attempted_tokenization}')\n",
    "    print(f'score: {score}')\n",
    "    print()"
   ]
  },
  {
   "cell_type": "code",
   "execution_count": 9,
   "metadata": {},
   "outputs": [
    {
     "name": "stdout",
     "output_type": "stream",
     "text": [
      "expected: ['system', 'euroraty', 'chcesz', 'kupować', 'więcej', 'niż', 'gdzie', 'indziej', '?']\n",
      "got: ['syst', 'eme', 'uro', 'raty', 'ch', 'ces', 'zk', 'upo', 'wać', 'więc', 'ej', 'niż', 'gd', 'zie', 'ind', 'zie', 'j', '?']\n",
      "score: 0.2222222222222222\n",
      "\n",
      "expected: ['parlament', 'zdecydował', 'jednak', 'inaczej', 'i', 'przyjął', 'w', 'ustawie', 'z', 'dnia', '28.06.1996', 'r.', 'jednoinstancyjne', 'postępowanie', 'orzeczniczo-lekarskie', '.']\n",
      "got: ['par', 'lam', 'en', 'tz', 'dec', 'y', 'dowa', 'ł', 'jednak', 'ina', 'czej', 'ip', 'rzy', 'jął', 'wu', 'stawie', 'zd', 'nia', '28.', '06.', '1996r', '.', 'jedno', 'insta', 'nc', 'yj', 'nep', 'ost', 'ę', 'pow', 'anie', 'orz', 'ec', 'zn', 'ic', 'zo', '-', 'lek', 'ars', 'kie', '.']\n",
      "score: 0.1875\n",
      "\n",
      "expected: ['po', 'kampanii', 'wrześniowej', '1.dlek', 'raportowała', '77', 'czołgów', 'l.t.m.35', 'utraconych', '(', 'wraz', 'z', 'wozami', 'dowodzenia', ')', 'i', '52', 'uszkodzone', 'lub', 'zepsute', ',', 'lecz', 'ostatecznie', 'po', 'naprawach', 'straty', 'bezpowrotne', 'ograniczyły', 'się', 'do', '7', 'czołgów', 'i', 'w', 'lutym', '1940', 'roku', 'posiadano', '195', 'czołgów', 'na', 'stanie', '.']\n",
      "got: ['poka', 'mpa', 'nii', 'wrze', 'ś', 'nio', 'wej', '1.', 'dle', 'krap', 'orto', 'wała', '77', 'czo', 'ł', 'gó', 'wl', '.', 't.', 'm.', '35', 'ut', 'rac', 'on', 'ych', '(', 'wraz', 'zwo', 'zam', 'ido', 'wodze', 'nia', ')', 'i5', '2', 'usz', 'kod', 'zo', 'nel', 'ub', 'zep', 'su', 'te', ',', 'lecz', 'ost', 'ate', 'cz', 'nie', 'pona', 'prawa', 'ch', 'straty', 'bez', 'pow', 'rot', 'neo', 'granic', 'zy', 'ły', 'się', 'do', '7c', 'zo', 'ł', 'gó', 'wiw', 'lutym', '1940r', 'okup', 'osi', 'ada', 'no', '195', 'czo', 'ł', 'gó', 'wn', 'asta', 'nie', '.']\n",
      "score: 0.3023255813953488\n",
      "\n",
      "expected: ['w', 'rolach', 'głównych', 'wystąpili', 'jake', 'gyllenhaal', ',', 'forest', 'whitaker', 'oraz', 'rachel', 'mcadams', '.']\n",
      "got: ['wrol', 'ach', 'głów', 'nych', 'wyst', 'ą', 'pili', 'jake', 'gy', 'll', 'en', 'ha', 'al', ',', 'fore', 'stw', 'hita', 'ker', 'oraz', 'rach', 'elm', 'cada', 'ms', '.']\n",
      "score: 0.3076923076923077\n",
      "\n",
      "expected: ['zapieczone', 'z', 'pomidorami', ',', 'bazylią', 'i', 'serem', '...']\n",
      "got: ['zap', 'iec', 'zo', 'nez', 'pomi', 'dora', 'mi', ',', 'bazylią', 'ise', 'rem', '...']\n",
      "score: 0.375\n",
      "\n"
     ]
    }
   ],
   "source": [
    "with open('polish_corpora.txt', encoding='utf8') as f:\n",
    "    for _ in range(5):\n",
    "        line = next(f).rstrip('\\n')\n",
    "        tokenize_and_compare(line)"
   ]
  },
  {
   "cell_type": "markdown",
   "metadata": {},
   "source": [
    "#### The file is kind of scuffed ngl"
   ]
  },
  {
   "cell_type": "code",
   "execution_count": 10,
   "metadata": {},
   "outputs": [
    {
     "name": "stdout",
     "output_type": "stream",
     "text": [
      "Nie ch ju ż naw et nie będ zie str a żn ic zk ą , a le n ie ch w o góle b ęd zie .\n",
      "Moze nie trzeba by bylo interweniowac a miejsce w zk przydaloby sie komus innemu .\n",
      "A to , czy jakis pies kryl warunkowo czy nie , czy zk jest fajny czy be ...\n"
     ]
    }
   ],
   "source": [
    "with open('polish_corpora.txt', encoding='utf-8') as f:\n",
    "        for _ in range(500000):\n",
    "            line = next(f).rstrip('\\n')\n",
    "            words_in_line = line.split(' ')\n",
    "            if 'zk' in words_in_line:\n",
    "                print(line)"
   ]
  },
  {
   "cell_type": "markdown",
   "metadata": {},
   "source": [
    "## Exercise 2"
   ]
  },
  {
   "cell_type": "markdown",
   "metadata": {},
   "source": [
    "### Bigrams"
   ]
  },
  {
   "cell_type": "code",
   "execution_count": 1,
   "metadata": {},
   "outputs": [
    {
     "name": "stdout",
     "output_type": "stream",
     "text": [
      "Processed 10% of the file contents...\n",
      "Processed 20% of the file contents...\n",
      "Processed 30% of the file contents...\n",
      "Processed 40% of the file contents...\n",
      "Processed 50% of the file contents...\n",
      "Processed 60% of the file contents...\n",
      "Processed 70% of the file contents...\n",
      "Processed 80% of the file contents...\n",
      "Processed 90% of the file contents...\n",
      "Processed 100% of the file contents...\n"
     ]
    }
   ],
   "source": [
    "from gatherer import gather_successors_from_bigrams\n",
    "\n",
    "successors2 = gather_successors_from_bigrams('poleval_2grams.txt', 10)"
   ]
  },
  {
   "cell_type": "code",
   "execution_count": 2,
   "metadata": {},
   "outputs": [
    {
     "name": "stdout",
     "output_type": "stream",
     "text": [
      "bcs , okwiat ma iść środki ministra dariusza wójcika - podejmować uchwały absolutoryjnej , 14-16 podoficerów służby tej krzywej ) nakazują w brytyjski parlament uchwalał ustawy popiwkowej , pasujących . leopolda stokowskiego . us valenciennes , wyszukane , aksamitna . 45 st. thomas alsgaard\n",
      "tożsamość osoby słabiej ( okazy przyrodnicze , starszy referent wydziału podstawowych praw . 110 milionów ofiar ? <EOS>\n",
      "simc ( szkolne koła miały sporo namieszać , rozumnym , bordowe\n",
      "gioiosa marca 2008r , andersa do miastka , el w sukiennicach , spoczywa więc naturalnym zagłębieniu się koalicja rządząca chce również wysłuchamy 5-minutowych oświadczeń co stworzyło bardzo istotny wskaźnik , nhl entry was przy ponownym zjednoczeniu się willa została kampania ma zadłużenie w 832 . lech nadarkiewicz\n",
      "zijinshan w śpiew tadeusz borowski mówił wprost lub zawód . iwona i mieszkaniowym nie wykryło\n"
     ]
    }
   ],
   "source": [
    "from sentence import BigramSG\n",
    "\n",
    "bisg = BigramSG(successors2)\n",
    "print(bisg.generate_text(sentences=5))"
   ]
  },
  {
   "cell_type": "markdown",
   "metadata": {},
   "source": [
    "### Trigrams"
   ]
  },
  {
   "cell_type": "code",
   "execution_count": 6,
   "metadata": {},
   "outputs": [
    {
     "name": "stdout",
     "output_type": "stream",
     "text": [
      "Processed 10% of the file contents...\n",
      "Processed 20% of the file contents...\n",
      "Processed 30% of the file contents...\n",
      "Processed 40% of the file contents...\n",
      "Processed 50% of the file contents...\n",
      "Processed 60% of the file contents...\n",
      "Processed 70% of the file contents...\n",
      "Processed 80% of the file contents...\n",
      "Processed 90% of the file contents...\n",
      "Processed 100% of the file contents...\n"
     ]
    }
   ],
   "source": [
    "from gatherer import gather_successors_from_trigrams\n",
    "\n",
    "successors3 = gather_successors_from_trigrams('poleval_3grams.txt', 10)"
   ]
  },
  {
   "cell_type": "code",
   "execution_count": 9,
   "metadata": {},
   "outputs": [
    {
     "name": "stdout",
     "output_type": "stream",
     "text": [
      "jego kandydatury na stanowisko prezydenta , o najniższych kwalifikacjach . <EOS>\n",
      "tomach w latach bezpośrednio poprzedzających jego podbój przez turków . <EOS>\n",
      "janusz korczak ,\n",
      "wp , 1998 ( grupa 2\n",
      "ławników do orzekania przez sąd apelacyjny -\n",
      "akcją popisał się w konstytucji prl z dnia 10 stycznia . <EOS>\n",
      "tytułu prowadzenia pozarolniczej działalności w organizacji spotkań z rolnikami . <EOS>\n",
      "wyprawę , której liczba\n",
      "nasze błędy , że cywilizacja\n",
      "równouprawnienia i przeciwdziałania negatywnym skutkom wykonywania pracy za ich wprowadzenie nie\n"
     ]
    }
   ],
   "source": [
    "from sentence import TrigramSG\n",
    "\n",
    "trisg = TrigramSG(successors3)\n",
    "print(trisg.generate_text(sentences=10))"
   ]
  },
  {
   "cell_type": "code",
   "execution_count": 5,
   "metadata": {},
   "outputs": [],
   "source": [
    "dummy_successors3 = {\n",
    "    ('alfa', 'beta'): [(1, 'charlie')],\n",
    "    ('beta', 'charlie'): [(1, 'delta')],\n",
    "    ('charlie', 'delta'): [(1, 'echo')],\n",
    "    ('delta', 'echo'): [(1, '<EOS>'), (1, 'foxtrot')]\n",
    "}"
   ]
  },
  {
   "cell_type": "code",
   "execution_count": 6,
   "metadata": {},
   "outputs": [
    {
     "name": "stdout",
     "output_type": "stream",
     "text": [
      "alfa beta charlie delta echo <EOS>\n",
      "delta echo foxtrot\n",
      "charlie delta echo foxtrot\n",
      "delta echo foxtrot\n",
      "charlie delta echo foxtrot\n"
     ]
    }
   ],
   "source": [
    "trisg = TrigramSG(dummy_successors3)\n",
    "sentence = trisg.generate_text(sentences=5)\n",
    "print(sentence)"
   ]
  },
  {
   "cell_type": "markdown",
   "metadata": {},
   "source": [
    "## Exercise 3"
   ]
  },
  {
   "cell_type": "code",
   "execution_count": 3,
   "metadata": {},
   "outputs": [],
   "source": [
    "from sentence import NonUniformSentenceGenerator"
   ]
  },
  {
   "cell_type": "code",
   "execution_count": 5,
   "metadata": {},
   "outputs": [
    {
     "name": "stdout",
     "output_type": "stream",
     "text": [
      "finchera , lyrics ) pomógł . 3.14 ) podpisane prawdopodobnie najstarsze inskrypcje : aha jeszcze długie a due , ustawodawczą - skład krajowych stowarzyszeń fotograficznych w polskojęzycznej wersji komercyjnej w pęcherzyku żółciowym . : diablo 2 cztery sektory polskiej podpisał konstytucję lub finansowanych , odrazu po wstrzyknięciu\n",
      "szeged ( song ) zlokalizowany wtedy zgodnie - zwiększać swoje miejsca jest złożeniem przez potencjał polskiego ds. rybołówstwa nie negował , teleinformatycznych oraz chorzy pacjenci nabywają wiadomości komisji uwzględnione na warsztacie i giuseppe verdiego w dwa okrążenia przed resztą załogi międzynarodowej współpracy władz celnych przywozowych i uzyskiwane od zwiedzania okolicy ich pojęciu jest zagospodarowana z gnoju , zakazaną przez radiostacje i ppoż . 23 500 policjantów został zestrzelony podczas potopu w przewlekłej i miejcie na przemarsz , sceneria i wypracowany wspólnie zastanowimy , lada problemem naszego powszedniego , oscylując\n",
      "pułapka w peruwiańskiej primera p12\n",
      "okrywie włosowej . okres wymagany termin medyczny : hali ) promującymi płytę artystki ) powróciła także zaprezentowanie na trasach ) międzynarodowych mistrzostw albanii , 215 euro odszkodowania przysługującego z dzisiejszych możliwościach korzystania poza podziałem pracy swoistych sankcji onz do bokserskiej . ! <EOS>\n",
      "mind over 100 gatunków m.in. kolejne obciążenia tego entuzjazmu w 1481 i wiedeńskiej poświęcona świętemu mikołajowi ii plus że zakres instrumentów o sprawowanie przewodnictwa elektrycznego ) określających m.in. ujednolicenie stawek ryczałtu jest andrew lloyda wrighta , migotaniach , drobiowego i właścicielom - zwykli mieszkańcy europy bardzo nieprecyzyjny . eleonory , lokalizowanie w wuhanie , potyczki w ksrr , tadeuszowi mazowieckiemu , warunkujące możliwość bieżącego miesiąca ... t. mazowieckiego to skracanie czasu odbywania nauki i postępie i haftów , bf . rudolf ii 3 spowoduje obciążenia zewnętrznego egzaminu adwokackiego z żurawicy . justyna piechocka\n"
     ]
    }
   ],
   "source": [
    "nusg2 = BigramSG(successors2, NonUniformSentenceGenerator)\n",
    "print(nusg2.generate_text(sentences=5))"
   ]
  },
  {
   "cell_type": "code",
   "execution_count": 16,
   "metadata": {},
   "outputs": [
    {
     "name": "stdout",
     "output_type": "stream",
     "text": [
      "że części z was był w komitecie narodowym w krakowie pod kierunkiem trenera\n",
      "wycofuję się z godnością człowieka\n",
      "1a pkt 12 senat proponuje zmiany dotyczące placówek sg , które braliśmy\n",
      "przeciwdziałanie klęskom żywiołowym i usuwanie drzew lub krzewów z terenu . <EOS>\n",
      "wieku xiii i xiv wieku był właścicielem kilku\n",
      "( gmt ) , architekt wnętrz . <EOS>\n",
      "składowanych na składowiskach ? <EOS>\n",
      ", rozmiaru i charakteru , nie wniosły . <EOS>\n",
      "przez national park . <EOS>\n",
      "przedłużenie do końca v wieku p.n.e. miasto zostało zbudowane z kamienia na planie nieregularnego czworoboku , z wieloletnim doświadczeniem zawodowym i przekwalifikowaniu . <EOS>\n"
     ]
    }
   ],
   "source": [
    "nusg3 = TrigramSG(successors3, NonUniformSentenceGenerator)\n",
    "print(nusg3.generate_text(sentences=10))"
   ]
  },
  {
   "cell_type": "markdown",
   "metadata": {},
   "source": [
    "## Exercise 4"
   ]
  },
  {
   "cell_type": "markdown",
   "metadata": {},
   "source": [
    "#### helper functions for creating bigrams from custom files"
   ]
  },
  {
   "cell_type": "code",
   "execution_count": 100,
   "metadata": {},
   "outputs": [],
   "source": [
    "from string import punctuation\n",
    "\n",
    "\n",
    "def remove_punctuation(text):\n",
    "    return text.translate(str.maketrans('', '', punctuation))\n",
    "\n",
    "\n",
    "def compute_successors(file_name):\n",
    "    successors = {}\n",
    "    with open(file_name, encoding='utf-8') as f:\n",
    "        for line in f.readlines():\n",
    "            words = remove_punctuation(line.rstrip('\\n')).split(' ')\n",
    "            for i in range(len(words) - 1):\n",
    "                word1, word2 = list(map(lambda w: w.lower(), words[i:i+2]))\n",
    "                if word1 in successors:\n",
    "                    if word2 in successors[word1]:\n",
    "                        successors[word1][word2] += 1\n",
    "                    else:\n",
    "                        successors[word1][word2] = 1\n",
    "                else:\n",
    "                    successors[word1] = {word2: 1}\n",
    "\n",
    "    scored_successors = {}\n",
    "    for word in successors:\n",
    "        scored_successors[word] = []\n",
    "        for successor in successors[word]:\n",
    "            score = successors[word][successor]\n",
    "            scored_successors[word].append((score, successor))\n",
    "\n",
    "    return scored_successors"
   ]
  },
  {
   "cell_type": "code",
   "execution_count": 101,
   "metadata": {},
   "outputs": [],
   "source": [
    "computed_successors = compute_successors('test.txt')"
   ]
  },
  {
   "cell_type": "markdown",
   "metadata": {},
   "source": [
    "#### sentence scoring"
   ]
  },
  {
   "cell_type": "code",
   "execution_count": 36,
   "metadata": {},
   "outputs": [],
   "source": [
    "from itertools import permutations\n",
    "\n",
    "\n",
    "def compute_score_of_pair(key, candidate, successors):\n",
    "    if key not in successors:\n",
    "        return 0\n",
    "    if len(successors[key]) == 0:\n",
    "        return 0\n",
    "\n",
    "    for score, successor in successors[key]:\n",
    "        if candidate == successor:\n",
    "            return score\n",
    "\n",
    "    return 0\n",
    "\n",
    "\n",
    "def compute_sentence_score(sentence, bigrams, trigrams):\n",
    "    score = 0\n",
    "    previous_word = ''\n",
    "    for i in range(len(sentence) - 1):\n",
    "        word1, word2 = sentence[i:i+2]\n",
    "\n",
    "        bigram_key = (word1, )\n",
    "        bigram_score = compute_score_of_pair(\n",
    "            bigram_key, word2, bigrams)\n",
    "\n",
    "        trigram_key = (previous_word, word1)\n",
    "        trigram_score = compute_score_of_pair(\n",
    "            trigram_key, word2, trigrams)\n",
    "\n",
    "        score += max(bigram_score, trigram_score)\n",
    "        previous_word = word1\n",
    "    return score\n",
    "\n",
    "\n",
    "def create_sentences(words, bigrams, trigrams, n=1):\n",
    "    perms = list(permutations(words))\n",
    "    scored = list(\n",
    "        map(lambda p: (p, compute_sentence_score(p, bigrams, trigrams)), perms))\n",
    "    return sorted(scored, key=lambda s: -s[1])[:n]"
   ]
  },
  {
   "cell_type": "markdown",
   "metadata": {},
   "source": [
    "#### default successors from bigram file"
   ]
  },
  {
   "cell_type": "code",
   "execution_count": 28,
   "metadata": {},
   "outputs": [],
   "source": [
    "sentences = [\n",
    "    'Judyta dała wczoraj Stefanowi czekoladki',\n",
    "    'Babuleńka miała dwa rogate koziołki',\n",
    "    'Wczoraj wieczorem spotkałem pewną piękną kobietę',\n",
    "    'Inauguracja pontyfikatu miała miejsce w trakcie mszy',\n",
    "    'Dodaj kilka zdań do powyższej trójki',\n",
    "    'Nie zakładamy niczego o słowach do uporządkowania'\n",
    "]"
   ]
  },
  {
   "cell_type": "code",
   "execution_count": 37,
   "metadata": {},
   "outputs": [
    {
     "name": "stdout",
     "output_type": "stream",
     "text": [
      "--------------------\n",
      "(('judyta', 'dała', 'wczoraj', 'stefanowi', 'czekoladki'), 0)\n",
      "(('judyta', 'dała', 'wczoraj', 'czekoladki', 'stefanowi'), 0)\n",
      "(('judyta', 'dała', 'stefanowi', 'wczoraj', 'czekoladki'), 0)\n",
      "(('judyta', 'dała', 'stefanowi', 'czekoladki', 'wczoraj'), 0)\n",
      "(('judyta', 'dała', 'czekoladki', 'wczoraj', 'stefanowi'), 0)\n",
      "--------------------\n",
      "(('babuleńka', 'miała', 'dwa', 'rogate', 'koziołki'), 182)\n",
      "(('babuleńka', 'miała', 'dwa', 'koziołki', 'rogate'), 182)\n",
      "(('babuleńka', 'rogate', 'miała', 'dwa', 'koziołki'), 182)\n",
      "(('babuleńka', 'rogate', 'koziołki', 'miała', 'dwa'), 182)\n",
      "(('babuleńka', 'koziołki', 'miała', 'dwa', 'rogate'), 182)\n",
      "--------------------\n",
      "(('wczoraj', 'wieczorem', 'spotkałem', 'pewną', 'piękną', 'kobietę'), 447)\n",
      "(('wczoraj', 'wieczorem', 'spotkałem', 'piękną', 'kobietę', 'pewną'), 447)\n",
      "(('wczoraj', 'wieczorem', 'pewną', 'spotkałem', 'piękną', 'kobietę'), 447)\n",
      "(('wczoraj', 'wieczorem', 'pewną', 'piękną', 'kobietę', 'spotkałem'), 447)\n",
      "(('wczoraj', 'wieczorem', 'piękną', 'kobietę', 'spotkałem', 'pewną'), 447)\n",
      "--------------------\n",
      "(('inauguracja', 'miała', 'miejsce', 'w', 'trakcie', 'mszy', 'pontyfikatu'), 165359)\n",
      "(('pontyfikatu', 'inauguracja', 'miała', 'miejsce', 'w', 'trakcie', 'mszy'), 165359)\n",
      "(('inauguracja', 'pontyfikatu', 'miała', 'miejsce', 'w', 'trakcie', 'mszy'), 165325)\n",
      "(('pontyfikatu', 'miała', 'miejsce', 'w', 'trakcie', 'mszy', 'inauguracja'), 165325)\n",
      "(('miała', 'miejsce', 'w', 'trakcie', 'mszy', 'inauguracja', 'pontyfikatu'), 165325)\n",
      "--------------------\n",
      "(('dodaj', 'do', 'powyższej', 'kilka', 'zdań', 'trójki'), 2118)\n",
      "(('dodaj', 'do', 'powyższej', 'trójki', 'kilka', 'zdań'), 2118)\n",
      "(('kilka', 'zdań', 'dodaj', 'do', 'powyższej', 'trójki'), 2118)\n",
      "(('kilka', 'zdań', 'trójki', 'dodaj', 'do', 'powyższej'), 2118)\n",
      "(('trójki', 'dodaj', 'do', 'powyższej', 'kilka', 'zdań'), 2118)\n",
      "--------------------\n",
      "(('zakładamy', 'słowach', 'o', 'nie', 'do', 'niczego', 'uporządkowania'), 26692)\n",
      "(('zakładamy', 'uporządkowania', 'słowach', 'o', 'nie', 'do', 'niczego'), 26692)\n",
      "(('słowach', 'o', 'nie', 'do', 'niczego', 'zakładamy', 'uporządkowania'), 26692)\n",
      "(('słowach', 'o', 'nie', 'do', 'niczego', 'uporządkowania', 'zakładamy'), 26692)\n",
      "(('uporządkowania', 'zakładamy', 'słowach', 'o', 'nie', 'do', 'niczego'), 26692)\n"
     ]
    }
   ],
   "source": [
    "for sentence in sentences:\n",
    "    words = sentence.lower().split(' ')\n",
    "    print(20*'-')\n",
    "    for res in create_sentences(words, successors2, successors3, 5):\n",
    "        print(res)"
   ]
  },
  {
   "cell_type": "markdown",
   "metadata": {},
   "source": [
    "## Zadanie 5"
   ]
  },
  {
   "cell_type": "code",
   "execution_count": 127,
   "metadata": {},
   "outputs": [],
   "source": [
    "def PUni(w, bigrams):\n",
    "    N = 4000000\n",
    "    bigram_key = (w,)\n",
    "    cnt = 0\n",
    "    if bigram_key in bigrams:\n",
    "        cnt = sum(list(map(lambda x: x[0], bigrams[bigram_key])))\n",
    "    p = (cnt + 1) / N\n",
    "    return p\n",
    "\n",
    "\n",
    "def PBi(w1, w2, bigrams):\n",
    "    p = 0\n",
    "    bigram_key = (w1,)\n",
    "    if bigram_key in bigrams:\n",
    "        cnt_w1 = 0\n",
    "        cnt_w1w2 = 0\n",
    "        for n, word in bigrams[bigram_key]:\n",
    "            cnt_w1 += n\n",
    "            if word == w2:\n",
    "                cnt_w1w2 += n\n",
    "        p = (cnt_w1w2 + 1) / cnt_w1\n",
    "    return p\n",
    "\n",
    "\n",
    "def PTri(w1, w2, w3, trigrams):\n",
    "    p = 0\n",
    "    trigram_key = (w1, w2)\n",
    "    if trigram_key in trigrams:\n",
    "        cnt_w1w2 = 0\n",
    "        cnt_w1w2w3 = 0\n",
    "        for n, word in trigrams[trigram_key]:\n",
    "            cnt_w1w2 += n\n",
    "            if word == w3:\n",
    "                cnt_w1w2w3 += n\n",
    "        p = (cnt_w1w2w3 + 1) / cnt_w1w2\n",
    "    return p\n",
    "\n",
    "\n",
    "def P(w1, w2, w3, bigrams, trigrams):\n",
    "    l1, l2, l3 = 0.05, 0.11, 0.84\n",
    "     \n",
    "    pw3 = PUni(w3, bigrams) if w3 is not None else 0\n",
    "    pw2w3 = PBi(w2, w3, bigrams) if w2 is not None and w3 is not None else 0\n",
    "    pw1w2w3 = PTri(w1, w2, w3, trigrams) if w1 is not None and w2 is not None and w3 is not None else 0\n",
    "    \n",
    "    return l1 * pw3 + l2 * pw2w3 + l3 * pw1w2w3"
   ]
  },
  {
   "cell_type": "code",
   "execution_count": 151,
   "metadata": {},
   "outputs": [],
   "source": [
    "from itertools import permutations\n",
    "\n",
    "\n",
    "def compute_permutation_score(permutation, bigrams, trigrams):\n",
    "#     p = 1.0\n",
    "#     for i in range(len(permutation) - 2):\n",
    "#         w1, w2, w3 = permutation[i:i+3]\n",
    "#         p *= P(w1, w2, w3, bigrams, trigrams)\n",
    "#     p *= P(None, permutation[-2], permutation[-1], bigrams, trigrams)\n",
    "#     return p\n",
    "    p = 1.0\n",
    "    p *= P(None, None, permutation[0], bigrams, trigrams)\n",
    "    p *= P(None, permutation[1], permutation[0], bigrams, trigrams)\n",
    "    p *= P(permutation[2], permutation[1], permutation[0], bigrams, trigrams)\n",
    "    for i in range(2, len(permutation)):\n",
    "        p *= P(permutation[i], permutation[i-1], permutation[i-2], bigrams, trigrams)\n",
    "    return p\n",
    "\n",
    "\n",
    "def order_words(words, bigrams, trigrams, n=1):\n",
    "    perms = permutations(words)\n",
    "    sentences = list(map(lambda p: (p, compute_permutation_score(p, bigrams, trigrams)), perms))\n",
    "    return sorted(sentences, key=lambda x: x[1], reverse=True)[:n]"
   ]
  },
  {
   "cell_type": "code",
   "execution_count": 117,
   "metadata": {},
   "outputs": [],
   "source": [
    "def run_tests(sentences, bigrams, trigrams):\n",
    "    for sentence in sentences:\n",
    "        sentence = sentence.lower()\n",
    "        words = sentence.split(' ')\n",
    "        score = 0\n",
    "        for i, order in enumerate(order_words(words, bigrams, trigrams, 20)):\n",
    "            if ' '.join(order[0]) == sentence:\n",
    "                score = 1 / (i + 1)\n",
    "        print(sentence, ', score:', score)"
   ]
  },
  {
   "cell_type": "code",
   "execution_count": 149,
   "metadata": {},
   "outputs": [],
   "source": [
    "sentences = [\n",
    "'nasz przedmiot to przetwarzanie języka naturalnego',\n",
    "'jedną grupę prowadzi jakub michaliszyn',\n",
    "'wykładowcą jest paweł rychlikowski',\n",
    "'pan paweł prowadzi również dwie pozostałe grupy',\n",
    "# 'na stronie wykładu będą pojawiać się listy zadań',\n",
    "'będą to listy ćwiczeniowe i pracowniowe',\n",
    "'będą to listy pracowniowe i ćwiczeniowe',\n",
    "'mogą się pojawiać również dodatkowe aktywności',\n",
    "'te aktywności będą premiowane',\n",
    "'na przykłąd quizy na platformie zdalnej',\n",
    "'rozważamy też miniprojekty na temat wykładu',\n",
    "'zapowiadamy je z co najmniej tygodniowym wyprzedzeniem',\n",
    "'zadania są przeznaczone na konkretne zajęcia',\n",
    "'ćwiczenia zaczynają się w sali seminaryjnej',\n",
    "'jest tak tylko w trybie stacjonarnym',\n",
    "'pozostałe zajęcia domyślnie zaczynają się w pracowni',\n",
    "'pracownia polega na indywidualnych konsutlacjach',\n",
    "'rozmawiamy tam na temat rozwiązań',\n",
    "'podczas ćwiczeń studenci przedstawiają pisemne rozwiązania zadań',\n",
    "'tryb zajęć zależy od sytuacji epidemiologicznej',\n",
    "'zależy też od wymogów formalnych',\n",
    "'zależy również od decyzji władz',\n",
    "'uwzględnia się możliwości studentów i prowadzących',\n",
    "'może się on zmieniać w trakcie semestru',\n",
    "'przed ćwiczeniami studenci dostarczają prowadzącemu deklaracje',\n",
    "'zawiera ona numery zadań',\n",
    "'studenci pokazują rozwiązania przy tablicy',\n",
    "'jest źle, jeżeli student nie umie',\n",
    "'dodatkowo coś mu się odejmuje',\n",
    "'zadania można oddawać podczas zajęć na pracowni',\n",
    "'zadania należy rozwiązywać samodzielnie',\n",
    "'prowadzący ocenia poprawność rozwiązania',\n",
    "'czasem mogą pojawić się informacje o regułach',\n",
    "'na każdej liście podany jest termin',\n",
    "'za poprawne rozwiązanie dostajemy dużo punktów',\n",
    "'spóźnione zadania nie będą sprawdzane',\n",
    "'pierwsza lista ma dłuższy termin',\n",
    "'zasada musi być zmodyfikowana pod koniec semestru',\n",
    "'w przypadku choroby studenta obowiązują inne zasady',\n",
    "'w przypadku kwarantanny studenta obowiązują inne zasady',\n",
    "'w przypadku izolacji studenta obowiązują inne zasady',\n",
    "'możliwe jest oddawanie zaległych zadań bez straty punktowej',\n",
    "'ocenę wystawia się zgodnie z tabelką',\n",
    "'50 punktów daje ocenę dostateczną',\n",
    "'120 punktów daje ocenę bardzo dobrą',\n",
    "'powyższa tabelka zostanie przeskalowana',\n",
    "'może też zostać przeskalowana z innych powodów',\n",
    "'w pierwszym tygodniu zajęć coś podamy',\n",
    "'dodatkowe zasady umożliwiające zwolnienie z egzaminu',\n",
    "'dotyczą osób z dużą liczbą punktów',\n",
    "'można rozwiązać też zadanie specjalne',\n",
    "'forma egzaminu zależy od wielu czynników',\n",
    "'należy się spodziewać różnych wariantów',\n",
    "'nie wykluczamy indywidualnego egzaminu ustnego',\n",
    "'jaś i małgosia też są tutaj',\n",
    "'puchatek z prosiaczkiem nie przybędą',\n",
    "'raz kotek był chory i odpoczywał',\n",
    "'raz kotek był chory i leżał w łóżeczku',\n",
    "'definicja relacji równoważności nie jest trudna',\n",
    "'hipoteza continuum jest niezależna od aksjomatów',\n",
    "'teoria mnogości daje wiele radości',\n",
    "'programowanie nie jest szczególnie trudne',\n",
    "'rachunek prawdopodobieństwa przydaje się w życiu',\n",
    "'rycerze osaczyli smoka zanim strawił księżniczkę',\n",
    "'chyba należy już przestać wymyślać zdania',\n",
    "]"
   ]
  },
  {
   "cell_type": "code",
   "execution_count": 119,
   "metadata": {},
   "outputs": [],
   "source": [
    "# sentences = ['nasz przedmiot to przetwarzanie języka naturalnego']"
   ]
  },
  {
   "cell_type": "code",
   "execution_count": 152,
   "metadata": {},
   "outputs": [
    {
     "name": "stdout",
     "output_type": "stream",
     "text": [
      "(('w', 'wystąpi', 'reprezentacji', 'seniorskiej', 'dzisiaj', 'kto'), 1.5822710179140698e-08)\n",
      "(('w', 'reprezentacji', 'seniorskiej', 'dzisiaj', 'kto', 'wystąpi'), 7.942067247465059e-09)\n",
      "(('w', 'wystąpi', 'dzisiaj', 'kto', 'seniorskiej', 'reprezentacji'), 6.46273726614085e-09)\n",
      "(('w', 'wystąpi', 'dzisiaj', 'kto', 'reprezentacji', 'seniorskiej'), 8.496719410446978e-10)\n",
      "(('w', 'dzisiaj', 'kto', 'reprezentacji', 'seniorskiej', 'wystąpi'), 8.492101818886074e-10)\n",
      "(('w', 'wystąpi', 'seniorskiej', 'reprezentacji', 'dzisiaj', 'kto'), 7.776361613795261e-10)\n",
      "(('w', 'kto', 'dzisiaj', 'reprezentacji', 'seniorskiej', 'wystąpi'), 4.922958698038128e-10)\n",
      "(('w', 'kto', 'wystąpi', 'reprezentacji', 'seniorskiej', 'dzisiaj'), 3.002749989101524e-10)\n",
      "(('w', 'reprezentacji', 'dzisiaj', 'kto', 'seniorskiej', 'wystąpi'), 2.713622901085275e-10)\n",
      "(('w', 'reprezentacji', 'dzisiaj', 'kto', 'wystąpi', 'seniorskiej'), 2.656728561182763e-10)\n",
      "(('w', 'dzisiaj', 'wystąpi', 'reprezentacji', 'seniorskiej', 'kto'), 2.650041268607709e-10)\n",
      "(('w', 'seniorskiej', 'dzisiaj', 'kto', 'wystąpi', 'reprezentacji'), 2.603829729195343e-10)\n",
      "(('w', 'seniorskiej', 'dzisiaj', 'kto', 'reprezentacji', 'wystąpi'), 2.5673049196682975e-10)\n",
      "(('w', 'reprezentacji', 'seniorskiej', 'wystąpi', 'dzisiaj', 'kto'), 2.5319162280203737e-10)\n",
      "(('w', 'dzisiaj', 'kto', 'wystąpi', 'seniorskiej', 'reprezentacji'), 2.054468955495298e-10)\n",
      "(('reprezentacji', 'seniorskiej', 'w', 'wystąpi', 'dzisiaj', 'kto'), 1.6969563209784596e-10)\n",
      "(('w', 'kto', 'dzisiaj', 'wystąpi', 'seniorskiej', 'reprezentacji'), 1.0699199741389707e-10)\n",
      "(('w', 'reprezentacji', 'wystąpi', 'dzisiaj', 'kto', 'seniorskiej'), 8.991298568822336e-11)\n",
      "(('w', 'wystąpi', 'kto', 'reprezentacji', 'seniorskiej', 'dzisiaj'), 3.81144068042712e-11)\n",
      "(('w', 'seniorskiej', 'reprezentacji', 'dzisiaj', 'kto', 'wystąpi'), 3.722740390653819e-11)\n",
      "(('w', 'wystąpi', 'seniorskiej', 'dzisiaj', 'kto', 'reprezentacji'), 2.6574282695467266e-11)\n",
      "(('w', 'dzisiaj', 'kto', 'seniorskiej', 'reprezentacji', 'wystąpi'), 2.422756743781151e-11)\n",
      "(('w', 'wystąpi', 'dzisiaj', 'reprezentacji', 'seniorskiej', 'kto'), 2.3008035405977226e-11)\n",
      "(('w', 'dzisiaj', 'kto', 'wystąpi', 'reprezentacji', 'seniorskiej'), 1.5821314559951792e-11)\n",
      "(('w', 'kto', 'reprezentacji', 'seniorskiej', 'wystąpi', 'dzisiaj'), 1.5192871386640886e-11)\n",
      "(('w', 'kto', 'dzisiaj', 'seniorskiej', 'reprezentacji', 'wystąpi'), 1.514487106830709e-11)\n",
      "(('w', 'dzisiaj', 'reprezentacji', 'seniorskiej', 'wystąpi', 'kto'), 1.4925627951876665e-11)\n",
      "(('w', 'kto', 'wystąpi', 'seniorskiej', 'reprezentacji', 'dzisiaj'), 1.4625327047352823e-11)\n",
      "(('w', 'seniorskiej', 'reprezentacji', 'wystąpi', 'dzisiaj', 'kto'), 1.4395353092834798e-11)\n",
      "(('w', 'dzisiaj', 'wystąpi', 'seniorskiej', 'reprezentacji', 'kto'), 1.2907408336704885e-11)\n",
      "(('w', 'wystąpi', 'reprezentacji', 'dzisiaj', 'kto', 'seniorskiej'), 1.2538530590262736e-11)\n",
      "(('w', 'wystąpi', 'kto', 'dzisiaj', 'seniorskiej', 'reprezentacji'), 9.548464757614493e-12)\n",
      "(('w', 'kto', 'dzisiaj', 'wystąpi', 'reprezentacji', 'seniorskiej'), 8.239375153151046e-12)\n",
      "(('w', 'seniorskiej', 'wystąpi', 'dzisiaj', 'kto', 'reprezentacji'), 7.2651405018484374e-12)\n",
      "(('w', 'wystąpi', 'seniorskiej', 'reprezentacji', 'kto', 'dzisiaj'), 7.255444523445089e-12)\n",
      "(('w', 'kto', 'reprezentacji', 'seniorskiej', 'dzisiaj', 'wystąpi'), 7.093289824361606e-12)\n",
      "(('w', 'dzisiaj', 'reprezentacji', 'seniorskiej', 'kto', 'wystąpi'), 6.9142652367138786e-12)\n",
      "(('w', 'reprezentacji', 'wystąpi', 'seniorskiej', 'dzisiaj', 'kto'), 6.8356273662446205e-12)\n",
      "(('w', 'wystąpi', 'reprezentacji', 'seniorskiej', 'kto', 'dzisiaj'), 5.896772822232411e-12)\n",
      "(('w', 'dzisiaj', 'wystąpi', 'kto', 'seniorskiej', 'reprezentacji'), 5.689238143292414e-12)\n",
      "(('w', 'dzisiaj', 'seniorskiej', 'reprezentacji', 'wystąpi', 'kto'), 5.619853060925016e-12)\n",
      "(('w', 'dzisiaj', 'seniorskiej', 'reprezentacji', 'kto', 'wystąpi'), 5.3733934360434686e-12)\n",
      "(('w', 'kto', 'seniorskiej', 'reprezentacji', 'wystąpi', 'dzisiaj'), 5.305025065727084e-12)\n",
      "(('w', 'kto', 'seniorskiej', 'reprezentacji', 'dzisiaj', 'wystąpi'), 5.073947809821177e-12)\n",
      "(('w', 'dzisiaj', 'kto', 'reprezentacji', 'wystąpi', 'seniorskiej'), 4.540667848212149e-12)\n",
      "(('w', 'kto', 'wystąpi', 'dzisiaj', 'seniorskiej', 'reprezentacji'), 4.196196254374552e-12)\n",
      "(('w', 'reprezentacji', 'seniorskiej', 'kto', 'wystąpi', 'dzisiaj'), 3.3818272499601006e-12)\n",
      "(('w', 'reprezentacji', 'seniorskiej', 'kto', 'dzisiaj', 'wystąpi'), 3.3315479422776796e-12)\n",
      "(('w', 'reprezentacji', 'seniorskiej', 'dzisiaj', 'wystąpi', 'kto'), 2.808622578728655e-12)\n",
      "(('reprezentacji', 'seniorskiej', 'dzisiaj', 'w', 'wystąpi', 'kto'), 2.659756909464016e-12)\n",
      "(('w', 'dzisiaj', 'reprezentacji', 'kto', 'seniorskiej', 'wystąpi'), 2.5030373870156453e-12)\n",
      "(('reprezentacji', 'seniorskiej', 'w', 'kto', 'wystąpi', 'dzisiaj'), 2.451048692805283e-12)\n",
      "(('w', 'dzisiaj', 'reprezentacji', 'kto', 'wystąpi', 'seniorskiej'), 2.4505582235222174e-12)\n",
      "(('reprezentacji', 'seniorskiej', 'w', 'kto', 'dzisiaj', 'wystąpi'), 2.414607732856307e-12)\n",
      "(('w', 'reprezentacji', 'kto', 'dzisiaj', 'seniorskiej', 'wystąpi'), 2.3588678368937287e-12)\n",
      "(('w', 'kto', 'dzisiaj', 'reprezentacji', 'wystąpi', 'seniorskiej'), 2.3574911656976603e-12)\n",
      "(('w', 'kto', 'reprezentacji', 'dzisiaj', 'seniorskiej', 'wystąpi'), 2.3554705170229046e-12)\n",
      "(('w', 'reprezentacji', 'kto', 'dzisiaj', 'wystąpi', 'seniorskiej'), 2.2991181512106113e-12)\n",
      "(('w', 'kto', 'reprezentacji', 'dzisiaj', 'wystąpi', 'seniorskiej'), 2.295806884823273e-12)\n",
      "(('reprezentacji', 'seniorskiej', 'dzisiaj', 'w', 'kto', 'wystąpi'), 1.869027706020496e-12)\n",
      "(('w', 'wystąpi', 'kto', 'dzisiaj', 'reprezentacji', 'seniorskiej'), 1.1641891723402755e-12)\n",
      "(('w', 'wystąpi', 'kto', 'seniorskiej', 'reprezentacji', 'dzisiaj'), 1.0873861158247265e-12)\n",
      "(('reprezentacji', 'seniorskiej', 'w', 'dzisiaj', 'kto', 'wystąpi'), 9.92338726025051e-13)\n",
      "(('w', 'dzisiaj', 'wystąpi', 'kto', 'reprezentacji', 'seniorskiej'), 7.479781116281333e-13)\n",
      "(('reprezentacji', 'seniorskiej', 'w', 'dzisiaj', 'wystąpi', 'kto'), 7.245149838538144e-13)\n",
      "(('w', 'wystąpi', 'dzisiaj', 'seniorskiej', 'reprezentacji', 'kto'), 7.078136363350636e-13)\n",
      "(('w', 'kto', 'wystąpi', 'dzisiaj', 'reprezentacji', 'seniorskiej'), 5.116179792633116e-13)\n",
      "(('kto', 'dzisiaj', 'w', 'reprezentacji', 'seniorskiej', 'wystąpi'), 4.5368380093432485e-13)\n",
      "(('w', 'seniorskiej', 'reprezentacji', 'kto', 'wystąpi', 'dzisiaj'), 3.9685756666858164e-13)\n",
      "(('w', 'seniorskiej', 'reprezentacji', 'kto', 'dzisiaj', 'wystąpi'), 3.9095728784716583e-13)\n",
      "(('w', 'dzisiaj', 'kto', 'seniorskiej', 'wystąpi', 'reprezentacji'), 3.8432993558679653e-13)\n",
      "(('w', 'reprezentacji', 'seniorskiej', 'wystąpi', 'kto', 'dzisiaj'), 3.3599730701407865e-13)\n",
      "(('w', 'seniorskiej', 'reprezentacji', 'dzisiaj', 'wystąpi', 'kto'), 3.2712752228825277e-13)\n",
      "(('w', 'seniorskiej', 'wystąpi', 'reprezentacji', 'dzisiaj', 'kto'), 2.606063965974144e-13)\n",
      "(('reprezentacji', 'seniorskiej', 'w', 'wystąpi', 'kto', 'dzisiaj'), 2.2519416229465113e-13)\n",
      "(('w', 'kto', 'dzisiaj', 'seniorskiej', 'wystąpi', 'reprezentacji'), 2.010462296711675e-13)\n",
      "(('w', 'wystąpi', 'kto', 'reprezentacji', 'dzisiaj', 'seniorskiej'), 1.949181416378402e-13)\n",
      "(('w', 'kto', 'reprezentacji', 'wystąpi', 'seniorskiej', 'dzisiaj'), 1.939175732928852e-13)\n",
      "(('w', 'reprezentacji', 'kto', 'wystąpi', 'seniorskiej', 'dzisiaj'), 1.885415232188107e-13)\n",
      "(('w', 'dzisiaj', 'reprezentacji', 'wystąpi', 'seniorskiej', 'kto'), 1.7061973313244957e-13)\n",
      "(('kto', 'dzisiaj', 'w', 'wystąpi', 'seniorskiej', 'reprezentacji'), 1.7054487367015354e-13)\n",
      "(('w', 'reprezentacji', 'dzisiaj', 'wystąpi', 'seniorskiej', 'kto'), 1.554137466919702e-13)\n",
      "(('w', 'reprezentacji', 'wystąpi', 'kto', 'seniorskiej', 'dzisiaj'), 1.392501047425539e-13)\n",
      "(('w', 'wystąpi', 'reprezentacji', 'kto', 'seniorskiej', 'dzisiaj'), 1.3652772980642438e-13)\n",
      "(('w', 'reprezentacji', 'wystąpi', 'kto', 'dzisiaj', 'seniorskiej'), 1.3430366600837086e-13)\n",
      "(('w', 'wystąpi', 'reprezentacji', 'kto', 'dzisiaj', 'seniorskiej'), 1.316779952065609e-13)\n",
      "(('w', 'dzisiaj', 'reprezentacji', 'wystąpi', 'kto', 'seniorskiej'), 1.1796119035002002e-13)\n",
      "(('w', 'wystąpi', 'reprezentacji', 'dzisiaj', 'seniorskiej', 'kto'), 1.1304290133542316e-13)\n",
      "(('w', 'reprezentacji', 'dzisiaj', 'wystąpi', 'kto', 'seniorskiej'), 1.0744824306054808e-13)\n",
      "(('w', 'wystąpi', 'dzisiaj', 'reprezentacji', 'kto', 'seniorskiej'), 1.0534819495728305e-13)\n",
      "(('w', 'dzisiaj', 'seniorskiej', 'kto', 'wystąpi', 'reprezentacji'), 1.0125130467989328e-13)\n",
      "(('w', 'dzisiaj', 'seniorskiej', 'kto', 'reprezentacji', 'wystąpi'), 9.983101802430584e-14)\n",
      "(('w', 'kto', 'seniorskiej', 'dzisiaj', 'wystąpi', 'reprezentacji'), 9.485694225500453e-14)\n",
      "(('w', 'kto', 'seniorskiej', 'dzisiaj', 'reprezentacji', 'wystąpi'), 9.324222325342328e-14)\n",
      "(('w', 'seniorskiej', 'kto', 'dzisiaj', 'wystąpi', 'reprezentacji'), 9.0006242606082e-14)\n",
      "(('w', 'seniorskiej', 'kto', 'dzisiaj', 'reprezentacji', 'wystąpi'), 8.847409549336708e-14)\n",
      "(('w', 'kto', 'reprezentacji', 'wystąpi', 'dzisiaj', 'seniorskiej'), 8.822884560568915e-14)\n",
      "(('w', 'kto', 'wystąpi', 'reprezentacji', 'dzisiaj', 'seniorskiej'), 8.796031631474966e-14)\n",
      "(('w', 'reprezentacji', 'kto', 'wystąpi', 'dzisiaj', 'seniorskiej'), 8.578284401903782e-14)\n",
      "(('w', 'reprezentacji', 'kto', 'seniorskiej', 'wystąpi', 'dzisiaj'), 8.067455114107699e-14)\n",
      "(('w', 'dzisiaj', 'wystąpi', 'reprezentacji', 'kto', 'seniorskiej'), 7.76042256896521e-14)\n",
      "(('w', 'reprezentacji', 'wystąpi', 'dzisiaj', 'seniorskiej', 'kto'), 7.585192776956744e-14)\n",
      "(('w', 'reprezentacji', 'dzisiaj', 'seniorskiej', 'wystąpi', 'kto'), 6.679731170986763e-14)\n",
      "(('w', 'reprezentacji', 'kto', 'seniorskiej', 'dzisiaj', 'wystąpi'), 3.766555762442115e-14)\n",
      "(('w', 'seniorskiej', 'kto', 'reprezentacji', 'wystąpi', 'dzisiaj'), 3.731327945593153e-14)\n",
      "(('w', 'seniorskiej', 'kto', 'reprezentacji', 'dzisiaj', 'wystąpi'), 3.568798077803637e-14)\n",
      "(('w', 'reprezentacji', 'dzisiaj', 'seniorskiej', 'kto', 'wystąpi'), 3.09437118324665e-14)\n",
      "(('w', 'seniorskiej', 'dzisiaj', 'reprezentacji', 'wystąpi', 'kto'), 3.0894702097142434e-14)\n",
      "(('w', 'seniorskiej', 'dzisiaj', 'reprezentacji', 'kto', 'wystąpi'), 2.953980961024962e-14)\n",
      "(('reprezentacji', 'seniorskiej', 'dzisiaj', 'kto', 'w', 'wystąpi'), 1.940954314760602e-14)\n",
      "(('w', 'seniorskiej', 'reprezentacji', 'wystąpi', 'kto', 'dzisiaj'), 1.910331716026412e-14)\n",
      "(('kto', 'dzisiaj', 'w', 'wystąpi', 'reprezentacji', 'seniorskiej'), 1.3133535484707471e-14)\n",
      "(('reprezentacji', 'seniorskiej', 'dzisiaj', 'kto', 'wystąpi', 'w'), 1.1945901061610428e-14)\n",
      "(('w', 'wystąpi', 'seniorskiej', 'kto', 'reprezentacji', 'dzisiaj'), 1.1156919041928291e-14)\n",
      "(('w', 'wystąpi', 'seniorskiej', 'kto', 'dzisiaj', 'reprezentacji'), 1.1147412137544838e-14)\n",
      "(('w', 'seniorskiej', 'wystąpi', 'kto', 'reprezentacji', 'dzisiaj'), 1.0861246982866706e-14)\n",
      "(('w', 'seniorskiej', 'wystąpi', 'kto', 'dzisiaj', 'reprezentacji'), 1.0851992023127092e-14)\n",
      "(('w', 'dzisiaj', 'seniorskiej', 'wystąpi', 'kto', 'reprezentacji'), 1.0059699443402232e-14)\n",
      "(('w', 'wystąpi', 'seniorskiej', 'dzisiaj', 'reprezentacji', 'kto'), 9.237721667681412e-15)\n",
      "(('w', 'wystąpi', 'kto', 'seniorskiej', 'dzisiaj', 'reprezentacji'), 8.053525332648647e-15)\n",
      "(('w', 'kto', 'seniorskiej', 'wystąpi', 'reprezentacji', 'dzisiaj'), 7.674985746183547e-15)\n",
      "(('w', 'kto', 'wystąpi', 'seniorskiej', 'dzisiaj', 'reprezentacji'), 7.502520299547513e-15)\n",
      "(('w', 'kto', 'seniorskiej', 'wystąpi', 'dzisiaj', 'reprezentacji'), 7.467841225577271e-15)\n",
      "(('w', 'dzisiaj', 'seniorskiej', 'wystąpi', 'reprezentacji', 'kto'), 6.803792314468361e-15)\n",
      "(('w', 'dzisiaj', 'wystąpi', 'seniorskiej', 'kto', 'reprezentacji'), 6.569710345457123e-15)\n",
      "(('kto', 'reprezentacji', 'seniorskiej', 'w', 'wystąpi', 'dzisiaj'), 6.351471685921297e-15)\n",
      "(('w', 'seniorskiej', 'wystąpi', 'dzisiaj', 'reprezentacji', 'kto'), 5.872045360734417e-15)\n",
      "(('kto', 'dzisiaj', 'w', 'reprezentacji', 'wystąpi', 'seniorskiej'), 5.1837024957825616e-15)\n",
      "(('w', 'wystąpi', 'dzisiaj', 'seniorskiej', 'kto', 'reprezentacji'), 4.3527397483196165e-15)\n",
      "(('w', 'seniorskiej', 'dzisiaj', 'wystąpi', 'kto', 'reprezentacji'), 4.238090290891421e-15)\n",
      "(('dzisiaj', 'reprezentacji', 'seniorskiej', 'w', 'wystąpi', 'kto'), 3.605832043859956e-15)\n",
      "(('w', 'seniorskiej', 'kto', 'wystąpi', 'reprezentacji', 'dzisiaj'), 3.4513919697247707e-15)\n",
      "(('w', 'seniorskiej', 'kto', 'wystąpi', 'dzisiaj', 'reprezentacji'), 3.358240404544536e-15)\n",
      "(('w', 'seniorskiej', 'dzisiaj', 'wystąpi', 'reprezentacji', 'kto'), 2.8663963880254745e-15)\n",
      "(('w', 'reprezentacji', 'wystąpi', 'seniorskiej', 'kto', 'dzisiaj'), 2.5474865696091803e-15)\n",
      "(('w', 'seniorskiej', 'wystąpi', 'reprezentacji', 'kto', 'dzisiaj'), 2.431490903937857e-15)\n",
      "(('kto', 'seniorskiej', 'reprezentacji', 'w', 'wystąpi', 'dzisiaj'), 2.4210953055727464e-15)\n",
      "(('dzisiaj', 'reprezentacji', 'seniorskiej', 'w', 'kto', 'wystąpi'), 1.8063342042563376e-15)\n",
      "(('dzisiaj', 'seniorskiej', 'reprezentacji', 'w', 'wystąpi', 'kto'), 1.6102523169140194e-15)\n",
      "(('reprezentacji', 'dzisiaj', 'kto', 'w', 'wystąpi', 'seniorskiej'), 1.1615237677358624e-15)\n",
      "(('kto', 'reprezentacji', 'seniorskiej', 'w', 'dzisiaj', 'wystąpi'), 1.1413395512364353e-15)\n",
      "(('reprezentacji', 'seniorskiej', 'kto', 'w', 'wystąpi', 'dzisiaj'), 1.1114941670470855e-15)\n",
      "(('kto', 'seniorskiej', 'reprezentacji', 'w', 'dzisiaj', 'wystąpi'), 1.0785877911917896e-15)\n",
      "(('dzisiaj', 'seniorskiej', 'reprezentacji', 'w', 'kto', 'wystąpi'), 1.0289130719708483e-15)\n",
      "(('reprezentacji', 'dzisiaj', 'w', 'kto', 'seniorskiej', 'wystąpi'), 8.49487167393919e-16)\n",
      "(('reprezentacji', 'dzisiaj', 'w', 'kto', 'wystąpi', 'seniorskiej'), 8.316766559830657e-16)\n",
      "(('kto', 'dzisiaj', 'w', 'seniorskiej', 'reprezentacji', 'wystąpi'), 6.800010753354939e-16)\n",
      "(('reprezentacji', 'seniorskiej', 'kto', 'w', 'dzisiaj', 'wystąpi'), 6.702499214742478e-16)\n",
      "(('reprezentacji', 'dzisiaj', 'kto', 'w', 'seniorskiej', 'wystąpi'), 6.105388099509267e-16)\n",
      "(('kto', 'w', 'wystąpi', 'reprezentacji', 'seniorskiej', 'dzisiaj'), 5.571921450178e-16)\n",
      "(('reprezentacji', 'seniorskiej', 'wystąpi', 'w', 'kto', 'dzisiaj'), 5.028062228681523e-16)\n",
      "(('kto', 'seniorskiej', 'dzisiaj', 'w', 'reprezentacji', 'wystąpi'), 4.484012432925177e-16)\n",
      "(('reprezentacji', 'seniorskiej', 'wystąpi', 'dzisiaj', 'w', 'kto'), 4.458567820676207e-16)\n",
      "(('kto', 'wystąpi', 'dzisiaj', 'w', 'reprezentacji', 'seniorskiej'), 4.2509929806337963e-16)\n",
      "(('wystąpi', 'dzisiaj', 'w', 'reprezentacji', 'seniorskiej', 'kto'), 3.9882020385071954e-16)\n",
      "(('kto', 'w', 'dzisiaj', 'reprezentacji', 'seniorskiej', 'wystąpi'), 3.789396941036871e-16)\n",
      "(('reprezentacji', 'seniorskiej', 'wystąpi', 'dzisiaj', 'kto', 'w'), 3.333115397703071e-16)\n",
      "(('kto', 'seniorskiej', 'dzisiaj', 'w', 'wystąpi', 'reprezentacji'), 3.306897156011293e-16)\n",
      "(('dzisiaj', 'w', 'kto', 'reprezentacji', 'seniorskiej', 'wystąpi'), 3.07968505521073e-16)\n",
      "(('kto', 'reprezentacji', 'seniorskiej', 'dzisiaj', 'w', 'wystąpi'), 3.0464524300892257e-16)\n",
      "(('kto', 'reprezentacji', 'dzisiaj', 'w', 'wystąpi', 'seniorskiej'), 3.0013561485292145e-16)\n",
      "(('dzisiaj', 'w', 'wystąpi', 'reprezentacji', 'seniorskiej', 'kto'), 2.989723067510127e-16)\n",
      "(('reprezentacji', 'seniorskiej', 'kto', 'dzisiaj', 'w', 'wystąpi'), 2.626683199661707e-16)\n",
      "(('reprezentacji', 'seniorskiej', 'wystąpi', 'w', 'dzisiaj', 'kto'), 2.4746218821388597e-16)\n",
      "(('kto', 'wystąpi', 'w', 'reprezentacji', 'seniorskiej', 'dzisiaj'), 2.3742668605833377e-16)\n",
      "(('dzisiaj', 'kto', 'w', 'reprezentacji', 'seniorskiej', 'wystąpi'), 2.1520748370296733e-16)\n",
      "(('reprezentacji', 'seniorskiej', 'kto', 'wystąpi', 'dzisiaj', 'w'), 1.7642011847444506e-16)\n",
      "(('kto', 'wystąpi', 'dzisiaj', 'w', 'seniorskiej', 'reprezentacji'), 1.698702476950202e-16)\n",
      "(('kto', 'dzisiaj', 'w', 'seniorskiej', 'wystąpi', 'reprezentacji'), 1.5123628556205111e-16)\n",
      "(('kto', 'reprezentacji', 'dzisiaj', 'w', 'seniorskiej', 'wystąpi'), 1.4532239500805378e-16)\n",
      "(('wystąpi', 'dzisiaj', 'w', 'kto', 'seniorskiej', 'reprezentacji'), 1.1195669949333496e-16)\n",
      "(('dzisiaj', 'wystąpi', 'w', 'reprezentacji', 'seniorskiej', 'kto'), 1.091097237021062e-16)\n",
      "(('dzisiaj', 'kto', 'w', 'wystąpi', 'seniorskiej', 'reprezentacji'), 8.41591890399106e-17)\n",
      "(('kto', 'w', 'dzisiaj', 'wystąpi', 'seniorskiej', 'reprezentacji'), 8.235599211450187e-17)\n",
      "(('reprezentacji', 'dzisiaj', 'w', 'wystąpi', 'seniorskiej', 'kto'), 7.878955196913477e-17)\n",
      "(('dzisiaj', 'w', 'kto', 'wystąpi', 'seniorskiej', 'reprezentacji'), 7.450590529381112e-17)\n",
      "(('kto', 'seniorskiej', 'reprezentacji', 'dzisiaj', 'w', 'wystąpi'), 6.910362738277658e-17)\n",
      "(('kto', 'wystąpi', 'reprezentacji', 'seniorskiej', 'dzisiaj', 'w'), 5.524563358032082e-17)\n",
      "(('reprezentacji', 'dzisiaj', 'w', 'wystąpi', 'kto', 'seniorskiej'), 5.447265194236954e-17)\n",
      "(('wystąpi', 'dzisiaj', 'kto', 'reprezentacji', 'seniorskiej', 'w'), 3.3026804587419645e-17)\n",
      "(('reprezentacji', 'w', 'wystąpi', 'dzisiaj', 'kto', 'seniorskiej'), 2.790944234811227e-17)\n",
      "(('kto', 'w', 'wystąpi', 'seniorskiej', 'reprezentacji', 'dzisiaj'), 2.7138847318886266e-17)\n",
      "(('kto', 'w', 'reprezentacji', 'seniorskiej', 'wystąpi', 'dzisiaj'), 2.6115505697913762e-17)\n",
      "(('kto', 'dzisiaj', 'reprezentacji', 'seniorskiej', 'w', 'wystąpi'), 1.9745353063984437e-17)\n",
      "(('reprezentacji', 'seniorskiej', 'wystąpi', 'kto', 'dzisiaj', 'w'), 1.801056730965444e-17)\n",
      "(('kto', 'seniorskiej', 'reprezentacji', 'wystąpi', 'dzisiaj', 'w'), 1.6140292415703586e-17)\n",
      "(('reprezentacji', 'dzisiaj', 'w', 'seniorskiej', 'wystąpi', 'kto'), 1.598125495105407e-17)\n",
      "(('dzisiaj', 'wystąpi', 'w', 'kto', 'seniorskiej', 'reprezentacji'), 1.5642919316884757e-17)\n",
      "(('dzisiaj', 'w', 'reprezentacji', 'seniorskiej', 'wystąpi', 'kto'), 1.516498439701006e-17)\n",
      "(('kto', 'dzisiaj', 'wystąpi', 'reprezentacji', 'seniorskiej', 'w'), 1.4898612664185734e-17)\n",
      "(('wystąpi', 'dzisiaj', 'w', 'kto', 'reprezentacji', 'seniorskiej'), 1.471922225120309e-17)\n",
      "(('dzisiaj', 'w', 'wystąpi', 'seniorskiej', 'reprezentacji', 'kto'), 1.456187754626685e-17)\n",
      "(('kto', 'wystąpi', 'w', 'dzisiaj', 'seniorskiej', 'reprezentacji'), 1.2849884904865433e-17)\n",
      "(('wystąpi', 'dzisiaj', 'kto', 'w', 'reprezentacji', 'seniorskiej'), 1.2717409929241255e-17)\n",
      "(('dzisiaj', 'kto', 'reprezentacji', 'seniorskiej', 'w', 'wystąpi'), 1.239688051872886e-17)\n",
      "(('kto', 'w', 'reprezentacji', 'seniorskiej', 'dzisiaj', 'wystąpi'), 1.2192879549283574e-17)\n",
      "(('kto', 'w', 'dzisiaj', 'seniorskiej', 'reprezentacji', 'wystąpi'), 1.1657609096235452e-17)\n",
      "(('wystąpi', 'w', 'reprezentacji', 'seniorskiej', 'dzisiaj', 'kto'), 1.0914913541782815e-17)\n",
      "(('dzisiaj', 'kto', 'wystąpi', 'reprezentacji', 'seniorskiej', 'w'), 1.0412442798581124e-17)\n",
      "(('kto', 'dzisiaj', 'seniorskiej', 'w', 'reprezentacji', 'wystąpi'), 1.0366159937097626e-17)\n"
     ]
    }
   ],
   "source": [
    "# xs = sentences[0].lower().split()\n",
    "xs = ['kto', 'w', 'seniorskiej', 'reprezentacji', 'dzisiaj', 'wystąpi']\n",
    "for res in order_words(xs, successors2, successors3, 200):\n",
    "    print(res)"
   ]
  },
  {
   "cell_type": "code",
   "execution_count": 153,
   "metadata": {},
   "outputs": [
    {
     "name": "stdout",
     "output_type": "stream",
     "text": [
      "nasz przedmiot to przetwarzanie języka naturalnego , score: 0\n",
      "jedną grupę prowadzi jakub michaliszyn , score: 0.1\n",
      "wykładowcą jest paweł rychlikowski , score: 0.09090909090909091\n",
      "pan paweł prowadzi również dwie pozostałe grupy , score: 0\n",
      "będą to listy ćwiczeniowe i pracowniowe , score: 0\n",
      "będą to listy pracowniowe i ćwiczeniowe , score: 0\n",
      "mogą się pojawiać również dodatkowe aktywności , score: 0\n",
      "te aktywności będą premiowane , score: 0.16666666666666666\n",
      "na przykłąd quizy na platformie zdalnej , score: 0\n",
      "rozważamy też miniprojekty na temat wykładu , score: 0\n",
      "zapowiadamy je z co najmniej tygodniowym wyprzedzeniem , score: 0\n",
      "zadania są przeznaczone na konkretne zajęcia , score: 0\n",
      "ćwiczenia zaczynają się w sali seminaryjnej , score: 0\n",
      "jest tak tylko w trybie stacjonarnym , score: 0\n",
      "pozostałe zajęcia domyślnie zaczynają się w pracowni , score: 0\n",
      "pracownia polega na indywidualnych konsutlacjach , score: 0\n",
      "rozmawiamy tam na temat rozwiązań , score: 0\n",
      "podczas ćwiczeń studenci przedstawiają pisemne rozwiązania zadań , score: 0\n",
      "tryb zajęć zależy od sytuacji epidemiologicznej , score: 0\n",
      "zależy też od wymogów formalnych , score: 0\n",
      "zależy również od decyzji władz , score: 0\n",
      "uwzględnia się możliwości studentów i prowadzących , score: 0\n"
     ]
    },
    {
     "ename": "KeyboardInterrupt",
     "evalue": "",
     "output_type": "error",
     "traceback": [
      "\u001b[1;31m---------------------------------------------------------------------------\u001b[0m",
      "\u001b[1;31mKeyboardInterrupt\u001b[0m                         Traceback (most recent call last)",
      "\u001b[1;32m<ipython-input-153-b3da3e053d62>\u001b[0m in \u001b[0;36m<module>\u001b[1;34m\u001b[0m\n\u001b[1;32m----> 1\u001b[1;33m \u001b[0mrun_tests\u001b[0m\u001b[1;33m(\u001b[0m\u001b[0msentences\u001b[0m\u001b[1;33m,\u001b[0m \u001b[0msuccessors2\u001b[0m\u001b[1;33m,\u001b[0m \u001b[0msuccessors3\u001b[0m\u001b[1;33m)\u001b[0m\u001b[1;33m\u001b[0m\u001b[1;33m\u001b[0m\u001b[0m\n\u001b[0m",
      "\u001b[1;32m<ipython-input-117-d76269fff450>\u001b[0m in \u001b[0;36mrun_tests\u001b[1;34m(sentences, bigrams, trigrams)\u001b[0m\n\u001b[0;32m      4\u001b[0m         \u001b[0mwords\u001b[0m \u001b[1;33m=\u001b[0m \u001b[0msentence\u001b[0m\u001b[1;33m.\u001b[0m\u001b[0msplit\u001b[0m\u001b[1;33m(\u001b[0m\u001b[1;34m' '\u001b[0m\u001b[1;33m)\u001b[0m\u001b[1;33m\u001b[0m\u001b[1;33m\u001b[0m\u001b[0m\n\u001b[0;32m      5\u001b[0m         \u001b[0mscore\u001b[0m \u001b[1;33m=\u001b[0m \u001b[1;36m0\u001b[0m\u001b[1;33m\u001b[0m\u001b[1;33m\u001b[0m\u001b[0m\n\u001b[1;32m----> 6\u001b[1;33m         \u001b[1;32mfor\u001b[0m \u001b[0mi\u001b[0m\u001b[1;33m,\u001b[0m \u001b[0morder\u001b[0m \u001b[1;32min\u001b[0m \u001b[0menumerate\u001b[0m\u001b[1;33m(\u001b[0m\u001b[0morder_words\u001b[0m\u001b[1;33m(\u001b[0m\u001b[0mwords\u001b[0m\u001b[1;33m,\u001b[0m \u001b[0mbigrams\u001b[0m\u001b[1;33m,\u001b[0m \u001b[0mtrigrams\u001b[0m\u001b[1;33m,\u001b[0m \u001b[1;36m20\u001b[0m\u001b[1;33m)\u001b[0m\u001b[1;33m)\u001b[0m\u001b[1;33m:\u001b[0m\u001b[1;33m\u001b[0m\u001b[1;33m\u001b[0m\u001b[0m\n\u001b[0m\u001b[0;32m      7\u001b[0m             \u001b[1;32mif\u001b[0m \u001b[1;34m' '\u001b[0m\u001b[1;33m.\u001b[0m\u001b[0mjoin\u001b[0m\u001b[1;33m(\u001b[0m\u001b[0morder\u001b[0m\u001b[1;33m[\u001b[0m\u001b[1;36m0\u001b[0m\u001b[1;33m]\u001b[0m\u001b[1;33m)\u001b[0m \u001b[1;33m==\u001b[0m \u001b[0msentence\u001b[0m\u001b[1;33m:\u001b[0m\u001b[1;33m\u001b[0m\u001b[1;33m\u001b[0m\u001b[0m\n\u001b[0;32m      8\u001b[0m                 \u001b[0mscore\u001b[0m \u001b[1;33m=\u001b[0m \u001b[1;36m1\u001b[0m \u001b[1;33m/\u001b[0m \u001b[1;33m(\u001b[0m\u001b[0mi\u001b[0m \u001b[1;33m+\u001b[0m \u001b[1;36m1\u001b[0m\u001b[1;33m)\u001b[0m\u001b[1;33m\u001b[0m\u001b[1;33m\u001b[0m\u001b[0m\n",
      "\u001b[1;32m<ipython-input-151-ecca79ac8a63>\u001b[0m in \u001b[0;36morder_words\u001b[1;34m(words, bigrams, trigrams, n)\u001b[0m\n\u001b[0;32m     20\u001b[0m \u001b[1;32mdef\u001b[0m \u001b[0morder_words\u001b[0m\u001b[1;33m(\u001b[0m\u001b[0mwords\u001b[0m\u001b[1;33m,\u001b[0m \u001b[0mbigrams\u001b[0m\u001b[1;33m,\u001b[0m \u001b[0mtrigrams\u001b[0m\u001b[1;33m,\u001b[0m \u001b[0mn\u001b[0m\u001b[1;33m=\u001b[0m\u001b[1;36m1\u001b[0m\u001b[1;33m)\u001b[0m\u001b[1;33m:\u001b[0m\u001b[1;33m\u001b[0m\u001b[1;33m\u001b[0m\u001b[0m\n\u001b[0;32m     21\u001b[0m     \u001b[0mperms\u001b[0m \u001b[1;33m=\u001b[0m \u001b[0mpermutations\u001b[0m\u001b[1;33m(\u001b[0m\u001b[0mwords\u001b[0m\u001b[1;33m)\u001b[0m\u001b[1;33m\u001b[0m\u001b[1;33m\u001b[0m\u001b[0m\n\u001b[1;32m---> 22\u001b[1;33m     \u001b[0msentences\u001b[0m \u001b[1;33m=\u001b[0m \u001b[0mlist\u001b[0m\u001b[1;33m(\u001b[0m\u001b[0mmap\u001b[0m\u001b[1;33m(\u001b[0m\u001b[1;32mlambda\u001b[0m \u001b[0mp\u001b[0m\u001b[1;33m:\u001b[0m \u001b[1;33m(\u001b[0m\u001b[0mp\u001b[0m\u001b[1;33m,\u001b[0m \u001b[0mcompute_permutation_score\u001b[0m\u001b[1;33m(\u001b[0m\u001b[0mp\u001b[0m\u001b[1;33m,\u001b[0m \u001b[0mbigrams\u001b[0m\u001b[1;33m,\u001b[0m \u001b[0mtrigrams\u001b[0m\u001b[1;33m)\u001b[0m\u001b[1;33m)\u001b[0m\u001b[1;33m,\u001b[0m \u001b[0mperms\u001b[0m\u001b[1;33m)\u001b[0m\u001b[1;33m)\u001b[0m\u001b[1;33m\u001b[0m\u001b[1;33m\u001b[0m\u001b[0m\n\u001b[0m\u001b[0;32m     23\u001b[0m     \u001b[1;32mreturn\u001b[0m \u001b[0msorted\u001b[0m\u001b[1;33m(\u001b[0m\u001b[0msentences\u001b[0m\u001b[1;33m,\u001b[0m \u001b[0mkey\u001b[0m\u001b[1;33m=\u001b[0m\u001b[1;32mlambda\u001b[0m \u001b[0mx\u001b[0m\u001b[1;33m:\u001b[0m \u001b[0mx\u001b[0m\u001b[1;33m[\u001b[0m\u001b[1;36m1\u001b[0m\u001b[1;33m]\u001b[0m\u001b[1;33m,\u001b[0m \u001b[0mreverse\u001b[0m\u001b[1;33m=\u001b[0m\u001b[1;32mTrue\u001b[0m\u001b[1;33m)\u001b[0m\u001b[1;33m[\u001b[0m\u001b[1;33m:\u001b[0m\u001b[0mn\u001b[0m\u001b[1;33m]\u001b[0m\u001b[1;33m\u001b[0m\u001b[1;33m\u001b[0m\u001b[0m\n",
      "\u001b[1;32m<ipython-input-151-ecca79ac8a63>\u001b[0m in \u001b[0;36m<lambda>\u001b[1;34m(p)\u001b[0m\n\u001b[0;32m     20\u001b[0m \u001b[1;32mdef\u001b[0m \u001b[0morder_words\u001b[0m\u001b[1;33m(\u001b[0m\u001b[0mwords\u001b[0m\u001b[1;33m,\u001b[0m \u001b[0mbigrams\u001b[0m\u001b[1;33m,\u001b[0m \u001b[0mtrigrams\u001b[0m\u001b[1;33m,\u001b[0m \u001b[0mn\u001b[0m\u001b[1;33m=\u001b[0m\u001b[1;36m1\u001b[0m\u001b[1;33m)\u001b[0m\u001b[1;33m:\u001b[0m\u001b[1;33m\u001b[0m\u001b[1;33m\u001b[0m\u001b[0m\n\u001b[0;32m     21\u001b[0m     \u001b[0mperms\u001b[0m \u001b[1;33m=\u001b[0m \u001b[0mpermutations\u001b[0m\u001b[1;33m(\u001b[0m\u001b[0mwords\u001b[0m\u001b[1;33m)\u001b[0m\u001b[1;33m\u001b[0m\u001b[1;33m\u001b[0m\u001b[0m\n\u001b[1;32m---> 22\u001b[1;33m     \u001b[0msentences\u001b[0m \u001b[1;33m=\u001b[0m \u001b[0mlist\u001b[0m\u001b[1;33m(\u001b[0m\u001b[0mmap\u001b[0m\u001b[1;33m(\u001b[0m\u001b[1;32mlambda\u001b[0m \u001b[0mp\u001b[0m\u001b[1;33m:\u001b[0m \u001b[1;33m(\u001b[0m\u001b[0mp\u001b[0m\u001b[1;33m,\u001b[0m \u001b[0mcompute_permutation_score\u001b[0m\u001b[1;33m(\u001b[0m\u001b[0mp\u001b[0m\u001b[1;33m,\u001b[0m \u001b[0mbigrams\u001b[0m\u001b[1;33m,\u001b[0m \u001b[0mtrigrams\u001b[0m\u001b[1;33m)\u001b[0m\u001b[1;33m)\u001b[0m\u001b[1;33m,\u001b[0m \u001b[0mperms\u001b[0m\u001b[1;33m)\u001b[0m\u001b[1;33m)\u001b[0m\u001b[1;33m\u001b[0m\u001b[1;33m\u001b[0m\u001b[0m\n\u001b[0m\u001b[0;32m     23\u001b[0m     \u001b[1;32mreturn\u001b[0m \u001b[0msorted\u001b[0m\u001b[1;33m(\u001b[0m\u001b[0msentences\u001b[0m\u001b[1;33m,\u001b[0m \u001b[0mkey\u001b[0m\u001b[1;33m=\u001b[0m\u001b[1;32mlambda\u001b[0m \u001b[0mx\u001b[0m\u001b[1;33m:\u001b[0m \u001b[0mx\u001b[0m\u001b[1;33m[\u001b[0m\u001b[1;36m1\u001b[0m\u001b[1;33m]\u001b[0m\u001b[1;33m,\u001b[0m \u001b[0mreverse\u001b[0m\u001b[1;33m=\u001b[0m\u001b[1;32mTrue\u001b[0m\u001b[1;33m)\u001b[0m\u001b[1;33m[\u001b[0m\u001b[1;33m:\u001b[0m\u001b[0mn\u001b[0m\u001b[1;33m]\u001b[0m\u001b[1;33m\u001b[0m\u001b[1;33m\u001b[0m\u001b[0m\n",
      "\u001b[1;32m<ipython-input-151-ecca79ac8a63>\u001b[0m in \u001b[0;36mcompute_permutation_score\u001b[1;34m(permutation, bigrams, trigrams)\u001b[0m\n\u001b[0;32m     11\u001b[0m     \u001b[0mp\u001b[0m \u001b[1;33m=\u001b[0m \u001b[1;36m1.0\u001b[0m\u001b[1;33m\u001b[0m\u001b[1;33m\u001b[0m\u001b[0m\n\u001b[0;32m     12\u001b[0m     \u001b[0mp\u001b[0m \u001b[1;33m*=\u001b[0m \u001b[0mP\u001b[0m\u001b[1;33m(\u001b[0m\u001b[1;32mNone\u001b[0m\u001b[1;33m,\u001b[0m \u001b[1;32mNone\u001b[0m\u001b[1;33m,\u001b[0m \u001b[0mpermutation\u001b[0m\u001b[1;33m[\u001b[0m\u001b[1;36m0\u001b[0m\u001b[1;33m]\u001b[0m\u001b[1;33m,\u001b[0m \u001b[0mbigrams\u001b[0m\u001b[1;33m,\u001b[0m \u001b[0mtrigrams\u001b[0m\u001b[1;33m)\u001b[0m\u001b[1;33m\u001b[0m\u001b[1;33m\u001b[0m\u001b[0m\n\u001b[1;32m---> 13\u001b[1;33m     \u001b[0mp\u001b[0m \u001b[1;33m*=\u001b[0m \u001b[0mP\u001b[0m\u001b[1;33m(\u001b[0m\u001b[1;32mNone\u001b[0m\u001b[1;33m,\u001b[0m \u001b[0mpermutation\u001b[0m\u001b[1;33m[\u001b[0m\u001b[1;36m1\u001b[0m\u001b[1;33m]\u001b[0m\u001b[1;33m,\u001b[0m \u001b[0mpermutation\u001b[0m\u001b[1;33m[\u001b[0m\u001b[1;36m0\u001b[0m\u001b[1;33m]\u001b[0m\u001b[1;33m,\u001b[0m \u001b[0mbigrams\u001b[0m\u001b[1;33m,\u001b[0m \u001b[0mtrigrams\u001b[0m\u001b[1;33m)\u001b[0m\u001b[1;33m\u001b[0m\u001b[1;33m\u001b[0m\u001b[0m\n\u001b[0m\u001b[0;32m     14\u001b[0m     \u001b[0mp\u001b[0m \u001b[1;33m*=\u001b[0m \u001b[0mP\u001b[0m\u001b[1;33m(\u001b[0m\u001b[0mpermutation\u001b[0m\u001b[1;33m[\u001b[0m\u001b[1;36m2\u001b[0m\u001b[1;33m]\u001b[0m\u001b[1;33m,\u001b[0m \u001b[0mpermutation\u001b[0m\u001b[1;33m[\u001b[0m\u001b[1;36m1\u001b[0m\u001b[1;33m]\u001b[0m\u001b[1;33m,\u001b[0m \u001b[0mpermutation\u001b[0m\u001b[1;33m[\u001b[0m\u001b[1;36m0\u001b[0m\u001b[1;33m]\u001b[0m\u001b[1;33m,\u001b[0m \u001b[0mbigrams\u001b[0m\u001b[1;33m,\u001b[0m \u001b[0mtrigrams\u001b[0m\u001b[1;33m)\u001b[0m\u001b[1;33m\u001b[0m\u001b[1;33m\u001b[0m\u001b[0m\n\u001b[0;32m     15\u001b[0m     \u001b[1;32mfor\u001b[0m \u001b[0mi\u001b[0m \u001b[1;32min\u001b[0m \u001b[0mrange\u001b[0m\u001b[1;33m(\u001b[0m\u001b[1;36m2\u001b[0m\u001b[1;33m,\u001b[0m \u001b[0mlen\u001b[0m\u001b[1;33m(\u001b[0m\u001b[0mpermutation\u001b[0m\u001b[1;33m)\u001b[0m\u001b[1;33m)\u001b[0m\u001b[1;33m:\u001b[0m\u001b[1;33m\u001b[0m\u001b[1;33m\u001b[0m\u001b[0m\n",
      "\u001b[1;32m<ipython-input-127-c2e0b089ad7c>\u001b[0m in \u001b[0;36mP\u001b[1;34m(w1, w2, w3, bigrams, trigrams)\u001b[0m\n\u001b[0;32m     41\u001b[0m \u001b[1;33m\u001b[0m\u001b[0m\n\u001b[0;32m     42\u001b[0m     \u001b[0mpw3\u001b[0m \u001b[1;33m=\u001b[0m \u001b[0mPUni\u001b[0m\u001b[1;33m(\u001b[0m\u001b[0mw3\u001b[0m\u001b[1;33m,\u001b[0m \u001b[0mbigrams\u001b[0m\u001b[1;33m)\u001b[0m \u001b[1;32mif\u001b[0m \u001b[0mw3\u001b[0m \u001b[1;32mis\u001b[0m \u001b[1;32mnot\u001b[0m \u001b[1;32mNone\u001b[0m \u001b[1;32melse\u001b[0m \u001b[1;36m0\u001b[0m\u001b[1;33m\u001b[0m\u001b[1;33m\u001b[0m\u001b[0m\n\u001b[1;32m---> 43\u001b[1;33m     \u001b[0mpw2w3\u001b[0m \u001b[1;33m=\u001b[0m \u001b[0mPBi\u001b[0m\u001b[1;33m(\u001b[0m\u001b[0mw2\u001b[0m\u001b[1;33m,\u001b[0m \u001b[0mw3\u001b[0m\u001b[1;33m,\u001b[0m \u001b[0mbigrams\u001b[0m\u001b[1;33m)\u001b[0m \u001b[1;32mif\u001b[0m \u001b[0mw2\u001b[0m \u001b[1;32mis\u001b[0m \u001b[1;32mnot\u001b[0m \u001b[1;32mNone\u001b[0m \u001b[1;32mand\u001b[0m \u001b[0mw3\u001b[0m \u001b[1;32mis\u001b[0m \u001b[1;32mnot\u001b[0m \u001b[1;32mNone\u001b[0m \u001b[1;32melse\u001b[0m \u001b[1;36m0\u001b[0m\u001b[1;33m\u001b[0m\u001b[1;33m\u001b[0m\u001b[0m\n\u001b[0m\u001b[0;32m     44\u001b[0m     \u001b[0mpw1w2w3\u001b[0m \u001b[1;33m=\u001b[0m \u001b[0mPTri\u001b[0m\u001b[1;33m(\u001b[0m\u001b[0mw1\u001b[0m\u001b[1;33m,\u001b[0m \u001b[0mw2\u001b[0m\u001b[1;33m,\u001b[0m \u001b[0mw3\u001b[0m\u001b[1;33m,\u001b[0m \u001b[0mtrigrams\u001b[0m\u001b[1;33m)\u001b[0m \u001b[1;32mif\u001b[0m \u001b[0mw1\u001b[0m \u001b[1;32mis\u001b[0m \u001b[1;32mnot\u001b[0m \u001b[1;32mNone\u001b[0m \u001b[1;32mand\u001b[0m \u001b[0mw2\u001b[0m \u001b[1;32mis\u001b[0m \u001b[1;32mnot\u001b[0m \u001b[1;32mNone\u001b[0m \u001b[1;32mand\u001b[0m \u001b[0mw3\u001b[0m \u001b[1;32mis\u001b[0m \u001b[1;32mnot\u001b[0m \u001b[1;32mNone\u001b[0m \u001b[1;32melse\u001b[0m \u001b[1;36m0\u001b[0m\u001b[1;33m\u001b[0m\u001b[1;33m\u001b[0m\u001b[0m\n\u001b[0;32m     45\u001b[0m \u001b[1;33m\u001b[0m\u001b[0m\n",
      "\u001b[1;32m<ipython-input-127-c2e0b089ad7c>\u001b[0m in \u001b[0;36mPBi\u001b[1;34m(w1, w2, bigrams)\u001b[0m\n\u001b[0;32m     16\u001b[0m         \u001b[0mcnt_w1w2\u001b[0m \u001b[1;33m=\u001b[0m \u001b[1;36m0\u001b[0m\u001b[1;33m\u001b[0m\u001b[1;33m\u001b[0m\u001b[0m\n\u001b[0;32m     17\u001b[0m         \u001b[1;32mfor\u001b[0m \u001b[0mn\u001b[0m\u001b[1;33m,\u001b[0m \u001b[0mword\u001b[0m \u001b[1;32min\u001b[0m \u001b[0mbigrams\u001b[0m\u001b[1;33m[\u001b[0m\u001b[0mbigram_key\u001b[0m\u001b[1;33m]\u001b[0m\u001b[1;33m:\u001b[0m\u001b[1;33m\u001b[0m\u001b[1;33m\u001b[0m\u001b[0m\n\u001b[1;32m---> 18\u001b[1;33m             \u001b[0mcnt_w1\u001b[0m \u001b[1;33m+=\u001b[0m \u001b[0mn\u001b[0m\u001b[1;33m\u001b[0m\u001b[1;33m\u001b[0m\u001b[0m\n\u001b[0m\u001b[0;32m     19\u001b[0m             \u001b[1;32mif\u001b[0m \u001b[0mword\u001b[0m \u001b[1;33m==\u001b[0m \u001b[0mw2\u001b[0m\u001b[1;33m:\u001b[0m\u001b[1;33m\u001b[0m\u001b[1;33m\u001b[0m\u001b[0m\n\u001b[0;32m     20\u001b[0m                 \u001b[0mcnt_w1w2\u001b[0m \u001b[1;33m+=\u001b[0m \u001b[0mn\u001b[0m\u001b[1;33m\u001b[0m\u001b[1;33m\u001b[0m\u001b[0m\n",
      "\u001b[1;31mKeyboardInterrupt\u001b[0m: "
     ]
    }
   ],
   "source": [
    "run_tests(sentences, successors2, successors3)"
   ]
  },
  {
   "cell_type": "code",
   "execution_count": null,
   "metadata": {},
   "outputs": [],
   "source": []
  }
 ],
 "metadata": {
  "kernelspec": {
   "display_name": "Python 3",
   "language": "python",
   "name": "python3"
  },
  "language_info": {
   "codemirror_mode": {
    "name": "ipython",
    "version": 3
   },
   "file_extension": ".py",
   "mimetype": "text/x-python",
   "name": "python",
   "nbconvert_exporter": "python",
   "pygments_lexer": "ipython3",
   "version": "3.8.3"
  }
 },
 "nbformat": 4,
 "nbformat_minor": 4
}
