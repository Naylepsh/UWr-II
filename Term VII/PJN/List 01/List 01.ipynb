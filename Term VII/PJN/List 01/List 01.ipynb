{
 "cells": [
  {
   "cell_type": "markdown",
   "metadata": {},
   "source": [
    "## Gather words"
   ]
  },
  {
   "cell_type": "markdown",
   "metadata": {},
   "source": [
    "## Exercise 1"
   ]
  },
  {
   "cell_type": "code",
   "execution_count": 25,
   "metadata": {},
   "outputs": [
    {
     "name": "stdout",
     "output_type": "stream",
     "text": [
      "Processed 10% of the file contents...\n",
      "Processed 20% of the file contents...\n",
      "Processed 30% of the file contents...\n",
      "Processed 40% of the file contents...\n",
      "Processed 50% of the file contents...\n",
      "Processed 60% of the file contents...\n",
      "Processed 70% of the file contents...\n",
      "Processed 80% of the file contents...\n",
      "Processed 90% of the file contents...\n",
      "Processed 100% of the file contents...\n"
     ]
    }
   ],
   "source": [
    "from gatherer import gather_words_from_file\n",
    "\n",
    "words = gather_words_from_file(filename='polish_corpora.txt', lines_to_read=500000)"
   ]
  },
  {
   "cell_type": "markdown",
   "metadata": {},
   "source": [
    "### a)"
   ]
  },
  {
   "cell_type": "code",
   "execution_count": 27,
   "metadata": {},
   "outputs": [],
   "source": [
    "def get_score(tokenization_attempt, proper_tokenization):\n",
    "    score = 0\n",
    "    for token in tokenization_attempt:\n",
    "        if token in proper_tokenization:\n",
    "            score +=1\n",
    "    return score / len(proper_tokenization)"
   ]
  },
  {
   "cell_type": "code",
   "execution_count": 6,
   "metadata": {},
   "outputs": [
    {
     "data": {
      "text/plain": [
       "0.5"
      ]
     },
     "execution_count": 6,
     "metadata": {},
     "output_type": "execute_result"
    }
   ],
   "source": [
    "get_score(['t1', 't2t3', 't3'], ['t1', 't2', 't3', 't3'])"
   ]
  },
  {
   "cell_type": "markdown",
   "metadata": {},
   "source": [
    "### b)"
   ]
  },
  {
   "cell_type": "code",
   "execution_count": 23,
   "metadata": {},
   "outputs": [],
   "source": [
    "def max_match(text):\n",
    "    tokens = []\n",
    "    current_token = ''\n",
    "    for letter in text:\n",
    "        extended_token = current_token + letter\n",
    "        if extended_token in words:\n",
    "            current_token = extended_token\n",
    "        else:\n",
    "            tokens.append(current_token)\n",
    "            current_token = letter\n",
    "    if current_token != '':\n",
    "        tokens.append(current_token)\n",
    "    return tokens"
   ]
  },
  {
   "cell_type": "code",
   "execution_count": 4,
   "metadata": {},
   "outputs": [],
   "source": [
    "def tokenize_and_compare(line):\n",
    "    proper_tokenization = line.lower().split(' ')\n",
    "    processed_line = \"\".join(line.split()).lower()\n",
    "    attempted_tokenization = max_match(processed_line)\n",
    "    score = get_score(attempted_tokenization, proper_tokenization)\n",
    "    print(f'expected: {proper_tokenization}')\n",
    "    print(f'got: {attempted_tokenization}')\n",
    "    print(f'score: {score}')\n",
    "    print()"
   ]
  },
  {
   "cell_type": "code",
   "execution_count": 9,
   "metadata": {},
   "outputs": [
    {
     "name": "stdout",
     "output_type": "stream",
     "text": [
      "expected: ['system', 'euroraty', 'chcesz', 'kupować', 'więcej', 'niż', 'gdzie', 'indziej', '?']\n",
      "got: ['syst', 'eme', 'uro', 'raty', 'ch', 'ces', 'zk', 'upo', 'wać', 'więc', 'ej', 'niż', 'gd', 'zie', 'ind', 'zie', 'j', '?']\n",
      "score: 0.2222222222222222\n",
      "\n",
      "expected: ['parlament', 'zdecydował', 'jednak', 'inaczej', 'i', 'przyjął', 'w', 'ustawie', 'z', 'dnia', '28.06.1996', 'r.', 'jednoinstancyjne', 'postępowanie', 'orzeczniczo-lekarskie', '.']\n",
      "got: ['par', 'lam', 'en', 'tz', 'dec', 'y', 'dowa', 'ł', 'jednak', 'ina', 'czej', 'ip', 'rzy', 'jął', 'wu', 'stawie', 'zd', 'nia', '28.', '06.', '1996r', '.', 'jedno', 'insta', 'nc', 'yj', 'nep', 'ost', 'ę', 'pow', 'anie', 'orz', 'ec', 'zn', 'ic', 'zo', '-', 'lek', 'ars', 'kie', '.']\n",
      "score: 0.1875\n",
      "\n",
      "expected: ['po', 'kampanii', 'wrześniowej', '1.dlek', 'raportowała', '77', 'czołgów', 'l.t.m.35', 'utraconych', '(', 'wraz', 'z', 'wozami', 'dowodzenia', ')', 'i', '52', 'uszkodzone', 'lub', 'zepsute', ',', 'lecz', 'ostatecznie', 'po', 'naprawach', 'straty', 'bezpowrotne', 'ograniczyły', 'się', 'do', '7', 'czołgów', 'i', 'w', 'lutym', '1940', 'roku', 'posiadano', '195', 'czołgów', 'na', 'stanie', '.']\n",
      "got: ['poka', 'mpa', 'nii', 'wrze', 'ś', 'nio', 'wej', '1.', 'dle', 'krap', 'orto', 'wała', '77', 'czo', 'ł', 'gó', 'wl', '.', 't.', 'm.', '35', 'ut', 'rac', 'on', 'ych', '(', 'wraz', 'zwo', 'zam', 'ido', 'wodze', 'nia', ')', 'i5', '2', 'usz', 'kod', 'zo', 'nel', 'ub', 'zep', 'su', 'te', ',', 'lecz', 'ost', 'ate', 'cz', 'nie', 'pona', 'prawa', 'ch', 'straty', 'bez', 'pow', 'rot', 'neo', 'granic', 'zy', 'ły', 'się', 'do', '7c', 'zo', 'ł', 'gó', 'wiw', 'lutym', '1940r', 'okup', 'osi', 'ada', 'no', '195', 'czo', 'ł', 'gó', 'wn', 'asta', 'nie', '.']\n",
      "score: 0.3023255813953488\n",
      "\n",
      "expected: ['w', 'rolach', 'głównych', 'wystąpili', 'jake', 'gyllenhaal', ',', 'forest', 'whitaker', 'oraz', 'rachel', 'mcadams', '.']\n",
      "got: ['wrol', 'ach', 'głów', 'nych', 'wyst', 'ą', 'pili', 'jake', 'gy', 'll', 'en', 'ha', 'al', ',', 'fore', 'stw', 'hita', 'ker', 'oraz', 'rach', 'elm', 'cada', 'ms', '.']\n",
      "score: 0.3076923076923077\n",
      "\n",
      "expected: ['zapieczone', 'z', 'pomidorami', ',', 'bazylią', 'i', 'serem', '...']\n",
      "got: ['zap', 'iec', 'zo', 'nez', 'pomi', 'dora', 'mi', ',', 'bazylią', 'ise', 'rem', '...']\n",
      "score: 0.375\n",
      "\n"
     ]
    }
   ],
   "source": [
    "with open('polish_corpora.txt', encoding='utf8') as f:\n",
    "    for _ in range(10):\n",
    "        line = next(f).rstrip('\\n')\n",
    "        tokenize_and_compare(line)"
   ]
  },
  {
   "cell_type": "markdown",
   "metadata": {},
   "source": [
    "#### the best and the worst of tokenizaton atttempts"
   ]
  },
  {
   "cell_type": "code",
   "execution_count": 29,
   "metadata": {},
   "outputs": [
    {
     "name": "stdout",
     "output_type": "stream",
     "text": [
      "attempt: siedzibą władz gminy były gracze .\n",
      "proper: siedzibą władz gminy były gracze .\n",
      "1.0\n",
      "attempt: wsta ro żyt no ś cik ol chi dab yła kolo nią grec kie go mia stam ile t.\n",
      "proper: w starożytności kolchida była kolonią greckiego miasta milet .\n",
      "0.0\n"
     ]
    }
   ],
   "source": [
    "best = (None, -1)\n",
    "worst = (None, 1)\n",
    "lines_to_read = 50000\n",
    "with open('polish_corpora.txt', encoding='utf8') as file:\n",
    "    lines_read = 0\n",
    "    for line in file:\n",
    "        line = line.rstrip('\\n')\n",
    "        proper_tokenization = line.lower().split(' ')\n",
    "        \n",
    "        processed_line = \"\".join(line.split()).lower()\n",
    "        attempted_tokenization = max_match(processed_line)\n",
    "        \n",
    "        score = get_score(attempted_tokenization, proper_tokenization)\n",
    "        \n",
    "        if score > best[1]:\n",
    "            best = ((attempted_tokenization, proper_tokenization), score)\n",
    "        if score < worst[1]:\n",
    "            worst = ((attempted_tokenization, proper_tokenization), score)\n",
    "        \n",
    "        lines_read += 1\n",
    "        if lines_read >= lines_to_read:\n",
    "            break\n",
    "print('attempt:', ' '.join(best[0][0]))\n",
    "print('proper:', ' '.join(best[0][1]))\n",
    "print(best[1])\n",
    "\n",
    "print('attempt:', ' '.join(worst[0][0]))\n",
    "print('proper:' ' '.join(worst[0][1]))\n",
    "print(worst[1])"
   ]
  },
  {
   "cell_type": "code",
   "execution_count": 33,
   "metadata": {},
   "outputs": [
    {
     "name": "stdout",
     "output_type": "stream",
     "text": [
      "avg: 0.28649267625437197\n"
     ]
    }
   ],
   "source": [
    "lines_to_read = 500000\n",
    "total = 0\n",
    "with open('polish_corpora.txt', encoding='utf8') as file:\n",
    "    lines_read = 0\n",
    "    for line in file:\n",
    "        line = line.rstrip('\\n')\n",
    "        proper_tokenization = line.lower().split(' ')\n",
    "        \n",
    "        processed_line = \"\".join(line.split()).lower()\n",
    "        attempted_tokenization = max_match(processed_line)\n",
    "        \n",
    "        score = get_score(attempted_tokenization, proper_tokenization)\n",
    "        total += score\n",
    "        \n",
    "        lines_read += 1\n",
    "        if lines_read >= lines_to_read:\n",
    "            break\n",
    "print('avg:', total / lines_to_read)"
   ]
  },
  {
   "cell_type": "code",
   "execution_count": 35,
   "metadata": {},
   "outputs": [
    {
     "name": "stdout",
     "output_type": "stream",
     "text": [
      "avg: 0.2822365807435802\n"
     ]
    }
   ],
   "source": [
    "lines_to_read = 120\n",
    "total = 0\n",
    "with open('polish_corpora.txt', encoding='utf8') as file:\n",
    "    lines_read = 0\n",
    "    for line in file:\n",
    "        line = line.rstrip('\\n')\n",
    "        proper_tokenization = line.lower().split(' ')\n",
    "        \n",
    "        processed_line = \"\".join(line.split()).lower()\n",
    "        attempted_tokenization = max_match(processed_line)\n",
    "        \n",
    "        score = get_score(attempted_tokenization, proper_tokenization)\n",
    "        total += score\n",
    "        \n",
    "        lines_read += 1\n",
    "        if lines_read >= lines_to_read:\n",
    "            break\n",
    "print('avg:', total / lines_to_read)"
   ]
  },
  {
   "cell_type": "markdown",
   "metadata": {},
   "source": [
    "#### The file is kind of scuffed ngl"
   ]
  },
  {
   "cell_type": "code",
   "execution_count": 10,
   "metadata": {},
   "outputs": [
    {
     "name": "stdout",
     "output_type": "stream",
     "text": [
      "Nie ch ju ż naw et nie będ zie str a żn ic zk ą , a le n ie ch w o góle b ęd zie .\n",
      "Moze nie trzeba by bylo interweniowac a miejsce w zk przydaloby sie komus innemu .\n",
      "A to , czy jakis pies kryl warunkowo czy nie , czy zk jest fajny czy be ...\n"
     ]
    }
   ],
   "source": [
    "with open('polish_corpora.txt', encoding='utf-8') as f:\n",
    "        for _ in range(500000):\n",
    "            line = next(f).rstrip('\\n')\n",
    "            words_in_line = line.split(' ')\n",
    "            if 'zk' in words_in_line:\n",
    "                print(line)"
   ]
  },
  {
   "cell_type": "markdown",
   "metadata": {},
   "source": [
    "## Exercise 2"
   ]
  },
  {
   "cell_type": "markdown",
   "metadata": {},
   "source": [
    "### Bigrams"
   ]
  },
  {
   "cell_type": "code",
   "execution_count": 1,
   "metadata": {},
   "outputs": [
    {
     "name": "stdout",
     "output_type": "stream",
     "text": [
      "Processed 10% of the file contents...\n",
      "Processed 20% of the file contents...\n",
      "Processed 30% of the file contents...\n",
      "Processed 40% of the file contents...\n",
      "Processed 50% of the file contents...\n",
      "Processed 60% of the file contents...\n",
      "Processed 70% of the file contents...\n",
      "Processed 80% of the file contents...\n",
      "Processed 90% of the file contents...\n",
      "Processed 100% of the file contents...\n"
     ]
    }
   ],
   "source": [
    "from gatherer import gather_successors_from_bigrams\n",
    "\n",
    "successors2 = gather_successors_from_bigrams('poleval_2grams.txt', 10)"
   ]
  },
  {
   "cell_type": "code",
   "execution_count": 10,
   "metadata": {},
   "outputs": [
    {
     "name": "stdout",
     "output_type": "stream",
     "text": [
      "arona . przepływy pieniężne ? <EOS>\n",
      "fuzje , śmigłowca sanitarnego przez anioła trzymającego się dopasowywać , przychyli . im jedynie instytucje muzealne i dobrowolności stosowania chemioterapii w mrok i przednia oś komunikacyjną , tymi poprawkami ) mecze przeciwko istnieniu tych niespełna kilka pozostałych ofiar hitlerowskiego w kwestionowanym przepisie kodeksu rodzinnego przysługuje rodzinom oraz precyzuje on byl bardzo smacznie . ap ... oj tak zdefiniowane w pubp . 73 dywizji b. d. i osobowością . j. korczaka dzięki zainstalowaniu urządzeń wymienionych stanowisk wykonawczych przewidzianych i ząb jest david villa i profilaktycznego i smartfonów na oszustwie , maksymalny - miejscowości kasztelanii święckiej\n",
      "budowlana pod dwóch kosmonautów . perfect body - niepubliczne dla komunistów z wyraźną korelację pomiędzy przednimi siedzeniami z indiami wschodnimi i pył ( zał . agnieszka , czułość zlokalizowany , a.t. : 31. minucie mateusz wiśniewski nie m.in. założenia strategii będą tematem tej ciemnej liczby zezwoleń jest wizytówka każdej wyodrębnionej grupy ira w licznie przybywali tam zatrudnione u kierowcy tylko każda wizyta pani dysponuje natomiast największą była językiem ojczystym w spółce prawa nauczyciela stanowi stary a gabon interclubs . 95 umów dla mleka przez halinę wasilewską-trenkner o wspólnotach mieszkaniowych były stałym związku żołnierzy rządowych limuzyn dla proboszcza objął urzędowanie 11 srebrnych i zaproponowała wydłużenie ( icc champions , najbiedniejszym regionem jest zagospodarowanie oraz średnio po rezerwacie , bośniaków , opłacić składkę emerytalno-rentową\n",
      "persson , klasycystyczną . justyna jest dziennikarzem śledczym w krótszej długości od piusa x pawilonu dla masowego wyludniania wsi pani komisarz handlu alkoholem , planetoid i zacisnął zęby metalowym . stanisława nieckarza\n",
      "radioodtwarzacze , bezpiecznej i paragwaju , denerwują cię masuje ... moim ideałem w arkansas ) powstania linii okrężnej . większość postanowień służących zwiększeniu - dark wave ( 535 . dwa woły . krystyna jawecka , samce od procesora , przewidzieć czasie polacy musimy trzymać razem uczniowie zostali wyświęceni\n"
     ]
    }
   ],
   "source": [
    "from sentence import BigramSG\n",
    "\n",
    "bisg = BigramSG(successors2)\n",
    "print(bisg.generate_text(sentences=5))"
   ]
  },
  {
   "cell_type": "markdown",
   "metadata": {},
   "source": [
    "### Trigrams"
   ]
  },
  {
   "cell_type": "code",
   "execution_count": 11,
   "metadata": {},
   "outputs": [
    {
     "name": "stdout",
     "output_type": "stream",
     "text": [
      "Processed 10% of the file contents...\n",
      "Processed 20% of the file contents...\n",
      "Processed 30% of the file contents...\n",
      "Processed 40% of the file contents...\n",
      "Processed 50% of the file contents...\n",
      "Processed 60% of the file contents...\n",
      "Processed 70% of the file contents...\n",
      "Processed 80% of the file contents...\n",
      "Processed 90% of the file contents...\n",
      "Processed 100% of the file contents...\n"
     ]
    }
   ],
   "source": [
    "from gatherer import gather_successors_from_trigrams\n",
    "\n",
    "successors3 = gather_successors_from_trigrams('poleval_3grams.txt', 10)"
   ]
  },
  {
   "cell_type": "code",
   "execution_count": 12,
   "metadata": {},
   "outputs": [],
   "source": [
    "from sentence import TrigramSG"
   ]
  },
  {
   "cell_type": "code",
   "execution_count": 9,
   "metadata": {},
   "outputs": [
    {
     "name": "stdout",
     "output_type": "stream",
     "text": [
      "jego kandydatury na stanowisko prezydenta , o najniższych kwalifikacjach . <EOS>\n",
      "tomach w latach bezpośrednio poprzedzających jego podbój przez turków . <EOS>\n",
      "janusz korczak ,\n",
      "wp , 1998 ( grupa 2\n",
      "ławników do orzekania przez sąd apelacyjny -\n",
      "akcją popisał się w konstytucji prl z dnia 10 stycznia . <EOS>\n",
      "tytułu prowadzenia pozarolniczej działalności w organizacji spotkań z rolnikami . <EOS>\n",
      "wyprawę , której liczba\n",
      "nasze błędy , że cywilizacja\n",
      "równouprawnienia i przeciwdziałania negatywnym skutkom wykonywania pracy za ich wprowadzenie nie\n"
     ]
    }
   ],
   "source": [
    "trisg = TrigramSG(successors3)\n",
    "print(trisg.generate_text(sentences=10))"
   ]
  },
  {
   "cell_type": "code",
   "execution_count": 14,
   "metadata": {},
   "outputs": [],
   "source": [
    "dummy_successors3 = {\n",
    "    ('alfa', 'beta'): [(1, 'charlie')],\n",
    "    ('beta', 'charlie'): [(1, 'delta')],\n",
    "    ('charlie', 'delta'): [(1, 'echo')],\n",
    "    ('delta', 'echo'): [(1, '<EOS>'), (1, 'foxtrot')]\n",
    "}"
   ]
  },
  {
   "cell_type": "code",
   "execution_count": 15,
   "metadata": {},
   "outputs": [
    {
     "name": "stdout",
     "output_type": "stream",
     "text": [
      "alfa beta charlie delta echo foxtrot\n",
      "beta charlie delta echo foxtrot\n",
      "delta echo <EOS>\n",
      "alfa beta charlie delta echo <EOS>\n",
      "delta echo foxtrot\n"
     ]
    }
   ],
   "source": [
    "trisg = TrigramSG(dummy_successors3)\n",
    "sentence = trisg.generate_text(sentences=5)\n",
    "print(sentence)"
   ]
  },
  {
   "cell_type": "markdown",
   "metadata": {},
   "source": [
    "## Exercise 3"
   ]
  },
  {
   "cell_type": "code",
   "execution_count": 16,
   "metadata": {},
   "outputs": [],
   "source": [
    "from sentence import NonUniformSentenceGenerator"
   ]
  },
  {
   "cell_type": "code",
   "execution_count": 19,
   "metadata": {},
   "outputs": [
    {
     "name": "stdout",
     "output_type": "stream",
     "text": [
      "naukowca z jeńcami wojennymi w kamuflażu , partyjny kolega ) poznaj najlepsze sposoby leczenia schizofrenii paranoidalnej\n",
      "gaspard de valera , odrzucali . za organizowanie różnego autoramentu cudzoziemskiego . dlatego ponownie swoją małżonką i pasterstwa . 1-4 ustawy podlegają procedurom , prot . dioecesis cracoviensis ( tl ) przyznała grze zespołowej ) książek pt. ... potem studiował równolegle dwie skały jest miejscowym areszcie na narządach rozrodczych ( wykonanie jego zarządu pge marmy rzeszów oraz wzywa się dziećmi ze zwielokrotnioną\n",
      "spytek ligęza , thorsten\n",
      "termalne . katarzyna bachleda-curuś , równomiernie rozmieszczonych jest bezbarwna , internetu rzeczy należałoby nie wstaje . witolda pahla , pragną miłości homoseksualnej i reakcjami , umiejętnościami technicznymi oraz terapeutów nie obawiała się arabowie , wyglądających jak sardynki . janem i konfliktu interesów rzeczypospolitej został pomiędzy wisłą a quiet and can download rapidshare i bilateralnej i rozwiązywania zadań myśliwskich ) złożyła przysięgę od kopenhagi . 1991 bezskutecznie oblegał miasto regionu zachodniopomorskiego uniwersytetu kijowskiego na innowacyjnym rozwiązaniem stosowanym narzędziem może wyciągać ręki nie najnowocześniejszych na lodowcach . 22 xi 1946 była kluczowym pojęciem znacznie podwyższa to podstawie przedłożonego orzeczenia stronie republiki sri lance armstrong whitworth , zwłoki ( wybacz za minimalny wskaźnik cen będą absolutnie niezbędna w spr.\n",
      "posunąć do wyższej psychologii tłumu , minimalizacja ryzyka specyficznych sytuacjach z chromowaną\n"
     ]
    }
   ],
   "source": [
    "nusg2 = BigramSG(successors2, NonUniformSentenceGenerator)\n",
    "print(nusg2.generate_text(sentences=5))"
   ]
  },
  {
   "cell_type": "code",
   "execution_count": 20,
   "metadata": {},
   "outputs": [
    {
     "name": "stdout",
     "output_type": "stream",
     "text": [
      "bezpośrednie kontakty z kierownictwem rządu\n",
      "zdania na ten okres i na zdrowie ludzkie , co znajdujemy w niej pracę\n",
      "pod drzewem . <EOS>\n",
      "klasyczny przegrał z johnem higginsem\n",
      "została ogłoszona jedną z możliwości opłacania składek ubezpieczeniowych od\n",
      "leczenie świadczeniobiorców z rozpoznaniem :\n",
      "tak sie sklada , ze trudno\n",
      "wystąpię . <EOS>\n",
      "sklepy spożywczo-przemysłowe . <EOS>\n",
      "ostatecznie osiąść w\n"
     ]
    }
   ],
   "source": [
    "nusg3 = TrigramSG(successors3, NonUniformSentenceGenerator)\n",
    "print(nusg3.generate_text(sentences=10))"
   ]
  },
  {
   "cell_type": "code",
   "execution_count": 21,
   "metadata": {},
   "outputs": [
    {
     "name": "stdout",
     "output_type": "stream",
     "text": [
      "komisji zapoznali się z ceną , jakością i środowiskiem lokalnym i ponadgminnym\n",
      "--------------------\n",
      "apertura 2015 zdobył złoto mistrzostw panamerykańskich ( srebro , a dawna\n",
      "--------------------\n",
      "i 57km na północ znajduje się lokalne lotnisko . <EOS>\n",
      "--------------------\n",
      "temat o tym myślicie , że region ten posiada : - bo tyle trwa\n",
      "--------------------\n",
      "oraz zmarłych w szpitalu opiekunów dzieci niepełnosprawnych . <EOS>\n",
      "--------------------\n",
      "ciemnych i jasnych reguł , w promocji w mediach się\n",
      "--------------------\n",
      "pracę wymiaru sprawiedliwości nie tylko podniesienie\n",
      "--------------------\n",
      "1936 uczestniczył w papieskich elekcjach w\n",
      "--------------------\n",
      "kwalifikacjami i doświadczeniem oraz wiedzą teoretyczną i umiejętności z tego sektora jest\n",
      "--------------------\n",
      "uwidaczniają się w plymouth , a powód\n",
      "--------------------\n",
      "studiów zainteresował się pan ( pani mariann fischer boel z\n",
      "--------------------\n",
      "własnego klubu , bardzo pilne , że amber gold i olt express regional sp. z oo . bonifratrów\n",
      "--------------------\n",
      "międzyresortowe oraz konsultacje z zainteresowanymi resortami , ale dzisiejsze\n",
      "--------------------\n",
      "punktem 4 porządku dziennego w dniu wyboru\n",
      "--------------------\n",
      "roku bogusław radziwiłł , który prędzej czy później trafi do konsultacji polityczno-gospodarczych z argentyną w\n",
      "--------------------\n",
      "jeżeli toczy się przeciwko wnioskowi mniejszości , więc listę posłów pytających , jeżeli zarząd nie jest wielkie zagrożenie . <EOS>\n",
      "--------------------\n",
      "skuteczniejszej pomocy do osób pobierających wcześniejszą emeryturę osób , w planach pkp\n",
      "--------------------\n",
      "turbin bez zauważalnych konsekwencji zdrowotnych . <EOS>\n",
      "--------------------\n",
      "zaangażowany był także m.in. z braku lub ograniczonym funkcjonowaniu instytucji interpretacji ogólnych w praktyce każdy\n",
      "--------------------\n",
      "oceny agencji oceny technologii medycznej . <EOS>\n",
      "--------------------\n"
     ]
    }
   ],
   "source": [
    "from sentence import TrigramSG, NonUniformSentenceGenerator\n",
    "\n",
    "long_sentences_to_get = 20\n",
    "long_sentence_length = 6\n",
    "\n",
    "nusg3 = TrigramSG(successors3, NonUniformSentenceGenerator)\n",
    "while long_sentences_to_get > 0:\n",
    "    sentence = nusg3.generate_sentence()\n",
    "    if len(sentence.split(' ')) >= long_sentence_length:\n",
    "        print(sentence)\n",
    "        print(20*'-')\n",
    "        long_sentences_to_get -= 1"
   ]
  },
  {
   "cell_type": "markdown",
   "metadata": {},
   "source": [
    "## Exercise 4"
   ]
  },
  {
   "cell_type": "markdown",
   "metadata": {},
   "source": [
    "#### sentence scoring"
   ]
  },
  {
   "cell_type": "code",
   "execution_count": 1,
   "metadata": {},
   "outputs": [],
   "source": [
    "from itertools import permutations\n",
    "\n",
    "\n",
    "def compute_score_of_pair(key, candidate, successors):\n",
    "    if key not in successors:\n",
    "        return 0\n",
    "    if len(successors[key]) == 0:\n",
    "        return 0\n",
    "\n",
    "    for score, successor in successors[key]:\n",
    "        if candidate == successor:\n",
    "            return score\n",
    "\n",
    "    return 0\n",
    "\n",
    "\n",
    "def compute_sentence_score(sentence, bigrams, trigrams):\n",
    "    score = 0\n",
    "    previous_word = ''\n",
    "    for i in range(len(sentence) - 1):\n",
    "        word1, word2 = sentence[i:i+2]\n",
    "\n",
    "        bigram_key = (word1, )\n",
    "        bigram_score = compute_score_of_pair(\n",
    "            bigram_key, word2, bigrams)\n",
    "\n",
    "        trigram_key = (previous_word, word1)\n",
    "        trigram_score = compute_score_of_pair(\n",
    "            trigram_key, word2, trigrams)\n",
    "\n",
    "        score += max(bigram_score, trigram_score)\n",
    "        previous_word = word1\n",
    "    return score\n",
    "\n",
    "\n",
    "def create_sentences(words, bigrams, trigrams, n=1):\n",
    "    perms = list(permutations(words))\n",
    "    scored = list(\n",
    "        map(lambda p: (p, compute_sentence_score(p, bigrams, trigrams)), perms))\n",
    "    return sorted(scored, key=lambda s: -s[1])[:n]"
   ]
  },
  {
   "cell_type": "code",
   "execution_count": 10,
   "metadata": {},
   "outputs": [],
   "source": [
    "sentences = [\n",
    "    'Judyta dała wczoraj Stefanowi czekoladki',\n",
    "    'Babuleńka miała dwa rogate koziołki',\n",
    "    'Wczoraj wieczorem spotkałem pewną piękną kobietę',\n",
    "    'Inauguracja pontyfikatu miała miejsce w trakcie mszy',\n",
    "    'Dodaj kilka zdań do powyższej trójki',\n",
    "    'Nie zakładamy niczego o słowach do uporządkowania'\n",
    "]"
   ]
  },
  {
   "cell_type": "markdown",
   "metadata": {},
   "source": [
    "#### default successors from bigram file"
   ]
  },
  {
   "cell_type": "code",
   "execution_count": 37,
   "metadata": {},
   "outputs": [
    {
     "name": "stdout",
     "output_type": "stream",
     "text": [
      "--------------------\n",
      "(('judyta', 'dała', 'wczoraj', 'stefanowi', 'czekoladki'), 0)\n",
      "(('judyta', 'dała', 'wczoraj', 'czekoladki', 'stefanowi'), 0)\n",
      "(('judyta', 'dała', 'stefanowi', 'wczoraj', 'czekoladki'), 0)\n",
      "(('judyta', 'dała', 'stefanowi', 'czekoladki', 'wczoraj'), 0)\n",
      "(('judyta', 'dała', 'czekoladki', 'wczoraj', 'stefanowi'), 0)\n",
      "--------------------\n",
      "(('babuleńka', 'miała', 'dwa', 'rogate', 'koziołki'), 182)\n",
      "(('babuleńka', 'miała', 'dwa', 'koziołki', 'rogate'), 182)\n",
      "(('babuleńka', 'rogate', 'miała', 'dwa', 'koziołki'), 182)\n",
      "(('babuleńka', 'rogate', 'koziołki', 'miała', 'dwa'), 182)\n",
      "(('babuleńka', 'koziołki', 'miała', 'dwa', 'rogate'), 182)\n",
      "--------------------\n",
      "(('wczoraj', 'wieczorem', 'spotkałem', 'pewną', 'piękną', 'kobietę'), 447)\n",
      "(('wczoraj', 'wieczorem', 'spotkałem', 'piękną', 'kobietę', 'pewną'), 447)\n",
      "(('wczoraj', 'wieczorem', 'pewną', 'spotkałem', 'piękną', 'kobietę'), 447)\n",
      "(('wczoraj', 'wieczorem', 'pewną', 'piękną', 'kobietę', 'spotkałem'), 447)\n",
      "(('wczoraj', 'wieczorem', 'piękną', 'kobietę', 'spotkałem', 'pewną'), 447)\n",
      "--------------------\n",
      "(('inauguracja', 'miała', 'miejsce', 'w', 'trakcie', 'mszy', 'pontyfikatu'), 165359)\n",
      "(('pontyfikatu', 'inauguracja', 'miała', 'miejsce', 'w', 'trakcie', 'mszy'), 165359)\n",
      "(('inauguracja', 'pontyfikatu', 'miała', 'miejsce', 'w', 'trakcie', 'mszy'), 165325)\n",
      "(('pontyfikatu', 'miała', 'miejsce', 'w', 'trakcie', 'mszy', 'inauguracja'), 165325)\n",
      "(('miała', 'miejsce', 'w', 'trakcie', 'mszy', 'inauguracja', 'pontyfikatu'), 165325)\n",
      "--------------------\n",
      "(('dodaj', 'do', 'powyższej', 'kilka', 'zdań', 'trójki'), 2118)\n",
      "(('dodaj', 'do', 'powyższej', 'trójki', 'kilka', 'zdań'), 2118)\n",
      "(('kilka', 'zdań', 'dodaj', 'do', 'powyższej', 'trójki'), 2118)\n",
      "(('kilka', 'zdań', 'trójki', 'dodaj', 'do', 'powyższej'), 2118)\n",
      "(('trójki', 'dodaj', 'do', 'powyższej', 'kilka', 'zdań'), 2118)\n",
      "--------------------\n",
      "(('zakładamy', 'słowach', 'o', 'nie', 'do', 'niczego', 'uporządkowania'), 26692)\n",
      "(('zakładamy', 'uporządkowania', 'słowach', 'o', 'nie', 'do', 'niczego'), 26692)\n",
      "(('słowach', 'o', 'nie', 'do', 'niczego', 'zakładamy', 'uporządkowania'), 26692)\n",
      "(('słowach', 'o', 'nie', 'do', 'niczego', 'uporządkowania', 'zakładamy'), 26692)\n",
      "(('uporządkowania', 'zakładamy', 'słowach', 'o', 'nie', 'do', 'niczego'), 26692)\n"
     ]
    }
   ],
   "source": [
    "for sentence in sentences:\n",
    "    words = sentence.lower().split(' ')\n",
    "    print(20*'-')\n",
    "    for res in create_sentences(words, successors2, successors3, 5):\n",
    "        print(res)"
   ]
  },
  {
   "cell_type": "markdown",
   "metadata": {},
   "source": [
    "#### custom bigrams"
   ]
  },
  {
   "cell_type": "code",
   "execution_count": 15,
   "metadata": {},
   "outputs": [],
   "source": [
    "from string import punctuation\n",
    "\n",
    "\n",
    "def remove_punctuation(text):\n",
    "    return text.translate(str.maketrans('', '', punctuation))\n",
    "\n",
    "\n",
    "def compute_bigrams(file_name):\n",
    "    bigrams = {}\n",
    "    with open(file_name, encoding='utf-8') as f:\n",
    "        for line in f.readlines():\n",
    "            words = remove_punctuation(line.rstrip('\\n').lower()).split(' ')\n",
    "            for i in range(len(words) - 1):\n",
    "                word1, word2 = list(map(lambda w: w.lower(), words[i:i+2]))\n",
    "                if word1 in bigrams:\n",
    "                    if word2 in bigrams[word1]:\n",
    "                        bigrams[word1][word2] += 1\n",
    "                    else:\n",
    "                        bigrams[word1][word2] = 1\n",
    "                else:\n",
    "                    bigrams[word1] = {word2: 1}\n",
    "\n",
    "    scored_bigrams = {}\n",
    "    for word in bigrams:\n",
    "        bigram_key = (word, )\n",
    "        scored_bigrams[bigram_key] = []\n",
    "        for successor in bigrams[word]:\n",
    "            score = bigrams[word][successor]\n",
    "            scored_bigrams[bigram_key].append((score, successor))\n",
    "\n",
    "    return scored_bigrams"
   ]
  },
  {
   "cell_type": "code",
   "execution_count": 18,
   "metadata": {},
   "outputs": [],
   "source": [
    "custom_bigrams = compute_bigrams('test.txt')"
   ]
  },
  {
   "cell_type": "code",
   "execution_count": 19,
   "metadata": {},
   "outputs": [
    {
     "name": "stdout",
     "output_type": "stream",
     "text": [
      "--------------------\n",
      "(('judyta', 'dała', 'wczoraj', 'stefanowi', 'czekoladki'), 0)\n",
      "(('judyta', 'dała', 'wczoraj', 'czekoladki', 'stefanowi'), 0)\n",
      "(('judyta', 'dała', 'stefanowi', 'wczoraj', 'czekoladki'), 0)\n",
      "(('judyta', 'dała', 'stefanowi', 'czekoladki', 'wczoraj'), 0)\n",
      "(('judyta', 'dała', 'czekoladki', 'wczoraj', 'stefanowi'), 0)\n",
      "--------------------\n",
      "(('babuleńka', 'miała', 'dwa', 'rogate', 'koziołki'), 4)\n",
      "(('babuleńka', 'miała', 'dwa', 'koziołki', 'rogate'), 3)\n",
      "(('miała', 'dwa', 'rogate', 'koziołki', 'babuleńka'), 3)\n",
      "(('dwa', 'rogate', 'koziołki', 'babuleńka', 'miała'), 3)\n",
      "(('rogate', 'babuleńka', 'miała', 'dwa', 'koziołki'), 3)\n",
      "--------------------\n",
      "(('wczoraj', 'wieczorem', 'spotkałem', 'pewną', 'piękną', 'kobietę'), 0)\n",
      "(('wczoraj', 'wieczorem', 'spotkałem', 'pewną', 'kobietę', 'piękną'), 0)\n",
      "(('wczoraj', 'wieczorem', 'spotkałem', 'piękną', 'pewną', 'kobietę'), 0)\n",
      "(('wczoraj', 'wieczorem', 'spotkałem', 'piękną', 'kobietę', 'pewną'), 0)\n",
      "(('wczoraj', 'wieczorem', 'spotkałem', 'kobietę', 'pewną', 'piękną'), 0)\n",
      "--------------------\n",
      "(('inauguracja', 'pontyfikatu', 'miała', 'miejsce', 'w', 'trakcie', 'mszy'), 0)\n",
      "(('inauguracja', 'pontyfikatu', 'miała', 'miejsce', 'w', 'mszy', 'trakcie'), 0)\n",
      "(('inauguracja', 'pontyfikatu', 'miała', 'miejsce', 'trakcie', 'w', 'mszy'), 0)\n",
      "(('inauguracja', 'pontyfikatu', 'miała', 'miejsce', 'trakcie', 'mszy', 'w'), 0)\n",
      "(('inauguracja', 'pontyfikatu', 'miała', 'miejsce', 'mszy', 'w', 'trakcie'), 0)\n",
      "--------------------\n",
      "(('dodaj', 'kilka', 'zdań', 'do', 'powyższej', 'trójki'), 0)\n",
      "(('dodaj', 'kilka', 'zdań', 'do', 'trójki', 'powyższej'), 0)\n",
      "(('dodaj', 'kilka', 'zdań', 'powyższej', 'do', 'trójki'), 0)\n",
      "(('dodaj', 'kilka', 'zdań', 'powyższej', 'trójki', 'do'), 0)\n",
      "(('dodaj', 'kilka', 'zdań', 'trójki', 'do', 'powyższej'), 0)\n",
      "--------------------\n",
      "(('nie', 'zakładamy', 'niczego', 'o', 'słowach', 'do', 'uporządkowania'), 0)\n",
      "(('nie', 'zakładamy', 'niczego', 'o', 'słowach', 'uporządkowania', 'do'), 0)\n",
      "(('nie', 'zakładamy', 'niczego', 'o', 'do', 'słowach', 'uporządkowania'), 0)\n",
      "(('nie', 'zakładamy', 'niczego', 'o', 'do', 'uporządkowania', 'słowach'), 0)\n",
      "(('nie', 'zakładamy', 'niczego', 'o', 'uporządkowania', 'słowach', 'do'), 0)\n"
     ]
    }
   ],
   "source": [
    "for sentence in sentences:\n",
    "    words = sentence.lower().split(' ')\n",
    "    print(20*'-')\n",
    "    for res in create_sentences(words, custom_bigrams, {}, 5):\n",
    "        print(res)"
   ]
  },
  {
   "cell_type": "markdown",
   "metadata": {},
   "source": [
    "## Zadanie 5"
   ]
  },
  {
   "cell_type": "code",
   "execution_count": 3,
   "metadata": {},
   "outputs": [],
   "source": [
    "def PUni(w, bigrams):\n",
    "    N = 4000000\n",
    "    bigram_key = (w,)\n",
    "    cnt = 0\n",
    "    if bigram_key in bigrams:\n",
    "        cnt = sum(list(map(lambda x: x[0], bigrams[bigram_key])))\n",
    "    p = (cnt + 1) / N\n",
    "    return p\n",
    "\n",
    "\n",
    "def PBi(w1, w2, bigrams):\n",
    "    p = 0\n",
    "    bigram_key = (w1,)\n",
    "    if bigram_key in bigrams:\n",
    "        cnt_w1 = 0\n",
    "        cnt_w1w2 = 0\n",
    "        for n, word in bigrams[bigram_key]:\n",
    "            cnt_w1 += n\n",
    "            if word == w2:\n",
    "                cnt_w1w2 += n\n",
    "        p = (cnt_w1w2 + 1) / cnt_w1\n",
    "    return p\n",
    "\n",
    "\n",
    "def PTri(w1, w2, w3, trigrams):\n",
    "    p = 0\n",
    "    trigram_key = (w1, w2)\n",
    "    if trigram_key in trigrams:\n",
    "        cnt_w1w2 = 0\n",
    "        cnt_w1w2w3 = 0\n",
    "        for n, word in trigrams[trigram_key]:\n",
    "            cnt_w1w2 += n\n",
    "            if word == w3:\n",
    "                cnt_w1w2w3 += n\n",
    "        p = (cnt_w1w2w3 + 1) / cnt_w1w2\n",
    "    return p\n",
    "\n",
    "\n",
    "def P(w1, w2, w3, bigrams, trigrams):\n",
    "    epsilon = 0.000001 # to prevent probability == 0 when neither of words can be found in bigrams/trigrams\n",
    "    l1, l2, l3 = 0.03, 0.11, 0.86\n",
    "     \n",
    "    pw3 = PUni(w3, bigrams) if w3 is not None else epsilon\n",
    "    pw2w3 = PBi(w2, w3, bigrams) if w2 is not None and w3 is not None else epsilon\n",
    "    pw1w2w3 = PTri(w1, w2, w3, trigrams) if w1 is not None and w2 is not None and w3 is not None else epsilon\n",
    "    \n",
    "    return l1 * pw3 + l2 * pw2w3 + l3 * pw1w2w3"
   ]
  },
  {
   "cell_type": "code",
   "execution_count": 4,
   "metadata": {},
   "outputs": [],
   "source": [
    "from itertools import permutations\n",
    "\n",
    "\n",
    "def compute_permutation_score(permutation, bigrams, trigrams):\n",
    "    p = P(None, None, permutation[0], bigrams, trigrams)\n",
    "    p *= P(None, permutation[1], permutation[0], bigrams, trigrams)\n",
    "    p *= P(permutation[2], permutation[1], permutation[0], bigrams, trigrams)\n",
    "    for i in range(2, len(permutation)):\n",
    "        p *= P(permutation[i], permutation[i-1], permutation[i-2], bigrams, trigrams)\n",
    "    return p\n",
    "\n",
    "\n",
    "def order_words(words, bigrams, trigrams, n=1):\n",
    "    perms = permutations(words)\n",
    "    sentences = list(map(lambda p: (p, compute_permutation_score(p, bigrams, trigrams)), perms))\n",
    "    return sorted(sentences, key=lambda x: x[1], reverse=True)[:n]"
   ]
  },
  {
   "cell_type": "code",
   "execution_count": 5,
   "metadata": {},
   "outputs": [],
   "source": [
    "def run_tests(sentences, bigrams, trigrams):\n",
    "    for sentence in sentences:\n",
    "        sentence = sentence.lower()\n",
    "        words = sentence.split(' ')\n",
    "        score = 0\n",
    "        for i, order in enumerate(order_words(words, bigrams, trigrams, 20)):\n",
    "            if ' '.join(order[0]) == sentence:\n",
    "                score = 1 / (i + 1)\n",
    "        print(sentence, ', score:', score)"
   ]
  },
  {
   "cell_type": "code",
   "execution_count": 6,
   "metadata": {},
   "outputs": [],
   "source": [
    "sentences = [\n",
    "'nasz przedmiot to przetwarzanie języka naturalnego',\n",
    "'jedną grupę prowadzi jakub michaliszyn',\n",
    "'wykładowcą jest paweł rychlikowski',\n",
    "'pan paweł prowadzi również dwie pozostałe grupy',\n",
    "# 'na stronie wykładu będą pojawiać się listy zadań',\n",
    "'będą to listy ćwiczeniowe i pracowniowe',\n",
    "'będą to listy pracowniowe i ćwiczeniowe',\n",
    "'mogą się pojawiać również dodatkowe aktywności',\n",
    "'te aktywności będą premiowane',\n",
    "'na przykłąd quizy na platformie zdalnej',\n",
    "'rozważamy też miniprojekty na temat wykładu',\n",
    "'zapowiadamy je z co najmniej tygodniowym wyprzedzeniem',\n",
    "'zadania są przeznaczone na konkretne zajęcia',\n",
    "'ćwiczenia zaczynają się w sali seminaryjnej',\n",
    "'jest tak tylko w trybie stacjonarnym',\n",
    "'pozostałe zajęcia domyślnie zaczynają się w pracowni',\n",
    "'pracownia polega na indywidualnych konsutlacjach',\n",
    "'rozmawiamy tam na temat rozwiązań',\n",
    "'podczas ćwiczeń studenci przedstawiają pisemne rozwiązania zadań',\n",
    "'tryb zajęć zależy od sytuacji epidemiologicznej',\n",
    "'zależy też od wymogów formalnych',\n",
    "'zależy również od decyzji władz',\n",
    "'uwzględnia się możliwości studentów i prowadzących',\n",
    "'może się on zmieniać w trakcie semestru',\n",
    "'przed ćwiczeniami studenci dostarczają prowadzącemu deklaracje',\n",
    "'zawiera ona numery zadań',\n",
    "'studenci pokazują rozwiązania przy tablicy',\n",
    "'jest źle, jeżeli student nie umie',\n",
    "'dodatkowo coś mu się odejmuje',\n",
    "'zadania można oddawać podczas zajęć na pracowni',\n",
    "'zadania należy rozwiązywać samodzielnie',\n",
    "'prowadzący ocenia poprawność rozwiązania',\n",
    "'czasem mogą pojawić się informacje o regułach',\n",
    "'na każdej liście podany jest termin',\n",
    "'za poprawne rozwiązanie dostajemy dużo punktów',\n",
    "'spóźnione zadania nie będą sprawdzane',\n",
    "'pierwsza lista ma dłuższy termin',\n",
    "'zasada musi być zmodyfikowana pod koniec semestru',\n",
    "'w przypadku choroby studenta obowiązują inne zasady',\n",
    "'w przypadku kwarantanny studenta obowiązują inne zasady',\n",
    "'w przypadku izolacji studenta obowiązują inne zasady',\n",
    "'możliwe jest oddawanie zaległych zadań bez straty punktowej',\n",
    "'ocenę wystawia się zgodnie z tabelką',\n",
    "'50 punktów daje ocenę dostateczną',\n",
    "'120 punktów daje ocenę bardzo dobrą',\n",
    "'powyższa tabelka zostanie przeskalowana',\n",
    "'może też zostać przeskalowana z innych powodów',\n",
    "'w pierwszym tygodniu zajęć coś podamy',\n",
    "'dodatkowe zasady umożliwiające zwolnienie z egzaminu',\n",
    "'dotyczą osób z dużą liczbą punktów',\n",
    "'można rozwiązać też zadanie specjalne',\n",
    "'forma egzaminu zależy od wielu czynników',\n",
    "'należy się spodziewać różnych wariantów',\n",
    "'nie wykluczamy indywidualnego egzaminu ustnego',\n",
    "'jaś i małgosia też są tutaj',\n",
    "'puchatek z prosiaczkiem nie przybędą',\n",
    "'raz kotek był chory i odpoczywał',\n",
    "'raz kotek był chory i leżał w łóżeczku',\n",
    "'definicja relacji równoważności nie jest trudna',\n",
    "'hipoteza continuum jest niezależna od aksjomatów',\n",
    "'teoria mnogości daje wiele radości',\n",
    "'programowanie nie jest szczególnie trudne',\n",
    "'rachunek prawdopodobieństwa przydaje się w życiu',\n",
    "'rycerze osaczyli smoka zanim strawił księżniczkę',\n",
    "'chyba należy już przestać wymyślać zdania',\n",
    "]"
   ]
  },
  {
   "cell_type": "code",
   "execution_count": 7,
   "metadata": {},
   "outputs": [
    {
     "name": "stdout",
     "output_type": "stream",
     "text": [
      "nasz przedmiot to przetwarzanie języka naturalnego , score: 0\n",
      "jedną grupę prowadzi jakub michaliszyn , score: 0.1\n",
      "wykładowcą jest paweł rychlikowski , score: 0.08333333333333333\n",
      "pan paweł prowadzi również dwie pozostałe grupy , score: 0\n",
      "będą to listy ćwiczeniowe i pracowniowe , score: 0\n",
      "będą to listy pracowniowe i ćwiczeniowe , score: 0\n",
      "mogą się pojawiać również dodatkowe aktywności , score: 0\n",
      "te aktywności będą premiowane , score: 0.125\n",
      "na przykłąd quizy na platformie zdalnej , score: 0\n",
      "rozważamy też miniprojekty na temat wykładu , score: 0\n",
      "zapowiadamy je z co najmniej tygodniowym wyprzedzeniem , score: 0\n",
      "zadania są przeznaczone na konkretne zajęcia , score: 0\n",
      "ćwiczenia zaczynają się w sali seminaryjnej , score: 0\n",
      "jest tak tylko w trybie stacjonarnym , score: 0\n",
      "pozostałe zajęcia domyślnie zaczynają się w pracowni , score: 0\n",
      "pracownia polega na indywidualnych konsutlacjach , score: 0\n",
      "rozmawiamy tam na temat rozwiązań , score: 0\n",
      "podczas ćwiczeń studenci przedstawiają pisemne rozwiązania zadań , score: 0\n",
      "tryb zajęć zależy od sytuacji epidemiologicznej , score: 0\n",
      "zależy też od wymogów formalnych , score: 0\n",
      "zależy również od decyzji władz , score: 0\n",
      "uwzględnia się możliwości studentów i prowadzących , score: 0\n",
      "może się on zmieniać w trakcie semestru , score: 0\n",
      "przed ćwiczeniami studenci dostarczają prowadzącemu deklaracje , score: 0\n",
      "zawiera ona numery zadań , score: 0.09090909090909091\n",
      "studenci pokazują rozwiązania przy tablicy , score: 0\n",
      "jest źle, jeżeli student nie umie , score: 0\n",
      "dodatkowo coś mu się odejmuje , score: 0\n",
      "zadania można oddawać podczas zajęć na pracowni , score: 0\n",
      "zadania należy rozwiązywać samodzielnie , score: 0.09090909090909091\n",
      "prowadzący ocenia poprawność rozwiązania , score: 0.06666666666666667\n",
      "czasem mogą pojawić się informacje o regułach , score: 0\n",
      "na każdej liście podany jest termin , score: 0.05\n",
      "za poprawne rozwiązanie dostajemy dużo punktów , score: 0\n",
      "spóźnione zadania nie będą sprawdzane , score: 0\n",
      "pierwsza lista ma dłuższy termin , score: 0\n",
      "zasada musi być zmodyfikowana pod koniec semestru , score: 0\n"
     ]
    },
    {
     "ename": "KeyboardInterrupt",
     "evalue": "",
     "output_type": "error",
     "traceback": [
      "\u001b[1;31m---------------------------------------------------------------------------\u001b[0m",
      "\u001b[1;31mKeyboardInterrupt\u001b[0m                         Traceback (most recent call last)",
      "\u001b[1;32m<ipython-input-7-b3da3e053d62>\u001b[0m in \u001b[0;36m<module>\u001b[1;34m\u001b[0m\n\u001b[1;32m----> 1\u001b[1;33m \u001b[0mrun_tests\u001b[0m\u001b[1;33m(\u001b[0m\u001b[0msentences\u001b[0m\u001b[1;33m,\u001b[0m \u001b[0msuccessors2\u001b[0m\u001b[1;33m,\u001b[0m \u001b[0msuccessors3\u001b[0m\u001b[1;33m)\u001b[0m\u001b[1;33m\u001b[0m\u001b[1;33m\u001b[0m\u001b[0m\n\u001b[0m",
      "\u001b[1;32m<ipython-input-5-d76269fff450>\u001b[0m in \u001b[0;36mrun_tests\u001b[1;34m(sentences, bigrams, trigrams)\u001b[0m\n\u001b[0;32m      4\u001b[0m         \u001b[0mwords\u001b[0m \u001b[1;33m=\u001b[0m \u001b[0msentence\u001b[0m\u001b[1;33m.\u001b[0m\u001b[0msplit\u001b[0m\u001b[1;33m(\u001b[0m\u001b[1;34m' '\u001b[0m\u001b[1;33m)\u001b[0m\u001b[1;33m\u001b[0m\u001b[1;33m\u001b[0m\u001b[0m\n\u001b[0;32m      5\u001b[0m         \u001b[0mscore\u001b[0m \u001b[1;33m=\u001b[0m \u001b[1;36m0\u001b[0m\u001b[1;33m\u001b[0m\u001b[1;33m\u001b[0m\u001b[0m\n\u001b[1;32m----> 6\u001b[1;33m         \u001b[1;32mfor\u001b[0m \u001b[0mi\u001b[0m\u001b[1;33m,\u001b[0m \u001b[0morder\u001b[0m \u001b[1;32min\u001b[0m \u001b[0menumerate\u001b[0m\u001b[1;33m(\u001b[0m\u001b[0morder_words\u001b[0m\u001b[1;33m(\u001b[0m\u001b[0mwords\u001b[0m\u001b[1;33m,\u001b[0m \u001b[0mbigrams\u001b[0m\u001b[1;33m,\u001b[0m \u001b[0mtrigrams\u001b[0m\u001b[1;33m,\u001b[0m \u001b[1;36m20\u001b[0m\u001b[1;33m)\u001b[0m\u001b[1;33m)\u001b[0m\u001b[1;33m:\u001b[0m\u001b[1;33m\u001b[0m\u001b[1;33m\u001b[0m\u001b[0m\n\u001b[0m\u001b[0;32m      7\u001b[0m             \u001b[1;32mif\u001b[0m \u001b[1;34m' '\u001b[0m\u001b[1;33m.\u001b[0m\u001b[0mjoin\u001b[0m\u001b[1;33m(\u001b[0m\u001b[0morder\u001b[0m\u001b[1;33m[\u001b[0m\u001b[1;36m0\u001b[0m\u001b[1;33m]\u001b[0m\u001b[1;33m)\u001b[0m \u001b[1;33m==\u001b[0m \u001b[0msentence\u001b[0m\u001b[1;33m:\u001b[0m\u001b[1;33m\u001b[0m\u001b[1;33m\u001b[0m\u001b[0m\n\u001b[0;32m      8\u001b[0m                 \u001b[0mscore\u001b[0m \u001b[1;33m=\u001b[0m \u001b[1;36m1\u001b[0m \u001b[1;33m/\u001b[0m \u001b[1;33m(\u001b[0m\u001b[0mi\u001b[0m \u001b[1;33m+\u001b[0m \u001b[1;36m1\u001b[0m\u001b[1;33m)\u001b[0m\u001b[1;33m\u001b[0m\u001b[1;33m\u001b[0m\u001b[0m\n",
      "\u001b[1;32m<ipython-input-4-390a42362551>\u001b[0m in \u001b[0;36morder_words\u001b[1;34m(words, bigrams, trigrams, n)\u001b[0m\n\u001b[0;32m     13\u001b[0m \u001b[1;32mdef\u001b[0m \u001b[0morder_words\u001b[0m\u001b[1;33m(\u001b[0m\u001b[0mwords\u001b[0m\u001b[1;33m,\u001b[0m \u001b[0mbigrams\u001b[0m\u001b[1;33m,\u001b[0m \u001b[0mtrigrams\u001b[0m\u001b[1;33m,\u001b[0m \u001b[0mn\u001b[0m\u001b[1;33m=\u001b[0m\u001b[1;36m1\u001b[0m\u001b[1;33m)\u001b[0m\u001b[1;33m:\u001b[0m\u001b[1;33m\u001b[0m\u001b[1;33m\u001b[0m\u001b[0m\n\u001b[0;32m     14\u001b[0m     \u001b[0mperms\u001b[0m \u001b[1;33m=\u001b[0m \u001b[0mpermutations\u001b[0m\u001b[1;33m(\u001b[0m\u001b[0mwords\u001b[0m\u001b[1;33m)\u001b[0m\u001b[1;33m\u001b[0m\u001b[1;33m\u001b[0m\u001b[0m\n\u001b[1;32m---> 15\u001b[1;33m     \u001b[0msentences\u001b[0m \u001b[1;33m=\u001b[0m \u001b[0mlist\u001b[0m\u001b[1;33m(\u001b[0m\u001b[0mmap\u001b[0m\u001b[1;33m(\u001b[0m\u001b[1;32mlambda\u001b[0m \u001b[0mp\u001b[0m\u001b[1;33m:\u001b[0m \u001b[1;33m(\u001b[0m\u001b[0mp\u001b[0m\u001b[1;33m,\u001b[0m \u001b[0mcompute_permutation_score\u001b[0m\u001b[1;33m(\u001b[0m\u001b[0mp\u001b[0m\u001b[1;33m,\u001b[0m \u001b[0mbigrams\u001b[0m\u001b[1;33m,\u001b[0m \u001b[0mtrigrams\u001b[0m\u001b[1;33m)\u001b[0m\u001b[1;33m)\u001b[0m\u001b[1;33m,\u001b[0m \u001b[0mperms\u001b[0m\u001b[1;33m)\u001b[0m\u001b[1;33m)\u001b[0m\u001b[1;33m\u001b[0m\u001b[1;33m\u001b[0m\u001b[0m\n\u001b[0m\u001b[0;32m     16\u001b[0m     \u001b[1;32mreturn\u001b[0m \u001b[0msorted\u001b[0m\u001b[1;33m(\u001b[0m\u001b[0msentences\u001b[0m\u001b[1;33m,\u001b[0m \u001b[0mkey\u001b[0m\u001b[1;33m=\u001b[0m\u001b[1;32mlambda\u001b[0m \u001b[0mx\u001b[0m\u001b[1;33m:\u001b[0m \u001b[0mx\u001b[0m\u001b[1;33m[\u001b[0m\u001b[1;36m1\u001b[0m\u001b[1;33m]\u001b[0m\u001b[1;33m,\u001b[0m \u001b[0mreverse\u001b[0m\u001b[1;33m=\u001b[0m\u001b[1;32mTrue\u001b[0m\u001b[1;33m)\u001b[0m\u001b[1;33m[\u001b[0m\u001b[1;33m:\u001b[0m\u001b[0mn\u001b[0m\u001b[1;33m]\u001b[0m\u001b[1;33m\u001b[0m\u001b[1;33m\u001b[0m\u001b[0m\n",
      "\u001b[1;32m<ipython-input-4-390a42362551>\u001b[0m in \u001b[0;36m<lambda>\u001b[1;34m(p)\u001b[0m\n\u001b[0;32m     13\u001b[0m \u001b[1;32mdef\u001b[0m \u001b[0morder_words\u001b[0m\u001b[1;33m(\u001b[0m\u001b[0mwords\u001b[0m\u001b[1;33m,\u001b[0m \u001b[0mbigrams\u001b[0m\u001b[1;33m,\u001b[0m \u001b[0mtrigrams\u001b[0m\u001b[1;33m,\u001b[0m \u001b[0mn\u001b[0m\u001b[1;33m=\u001b[0m\u001b[1;36m1\u001b[0m\u001b[1;33m)\u001b[0m\u001b[1;33m:\u001b[0m\u001b[1;33m\u001b[0m\u001b[1;33m\u001b[0m\u001b[0m\n\u001b[0;32m     14\u001b[0m     \u001b[0mperms\u001b[0m \u001b[1;33m=\u001b[0m \u001b[0mpermutations\u001b[0m\u001b[1;33m(\u001b[0m\u001b[0mwords\u001b[0m\u001b[1;33m)\u001b[0m\u001b[1;33m\u001b[0m\u001b[1;33m\u001b[0m\u001b[0m\n\u001b[1;32m---> 15\u001b[1;33m     \u001b[0msentences\u001b[0m \u001b[1;33m=\u001b[0m \u001b[0mlist\u001b[0m\u001b[1;33m(\u001b[0m\u001b[0mmap\u001b[0m\u001b[1;33m(\u001b[0m\u001b[1;32mlambda\u001b[0m \u001b[0mp\u001b[0m\u001b[1;33m:\u001b[0m \u001b[1;33m(\u001b[0m\u001b[0mp\u001b[0m\u001b[1;33m,\u001b[0m \u001b[0mcompute_permutation_score\u001b[0m\u001b[1;33m(\u001b[0m\u001b[0mp\u001b[0m\u001b[1;33m,\u001b[0m \u001b[0mbigrams\u001b[0m\u001b[1;33m,\u001b[0m \u001b[0mtrigrams\u001b[0m\u001b[1;33m)\u001b[0m\u001b[1;33m)\u001b[0m\u001b[1;33m,\u001b[0m \u001b[0mperms\u001b[0m\u001b[1;33m)\u001b[0m\u001b[1;33m)\u001b[0m\u001b[1;33m\u001b[0m\u001b[1;33m\u001b[0m\u001b[0m\n\u001b[0m\u001b[0;32m     16\u001b[0m     \u001b[1;32mreturn\u001b[0m \u001b[0msorted\u001b[0m\u001b[1;33m(\u001b[0m\u001b[0msentences\u001b[0m\u001b[1;33m,\u001b[0m \u001b[0mkey\u001b[0m\u001b[1;33m=\u001b[0m\u001b[1;32mlambda\u001b[0m \u001b[0mx\u001b[0m\u001b[1;33m:\u001b[0m \u001b[0mx\u001b[0m\u001b[1;33m[\u001b[0m\u001b[1;36m1\u001b[0m\u001b[1;33m]\u001b[0m\u001b[1;33m,\u001b[0m \u001b[0mreverse\u001b[0m\u001b[1;33m=\u001b[0m\u001b[1;32mTrue\u001b[0m\u001b[1;33m)\u001b[0m\u001b[1;33m[\u001b[0m\u001b[1;33m:\u001b[0m\u001b[0mn\u001b[0m\u001b[1;33m]\u001b[0m\u001b[1;33m\u001b[0m\u001b[1;33m\u001b[0m\u001b[0m\n",
      "\u001b[1;32m<ipython-input-4-390a42362551>\u001b[0m in \u001b[0;36mcompute_permutation_score\u001b[1;34m(permutation, bigrams, trigrams)\u001b[0m\n\u001b[0;32m      5\u001b[0m     \u001b[0mp\u001b[0m \u001b[1;33m=\u001b[0m \u001b[0mP\u001b[0m\u001b[1;33m(\u001b[0m\u001b[1;32mNone\u001b[0m\u001b[1;33m,\u001b[0m \u001b[1;32mNone\u001b[0m\u001b[1;33m,\u001b[0m \u001b[0mpermutation\u001b[0m\u001b[1;33m[\u001b[0m\u001b[1;36m0\u001b[0m\u001b[1;33m]\u001b[0m\u001b[1;33m,\u001b[0m \u001b[0mbigrams\u001b[0m\u001b[1;33m,\u001b[0m \u001b[0mtrigrams\u001b[0m\u001b[1;33m)\u001b[0m\u001b[1;33m\u001b[0m\u001b[1;33m\u001b[0m\u001b[0m\n\u001b[0;32m      6\u001b[0m     \u001b[0mp\u001b[0m \u001b[1;33m*=\u001b[0m \u001b[0mP\u001b[0m\u001b[1;33m(\u001b[0m\u001b[1;32mNone\u001b[0m\u001b[1;33m,\u001b[0m \u001b[0mpermutation\u001b[0m\u001b[1;33m[\u001b[0m\u001b[1;36m1\u001b[0m\u001b[1;33m]\u001b[0m\u001b[1;33m,\u001b[0m \u001b[0mpermutation\u001b[0m\u001b[1;33m[\u001b[0m\u001b[1;36m0\u001b[0m\u001b[1;33m]\u001b[0m\u001b[1;33m,\u001b[0m \u001b[0mbigrams\u001b[0m\u001b[1;33m,\u001b[0m \u001b[0mtrigrams\u001b[0m\u001b[1;33m)\u001b[0m\u001b[1;33m\u001b[0m\u001b[1;33m\u001b[0m\u001b[0m\n\u001b[1;32m----> 7\u001b[1;33m     \u001b[0mp\u001b[0m \u001b[1;33m*=\u001b[0m \u001b[0mP\u001b[0m\u001b[1;33m(\u001b[0m\u001b[0mpermutation\u001b[0m\u001b[1;33m[\u001b[0m\u001b[1;36m2\u001b[0m\u001b[1;33m]\u001b[0m\u001b[1;33m,\u001b[0m \u001b[0mpermutation\u001b[0m\u001b[1;33m[\u001b[0m\u001b[1;36m1\u001b[0m\u001b[1;33m]\u001b[0m\u001b[1;33m,\u001b[0m \u001b[0mpermutation\u001b[0m\u001b[1;33m[\u001b[0m\u001b[1;36m0\u001b[0m\u001b[1;33m]\u001b[0m\u001b[1;33m,\u001b[0m \u001b[0mbigrams\u001b[0m\u001b[1;33m,\u001b[0m \u001b[0mtrigrams\u001b[0m\u001b[1;33m)\u001b[0m\u001b[1;33m\u001b[0m\u001b[1;33m\u001b[0m\u001b[0m\n\u001b[0m\u001b[0;32m      8\u001b[0m     \u001b[1;32mfor\u001b[0m \u001b[0mi\u001b[0m \u001b[1;32min\u001b[0m \u001b[0mrange\u001b[0m\u001b[1;33m(\u001b[0m\u001b[1;36m2\u001b[0m\u001b[1;33m,\u001b[0m \u001b[0mlen\u001b[0m\u001b[1;33m(\u001b[0m\u001b[0mpermutation\u001b[0m\u001b[1;33m)\u001b[0m\u001b[1;33m)\u001b[0m\u001b[1;33m:\u001b[0m\u001b[1;33m\u001b[0m\u001b[1;33m\u001b[0m\u001b[0m\n\u001b[0;32m      9\u001b[0m         \u001b[0mp\u001b[0m \u001b[1;33m*=\u001b[0m \u001b[0mP\u001b[0m\u001b[1;33m(\u001b[0m\u001b[0mpermutation\u001b[0m\u001b[1;33m[\u001b[0m\u001b[0mi\u001b[0m\u001b[1;33m]\u001b[0m\u001b[1;33m,\u001b[0m \u001b[0mpermutation\u001b[0m\u001b[1;33m[\u001b[0m\u001b[0mi\u001b[0m\u001b[1;33m-\u001b[0m\u001b[1;36m1\u001b[0m\u001b[1;33m]\u001b[0m\u001b[1;33m,\u001b[0m \u001b[0mpermutation\u001b[0m\u001b[1;33m[\u001b[0m\u001b[0mi\u001b[0m\u001b[1;33m-\u001b[0m\u001b[1;36m2\u001b[0m\u001b[1;33m]\u001b[0m\u001b[1;33m,\u001b[0m \u001b[0mbigrams\u001b[0m\u001b[1;33m,\u001b[0m \u001b[0mtrigrams\u001b[0m\u001b[1;33m)\u001b[0m\u001b[1;33m\u001b[0m\u001b[1;33m\u001b[0m\u001b[0m\n",
      "\u001b[1;32m<ipython-input-3-a74e6de3296b>\u001b[0m in \u001b[0;36mP\u001b[1;34m(w1, w2, w3, bigrams, trigrams)\u001b[0m\n\u001b[0;32m     41\u001b[0m     \u001b[0ml1\u001b[0m\u001b[1;33m,\u001b[0m \u001b[0ml2\u001b[0m\u001b[1;33m,\u001b[0m \u001b[0ml3\u001b[0m \u001b[1;33m=\u001b[0m \u001b[1;36m0.03\u001b[0m\u001b[1;33m,\u001b[0m \u001b[1;36m0.11\u001b[0m\u001b[1;33m,\u001b[0m \u001b[1;36m0.86\u001b[0m\u001b[1;33m\u001b[0m\u001b[1;33m\u001b[0m\u001b[0m\n\u001b[0;32m     42\u001b[0m \u001b[1;33m\u001b[0m\u001b[0m\n\u001b[1;32m---> 43\u001b[1;33m     \u001b[0mpw3\u001b[0m \u001b[1;33m=\u001b[0m \u001b[0mPUni\u001b[0m\u001b[1;33m(\u001b[0m\u001b[0mw3\u001b[0m\u001b[1;33m,\u001b[0m \u001b[0mbigrams\u001b[0m\u001b[1;33m)\u001b[0m \u001b[1;32mif\u001b[0m \u001b[0mw3\u001b[0m \u001b[1;32mis\u001b[0m \u001b[1;32mnot\u001b[0m \u001b[1;32mNone\u001b[0m \u001b[1;32melse\u001b[0m \u001b[0mepsilon\u001b[0m\u001b[1;33m\u001b[0m\u001b[1;33m\u001b[0m\u001b[0m\n\u001b[0m\u001b[0;32m     44\u001b[0m     \u001b[0mpw2w3\u001b[0m \u001b[1;33m=\u001b[0m \u001b[0mPBi\u001b[0m\u001b[1;33m(\u001b[0m\u001b[0mw2\u001b[0m\u001b[1;33m,\u001b[0m \u001b[0mw3\u001b[0m\u001b[1;33m,\u001b[0m \u001b[0mbigrams\u001b[0m\u001b[1;33m)\u001b[0m \u001b[1;32mif\u001b[0m \u001b[0mw2\u001b[0m \u001b[1;32mis\u001b[0m \u001b[1;32mnot\u001b[0m \u001b[1;32mNone\u001b[0m \u001b[1;32mand\u001b[0m \u001b[0mw3\u001b[0m \u001b[1;32mis\u001b[0m \u001b[1;32mnot\u001b[0m \u001b[1;32mNone\u001b[0m \u001b[1;32melse\u001b[0m \u001b[0mepsilon\u001b[0m\u001b[1;33m\u001b[0m\u001b[1;33m\u001b[0m\u001b[0m\n\u001b[0;32m     45\u001b[0m     \u001b[0mpw1w2w3\u001b[0m \u001b[1;33m=\u001b[0m \u001b[0mPTri\u001b[0m\u001b[1;33m(\u001b[0m\u001b[0mw1\u001b[0m\u001b[1;33m,\u001b[0m \u001b[0mw2\u001b[0m\u001b[1;33m,\u001b[0m \u001b[0mw3\u001b[0m\u001b[1;33m,\u001b[0m \u001b[0mtrigrams\u001b[0m\u001b[1;33m)\u001b[0m \u001b[1;32mif\u001b[0m \u001b[0mw1\u001b[0m \u001b[1;32mis\u001b[0m \u001b[1;32mnot\u001b[0m \u001b[1;32mNone\u001b[0m \u001b[1;32mand\u001b[0m \u001b[0mw2\u001b[0m \u001b[1;32mis\u001b[0m \u001b[1;32mnot\u001b[0m \u001b[1;32mNone\u001b[0m \u001b[1;32mand\u001b[0m \u001b[0mw3\u001b[0m \u001b[1;32mis\u001b[0m \u001b[1;32mnot\u001b[0m \u001b[1;32mNone\u001b[0m \u001b[1;32melse\u001b[0m \u001b[0mepsilon\u001b[0m\u001b[1;33m\u001b[0m\u001b[1;33m\u001b[0m\u001b[0m\n",
      "\u001b[1;32m<ipython-input-3-a74e6de3296b>\u001b[0m in \u001b[0;36mPUni\u001b[1;34m(w, bigrams)\u001b[0m\n\u001b[0;32m      4\u001b[0m     \u001b[0mcnt\u001b[0m \u001b[1;33m=\u001b[0m \u001b[1;36m0\u001b[0m\u001b[1;33m\u001b[0m\u001b[1;33m\u001b[0m\u001b[0m\n\u001b[0;32m      5\u001b[0m     \u001b[1;32mif\u001b[0m \u001b[0mbigram_key\u001b[0m \u001b[1;32min\u001b[0m \u001b[0mbigrams\u001b[0m\u001b[1;33m:\u001b[0m\u001b[1;33m\u001b[0m\u001b[1;33m\u001b[0m\u001b[0m\n\u001b[1;32m----> 6\u001b[1;33m         \u001b[0mcnt\u001b[0m \u001b[1;33m=\u001b[0m \u001b[0msum\u001b[0m\u001b[1;33m(\u001b[0m\u001b[0mlist\u001b[0m\u001b[1;33m(\u001b[0m\u001b[0mmap\u001b[0m\u001b[1;33m(\u001b[0m\u001b[1;32mlambda\u001b[0m \u001b[0mx\u001b[0m\u001b[1;33m:\u001b[0m \u001b[0mx\u001b[0m\u001b[1;33m[\u001b[0m\u001b[1;36m0\u001b[0m\u001b[1;33m]\u001b[0m\u001b[1;33m,\u001b[0m \u001b[0mbigrams\u001b[0m\u001b[1;33m[\u001b[0m\u001b[0mbigram_key\u001b[0m\u001b[1;33m]\u001b[0m\u001b[1;33m)\u001b[0m\u001b[1;33m)\u001b[0m\u001b[1;33m)\u001b[0m\u001b[1;33m\u001b[0m\u001b[1;33m\u001b[0m\u001b[0m\n\u001b[0m\u001b[0;32m      7\u001b[0m     \u001b[0mp\u001b[0m \u001b[1;33m=\u001b[0m \u001b[1;33m(\u001b[0m\u001b[0mcnt\u001b[0m \u001b[1;33m+\u001b[0m \u001b[1;36m1\u001b[0m\u001b[1;33m)\u001b[0m \u001b[1;33m/\u001b[0m \u001b[0mN\u001b[0m\u001b[1;33m\u001b[0m\u001b[1;33m\u001b[0m\u001b[0m\n\u001b[0;32m      8\u001b[0m     \u001b[1;32mreturn\u001b[0m \u001b[0mp\u001b[0m\u001b[1;33m\u001b[0m\u001b[1;33m\u001b[0m\u001b[0m\n",
      "\u001b[1;32m<ipython-input-3-a74e6de3296b>\u001b[0m in \u001b[0;36m<lambda>\u001b[1;34m(x)\u001b[0m\n\u001b[0;32m      4\u001b[0m     \u001b[0mcnt\u001b[0m \u001b[1;33m=\u001b[0m \u001b[1;36m0\u001b[0m\u001b[1;33m\u001b[0m\u001b[1;33m\u001b[0m\u001b[0m\n\u001b[0;32m      5\u001b[0m     \u001b[1;32mif\u001b[0m \u001b[0mbigram_key\u001b[0m \u001b[1;32min\u001b[0m \u001b[0mbigrams\u001b[0m\u001b[1;33m:\u001b[0m\u001b[1;33m\u001b[0m\u001b[1;33m\u001b[0m\u001b[0m\n\u001b[1;32m----> 6\u001b[1;33m         \u001b[0mcnt\u001b[0m \u001b[1;33m=\u001b[0m \u001b[0msum\u001b[0m\u001b[1;33m(\u001b[0m\u001b[0mlist\u001b[0m\u001b[1;33m(\u001b[0m\u001b[0mmap\u001b[0m\u001b[1;33m(\u001b[0m\u001b[1;32mlambda\u001b[0m \u001b[0mx\u001b[0m\u001b[1;33m:\u001b[0m \u001b[0mx\u001b[0m\u001b[1;33m[\u001b[0m\u001b[1;36m0\u001b[0m\u001b[1;33m]\u001b[0m\u001b[1;33m,\u001b[0m \u001b[0mbigrams\u001b[0m\u001b[1;33m[\u001b[0m\u001b[0mbigram_key\u001b[0m\u001b[1;33m]\u001b[0m\u001b[1;33m)\u001b[0m\u001b[1;33m)\u001b[0m\u001b[1;33m)\u001b[0m\u001b[1;33m\u001b[0m\u001b[1;33m\u001b[0m\u001b[0m\n\u001b[0m\u001b[0;32m      7\u001b[0m     \u001b[0mp\u001b[0m \u001b[1;33m=\u001b[0m \u001b[1;33m(\u001b[0m\u001b[0mcnt\u001b[0m \u001b[1;33m+\u001b[0m \u001b[1;36m1\u001b[0m\u001b[1;33m)\u001b[0m \u001b[1;33m/\u001b[0m \u001b[0mN\u001b[0m\u001b[1;33m\u001b[0m\u001b[1;33m\u001b[0m\u001b[0m\n\u001b[0;32m      8\u001b[0m     \u001b[1;32mreturn\u001b[0m \u001b[0mp\u001b[0m\u001b[1;33m\u001b[0m\u001b[1;33m\u001b[0m\u001b[0m\n",
      "\u001b[1;31mKeyboardInterrupt\u001b[0m: "
     ]
    }
   ],
   "source": [
    "run_tests(sentences, successors2, successors3)"
   ]
  },
  {
   "cell_type": "code",
   "execution_count": null,
   "metadata": {},
   "outputs": [],
   "source": []
  }
 ],
 "metadata": {
  "kernelspec": {
   "display_name": "Python 3",
   "language": "python",
   "name": "python3"
  },
  "language_info": {
   "codemirror_mode": {
    "name": "ipython",
    "version": 3
   },
   "file_extension": ".py",
   "mimetype": "text/x-python",
   "name": "python",
   "nbconvert_exporter": "python",
   "pygments_lexer": "ipython3",
   "version": "3.8.3"
  }
 },
 "nbformat": 4,
 "nbformat_minor": 4
}
