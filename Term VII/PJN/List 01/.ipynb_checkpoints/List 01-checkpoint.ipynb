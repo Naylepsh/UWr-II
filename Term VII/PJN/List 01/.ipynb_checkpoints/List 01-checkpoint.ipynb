{
 "cells": [
  {
   "cell_type": "markdown",
   "metadata": {},
   "source": [
    "## Gather words"
   ]
  },
  {
   "cell_type": "markdown",
   "metadata": {},
   "source": [
    "## Exercise 1"
   ]
  },
  {
   "cell_type": "code",
   "execution_count": 1,
   "metadata": {},
   "outputs": [
    {
     "name": "stdout",
     "output_type": "stream",
     "text": [
      "Processed 10% of the file contents...\n",
      "Processed 20% of the file contents...\n",
      "Processed 30% of the file contents...\n",
      "Processed 40% of the file contents...\n",
      "Processed 50% of the file contents...\n",
      "Processed 60% of the file contents...\n",
      "Processed 70% of the file contents...\n",
      "Processed 80% of the file contents...\n",
      "Processed 90% of the file contents...\n",
      "Processed 100% of the file contents...\n"
     ]
    }
   ],
   "source": [
    "from gatherer import gather_words_from_file\n",
    "\n",
    "words = gather_words_from_file(filename='polish_corpora.txt', lines_to_read=500000)"
   ]
  },
  {
   "cell_type": "markdown",
   "metadata": {},
   "source": [
    "### a)"
   ]
  },
  {
   "cell_type": "code",
   "execution_count": 2,
   "metadata": {},
   "outputs": [],
   "source": [
    "def get_score(tokenization_attempt, proper_tokenization):\n",
    "    score = 0\n",
    "    for token in tokenization_attempt:\n",
    "        if token in proper_tokenization:\n",
    "            score +=1\n",
    "    return score / len(proper_tokenization)"
   ]
  },
  {
   "cell_type": "code",
   "execution_count": 6,
   "metadata": {},
   "outputs": [
    {
     "data": {
      "text/plain": [
       "0.5"
      ]
     },
     "execution_count": 6,
     "metadata": {},
     "output_type": "execute_result"
    }
   ],
   "source": [
    "get_score(['t1', 't2t3', 't3'], ['t1', 't2', 't3', 't3'])"
   ]
  },
  {
   "cell_type": "markdown",
   "metadata": {},
   "source": [
    "### b)"
   ]
  },
  {
   "cell_type": "code",
   "execution_count": 3,
   "metadata": {},
   "outputs": [],
   "source": [
    "def max_match(text):\n",
    "    tokens = []\n",
    "    current_token = ''\n",
    "    for letter in text:\n",
    "        extended_token = current_token + letter\n",
    "        if extended_token in words:\n",
    "            current_token = extended_token\n",
    "        else:\n",
    "            tokens.append(current_token)\n",
    "            current_token = letter\n",
    "    if current_token != '':\n",
    "        tokens.append(current_token)\n",
    "    return tokens"
   ]
  },
  {
   "cell_type": "code",
   "execution_count": 4,
   "metadata": {},
   "outputs": [],
   "source": [
    "def tokenize_and_compare(line):\n",
    "    proper_tokenization = line.lower().split(' ')\n",
    "    processed_line = \"\".join(line.split()).lower()\n",
    "    attempted_tokenization = max_match(processed_line)\n",
    "    score = get_score(attempted_tokenization, proper_tokenization)\n",
    "    print(f'expected: {proper_tokenization}')\n",
    "    print(f'got: {attempted_tokenization}')\n",
    "    print(f'score: {score}')\n",
    "    print()"
   ]
  },
  {
   "cell_type": "code",
   "execution_count": 9,
   "metadata": {},
   "outputs": [
    {
     "name": "stdout",
     "output_type": "stream",
     "text": [
      "expected: ['system', 'euroraty', 'chcesz', 'kupować', 'więcej', 'niż', 'gdzie', 'indziej', '?']\n",
      "got: ['syst', 'eme', 'uro', 'raty', 'ch', 'ces', 'zk', 'upo', 'wać', 'więc', 'ej', 'niż', 'gd', 'zie', 'ind', 'zie', 'j', '?']\n",
      "score: 0.2222222222222222\n",
      "\n",
      "expected: ['parlament', 'zdecydował', 'jednak', 'inaczej', 'i', 'przyjął', 'w', 'ustawie', 'z', 'dnia', '28.06.1996', 'r.', 'jednoinstancyjne', 'postępowanie', 'orzeczniczo-lekarskie', '.']\n",
      "got: ['par', 'lam', 'en', 'tz', 'dec', 'y', 'dowa', 'ł', 'jednak', 'ina', 'czej', 'ip', 'rzy', 'jął', 'wu', 'stawie', 'zd', 'nia', '28.', '06.', '1996r', '.', 'jedno', 'insta', 'nc', 'yj', 'nep', 'ost', 'ę', 'pow', 'anie', 'orz', 'ec', 'zn', 'ic', 'zo', '-', 'lek', 'ars', 'kie', '.']\n",
      "score: 0.1875\n",
      "\n",
      "expected: ['po', 'kampanii', 'wrześniowej', '1.dlek', 'raportowała', '77', 'czołgów', 'l.t.m.35', 'utraconych', '(', 'wraz', 'z', 'wozami', 'dowodzenia', ')', 'i', '52', 'uszkodzone', 'lub', 'zepsute', ',', 'lecz', 'ostatecznie', 'po', 'naprawach', 'straty', 'bezpowrotne', 'ograniczyły', 'się', 'do', '7', 'czołgów', 'i', 'w', 'lutym', '1940', 'roku', 'posiadano', '195', 'czołgów', 'na', 'stanie', '.']\n",
      "got: ['poka', 'mpa', 'nii', 'wrze', 'ś', 'nio', 'wej', '1.', 'dle', 'krap', 'orto', 'wała', '77', 'czo', 'ł', 'gó', 'wl', '.', 't.', 'm.', '35', 'ut', 'rac', 'on', 'ych', '(', 'wraz', 'zwo', 'zam', 'ido', 'wodze', 'nia', ')', 'i5', '2', 'usz', 'kod', 'zo', 'nel', 'ub', 'zep', 'su', 'te', ',', 'lecz', 'ost', 'ate', 'cz', 'nie', 'pona', 'prawa', 'ch', 'straty', 'bez', 'pow', 'rot', 'neo', 'granic', 'zy', 'ły', 'się', 'do', '7c', 'zo', 'ł', 'gó', 'wiw', 'lutym', '1940r', 'okup', 'osi', 'ada', 'no', '195', 'czo', 'ł', 'gó', 'wn', 'asta', 'nie', '.']\n",
      "score: 0.3023255813953488\n",
      "\n",
      "expected: ['w', 'rolach', 'głównych', 'wystąpili', 'jake', 'gyllenhaal', ',', 'forest', 'whitaker', 'oraz', 'rachel', 'mcadams', '.']\n",
      "got: ['wrol', 'ach', 'głów', 'nych', 'wyst', 'ą', 'pili', 'jake', 'gy', 'll', 'en', 'ha', 'al', ',', 'fore', 'stw', 'hita', 'ker', 'oraz', 'rach', 'elm', 'cada', 'ms', '.']\n",
      "score: 0.3076923076923077\n",
      "\n",
      "expected: ['zapieczone', 'z', 'pomidorami', ',', 'bazylią', 'i', 'serem', '...']\n",
      "got: ['zap', 'iec', 'zo', 'nez', 'pomi', 'dora', 'mi', ',', 'bazylią', 'ise', 'rem', '...']\n",
      "score: 0.375\n",
      "\n"
     ]
    }
   ],
   "source": [
    "with open('polish_corpora.txt', encoding='utf8') as f:\n",
    "    for _ in range(5):\n",
    "        line = next(f).rstrip('\\n')\n",
    "        tokenize_and_compare(line)"
   ]
  },
  {
   "cell_type": "markdown",
   "metadata": {},
   "source": [
    "#### the best and the worst of tokenizaton atttempts"
   ]
  },
  {
   "cell_type": "code",
   "execution_count": 5,
   "metadata": {},
   "outputs": [
    {
     "name": "stdout",
     "output_type": "stream",
     "text": [
      "((['siedzibą', 'władz', 'gminy', 'były', 'gracze', '.'], ['siedzibą', 'władz', 'gminy', 'były', 'gracze', '.']), 1.0)\n",
      "((['wsta', 'ro', 'żyt', 'no', 'ś', 'cik', 'ol', 'chi', 'dab', 'yła', 'kolo', 'nią', 'grec', 'kie', 'go', 'mia', 'stam', 'ile', 't.'], ['w', 'starożytności', 'kolchida', 'była', 'kolonią', 'greckiego', 'miasta', 'milet', '.']), 0.0)\n"
     ]
    }
   ],
   "source": [
    "best = (None, -1)\n",
    "worst = (None, 1)\n",
    "lines_to_read = 50000\n",
    "with open('polish_corpora.txt', encoding='utf8') as file:\n",
    "    lines_read = 0\n",
    "    for line in file:\n",
    "        line = line.rstrip('\\n')\n",
    "        proper_tokenization = line.lower().split(' ')\n",
    "        \n",
    "        processed_line = \"\".join(line.split()).lower()\n",
    "        attempted_tokenization = max_match(processed_line)\n",
    "        \n",
    "        score = get_score(attempted_tokenization, proper_tokenization)\n",
    "        \n",
    "        if score > best[1]:\n",
    "            best = ((attempted_tokenization, proper_tokenization), score)\n",
    "        if score < worst[1]:\n",
    "            worst = ((attempted_tokenization, proper_tokenization), score)\n",
    "        \n",
    "        lines_read += 1\n",
    "        if lines_read >= lines_to_read:\n",
    "            break\n",
    "print(best)\n",
    "print(worst)"
   ]
  },
  {
   "cell_type": "markdown",
   "metadata": {},
   "source": [
    "#### The file is kind of scuffed ngl"
   ]
  },
  {
   "cell_type": "code",
   "execution_count": 10,
   "metadata": {},
   "outputs": [
    {
     "name": "stdout",
     "output_type": "stream",
     "text": [
      "Nie ch ju ż naw et nie będ zie str a żn ic zk ą , a le n ie ch w o góle b ęd zie .\n",
      "Moze nie trzeba by bylo interweniowac a miejsce w zk przydaloby sie komus innemu .\n",
      "A to , czy jakis pies kryl warunkowo czy nie , czy zk jest fajny czy be ...\n"
     ]
    }
   ],
   "source": [
    "with open('polish_corpora.txt', encoding='utf-8') as f:\n",
    "        for _ in range(500000):\n",
    "            line = next(f).rstrip('\\n')\n",
    "            words_in_line = line.split(' ')\n",
    "            if 'zk' in words_in_line:\n",
    "                print(line)"
   ]
  },
  {
   "cell_type": "markdown",
   "metadata": {},
   "source": [
    "## Exercise 2"
   ]
  },
  {
   "cell_type": "markdown",
   "metadata": {},
   "source": [
    "### Bigrams"
   ]
  },
  {
   "cell_type": "code",
   "execution_count": 1,
   "metadata": {},
   "outputs": [
    {
     "name": "stdout",
     "output_type": "stream",
     "text": [
      "Processed 10% of the file contents...\n",
      "Processed 20% of the file contents...\n",
      "Processed 30% of the file contents...\n",
      "Processed 40% of the file contents...\n",
      "Processed 50% of the file contents...\n",
      "Processed 60% of the file contents...\n",
      "Processed 70% of the file contents...\n",
      "Processed 80% of the file contents...\n",
      "Processed 90% of the file contents...\n",
      "Processed 100% of the file contents...\n"
     ]
    }
   ],
   "source": [
    "from gatherer import gather_successors_from_bigrams\n",
    "\n",
    "successors2 = gather_successors_from_bigrams('poleval_2grams.txt', 10)"
   ]
  },
  {
   "cell_type": "code",
   "execution_count": 2,
   "metadata": {},
   "outputs": [
    {
     "name": "stdout",
     "output_type": "stream",
     "text": [
      "bcs , okwiat ma iść środki ministra dariusza wójcika - podejmować uchwały absolutoryjnej , 14-16 podoficerów służby tej krzywej ) nakazują w brytyjski parlament uchwalał ustawy popiwkowej , pasujących . leopolda stokowskiego . us valenciennes , wyszukane , aksamitna . 45 st. thomas alsgaard\n",
      "tożsamość osoby słabiej ( okazy przyrodnicze , starszy referent wydziału podstawowych praw . 110 milionów ofiar ? <EOS>\n",
      "simc ( szkolne koła miały sporo namieszać , rozumnym , bordowe\n",
      "gioiosa marca 2008r , andersa do miastka , el w sukiennicach , spoczywa więc naturalnym zagłębieniu się koalicja rządząca chce również wysłuchamy 5-minutowych oświadczeń co stworzyło bardzo istotny wskaźnik , nhl entry was przy ponownym zjednoczeniu się willa została kampania ma zadłużenie w 832 . lech nadarkiewicz\n",
      "zijinshan w śpiew tadeusz borowski mówił wprost lub zawód . iwona i mieszkaniowym nie wykryło\n"
     ]
    }
   ],
   "source": [
    "from sentence import BigramSG\n",
    "\n",
    "bisg = BigramSG(successors2)\n",
    "print(bisg.generate_text(sentences=5))"
   ]
  },
  {
   "cell_type": "markdown",
   "metadata": {},
   "source": [
    "### Trigrams"
   ]
  },
  {
   "cell_type": "code",
   "execution_count": 6,
   "metadata": {},
   "outputs": [
    {
     "name": "stdout",
     "output_type": "stream",
     "text": [
      "Processed 10% of the file contents...\n",
      "Processed 20% of the file contents...\n",
      "Processed 30% of the file contents...\n",
      "Processed 40% of the file contents...\n",
      "Processed 50% of the file contents...\n",
      "Processed 60% of the file contents...\n",
      "Processed 70% of the file contents...\n",
      "Processed 80% of the file contents...\n",
      "Processed 90% of the file contents...\n",
      "Processed 100% of the file contents...\n"
     ]
    }
   ],
   "source": [
    "from gatherer import gather_successors_from_trigrams\n",
    "\n",
    "successors3 = gather_successors_from_trigrams('poleval_3grams.txt', 10)"
   ]
  },
  {
   "cell_type": "code",
   "execution_count": 9,
   "metadata": {},
   "outputs": [
    {
     "name": "stdout",
     "output_type": "stream",
     "text": [
      "jego kandydatury na stanowisko prezydenta , o najniższych kwalifikacjach . <EOS>\n",
      "tomach w latach bezpośrednio poprzedzających jego podbój przez turków . <EOS>\n",
      "janusz korczak ,\n",
      "wp , 1998 ( grupa 2\n",
      "ławników do orzekania przez sąd apelacyjny -\n",
      "akcją popisał się w konstytucji prl z dnia 10 stycznia . <EOS>\n",
      "tytułu prowadzenia pozarolniczej działalności w organizacji spotkań z rolnikami . <EOS>\n",
      "wyprawę , której liczba\n",
      "nasze błędy , że cywilizacja\n",
      "równouprawnienia i przeciwdziałania negatywnym skutkom wykonywania pracy za ich wprowadzenie nie\n"
     ]
    }
   ],
   "source": [
    "from sentence import TrigramSG\n",
    "\n",
    "trisg = TrigramSG(successors3)\n",
    "print(trisg.generate_text(sentences=10))"
   ]
  },
  {
   "cell_type": "code",
   "execution_count": 5,
   "metadata": {},
   "outputs": [],
   "source": [
    "dummy_successors3 = {\n",
    "    ('alfa', 'beta'): [(1, 'charlie')],\n",
    "    ('beta', 'charlie'): [(1, 'delta')],\n",
    "    ('charlie', 'delta'): [(1, 'echo')],\n",
    "    ('delta', 'echo'): [(1, '<EOS>'), (1, 'foxtrot')]\n",
    "}"
   ]
  },
  {
   "cell_type": "code",
   "execution_count": 6,
   "metadata": {},
   "outputs": [
    {
     "name": "stdout",
     "output_type": "stream",
     "text": [
      "alfa beta charlie delta echo <EOS>\n",
      "delta echo foxtrot\n",
      "charlie delta echo foxtrot\n",
      "delta echo foxtrot\n",
      "charlie delta echo foxtrot\n"
     ]
    }
   ],
   "source": [
    "trisg = TrigramSG(dummy_successors3)\n",
    "sentence = trisg.generate_text(sentences=5)\n",
    "print(sentence)"
   ]
  },
  {
   "cell_type": "markdown",
   "metadata": {},
   "source": [
    "## Exercise 3"
   ]
  },
  {
   "cell_type": "code",
   "execution_count": 3,
   "metadata": {},
   "outputs": [],
   "source": [
    "from sentence import NonUniformSentenceGenerator"
   ]
  },
  {
   "cell_type": "code",
   "execution_count": 5,
   "metadata": {},
   "outputs": [
    {
     "name": "stdout",
     "output_type": "stream",
     "text": [
      "finchera , lyrics ) pomógł . 3.14 ) podpisane prawdopodobnie najstarsze inskrypcje : aha jeszcze długie a due , ustawodawczą - skład krajowych stowarzyszeń fotograficznych w polskojęzycznej wersji komercyjnej w pęcherzyku żółciowym . : diablo 2 cztery sektory polskiej podpisał konstytucję lub finansowanych , odrazu po wstrzyknięciu\n",
      "szeged ( song ) zlokalizowany wtedy zgodnie - zwiększać swoje miejsca jest złożeniem przez potencjał polskiego ds. rybołówstwa nie negował , teleinformatycznych oraz chorzy pacjenci nabywają wiadomości komisji uwzględnione na warsztacie i giuseppe verdiego w dwa okrążenia przed resztą załogi międzynarodowej współpracy władz celnych przywozowych i uzyskiwane od zwiedzania okolicy ich pojęciu jest zagospodarowana z gnoju , zakazaną przez radiostacje i ppoż . 23 500 policjantów został zestrzelony podczas potopu w przewlekłej i miejcie na przemarsz , sceneria i wypracowany wspólnie zastanowimy , lada problemem naszego powszedniego , oscylując\n",
      "pułapka w peruwiańskiej primera p12\n",
      "okrywie włosowej . okres wymagany termin medyczny : hali ) promującymi płytę artystki ) powróciła także zaprezentowanie na trasach ) międzynarodowych mistrzostw albanii , 215 euro odszkodowania przysługującego z dzisiejszych możliwościach korzystania poza podziałem pracy swoistych sankcji onz do bokserskiej . ! <EOS>\n",
      "mind over 100 gatunków m.in. kolejne obciążenia tego entuzjazmu w 1481 i wiedeńskiej poświęcona świętemu mikołajowi ii plus że zakres instrumentów o sprawowanie przewodnictwa elektrycznego ) określających m.in. ujednolicenie stawek ryczałtu jest andrew lloyda wrighta , migotaniach , drobiowego i właścicielom - zwykli mieszkańcy europy bardzo nieprecyzyjny . eleonory , lokalizowanie w wuhanie , potyczki w ksrr , tadeuszowi mazowieckiemu , warunkujące możliwość bieżącego miesiąca ... t. mazowieckiego to skracanie czasu odbywania nauki i postępie i haftów , bf . rudolf ii 3 spowoduje obciążenia zewnętrznego egzaminu adwokackiego z żurawicy . justyna piechocka\n"
     ]
    }
   ],
   "source": [
    "nusg2 = BigramSG(successors2, NonUniformSentenceGenerator)\n",
    "print(nusg2.generate_text(sentences=5))"
   ]
  },
  {
   "cell_type": "code",
   "execution_count": 16,
   "metadata": {},
   "outputs": [
    {
     "name": "stdout",
     "output_type": "stream",
     "text": [
      "że części z was był w komitecie narodowym w krakowie pod kierunkiem trenera\n",
      "wycofuję się z godnością człowieka\n",
      "1a pkt 12 senat proponuje zmiany dotyczące placówek sg , które braliśmy\n",
      "przeciwdziałanie klęskom żywiołowym i usuwanie drzew lub krzewów z terenu . <EOS>\n",
      "wieku xiii i xiv wieku był właścicielem kilku\n",
      "( gmt ) , architekt wnętrz . <EOS>\n",
      "składowanych na składowiskach ? <EOS>\n",
      ", rozmiaru i charakteru , nie wniosły . <EOS>\n",
      "przez national park . <EOS>\n",
      "przedłużenie do końca v wieku p.n.e. miasto zostało zbudowane z kamienia na planie nieregularnego czworoboku , z wieloletnim doświadczeniem zawodowym i przekwalifikowaniu . <EOS>\n"
     ]
    }
   ],
   "source": [
    "nusg3 = TrigramSG(successors3, NonUniformSentenceGenerator)\n",
    "print(nusg3.generate_text(sentences=10))"
   ]
  },
  {
   "cell_type": "markdown",
   "metadata": {},
   "source": [
    "## Exercise 4"
   ]
  },
  {
   "cell_type": "markdown",
   "metadata": {},
   "source": [
    "#### helper functions for creating bigrams from custom files"
   ]
  },
  {
   "cell_type": "code",
   "execution_count": 100,
   "metadata": {},
   "outputs": [],
   "source": [
    "from string import punctuation\n",
    "\n",
    "\n",
    "def remove_punctuation(text):\n",
    "    return text.translate(str.maketrans('', '', punctuation))\n",
    "\n",
    "\n",
    "def compute_successors(file_name):\n",
    "    successors = {}\n",
    "    with open(file_name, encoding='utf-8') as f:\n",
    "        for line in f.readlines():\n",
    "            words = remove_punctuation(line.rstrip('\\n')).split(' ')\n",
    "            for i in range(len(words) - 1):\n",
    "                word1, word2 = list(map(lambda w: w.lower(), words[i:i+2]))\n",
    "                if word1 in successors:\n",
    "                    if word2 in successors[word1]:\n",
    "                        successors[word1][word2] += 1\n",
    "                    else:\n",
    "                        successors[word1][word2] = 1\n",
    "                else:\n",
    "                    successors[word1] = {word2: 1}\n",
    "\n",
    "    scored_successors = {}\n",
    "    for word in successors:\n",
    "        scored_successors[word] = []\n",
    "        for successor in successors[word]:\n",
    "            score = successors[word][successor]\n",
    "            scored_successors[word].append((score, successor))\n",
    "\n",
    "    return scored_successors"
   ]
  },
  {
   "cell_type": "code",
   "execution_count": 101,
   "metadata": {},
   "outputs": [],
   "source": [
    "computed_successors = compute_successors('test.txt')"
   ]
  },
  {
   "cell_type": "markdown",
   "metadata": {},
   "source": [
    "#### sentence scoring"
   ]
  },
  {
   "cell_type": "code",
   "execution_count": 36,
   "metadata": {},
   "outputs": [],
   "source": [
    "from itertools import permutations\n",
    "\n",
    "\n",
    "def compute_score_of_pair(key, candidate, successors):\n",
    "    if key not in successors:\n",
    "        return 0\n",
    "    if len(successors[key]) == 0:\n",
    "        return 0\n",
    "\n",
    "    for score, successor in successors[key]:\n",
    "        if candidate == successor:\n",
    "            return score\n",
    "\n",
    "    return 0\n",
    "\n",
    "\n",
    "def compute_sentence_score(sentence, bigrams, trigrams):\n",
    "    score = 0\n",
    "    previous_word = ''\n",
    "    for i in range(len(sentence) - 1):\n",
    "        word1, word2 = sentence[i:i+2]\n",
    "\n",
    "        bigram_key = (word1, )\n",
    "        bigram_score = compute_score_of_pair(\n",
    "            bigram_key, word2, bigrams)\n",
    "\n",
    "        trigram_key = (previous_word, word1)\n",
    "        trigram_score = compute_score_of_pair(\n",
    "            trigram_key, word2, trigrams)\n",
    "\n",
    "        score += max(bigram_score, trigram_score)\n",
    "        previous_word = word1\n",
    "    return score\n",
    "\n",
    "\n",
    "def create_sentences(words, bigrams, trigrams, n=1):\n",
    "    perms = list(permutations(words))\n",
    "    scored = list(\n",
    "        map(lambda p: (p, compute_sentence_score(p, bigrams, trigrams)), perms))\n",
    "    return sorted(scored, key=lambda s: -s[1])[:n]"
   ]
  },
  {
   "cell_type": "markdown",
   "metadata": {},
   "source": [
    "#### default successors from bigram file"
   ]
  },
  {
   "cell_type": "code",
   "execution_count": 28,
   "metadata": {},
   "outputs": [],
   "source": [
    "sentences = [\n",
    "    'Judyta dała wczoraj Stefanowi czekoladki',\n",
    "    'Babuleńka miała dwa rogate koziołki',\n",
    "    'Wczoraj wieczorem spotkałem pewną piękną kobietę',\n",
    "    'Inauguracja pontyfikatu miała miejsce w trakcie mszy',\n",
    "    'Dodaj kilka zdań do powyższej trójki',\n",
    "    'Nie zakładamy niczego o słowach do uporządkowania'\n",
    "]"
   ]
  },
  {
   "cell_type": "code",
   "execution_count": 37,
   "metadata": {},
   "outputs": [
    {
     "name": "stdout",
     "output_type": "stream",
     "text": [
      "--------------------\n",
      "(('judyta', 'dała', 'wczoraj', 'stefanowi', 'czekoladki'), 0)\n",
      "(('judyta', 'dała', 'wczoraj', 'czekoladki', 'stefanowi'), 0)\n",
      "(('judyta', 'dała', 'stefanowi', 'wczoraj', 'czekoladki'), 0)\n",
      "(('judyta', 'dała', 'stefanowi', 'czekoladki', 'wczoraj'), 0)\n",
      "(('judyta', 'dała', 'czekoladki', 'wczoraj', 'stefanowi'), 0)\n",
      "--------------------\n",
      "(('babuleńka', 'miała', 'dwa', 'rogate', 'koziołki'), 182)\n",
      "(('babuleńka', 'miała', 'dwa', 'koziołki', 'rogate'), 182)\n",
      "(('babuleńka', 'rogate', 'miała', 'dwa', 'koziołki'), 182)\n",
      "(('babuleńka', 'rogate', 'koziołki', 'miała', 'dwa'), 182)\n",
      "(('babuleńka', 'koziołki', 'miała', 'dwa', 'rogate'), 182)\n",
      "--------------------\n",
      "(('wczoraj', 'wieczorem', 'spotkałem', 'pewną', 'piękną', 'kobietę'), 447)\n",
      "(('wczoraj', 'wieczorem', 'spotkałem', 'piękną', 'kobietę', 'pewną'), 447)\n",
      "(('wczoraj', 'wieczorem', 'pewną', 'spotkałem', 'piękną', 'kobietę'), 447)\n",
      "(('wczoraj', 'wieczorem', 'pewną', 'piękną', 'kobietę', 'spotkałem'), 447)\n",
      "(('wczoraj', 'wieczorem', 'piękną', 'kobietę', 'spotkałem', 'pewną'), 447)\n",
      "--------------------\n",
      "(('inauguracja', 'miała', 'miejsce', 'w', 'trakcie', 'mszy', 'pontyfikatu'), 165359)\n",
      "(('pontyfikatu', 'inauguracja', 'miała', 'miejsce', 'w', 'trakcie', 'mszy'), 165359)\n",
      "(('inauguracja', 'pontyfikatu', 'miała', 'miejsce', 'w', 'trakcie', 'mszy'), 165325)\n",
      "(('pontyfikatu', 'miała', 'miejsce', 'w', 'trakcie', 'mszy', 'inauguracja'), 165325)\n",
      "(('miała', 'miejsce', 'w', 'trakcie', 'mszy', 'inauguracja', 'pontyfikatu'), 165325)\n",
      "--------------------\n",
      "(('dodaj', 'do', 'powyższej', 'kilka', 'zdań', 'trójki'), 2118)\n",
      "(('dodaj', 'do', 'powyższej', 'trójki', 'kilka', 'zdań'), 2118)\n",
      "(('kilka', 'zdań', 'dodaj', 'do', 'powyższej', 'trójki'), 2118)\n",
      "(('kilka', 'zdań', 'trójki', 'dodaj', 'do', 'powyższej'), 2118)\n",
      "(('trójki', 'dodaj', 'do', 'powyższej', 'kilka', 'zdań'), 2118)\n",
      "--------------------\n",
      "(('zakładamy', 'słowach', 'o', 'nie', 'do', 'niczego', 'uporządkowania'), 26692)\n",
      "(('zakładamy', 'uporządkowania', 'słowach', 'o', 'nie', 'do', 'niczego'), 26692)\n",
      "(('słowach', 'o', 'nie', 'do', 'niczego', 'zakładamy', 'uporządkowania'), 26692)\n",
      "(('słowach', 'o', 'nie', 'do', 'niczego', 'uporządkowania', 'zakładamy'), 26692)\n",
      "(('uporządkowania', 'zakładamy', 'słowach', 'o', 'nie', 'do', 'niczego'), 26692)\n"
     ]
    }
   ],
   "source": [
    "for sentence in sentences:\n",
    "    words = sentence.lower().split(' ')\n",
    "    print(20*'-')\n",
    "    for res in create_sentences(words, successors2, successors3, 5):\n",
    "        print(res)"
   ]
  },
  {
   "cell_type": "markdown",
   "metadata": {},
   "source": [
    "## Zadanie 5"
   ]
  },
  {
   "cell_type": "code",
   "execution_count": 127,
   "metadata": {},
   "outputs": [],
   "source": [
    "def PUni(w, bigrams):\n",
    "    N = 4000000\n",
    "    bigram_key = (w,)\n",
    "    cnt = 0\n",
    "    if bigram_key in bigrams:\n",
    "        cnt = sum(list(map(lambda x: x[0], bigrams[bigram_key])))\n",
    "    p = (cnt + 1) / N\n",
    "    return p\n",
    "\n",
    "\n",
    "def PBi(w1, w2, bigrams):\n",
    "    p = 0\n",
    "    bigram_key = (w1,)\n",
    "    if bigram_key in bigrams:\n",
    "        cnt_w1 = 0\n",
    "        cnt_w1w2 = 0\n",
    "        for n, word in bigrams[bigram_key]:\n",
    "            cnt_w1 += n\n",
    "            if word == w2:\n",
    "                cnt_w1w2 += n\n",
    "        p = (cnt_w1w2 + 1) / cnt_w1\n",
    "    return p\n",
    "\n",
    "\n",
    "def PTri(w1, w2, w3, trigrams):\n",
    "    p = 0\n",
    "    trigram_key = (w1, w2)\n",
    "    if trigram_key in trigrams:\n",
    "        cnt_w1w2 = 0\n",
    "        cnt_w1w2w3 = 0\n",
    "        for n, word in trigrams[trigram_key]:\n",
    "            cnt_w1w2 += n\n",
    "            if word == w3:\n",
    "                cnt_w1w2w3 += n\n",
    "        p = (cnt_w1w2w3 + 1) / cnt_w1w2\n",
    "    return p\n",
    "\n",
    "\n",
    "def P(w1, w2, w3, bigrams, trigrams):\n",
    "    epsilon = 0.000001 # to prevent probability == 0 when neither of words can be found in bigrams/trigrams\n",
    "    l1, l2, l3 = 0.03, 0.11, 0.86\n",
    "     \n",
    "    pw3 = PUni(w3, bigrams) if w3 is not None else epsilon\n",
    "    pw2w3 = PBi(w2, w3, bigrams) if w2 is not None and w3 is not None else epsilon\n",
    "    pw1w2w3 = PTri(w1, w2, w3, trigrams) if w1 is not None and w2 is not None and w3 is not None else epsilon\n",
    "    \n",
    "    return l1 * pw3 + l2 * pw2w3 + l3 * pw1w2w3"
   ]
  },
  {
   "cell_type": "code",
   "execution_count": 8,
   "metadata": {},
   "outputs": [],
   "source": [
    "from itertools import permutations\n",
    "\n",
    "\n",
    "def compute_permutation_score(permutation, bigrams, trigrams):\n",
    "    p = P(None, None, permutation[0], bigrams, trigrams)\n",
    "    p *= P(None, permutation[1], permutation[0], bigrams, trigrams)\n",
    "    p *= P(permutation[2], permutation[1], permutation[0], bigrams, trigrams)\n",
    "    for i in range(2, len(permutation)):\n",
    "        p *= P(permutation[i], permutation[i-1], permutation[i-2], bigrams, trigrams)\n",
    "    return p\n",
    "\n",
    "\n",
    "def order_words(words, bigrams, trigrams, n=1):\n",
    "    perms = permutations(words)\n",
    "    sentences = list(map(lambda p: (p, compute_permutation_score(p, bigrams, trigrams)), perms))\n",
    "    return sorted(sentences, key=lambda x: x[1], reverse=True)[:n]"
   ]
  },
  {
   "cell_type": "code",
   "execution_count": 117,
   "metadata": {},
   "outputs": [],
   "source": [
    "def run_tests(sentences, bigrams, trigrams):\n",
    "    for sentence in sentences:\n",
    "        sentence = sentence.lower()\n",
    "        words = sentence.split(' ')\n",
    "        score = 0\n",
    "        for i, order in enumerate(order_words(words, bigrams, trigrams, 20)):\n",
    "            if ' '.join(order[0]) == sentence:\n",
    "                score = 1 / (i + 1)\n",
    "        print(sentence, ', score:', score)"
   ]
  },
  {
   "cell_type": "code",
   "execution_count": 149,
   "metadata": {},
   "outputs": [],
   "source": [
    "sentences = [\n",
    "'nasz przedmiot to przetwarzanie języka naturalnego',\n",
    "'jedną grupę prowadzi jakub michaliszyn',\n",
    "'wykładowcą jest paweł rychlikowski',\n",
    "'pan paweł prowadzi również dwie pozostałe grupy',\n",
    "# 'na stronie wykładu będą pojawiać się listy zadań',\n",
    "'będą to listy ćwiczeniowe i pracowniowe',\n",
    "'będą to listy pracowniowe i ćwiczeniowe',\n",
    "'mogą się pojawiać również dodatkowe aktywności',\n",
    "'te aktywności będą premiowane',\n",
    "'na przykłąd quizy na platformie zdalnej',\n",
    "'rozważamy też miniprojekty na temat wykładu',\n",
    "'zapowiadamy je z co najmniej tygodniowym wyprzedzeniem',\n",
    "'zadania są przeznaczone na konkretne zajęcia',\n",
    "'ćwiczenia zaczynają się w sali seminaryjnej',\n",
    "'jest tak tylko w trybie stacjonarnym',\n",
    "'pozostałe zajęcia domyślnie zaczynają się w pracowni',\n",
    "'pracownia polega na indywidualnych konsutlacjach',\n",
    "'rozmawiamy tam na temat rozwiązań',\n",
    "'podczas ćwiczeń studenci przedstawiają pisemne rozwiązania zadań',\n",
    "'tryb zajęć zależy od sytuacji epidemiologicznej',\n",
    "'zależy też od wymogów formalnych',\n",
    "'zależy również od decyzji władz',\n",
    "'uwzględnia się możliwości studentów i prowadzących',\n",
    "'może się on zmieniać w trakcie semestru',\n",
    "'przed ćwiczeniami studenci dostarczają prowadzącemu deklaracje',\n",
    "'zawiera ona numery zadań',\n",
    "'studenci pokazują rozwiązania przy tablicy',\n",
    "'jest źle, jeżeli student nie umie',\n",
    "'dodatkowo coś mu się odejmuje',\n",
    "'zadania można oddawać podczas zajęć na pracowni',\n",
    "'zadania należy rozwiązywać samodzielnie',\n",
    "'prowadzący ocenia poprawność rozwiązania',\n",
    "'czasem mogą pojawić się informacje o regułach',\n",
    "'na każdej liście podany jest termin',\n",
    "'za poprawne rozwiązanie dostajemy dużo punktów',\n",
    "'spóźnione zadania nie będą sprawdzane',\n",
    "'pierwsza lista ma dłuższy termin',\n",
    "'zasada musi być zmodyfikowana pod koniec semestru',\n",
    "'w przypadku choroby studenta obowiązują inne zasady',\n",
    "'w przypadku kwarantanny studenta obowiązują inne zasady',\n",
    "'w przypadku izolacji studenta obowiązują inne zasady',\n",
    "'możliwe jest oddawanie zaległych zadań bez straty punktowej',\n",
    "'ocenę wystawia się zgodnie z tabelką',\n",
    "'50 punktów daje ocenę dostateczną',\n",
    "'120 punktów daje ocenę bardzo dobrą',\n",
    "'powyższa tabelka zostanie przeskalowana',\n",
    "'może też zostać przeskalowana z innych powodów',\n",
    "'w pierwszym tygodniu zajęć coś podamy',\n",
    "'dodatkowe zasady umożliwiające zwolnienie z egzaminu',\n",
    "'dotyczą osób z dużą liczbą punktów',\n",
    "'można rozwiązać też zadanie specjalne',\n",
    "'forma egzaminu zależy od wielu czynników',\n",
    "'należy się spodziewać różnych wariantów',\n",
    "'nie wykluczamy indywidualnego egzaminu ustnego',\n",
    "'jaś i małgosia też są tutaj',\n",
    "'puchatek z prosiaczkiem nie przybędą',\n",
    "'raz kotek był chory i odpoczywał',\n",
    "'raz kotek był chory i leżał w łóżeczku',\n",
    "'definicja relacji równoważności nie jest trudna',\n",
    "'hipoteza continuum jest niezależna od aksjomatów',\n",
    "'teoria mnogości daje wiele radości',\n",
    "'programowanie nie jest szczególnie trudne',\n",
    "'rachunek prawdopodobieństwa przydaje się w życiu',\n",
    "'rycerze osaczyli smoka zanim strawił księżniczkę',\n",
    "'chyba należy już przestać wymyślać zdania',\n",
    "]"
   ]
  },
  {
   "cell_type": "code",
   "execution_count": 153,
   "metadata": {},
   "outputs": [
    {
     "name": "stdout",
     "output_type": "stream",
     "text": [
      "nasz przedmiot to przetwarzanie języka naturalnego , score: 0\n",
      "jedną grupę prowadzi jakub michaliszyn , score: 0.1\n",
      "wykładowcą jest paweł rychlikowski , score: 0.09090909090909091\n",
      "pan paweł prowadzi również dwie pozostałe grupy , score: 0\n",
      "będą to listy ćwiczeniowe i pracowniowe , score: 0\n",
      "będą to listy pracowniowe i ćwiczeniowe , score: 0\n",
      "mogą się pojawiać również dodatkowe aktywności , score: 0\n",
      "te aktywności będą premiowane , score: 0.16666666666666666\n",
      "na przykłąd quizy na platformie zdalnej , score: 0\n",
      "rozważamy też miniprojekty na temat wykładu , score: 0\n",
      "zapowiadamy je z co najmniej tygodniowym wyprzedzeniem , score: 0\n",
      "zadania są przeznaczone na konkretne zajęcia , score: 0\n",
      "ćwiczenia zaczynają się w sali seminaryjnej , score: 0\n",
      "jest tak tylko w trybie stacjonarnym , score: 0\n",
      "pozostałe zajęcia domyślnie zaczynają się w pracowni , score: 0\n",
      "pracownia polega na indywidualnych konsutlacjach , score: 0\n",
      "rozmawiamy tam na temat rozwiązań , score: 0\n",
      "podczas ćwiczeń studenci przedstawiają pisemne rozwiązania zadań , score: 0\n",
      "tryb zajęć zależy od sytuacji epidemiologicznej , score: 0\n",
      "zależy też od wymogów formalnych , score: 0\n",
      "zależy również od decyzji władz , score: 0\n",
      "uwzględnia się możliwości studentów i prowadzących , score: 0\n"
     ]
    },
    {
     "ename": "KeyboardInterrupt",
     "evalue": "",
     "output_type": "error",
     "traceback": [
      "\u001b[1;31m---------------------------------------------------------------------------\u001b[0m",
      "\u001b[1;31mKeyboardInterrupt\u001b[0m                         Traceback (most recent call last)",
      "\u001b[1;32m<ipython-input-153-b3da3e053d62>\u001b[0m in \u001b[0;36m<module>\u001b[1;34m\u001b[0m\n\u001b[1;32m----> 1\u001b[1;33m \u001b[0mrun_tests\u001b[0m\u001b[1;33m(\u001b[0m\u001b[0msentences\u001b[0m\u001b[1;33m,\u001b[0m \u001b[0msuccessors2\u001b[0m\u001b[1;33m,\u001b[0m \u001b[0msuccessors3\u001b[0m\u001b[1;33m)\u001b[0m\u001b[1;33m\u001b[0m\u001b[1;33m\u001b[0m\u001b[0m\n\u001b[0m",
      "\u001b[1;32m<ipython-input-117-d76269fff450>\u001b[0m in \u001b[0;36mrun_tests\u001b[1;34m(sentences, bigrams, trigrams)\u001b[0m\n\u001b[0;32m      4\u001b[0m         \u001b[0mwords\u001b[0m \u001b[1;33m=\u001b[0m \u001b[0msentence\u001b[0m\u001b[1;33m.\u001b[0m\u001b[0msplit\u001b[0m\u001b[1;33m(\u001b[0m\u001b[1;34m' '\u001b[0m\u001b[1;33m)\u001b[0m\u001b[1;33m\u001b[0m\u001b[1;33m\u001b[0m\u001b[0m\n\u001b[0;32m      5\u001b[0m         \u001b[0mscore\u001b[0m \u001b[1;33m=\u001b[0m \u001b[1;36m0\u001b[0m\u001b[1;33m\u001b[0m\u001b[1;33m\u001b[0m\u001b[0m\n\u001b[1;32m----> 6\u001b[1;33m         \u001b[1;32mfor\u001b[0m \u001b[0mi\u001b[0m\u001b[1;33m,\u001b[0m \u001b[0morder\u001b[0m \u001b[1;32min\u001b[0m \u001b[0menumerate\u001b[0m\u001b[1;33m(\u001b[0m\u001b[0morder_words\u001b[0m\u001b[1;33m(\u001b[0m\u001b[0mwords\u001b[0m\u001b[1;33m,\u001b[0m \u001b[0mbigrams\u001b[0m\u001b[1;33m,\u001b[0m \u001b[0mtrigrams\u001b[0m\u001b[1;33m,\u001b[0m \u001b[1;36m20\u001b[0m\u001b[1;33m)\u001b[0m\u001b[1;33m)\u001b[0m\u001b[1;33m:\u001b[0m\u001b[1;33m\u001b[0m\u001b[1;33m\u001b[0m\u001b[0m\n\u001b[0m\u001b[0;32m      7\u001b[0m             \u001b[1;32mif\u001b[0m \u001b[1;34m' '\u001b[0m\u001b[1;33m.\u001b[0m\u001b[0mjoin\u001b[0m\u001b[1;33m(\u001b[0m\u001b[0morder\u001b[0m\u001b[1;33m[\u001b[0m\u001b[1;36m0\u001b[0m\u001b[1;33m]\u001b[0m\u001b[1;33m)\u001b[0m \u001b[1;33m==\u001b[0m \u001b[0msentence\u001b[0m\u001b[1;33m:\u001b[0m\u001b[1;33m\u001b[0m\u001b[1;33m\u001b[0m\u001b[0m\n\u001b[0;32m      8\u001b[0m                 \u001b[0mscore\u001b[0m \u001b[1;33m=\u001b[0m \u001b[1;36m1\u001b[0m \u001b[1;33m/\u001b[0m \u001b[1;33m(\u001b[0m\u001b[0mi\u001b[0m \u001b[1;33m+\u001b[0m \u001b[1;36m1\u001b[0m\u001b[1;33m)\u001b[0m\u001b[1;33m\u001b[0m\u001b[1;33m\u001b[0m\u001b[0m\n",
      "\u001b[1;32m<ipython-input-151-ecca79ac8a63>\u001b[0m in \u001b[0;36morder_words\u001b[1;34m(words, bigrams, trigrams, n)\u001b[0m\n\u001b[0;32m     20\u001b[0m \u001b[1;32mdef\u001b[0m \u001b[0morder_words\u001b[0m\u001b[1;33m(\u001b[0m\u001b[0mwords\u001b[0m\u001b[1;33m,\u001b[0m \u001b[0mbigrams\u001b[0m\u001b[1;33m,\u001b[0m \u001b[0mtrigrams\u001b[0m\u001b[1;33m,\u001b[0m \u001b[0mn\u001b[0m\u001b[1;33m=\u001b[0m\u001b[1;36m1\u001b[0m\u001b[1;33m)\u001b[0m\u001b[1;33m:\u001b[0m\u001b[1;33m\u001b[0m\u001b[1;33m\u001b[0m\u001b[0m\n\u001b[0;32m     21\u001b[0m     \u001b[0mperms\u001b[0m \u001b[1;33m=\u001b[0m \u001b[0mpermutations\u001b[0m\u001b[1;33m(\u001b[0m\u001b[0mwords\u001b[0m\u001b[1;33m)\u001b[0m\u001b[1;33m\u001b[0m\u001b[1;33m\u001b[0m\u001b[0m\n\u001b[1;32m---> 22\u001b[1;33m     \u001b[0msentences\u001b[0m \u001b[1;33m=\u001b[0m \u001b[0mlist\u001b[0m\u001b[1;33m(\u001b[0m\u001b[0mmap\u001b[0m\u001b[1;33m(\u001b[0m\u001b[1;32mlambda\u001b[0m \u001b[0mp\u001b[0m\u001b[1;33m:\u001b[0m \u001b[1;33m(\u001b[0m\u001b[0mp\u001b[0m\u001b[1;33m,\u001b[0m \u001b[0mcompute_permutation_score\u001b[0m\u001b[1;33m(\u001b[0m\u001b[0mp\u001b[0m\u001b[1;33m,\u001b[0m \u001b[0mbigrams\u001b[0m\u001b[1;33m,\u001b[0m \u001b[0mtrigrams\u001b[0m\u001b[1;33m)\u001b[0m\u001b[1;33m)\u001b[0m\u001b[1;33m,\u001b[0m \u001b[0mperms\u001b[0m\u001b[1;33m)\u001b[0m\u001b[1;33m)\u001b[0m\u001b[1;33m\u001b[0m\u001b[1;33m\u001b[0m\u001b[0m\n\u001b[0m\u001b[0;32m     23\u001b[0m     \u001b[1;32mreturn\u001b[0m \u001b[0msorted\u001b[0m\u001b[1;33m(\u001b[0m\u001b[0msentences\u001b[0m\u001b[1;33m,\u001b[0m \u001b[0mkey\u001b[0m\u001b[1;33m=\u001b[0m\u001b[1;32mlambda\u001b[0m \u001b[0mx\u001b[0m\u001b[1;33m:\u001b[0m \u001b[0mx\u001b[0m\u001b[1;33m[\u001b[0m\u001b[1;36m1\u001b[0m\u001b[1;33m]\u001b[0m\u001b[1;33m,\u001b[0m \u001b[0mreverse\u001b[0m\u001b[1;33m=\u001b[0m\u001b[1;32mTrue\u001b[0m\u001b[1;33m)\u001b[0m\u001b[1;33m[\u001b[0m\u001b[1;33m:\u001b[0m\u001b[0mn\u001b[0m\u001b[1;33m]\u001b[0m\u001b[1;33m\u001b[0m\u001b[1;33m\u001b[0m\u001b[0m\n",
      "\u001b[1;32m<ipython-input-151-ecca79ac8a63>\u001b[0m in \u001b[0;36m<lambda>\u001b[1;34m(p)\u001b[0m\n\u001b[0;32m     20\u001b[0m \u001b[1;32mdef\u001b[0m \u001b[0morder_words\u001b[0m\u001b[1;33m(\u001b[0m\u001b[0mwords\u001b[0m\u001b[1;33m,\u001b[0m \u001b[0mbigrams\u001b[0m\u001b[1;33m,\u001b[0m \u001b[0mtrigrams\u001b[0m\u001b[1;33m,\u001b[0m \u001b[0mn\u001b[0m\u001b[1;33m=\u001b[0m\u001b[1;36m1\u001b[0m\u001b[1;33m)\u001b[0m\u001b[1;33m:\u001b[0m\u001b[1;33m\u001b[0m\u001b[1;33m\u001b[0m\u001b[0m\n\u001b[0;32m     21\u001b[0m     \u001b[0mperms\u001b[0m \u001b[1;33m=\u001b[0m \u001b[0mpermutations\u001b[0m\u001b[1;33m(\u001b[0m\u001b[0mwords\u001b[0m\u001b[1;33m)\u001b[0m\u001b[1;33m\u001b[0m\u001b[1;33m\u001b[0m\u001b[0m\n\u001b[1;32m---> 22\u001b[1;33m     \u001b[0msentences\u001b[0m \u001b[1;33m=\u001b[0m \u001b[0mlist\u001b[0m\u001b[1;33m(\u001b[0m\u001b[0mmap\u001b[0m\u001b[1;33m(\u001b[0m\u001b[1;32mlambda\u001b[0m \u001b[0mp\u001b[0m\u001b[1;33m:\u001b[0m \u001b[1;33m(\u001b[0m\u001b[0mp\u001b[0m\u001b[1;33m,\u001b[0m \u001b[0mcompute_permutation_score\u001b[0m\u001b[1;33m(\u001b[0m\u001b[0mp\u001b[0m\u001b[1;33m,\u001b[0m \u001b[0mbigrams\u001b[0m\u001b[1;33m,\u001b[0m \u001b[0mtrigrams\u001b[0m\u001b[1;33m)\u001b[0m\u001b[1;33m)\u001b[0m\u001b[1;33m,\u001b[0m \u001b[0mperms\u001b[0m\u001b[1;33m)\u001b[0m\u001b[1;33m)\u001b[0m\u001b[1;33m\u001b[0m\u001b[1;33m\u001b[0m\u001b[0m\n\u001b[0m\u001b[0;32m     23\u001b[0m     \u001b[1;32mreturn\u001b[0m \u001b[0msorted\u001b[0m\u001b[1;33m(\u001b[0m\u001b[0msentences\u001b[0m\u001b[1;33m,\u001b[0m \u001b[0mkey\u001b[0m\u001b[1;33m=\u001b[0m\u001b[1;32mlambda\u001b[0m \u001b[0mx\u001b[0m\u001b[1;33m:\u001b[0m \u001b[0mx\u001b[0m\u001b[1;33m[\u001b[0m\u001b[1;36m1\u001b[0m\u001b[1;33m]\u001b[0m\u001b[1;33m,\u001b[0m \u001b[0mreverse\u001b[0m\u001b[1;33m=\u001b[0m\u001b[1;32mTrue\u001b[0m\u001b[1;33m)\u001b[0m\u001b[1;33m[\u001b[0m\u001b[1;33m:\u001b[0m\u001b[0mn\u001b[0m\u001b[1;33m]\u001b[0m\u001b[1;33m\u001b[0m\u001b[1;33m\u001b[0m\u001b[0m\n",
      "\u001b[1;32m<ipython-input-151-ecca79ac8a63>\u001b[0m in \u001b[0;36mcompute_permutation_score\u001b[1;34m(permutation, bigrams, trigrams)\u001b[0m\n\u001b[0;32m     11\u001b[0m     \u001b[0mp\u001b[0m \u001b[1;33m=\u001b[0m \u001b[1;36m1.0\u001b[0m\u001b[1;33m\u001b[0m\u001b[1;33m\u001b[0m\u001b[0m\n\u001b[0;32m     12\u001b[0m     \u001b[0mp\u001b[0m \u001b[1;33m*=\u001b[0m \u001b[0mP\u001b[0m\u001b[1;33m(\u001b[0m\u001b[1;32mNone\u001b[0m\u001b[1;33m,\u001b[0m \u001b[1;32mNone\u001b[0m\u001b[1;33m,\u001b[0m \u001b[0mpermutation\u001b[0m\u001b[1;33m[\u001b[0m\u001b[1;36m0\u001b[0m\u001b[1;33m]\u001b[0m\u001b[1;33m,\u001b[0m \u001b[0mbigrams\u001b[0m\u001b[1;33m,\u001b[0m \u001b[0mtrigrams\u001b[0m\u001b[1;33m)\u001b[0m\u001b[1;33m\u001b[0m\u001b[1;33m\u001b[0m\u001b[0m\n\u001b[1;32m---> 13\u001b[1;33m     \u001b[0mp\u001b[0m \u001b[1;33m*=\u001b[0m \u001b[0mP\u001b[0m\u001b[1;33m(\u001b[0m\u001b[1;32mNone\u001b[0m\u001b[1;33m,\u001b[0m \u001b[0mpermutation\u001b[0m\u001b[1;33m[\u001b[0m\u001b[1;36m1\u001b[0m\u001b[1;33m]\u001b[0m\u001b[1;33m,\u001b[0m \u001b[0mpermutation\u001b[0m\u001b[1;33m[\u001b[0m\u001b[1;36m0\u001b[0m\u001b[1;33m]\u001b[0m\u001b[1;33m,\u001b[0m \u001b[0mbigrams\u001b[0m\u001b[1;33m,\u001b[0m \u001b[0mtrigrams\u001b[0m\u001b[1;33m)\u001b[0m\u001b[1;33m\u001b[0m\u001b[1;33m\u001b[0m\u001b[0m\n\u001b[0m\u001b[0;32m     14\u001b[0m     \u001b[0mp\u001b[0m \u001b[1;33m*=\u001b[0m \u001b[0mP\u001b[0m\u001b[1;33m(\u001b[0m\u001b[0mpermutation\u001b[0m\u001b[1;33m[\u001b[0m\u001b[1;36m2\u001b[0m\u001b[1;33m]\u001b[0m\u001b[1;33m,\u001b[0m \u001b[0mpermutation\u001b[0m\u001b[1;33m[\u001b[0m\u001b[1;36m1\u001b[0m\u001b[1;33m]\u001b[0m\u001b[1;33m,\u001b[0m \u001b[0mpermutation\u001b[0m\u001b[1;33m[\u001b[0m\u001b[1;36m0\u001b[0m\u001b[1;33m]\u001b[0m\u001b[1;33m,\u001b[0m \u001b[0mbigrams\u001b[0m\u001b[1;33m,\u001b[0m \u001b[0mtrigrams\u001b[0m\u001b[1;33m)\u001b[0m\u001b[1;33m\u001b[0m\u001b[1;33m\u001b[0m\u001b[0m\n\u001b[0;32m     15\u001b[0m     \u001b[1;32mfor\u001b[0m \u001b[0mi\u001b[0m \u001b[1;32min\u001b[0m \u001b[0mrange\u001b[0m\u001b[1;33m(\u001b[0m\u001b[1;36m2\u001b[0m\u001b[1;33m,\u001b[0m \u001b[0mlen\u001b[0m\u001b[1;33m(\u001b[0m\u001b[0mpermutation\u001b[0m\u001b[1;33m)\u001b[0m\u001b[1;33m)\u001b[0m\u001b[1;33m:\u001b[0m\u001b[1;33m\u001b[0m\u001b[1;33m\u001b[0m\u001b[0m\n",
      "\u001b[1;32m<ipython-input-127-c2e0b089ad7c>\u001b[0m in \u001b[0;36mP\u001b[1;34m(w1, w2, w3, bigrams, trigrams)\u001b[0m\n\u001b[0;32m     41\u001b[0m \u001b[1;33m\u001b[0m\u001b[0m\n\u001b[0;32m     42\u001b[0m     \u001b[0mpw3\u001b[0m \u001b[1;33m=\u001b[0m \u001b[0mPUni\u001b[0m\u001b[1;33m(\u001b[0m\u001b[0mw3\u001b[0m\u001b[1;33m,\u001b[0m \u001b[0mbigrams\u001b[0m\u001b[1;33m)\u001b[0m \u001b[1;32mif\u001b[0m \u001b[0mw3\u001b[0m \u001b[1;32mis\u001b[0m \u001b[1;32mnot\u001b[0m \u001b[1;32mNone\u001b[0m \u001b[1;32melse\u001b[0m \u001b[1;36m0\u001b[0m\u001b[1;33m\u001b[0m\u001b[1;33m\u001b[0m\u001b[0m\n\u001b[1;32m---> 43\u001b[1;33m     \u001b[0mpw2w3\u001b[0m \u001b[1;33m=\u001b[0m \u001b[0mPBi\u001b[0m\u001b[1;33m(\u001b[0m\u001b[0mw2\u001b[0m\u001b[1;33m,\u001b[0m \u001b[0mw3\u001b[0m\u001b[1;33m,\u001b[0m \u001b[0mbigrams\u001b[0m\u001b[1;33m)\u001b[0m \u001b[1;32mif\u001b[0m \u001b[0mw2\u001b[0m \u001b[1;32mis\u001b[0m \u001b[1;32mnot\u001b[0m \u001b[1;32mNone\u001b[0m \u001b[1;32mand\u001b[0m \u001b[0mw3\u001b[0m \u001b[1;32mis\u001b[0m \u001b[1;32mnot\u001b[0m \u001b[1;32mNone\u001b[0m \u001b[1;32melse\u001b[0m \u001b[1;36m0\u001b[0m\u001b[1;33m\u001b[0m\u001b[1;33m\u001b[0m\u001b[0m\n\u001b[0m\u001b[0;32m     44\u001b[0m     \u001b[0mpw1w2w3\u001b[0m \u001b[1;33m=\u001b[0m \u001b[0mPTri\u001b[0m\u001b[1;33m(\u001b[0m\u001b[0mw1\u001b[0m\u001b[1;33m,\u001b[0m \u001b[0mw2\u001b[0m\u001b[1;33m,\u001b[0m \u001b[0mw3\u001b[0m\u001b[1;33m,\u001b[0m \u001b[0mtrigrams\u001b[0m\u001b[1;33m)\u001b[0m \u001b[1;32mif\u001b[0m \u001b[0mw1\u001b[0m \u001b[1;32mis\u001b[0m \u001b[1;32mnot\u001b[0m \u001b[1;32mNone\u001b[0m \u001b[1;32mand\u001b[0m \u001b[0mw2\u001b[0m \u001b[1;32mis\u001b[0m \u001b[1;32mnot\u001b[0m \u001b[1;32mNone\u001b[0m \u001b[1;32mand\u001b[0m \u001b[0mw3\u001b[0m \u001b[1;32mis\u001b[0m \u001b[1;32mnot\u001b[0m \u001b[1;32mNone\u001b[0m \u001b[1;32melse\u001b[0m \u001b[1;36m0\u001b[0m\u001b[1;33m\u001b[0m\u001b[1;33m\u001b[0m\u001b[0m\n\u001b[0;32m     45\u001b[0m \u001b[1;33m\u001b[0m\u001b[0m\n",
      "\u001b[1;32m<ipython-input-127-c2e0b089ad7c>\u001b[0m in \u001b[0;36mPBi\u001b[1;34m(w1, w2, bigrams)\u001b[0m\n\u001b[0;32m     16\u001b[0m         \u001b[0mcnt_w1w2\u001b[0m \u001b[1;33m=\u001b[0m \u001b[1;36m0\u001b[0m\u001b[1;33m\u001b[0m\u001b[1;33m\u001b[0m\u001b[0m\n\u001b[0;32m     17\u001b[0m         \u001b[1;32mfor\u001b[0m \u001b[0mn\u001b[0m\u001b[1;33m,\u001b[0m \u001b[0mword\u001b[0m \u001b[1;32min\u001b[0m \u001b[0mbigrams\u001b[0m\u001b[1;33m[\u001b[0m\u001b[0mbigram_key\u001b[0m\u001b[1;33m]\u001b[0m\u001b[1;33m:\u001b[0m\u001b[1;33m\u001b[0m\u001b[1;33m\u001b[0m\u001b[0m\n\u001b[1;32m---> 18\u001b[1;33m             \u001b[0mcnt_w1\u001b[0m \u001b[1;33m+=\u001b[0m \u001b[0mn\u001b[0m\u001b[1;33m\u001b[0m\u001b[1;33m\u001b[0m\u001b[0m\n\u001b[0m\u001b[0;32m     19\u001b[0m             \u001b[1;32mif\u001b[0m \u001b[0mword\u001b[0m \u001b[1;33m==\u001b[0m \u001b[0mw2\u001b[0m\u001b[1;33m:\u001b[0m\u001b[1;33m\u001b[0m\u001b[1;33m\u001b[0m\u001b[0m\n\u001b[0;32m     20\u001b[0m                 \u001b[0mcnt_w1w2\u001b[0m \u001b[1;33m+=\u001b[0m \u001b[0mn\u001b[0m\u001b[1;33m\u001b[0m\u001b[1;33m\u001b[0m\u001b[0m\n",
      "\u001b[1;31mKeyboardInterrupt\u001b[0m: "
     ]
    }
   ],
   "source": [
    "run_tests(sentences, successors2, successors3)"
   ]
  },
  {
   "cell_type": "code",
   "execution_count": null,
   "metadata": {},
   "outputs": [],
   "source": []
  }
 ],
 "metadata": {
  "kernelspec": {
   "display_name": "Python 3",
   "language": "python",
   "name": "python3"
  },
  "language_info": {
   "codemirror_mode": {
    "name": "ipython",
    "version": 3
   },
   "file_extension": ".py",
   "mimetype": "text/x-python",
   "name": "python",
   "nbconvert_exporter": "python",
   "pygments_lexer": "ipython3",
   "version": "3.8.3"
  }
 },
 "nbformat": 4,
 "nbformat_minor": 4
}
