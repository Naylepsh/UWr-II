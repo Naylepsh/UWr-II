{
 "metadata": {
  "language_info": {
   "codemirror_mode": {
    "name": "ipython",
    "version": 3
   },
   "file_extension": ".py",
   "mimetype": "text/x-python",
   "name": "python",
   "nbconvert_exporter": "python",
   "pygments_lexer": "ipython3",
   "version": "3.9.0-final"
  },
  "orig_nbformat": 2,
  "kernelspec": {
   "name": "python3",
   "display_name": "Python 3",
   "language": "python"
  }
 },
 "nbformat": 4,
 "nbformat_minor": 2,
 "cells": [
  {
   "cell_type": "code",
   "execution_count": 1,
   "metadata": {},
   "outputs": [],
   "source": [
    "from unidecode import unidecode\n",
    "from collections import defaultdict"
   ]
  },
  {
   "cell_type": "code",
   "execution_count": 2,
   "metadata": {},
   "outputs": [],
   "source": [
    "def normalize(text):\n",
    "    stripped = strip_non_alphanum(text)\n",
    "    return unidecode(stripped.lower())\n",
    "\n",
    "def strip_non_alphanum(text):\n",
    "    return ''.join([ c for c in filter(lambda c: c == ' ' or c.isalnum(), text) ]).rstrip(' ')"
   ]
  },
  {
   "cell_type": "code",
   "execution_count": 3,
   "metadata": {},
   "outputs": [],
   "source": [
    "def load_bigrams_norm(filename, k=10):\n",
    "    bigrams = defaultdict(lambda: {}, {})\n",
    "    normalized_bigrams = defaultdict(lambda: defaultdict(lambda: 0, {}), {})\n",
    "    with open(filename, 'r', encoding='utf-8') as file:\n",
    "        for line in file:\n",
    "            n, word1, word2 = line.rstrip('\\n').split(' ')\n",
    "            n = int(n)\n",
    "\n",
    "            if n < k: continue\n",
    "\n",
    "            bigrams[word1][word2] = n\n",
    "\n",
    "            norm_word1 = normalize(word1)\n",
    "            word1_without_nonalnum = strip_non_alphanum(word1)\n",
    "            norm_word2 = normalize(word2)\n",
    "            word2_without_nonalnum = strip_non_alphanum(word2)\n",
    "\n",
    "            normalized_bigrams[norm_word1][word1_without_nonalnum] += 1\n",
    "            normalized_bigrams[norm_word2][word2_without_nonalnum] += 1\n",
    "    return bigrams, normalized_bigrams     "
   ]
  },
  {
   "cell_type": "code",
   "execution_count": 5,
   "metadata": {},
   "outputs": [],
   "source": [
    "bigrams, normalized_bigrams = load_bigrams_norm('./data/poleval_2grams.txt', 5)"
   ]
  },
  {
   "cell_type": "code",
   "execution_count": 6,
   "metadata": {},
   "outputs": [],
   "source": [
    "def bigram_to_unigram(bigram):\n",
    "    unigram = defaultdict(lambda: 0, {})\n",
    "    for word in bigram:\n",
    "        for successor in bigram[word]:\n",
    "            count = bigram[word][successor]\n",
    "            unigram[word] += count\n",
    "            unigram[successor] += count\n",
    "    return unigram"
   ]
  },
  {
   "cell_type": "code",
   "execution_count": 7,
   "metadata": {},
   "outputs": [],
   "source": [
    "unigrams = bigram_to_unigram(bigrams)"
   ]
  },
  {
   "cell_type": "code",
   "execution_count": 8,
   "metadata": {},
   "outputs": [],
   "source": [
    "def flatten(xss):\n",
    "    return [x for xs in xss for x in xs]\n",
    "\n",
    "\n",
    "def get_word_alts(word, normalized_bigrams):\n",
    "    if word in normalized_bigrams:\n",
    "        return normalized_bigrams[word]\n",
    "    return { word: 1 }\n",
    "\n",
    "\n",
    "def get_alts(words, normalized_bigrams):\n",
    "    return list(map(lambda word: get_word_alts(word, normalized_bigrams), words))\n",
    "\n",
    "\n",
    "def best_predecessor_score(word, predecessors, bigrams):\n",
    "    best = (-1, None)\n",
    "    for predecessor in predecessors:\n",
    "        if predecessor in bigrams and word in bigrams[predecessor]:\n",
    "            candidate = (bigrams[predecessor][word], predecessor)\n",
    "            best = max(best, candidate)\n",
    "    return best\n",
    "\n",
    "\n",
    "def best_successor_score(word, successors, bigrams):\n",
    "    best = (-1, None)\n",
    "    if word in bigrams:\n",
    "        for successor in successors:\n",
    "            if successor in bigrams[word]:\n",
    "                candidate = (bigrams[word][successor], successor)\n",
    "                best = max(best, candidate)\n",
    "    return best\n",
    "\n",
    "\n",
    "def unigram_score(word, unigrams):\n",
    "    return unigrams[word] if word in unigrams else 0"
   ]
  },
  {
   "cell_type": "code",
   "execution_count": 9,
   "metadata": {},
   "outputs": [],
   "source": [
    "from random import choice\n",
    "\n",
    "\n",
    "def restore_diactrics(sentence, bigrams, normalized_bigrams, unigrams):\n",
    "    alts = get_alts(sentence.split(' '), normalized_bigrams)\n",
    "\n",
    "    score = [{}]\n",
    "    prev = [{}]\n",
    "    for alt in alts[0]:\n",
    "        score[0][alt] = 1\n",
    "        prev[0][alt] = '<START>'\n",
    "    \n",
    "    for i in range(1, len(alts)):\n",
    "        score.append({})\n",
    "        prev.append({})\n",
    "\n",
    "        for alt in alts[i]:\n",
    "            s, word = best_predecessor_score(alt, alts[i-1], bigrams)\n",
    "            s += unigram_score(word, unigrams)\n",
    "            if word is None:\n",
    "                word = choice([ alt for alt in alts[i-1] ])\n",
    "            score[-1][alt] = s\n",
    "            prev[-1][alt] = word\n",
    "    \n",
    "    # TODO: use supertags\n",
    "\n",
    "    val, last_word = max([ (c, w) for (w, c) in score[-1].items() ])\n",
    "    result = [last_word]\n",
    "\n",
    "    for i in range(len(alts)-1, 0, -1):\n",
    "        result.append(prev[i][result[-1]])\n",
    "    \n",
    "    result.reverse()\n",
    "    return [result[0].capitalize()] + result[1:]\n"
   ]
  },
  {
   "cell_type": "code",
   "execution_count": 10,
   "metadata": {},
   "outputs": [
    {
     "output_type": "execute_result",
     "data": {
      "text/plain": [
       "['Uderzył', 'go', 'w', 'żebra']"
      ]
     },
     "metadata": {},
     "execution_count": 10
    }
   ],
   "source": [
    "# sentence = \"Nie warto było\"\n",
    "sentence = \"Uderzył go w żebra\"\n",
    "normalized_sentence = normalize(sentence)\n",
    "restore_diactrics(normalized_sentence, bigrams, normalized_bigrams, unigrams)"
   ]
  },
  {
   "cell_type": "code",
   "execution_count": 12,
   "metadata": {},
   "outputs": [
    {
     "output_type": "execute_result",
     "data": {
      "text/plain": [
       "['Zebra', 'ma', 'cztery', 'nogi']"
      ]
     },
     "metadata": {},
     "execution_count": 12
    }
   ],
   "source": [
    "sentence = \"Zebra ma cztery nogi\"\n",
    "normalized_sentence = normalize(sentence)\n",
    "restore_diactrics(normalized_sentence, bigrams, normalized_bigrams, unigrams)"
   ]
  },
  {
   "cell_type": "code",
   "execution_count": null,
   "metadata": {},
   "outputs": [],
   "source": []
  }
 ]
}