{
 "metadata": {
  "language_info": {
   "codemirror_mode": {
    "name": "ipython",
    "version": 3
   },
   "file_extension": ".py",
   "mimetype": "text/x-python",
   "name": "python",
   "nbconvert_exporter": "python",
   "pygments_lexer": "ipython3",
   "version": "3.8.3-final"
  },
  "orig_nbformat": 2,
  "kernelspec": {
   "name": "python3",
   "display_name": "Python 3"
  }
 },
 "nbformat": 4,
 "nbformat_minor": 2,
 "cells": [
  {
   "cell_type": "code",
   "execution_count": 1,
   "metadata": {},
   "outputs": [],
   "source": [
    "from unidecode import unidecode\n",
    "from collections import defaultdict"
   ]
  },
  {
   "cell_type": "code",
   "execution_count": 2,
   "metadata": {},
   "outputs": [],
   "source": [
    "def normalize(text):\n",
    "    stripped = strip_non_alphanum(text)\n",
    "    return unidecode(stripped.lower())\n",
    "\n",
    "def strip_non_alphanum(text):\n",
    "    return ''.join([ c for c in filter(lambda c: c == ' ' or c.isalnum(), text) ]).rstrip(' ')"
   ]
  },
  {
   "cell_type": "code",
   "execution_count": 29,
   "metadata": {},
   "outputs": [],
   "source": [
    "def load_bigrams_norm(filename, k=10):\n",
    "    bigrams = defaultdict(lambda: {}, {})\n",
    "    normalized_bigrams = defaultdict(lambda: defaultdict(lambda: 0, {}), {})\n",
    "    with open(filename, 'r', encoding='utf-8') as file:\n",
    "        for line in file:\n",
    "            n, word1, word2 = line.rstrip('\\n').split(' ')\n",
    "            n = int(n)\n",
    "\n",
    "            if n < k: continue\n",
    "\n",
    "            bigrams[word1][word2] = n\n",
    "\n",
    "            norm_word1 = normalize(word1)\n",
    "            word1_without_nonalnum = strip_non_alphanum(word1)\n",
    "            norm_word2 = normalize(word2)\n",
    "            word2_without_nonalnum = strip_non_alphanum(word2)\n",
    "\n",
    "            normalized_bigrams[norm_word1][word1_without_nonalnum] += 1\n",
    "            normalized_bigrams[norm_word2][word2_without_nonalnum] += 1\n",
    "    return bigrams, normalized_bigrams     "
   ]
  },
  {
   "cell_type": "code",
   "execution_count": 30,
   "metadata": {},
   "outputs": [],
   "source": [
    "bigrams, normalized_bigrams = load_bigrams_norm('./poleval_2grams.txt', 15)"
   ]
  },
  {
   "cell_type": "code",
   "execution_count": 46,
   "metadata": {},
   "outputs": [],
   "source": [
    "def flatten(xss):\n",
    "    return [x for xs in xss for x in xs]\n",
    "\n",
    "\n",
    "def get_word_alts(word, normalized_bigrams):\n",
    "    if word in normalized_bigrams:\n",
    "        return normalized_bigrams[word]\n",
    "    return { word: 1 }\n",
    "\n",
    "\n",
    "def get_alts(words, normalized_bigrams):\n",
    "    return list(map(lambda word: get_word_alts(word, normalized_bigrams), words))\n",
    "\n",
    "\n",
    "def best_predecessor_score(word, predecessors, bigrams):\n",
    "    best = (-1, None)\n",
    "    for predecessor in predecessors:\n",
    "        if predecessor in bigrams and word in bigrams[predecessor]:\n",
    "            candidate = (bigrams[predecessor][word], predecessor)\n",
    "            best = max(best, candidate)\n",
    "    return best\n",
    "\n",
    "\n",
    "def best_successor_score(word, successors, bigrams):\n",
    "    best = (-1, None)\n",
    "    if word in bigrams:\n",
    "        for successor in successors:\n",
    "            if successor in bigrams[word]:\n",
    "                candidate = (bigrams[word][successor], successor)\n",
    "                best = max(best, candidate)\n",
    "    return best"
   ]
  },
  {
   "cell_type": "code",
   "execution_count": 62,
   "metadata": {},
   "outputs": [],
   "source": [
    "from random import choice\n",
    "\n",
    "\n",
    "def restore_diactrics(sentence, bigrams, normalized_bigrams):\n",
    "    alts = get_alts(sentence.split(' '), normalized_bigrams)\n",
    "\n",
    "    score = [{}]\n",
    "    prev = [{}]\n",
    "    for alt in alts[0]:\n",
    "        score[0][alt] = 1\n",
    "        prev[0][alt] = '<START>'\n",
    "    \n",
    "    for i in range(1, len(alts)):\n",
    "        score.append({})\n",
    "        prev.append({})\n",
    "\n",
    "        for alt in alts[i]:\n",
    "            s, word = best_predecessor_score(alt, alts[i-1], bigrams)\n",
    "            if word is None:\n",
    "                word = choice([ alt for alt in alts[i-1] ])\n",
    "            score[-1][alt] = s\n",
    "            prev[-1][alt] = word\n",
    "    \n",
    "    # TODO: use supertags\n",
    "\n",
    "    val, last_word = max([ (c, w) for (w, c) in score[-1].items() ])\n",
    "    result = [last_word]\n",
    "\n",
    "    for i in range(len(alts)-1, 0, -1):\n",
    "        result.append(prev[i][result[-1]])\n",
    "    \n",
    "    result.reverse()\n",
    "    return [result[0].capitalize()] + result[1:]\n"
   ]
  },
  {
   "cell_type": "code",
   "execution_count": 63,
   "metadata": {},
   "outputs": [
    {
     "output_type": "stream",
     "name": "stdout",
     "text": [
      "--- prevs ---\n[{'uderzył': '<START>'}, {'go': 'uderzył', 'gó': 'uderzył'}, {'w': 'go'}, {'żebra': 'w', 'zebra': 'w'}]\n"
     ]
    },
    {
     "output_type": "execute_result",
     "data": {
      "text/plain": [
       "['Uderzył', 'go', 'w', 'żebra']"
      ]
     },
     "metadata": {},
     "execution_count": 63
    }
   ],
   "source": [
    "# sentence = \"Nie warto było\"\n",
    "sentence = \"Uderzył go w żebra\"\n",
    "normalized_sentence = normalize(sentence)\n",
    "restore_diactrics(normalized_sentence, bigrams, normalized_bigrams)"
   ]
  },
  {
   "cell_type": "code",
   "execution_count": 53,
   "metadata": {},
   "outputs": [
    {
     "output_type": "stream",
     "name": "stdout",
     "text": [
      "--- prevs ---\n[{'żebra': '<START>', 'zebra': '<START>'}, {'ma': 'żebra', 'mą': 'zebra'}, {'cztery': 'ma'}, {'nogi': 'cztery'}]\n"
     ]
    },
    {
     "output_type": "execute_result",
     "data": {
      "text/plain": [
       "['żebra', 'ma', 'cztery', 'nogi']"
      ]
     },
     "metadata": {},
     "execution_count": 53
    }
   ],
   "source": [
    "sentence = \"Zebra ma cztery nogi\"\n",
    "normalized_sentence = normalize(sentence)\n",
    "restore_diactrics(normalized_sentence, bigrams, normalized_bigrams)"
   ]
  },
  {
   "cell_type": "code",
   "execution_count": 55,
   "metadata": {},
   "outputs": [
    {
     "output_type": "execute_result",
     "data": {
      "text/plain": [
       "False"
      ]
     },
     "metadata": {},
     "execution_count": 55
    }
   ],
   "source": [
    "'ma' in bigrams['żebra']"
   ]
  },
  {
   "cell_type": "code",
   "execution_count": 57,
   "metadata": {},
   "outputs": [
    {
     "output_type": "stream",
     "name": "stdout",
     "text": [
      "{'(': 15, ',': 127, 'i': 67, '.': 105}\n"
     ]
    }
   ],
   "source": [
    "print(bigrams['żebra'])"
   ]
  },
  {
   "cell_type": "code",
   "execution_count": null,
   "metadata": {},
   "outputs": [],
   "source": []
  }
 ]
}