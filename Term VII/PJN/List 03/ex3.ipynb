{
 "metadata": {
  "language_info": {
   "codemirror_mode": {
    "name": "ipython",
    "version": 3
   },
   "file_extension": ".py",
   "mimetype": "text/x-python",
   "name": "python",
   "nbconvert_exporter": "python",
   "pygments_lexer": "ipython3",
   "version": "3.9.0-final"
  },
  "orig_nbformat": 2,
  "kernelspec": {
   "name": "python3",
   "display_name": "Python 3"
  }
 },
 "nbformat": 4,
 "nbformat_minor": 2,
 "cells": [
  {
   "cell_type": "code",
   "execution_count": 5,
   "metadata": {},
   "outputs": [],
   "source": [
    "import random\n",
    "import numpy as np"
   ]
  },
  {
   "cell_type": "code",
   "execution_count": 6,
   "metadata": {},
   "outputs": [],
   "source": [
    "class Dice:\n",
    "    registered = 0\n",
    "\n",
    "    def __init__(self, probs):\n",
    "        self.probs = probs\n",
    "        self._id = Dice.registered\n",
    "        Dice.registered += 1\n",
    "    \n",
    "    def roll(self):\n",
    "        max_die = len(self.probs)\n",
    "        min_die = 1\n",
    "        return min_die + np.random.choice(max_die, 1, p=self.probs)[0]\n",
    "    \n",
    "    def __eq__(self, other):\n",
    "        return self._id == other._id\n",
    "    \n",
    "    def __hash__(self):\n",
    "        return self._id\n",
    "\n",
    "\n",
    "honest_dice = Dice([1/6 for i in range(6)])\n",
    "dishonest_dice = Dice([1/10 for i in range(5)] + [1/2])"
   ]
  },
  {
   "cell_type": "code",
   "execution_count": 7,
   "metadata": {},
   "outputs": [],
   "source": [
    "dice_change_from_p = {\n",
    "    honest_dice: 0.04,\n",
    "    dishonest_dice: 0.05\n",
    "}\n",
    "\n",
    "dice_change_p_matrix = np.array([ \n",
    "        [1-dice_change_from_p[honest_dice], dice_change_from_p[honest_dice]], \n",
    "        [dice_change_from_p[dishonest_dice], 1-dice_change_from_p[dishonest_dice]]])"
   ]
  },
  {
   "cell_type": "code",
   "execution_count": 10,
   "metadata": {},
   "outputs": [],
   "source": [
    "def change_dice(dice):\n",
    "    if dice == honest_dice:\n",
    "        return dishonest_dice\n",
    "    return honest_dice\n",
    "\n",
    "\n",
    "def roll(n):\n",
    "    current_dice = random.choice([honest_dice, dishonest_dice])\n",
    "    rolls = np.zeros(n)\n",
    "    dice_used = ['' for i in range(n)]\n",
    "    for i in range(n):\n",
    "        if random.random() < dice_change_from_p[current_dice]:\n",
    "            current_dice = change_dice(current_dice)\n",
    "        rolls[i] = current_dice.roll()\n",
    "        dice_used[i] = current_dice\n",
    "    return rolls, dice_used"
   ]
  },
  {
   "cell_type": "code",
   "execution_count": 11,
   "metadata": {},
   "outputs": [
    {
     "output_type": "stream",
     "name": "stdout",
     "text": [
      "1 0.136\n2 0.1393\n3 0.1407\n4 0.131\n5 0.1362\n6 0.3168\n"
     ]
    }
   ],
   "source": [
    "n = 10000\n",
    "rolls, dice_used = roll(n)\n",
    "for die in range(1, 7):\n",
    "    print(die, np.sum(rolls==die) / n)"
   ]
  },
  {
   "cell_type": "code",
   "execution_count": 42,
   "metadata": {},
   "outputs": [],
   "source": [
    "def count_six_dies(rolls):\n",
    "    return len(list(filter(lambda roll: roll == 6, rolls)))\n",
    "\n",
    "\n",
    "def heuristic(rolls, interval, constant = 2/3):\n",
    "    n = len(rolls)\n",
    "    guesses = ['' for i in range(n)]\n",
    "    for i in range(n):\n",
    "        rolls_in_a_row = rolls[max(i - interval, 0) : min(i + interval, n)]\n",
    "        expected_amount_of_six = constant * interval\n",
    "        guesses[i] = dishonest_dice if count_six_dies(rolls_in_a_row) > expected_amount_of_six else honest_dice\n",
    "    return guesses"
   ]
  },
  {
   "cell_type": "code",
   "execution_count": 20,
   "metadata": {},
   "outputs": [],
   "source": [
    "def get_score(dice_used, guesses):\n",
    "    correct = 0\n",
    "    for i in range(len(rolls)):\n",
    "        if guesses[i] == dice_used[i]:\n",
    "            correct += 1\n",
    "    return correct / len(rolls)"
   ]
  },
  {
   "cell_type": "code",
   "execution_count": 50,
   "metadata": {},
   "outputs": [
    {
     "output_type": "stream",
     "name": "stdout",
     "text": [
      "6 - 0.8232\n",
      "7 - 0.8302\n",
      "8 - 0.8299\n",
      "9 - 0.8249\n",
      "10 - 0.8215\n",
      "11 - 0.8178\n"
     ]
    }
   ],
   "source": [
    "for interval in range(6, 12):\n",
    "    guesses = heuristic(rolls, interval, 2/3)\n",
    "    score = get_score(dice_used, guesses)\n",
    "    print(interval, '-', score)"
   ]
  },
  {
   "cell_type": "code",
   "execution_count": 44,
   "metadata": {},
   "outputs": [
    {
     "output_type": "stream",
     "name": "stdout",
     "text": [
      "6 - 0.8232\n",
      "7 - 0.8162\n",
      "8 - 0.805\n",
      "9 - 0.8249\n",
      "10 - 0.8151\n",
      "11 - 0.8058\n"
     ]
    }
   ],
   "source": [
    "for interval in range(6, 12):\n",
    "    guesses = heuristic(rolls, interval, 3/4)\n",
    "    score = get_score(dice_used, guesses)\n",
    "    print(interval, '-', score)"
   ]
  },
  {
   "cell_type": "code",
   "execution_count": 16,
   "metadata": {},
   "outputs": [],
   "source": [
    "magical_constant = 5.25"
   ]
  },
  {
   "cell_type": "code",
   "execution_count": 17,
   "metadata": {},
   "outputs": [],
   "source": [
    "def get_roll_prob(dice_id, die):\n",
    "    dice = honest_dice if dice_id == 0 else dishonest_dice\n",
    "    return dice.probs[die]\n",
    "\n",
    "\n",
    "def get_alpha(rolls):\n",
    "    T = len(rolls)\n",
    "    alpha = np.zeros((2,T))\n",
    "    for i in range(T):\n",
    "        for j in range(2):\n",
    "            if i==0:\n",
    "                alpha[j,i] = j\n",
    "            else:\n",
    "                for k in range(2):\n",
    "                    roll = int(rolls[i]) - 1\n",
    "                    alpha[j,i] += alpha[k,i-1] * dice_change_p_matrix[k,j] * get_roll_prob(k, roll)\n",
    "                alpha[j,i] *= magical_constant\n",
    "    return alpha\n",
    "\n",
    "\n",
    "def get_beta(rolls):\n",
    "    T = len(rolls)\n",
    "    beta = np.zeros((2,T))\n",
    "    for i in range(T-1,-1,-1):\n",
    "        for j in range(2):\n",
    "            if i==T-1:\n",
    "                beta[j,i] = 1\n",
    "            else:\n",
    "                for k in range(2):\n",
    "                    roll = int(rolls[i]) - 1\n",
    "                    beta[j,i] += beta[k,i+1] * dice_change_p_matrix[j,k] * get_roll_prob(k, roll)\n",
    "                beta[j,i] *= magical_constant\n",
    "    return beta\n",
    "\n",
    "\n",
    "def predict_with_alpha_beta(data):\n",
    "    alpha = get_alpha(data)\n",
    "    beta = get_beta(data)\n",
    "    \n",
    "    gamma = alpha * beta / np.sum(alpha * beta, axis=0)\n",
    "    prediction = np.argmax(gamma, axis=0)\n",
    "    return prediction "
   ]
  },
  {
   "cell_type": "code",
   "execution_count": 18,
   "metadata": {},
   "outputs": [
    {
     "output_type": "stream",
     "name": "stdout",
     "text": [
      "0.8382\n"
     ]
    }
   ],
   "source": [
    "prediction = predict_with_alpha_beta(rolls)\n",
    "xs = np.array(list(map(lambda dice: dice._id, dice_used)))\n",
    "print(np.mean(prediction==xs))"
   ]
  },
  {
   "cell_type": "code",
   "execution_count": null,
   "metadata": {},
   "outputs": [],
   "source": []
  }
 ]
}