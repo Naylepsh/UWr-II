{
 "metadata": {
  "language_info": {
   "codemirror_mode": {
    "name": "ipython",
    "version": 3
   },
   "file_extension": ".py",
   "mimetype": "text/x-python",
   "name": "python",
   "nbconvert_exporter": "python",
   "pygments_lexer": "ipython3",
   "version": "3.8.3-final"
  },
  "orig_nbformat": 2,
  "kernelspec": {
   "name": "python3",
   "display_name": "Python 3"
  }
 },
 "nbformat": 4,
 "nbformat_minor": 2,
 "cells": [
  {
   "cell_type": "code",
   "execution_count": 1,
   "metadata": {},
   "outputs": [],
   "source": [
    "tag_of_word = {}\n",
    "words_with_tag = {}\n",
    "with open('./dane/supertags.txt', 'r', encoding='utf-8') as file:\n",
    "    for line in file:\n",
    "        word, tag = line.lower().rstrip('\\n').split()\n",
    "        tag_of_word[word] = tag\n",
    "        if tag in words_with_tag:\n",
    "            words_with_tag[tag].append(word)\n",
    "        else:\n",
    "            words_with_tag[tag] = [word]"
   ]
  },
  {
   "cell_type": "code",
   "execution_count": 2,
   "metadata": {},
   "outputs": [],
   "source": [
    "bigram = {}\n",
    "with open('./dane/poleval_2grams.txt', 'r', encoding='utf-8') as file:\n",
    "    for line in file:\n",
    "        n, word1, word2 = line.lower().split()\n",
    "        n = int(n)\n",
    "        if n < 10: \n",
    "            continue\n",
    "        if word1 in bigram:\n",
    "            bigram[word1].append((word2, n))\n",
    "        else:\n",
    "            bigram[word1] = [(word2, n)]"
   ]
  },
  {
   "cell_type": "code",
   "execution_count": 3,
   "metadata": {},
   "outputs": [],
   "source": [
    "from collections import defaultdict\n",
    "\n",
    "unigram = {}\n",
    "unigram = defaultdict(lambda: 0, unigram)\n",
    "for word1 in bigram:\n",
    "    for word2, n in bigram[word1]:\n",
    "        unigram[word1] += n\n",
    "        unigram[word2] += n"
   ]
  },
  {
   "cell_type": "code",
   "execution_count": 4,
   "metadata": {},
   "outputs": [],
   "source": [
    "def get_tag(word):\n",
    "    if word in tag_of_word:\n",
    "        return tag_of_word[word]\n",
    "    return tag_of_word[('^' + word)[-3:]]"
   ]
  },
  {
   "cell_type": "code",
   "execution_count": 5,
   "metadata": {},
   "outputs": [],
   "source": [
    "from random import choices\n",
    "\n",
    "\n",
    "def get_unigram_probability(word):\n",
    "    if word in unigram:\n",
    "        return unigram[word]\n",
    "    return 0.0001\n",
    "\n",
    "\n",
    "def choose_from_unigram(words):\n",
    "    weights = [get_unigram_probability(x) for x in words]\n",
    "    return choices(words, weights=weights, k=1)[0]\n",
    "\n",
    "\n",
    "def get_tag(word):\n",
    "    if word in tag_of_word:\n",
    "        return tag_of_word[word]\n",
    "    return tag_of_word[('^' + word)[-3:]]\n",
    "\n",
    "\n",
    "def random_similar_sentence(original):\n",
    "    words = original.lower().split()\n",
    "    tags = list(map(get_tag, words))\n",
    "    alternative_words = list(map(lambda tag: words_with_tag[tag], tags))\n",
    "    chosen_words = list(map(choose_from_unigram, alternative_words))\n",
    "    return ' '.join(chosen_words)"
   ]
  },
  {
   "cell_type": "code",
   "execution_count": 6,
   "metadata": {},
   "outputs": [
    {
     "output_type": "execute_result",
     "data": {
      "text/plain": [
       "'lubię pełnić dodatkowe psy w liczne kolejne dni w czasie'"
      ]
     },
     "metadata": {},
     "execution_count": 6
    }
   ],
   "source": [
    "random_similar_sentence(\"Lubię obserwować ładne ptaki w piękne słoneczne dni w lesie\")"
   ]
  },
  {
   "cell_type": "code",
   "execution_count": 7,
   "metadata": {},
   "outputs": [],
   "source": [
    "sentences = [\n",
    "    \"Litwo Ojczyzno moja Ty jesteś jak zdrowie\",\n",
    "    \"Jeden z pojmanych najemników probował odebrać to ostrze\",\n",
    "    \"Jak może być inaczej dopóki gildia znajduje się poza imperialną kontrolą\",\n",
    "    \"Jak sobie życzysz\",\n",
    "    \"Książę popatrzył spode łba i zajął się sterami\",\n",
    "]"
   ]
  },
  {
   "cell_type": "code",
   "execution_count": 8,
   "metadata": {},
   "outputs": [
    {
     "output_type": "stream",
     "name": "stdout",
     "text": [
      "eureko izbo sama ty jesteś jak bezpieczeństwo\njeden z znanych krytyków obóz zrealizować to rozwiązanie\njak może być wyłącznie żeby rola brakuje się poza znaczną recesją\njak sobie możesz\nksiążę wystartował spode grudnia i utracił się dokumentami\n"
     ]
    }
   ],
   "source": [
    "for sentence in sentences:\n",
    "    print(random_similar_sentence(sentence))"
   ]
  },
  {
   "cell_type": "code",
   "execution_count": 14,
   "metadata": {},
   "outputs": [],
   "source": [
    "def get_decent_combination(combinations):\n",
    "    acceptable_combinations = []\n",
    "    acceptable_combinations_weights = []\n",
    "    for word1, word2 in combinations:\n",
    "        if word1 in bigram:\n",
    "            for successor, n in bigram[word1]:\n",
    "                if word2 == successor:\n",
    "                    acceptable_combinations.append((word1, word2))\n",
    "                    acceptable_combinations_weights.append(n)\n",
    "    if len(acceptable_combinations) == 0:\n",
    "        return None\n",
    "    return choices(acceptable_combinations, weights=acceptable_combinations_weights, k=1)[0]\n",
    "\n",
    "\n",
    "def random_similar_sentence_v2(original):\n",
    "    words = original.lower().split()\n",
    "    first_word_alternatives = words_with_tag[get_tag(words[0])]\n",
    "    second_word_alternatives = words_with_tag[get_tag(words[1])]\n",
    "    \n",
    "    combinations = [(alt1, alt2) for alt1 in first_word_alternatives for alt2 in second_word_alternatives]\n",
    "    word1, word2 = get_decent_combination(combinations)\n",
    "    prev = word1\n",
    "    sentence = [word1]\n",
    "    for word in words[1:]:\n",
    "        word_alternatives = words_with_tag[get_tag(word)]\n",
    "        combinations = [(prev, alt) for alt in word_alternatives]\n",
    "        combination = get_decent_combination(combinations)\n",
    "\n",
    "        if combination is not None:\n",
    "            _, prev = combination\n",
    "        else:\n",
    "            sentence.append('|')\n",
    "            prev = choose_from_unigram(word_alternatives)\n",
    "            \n",
    "        sentence.append(prev)\n",
    "    \n",
    "    return ' '.join(sentence)\n"
   ]
  },
  {
   "cell_type": "code",
   "execution_count": 10,
   "metadata": {
    "tags": []
   },
   "outputs": [
    {
     "output_type": "execute_result",
     "data": {
      "text/plain": [
       "'lubię robić własne psy na małe ciche dni przed | języku'"
      ]
     },
     "metadata": {},
     "execution_count": 10
    }
   ],
   "source": [
    "random_similar_sentence_v2(\"Lubię obserwować ładne ptaki w piękne słoneczne dni w lesie\")"
   ]
  },
  {
   "cell_type": "code",
   "execution_count": 12,
   "metadata": {},
   "outputs": [],
   "source": [
    "sentences = [\n",
    "    \"Jeden z pojmanych najemników probował odebrać to ostrze\",\n",
    "    \"Jak może być inaczej dopóki gildia znajduje się poza imperialną kontrolą\",\n",
    "    \"Jak sobie życzysz\",\n",
    "    \"Książę popatrzył spode łba i zajął się sterami\",\n",
    "]"
   ]
  },
  {
   "cell_type": "code",
   "execution_count": 15,
   "metadata": {},
   "outputs": [
    {
     "output_type": "stream",
     "name": "stdout",
     "text": [
      "jeden z wprowadzonych | rodziców obowiązek poinformować | to wiązanie\n",
      "jak może być zupełnie natomiast idea wydaje się poza wielką miłośniczką\n",
      "jak sobie możesz\n",
      "książę zmarł | spode łba i wprowadził się przekładami\n"
     ]
    }
   ],
   "source": [
    "for sentence in sentences:\n",
    "    print(random_similar_sentence_v2(sentence))"
   ]
  },
  {
   "cell_type": "code",
   "execution_count": 18,
   "metadata": {},
   "outputs": [
    {
     "output_type": "stream",
     "name": "stdout",
     "text": [
      "True\n"
     ]
    }
   ],
   "source": [
    "print('natomiast' in list(map(lambda x: x[0], bigram['zupełnie'])))"
   ]
  },
  {
   "cell_type": "code",
   "execution_count": 21,
   "metadata": {},
   "outputs": [
    {
     "output_type": "stream",
     "name": "stdout",
     "text": [
      "powołując się przedmiotem | uczęszczał | z tytułem na pozostawienie\n"
     ]
    }
   ],
   "source": [
    "print(random_similar_sentence_v2(\"Bawiąc się widelcem patrzył z namysłem na niebo\"))"
   ]
  },
  {
   "cell_type": "code",
   "execution_count": 22,
   "metadata": {},
   "outputs": [
    {
     "output_type": "stream",
     "name": "stdout",
     "text": [
      "w wielu posiedzeniach | za rogiem | rozległy się sklepy\n"
     ]
    }
   ],
   "source": [
    "print(random_similar_sentence_v2(\"W paru miejscach za stołem rozległy się chichoty\"))"
   ]
  },
  {
   "cell_type": "code",
   "execution_count": 24,
   "metadata": {},
   "outputs": [
    {
     "output_type": "stream",
     "name": "stdout",
     "text": [
      "finansami publicznymi | osiągnął | miniony | pan i wstąpił do paryża\n"
     ]
    }
   ],
   "source": [
    "print(random_similar_sentence_v2(\"Drzwiami służbowymi wpadł umundurowany żołnierz i pospieszył do księcia\"))"
   ]
  },
  {
   "cell_type": "code",
   "execution_count": 25,
   "metadata": {},
   "outputs": [
    {
     "output_type": "stream",
     "name": "stdout",
     "text": [
      "nie ma tego rozległego | co by po kolejne nie doszło\n"
     ]
    }
   ],
   "source": [
    "print(random_similar_sentence_v2(\"Nie ma tego złego co by na dobre nie wyszło\"))"
   ]
  },
  {
   "cell_type": "code",
   "execution_count": null,
   "metadata": {},
   "outputs": [],
   "source": []
  }
 ]
}