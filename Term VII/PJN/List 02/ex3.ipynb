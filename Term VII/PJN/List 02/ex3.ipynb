{
 "cells": [
  {
   "cell_type": "code",
   "execution_count": 3,
   "metadata": {},
   "outputs": [],
   "source": [
    "from logger import FileProcessLogger, file_line_count"
   ]
  },
  {
   "cell_type": "code",
   "execution_count": 4,
   "metadata": {},
   "outputs": [],
   "source": [
    "def get_words_and_tags():\n",
    "    tag_of_word = {}\n",
    "    words_with_tag = {}\n",
    "    filename = './dane/supertags.txt'\n",
    "    with open(filename, 'r', encoding='utf-8') as file:\n",
    "        logger = FileProcessLogger(filename)\n",
    "        for line in file:\n",
    "            logger.update()\n",
    "            word, tag = line.lower().split()\n",
    "            tag_of_word[word] = tag\n",
    "            if tag in words_with_tag:\n",
    "                words_with_tag[tag].append(word)\n",
    "            else:\n",
    "                words_with_tag[tag] = [word]\n",
    "    return tag_of_word, words_with_tag"
   ]
  },
  {
   "cell_type": "code",
   "execution_count": 9,
   "metadata": {},
   "outputs": [
    {
     "name": "stdout",
     "output_type": "stream",
     "text": [
      "Processed 10% of the file contents...\n",
      "Processed 20% of the file contents...\n",
      "Processed 30% of the file contents...\n",
      "Processed 40% of the file contents...\n",
      "Processed 50% of the file contents...\n",
      "Processed 60% of the file contents...\n",
      "Processed 70% of the file contents...\n",
      "Processed 80% of the file contents...\n",
      "Processed 90% of the file contents...\n",
      "Processed 100% of the file contents...\n"
     ]
    }
   ],
   "source": [
    "tag_of_word, words_with_tag = get_words_and_tags()"
   ]
  },
  {
   "cell_type": "code",
   "execution_count": 5,
   "metadata": {},
   "outputs": [],
   "source": [
    "def get_bigram():\n",
    "    filename = './dane/poleval_2grams.txt'\n",
    "    bigram = {}\n",
    "    with open(filename, 'r', encoding='utf-8') as file:\n",
    "        logger = FileProcessLogger(filename)\n",
    "        for line in file:\n",
    "            logger.update()\n",
    "            n, word1, word2 = line.lower().split()\n",
    "            n = int(n)\n",
    "            if n < 10: \n",
    "                continue\n",
    "            if word1 in bigram:\n",
    "                bigram[word1].append((word2, n))\n",
    "            else:\n",
    "                bigram[word1] = [(word2, n)]\n",
    "    return bigram"
   ]
  },
  {
   "cell_type": "code",
   "execution_count": 6,
   "metadata": {},
   "outputs": [
    {
     "name": "stdout",
     "output_type": "stream",
     "text": [
      "Processed 10% of the file contents...\n",
      "Processed 20% of the file contents...\n",
      "Processed 30% of the file contents...\n",
      "Processed 40% of the file contents...\n",
      "Processed 50% of the file contents...\n",
      "Processed 60% of the file contents...\n",
      "Processed 70% of the file contents...\n",
      "Processed 80% of the file contents...\n",
      "Processed 90% of the file contents...\n",
      "Processed 100% of the file contents...\n"
     ]
    }
   ],
   "source": [
    "bigram = get_bigram()"
   ]
  },
  {
   "cell_type": "code",
   "execution_count": 7,
   "metadata": {},
   "outputs": [],
   "source": [
    "from collections import defaultdict\n",
    "def to_unigram(bigram):\n",
    "    unigram = {}\n",
    "    unigram = defaultdict(lambda: 0, unigram)\n",
    "    for word1 in bigram:\n",
    "        for word2, n in bigram[word1]:\n",
    "            unigram[word1] += n\n",
    "            unigram[word2] += n\n",
    "    return unigram"
   ]
  },
  {
   "cell_type": "code",
   "execution_count": 8,
   "metadata": {},
   "outputs": [],
   "source": [
    "unigram = to_unigram(bigram)"
   ]
  },
  {
   "cell_type": "code",
   "execution_count": 113,
   "metadata": {},
   "outputs": [],
   "source": [
    "import numpy as np\n",
    "\n",
    "\n",
    "def get_unigram_probability(word):\n",
    "    if word in unigram:\n",
    "        return unigram[word]\n",
    "    return 0.0001\n",
    "\n",
    "\n",
    "def choose_from_unigram(words):\n",
    "    probs = np.array([get_unigram_probability(x) for x in words])\n",
    "    probs = probs / np.sum(probs)\n",
    "    return str(np.random.choice(words, 1, p=probs)[0])\n",
    "\n",
    "\n",
    "def get_tag(word):\n",
    "    if word in tag_of_word:\n",
    "        return tag_of_word[word]\n",
    "    return tag_of_word[('^' + word)[-3:]]\n",
    "\n",
    "\n",
    "def random_similar_sentence(original):\n",
    "    words = original.lower().split()\n",
    "    tags = list(map(get_tag, words))\n",
    "    alternative_words = list(map(lambda tag: words_with_tag[tag], tags))\n",
    "    chosen_words = list(map(choose_from_unigram, alternative_words))\n",
    "    return ' '.join(chosen_words)"
   ]
  },
  {
   "cell_type": "code",
   "execution_count": 42,
   "metadata": {},
   "outputs": [],
   "source": [
    "sentences = [\n",
    "    \"Mały Piotruś spotkał w niewielkiej restauracyjce wczoraj poznaną koleżankę\",\n",
    "    \"Litwo Ojczyzno moja Ty jesteś jak zdrowie\",\n",
    "    \"Jeden z pojmanych najemników probował odebrać to ostrze\",\n",
    "    \"Jak może być inaczej dopóki gildia znajduje się poza imperialną kontrolą\",\n",
    "    \"Jak sobie życzysz\",\n",
    "    \"Książę popatrzył spode łba i zajął się sterami\",\n",
    "]"
   ]
  },
  {
   "cell_type": "code",
   "execution_count": 45,
   "metadata": {},
   "outputs": [
    {
     "name": "stdout",
     "output_type": "stream",
     "text": [
      "ortograficzny poseł dostrzegł na niekonwencjonalnej głowie wówczas określoną prostytutkę\n",
      "szyszko belo ta ty jesteś jak usamodzielnienie\n",
      "jeden z podpisanych pracodawców los zaoferować to niebo\n",
      "jak może być przykładowo oraz konstrukcja przedstawia się poza europejską jakością\n",
      "jak sobie chcesz\n",
      "książę odszedł spode dnia i przygotował się głosami\n"
     ]
    }
   ],
   "source": [
    "for sentence in sentences:\n",
    "    print(random_similar_sentence(sentence))"
   ]
  },
  {
   "cell_type": "code",
   "execution_count": 106,
   "metadata": {},
   "outputs": [],
   "source": [
    "def get_bigram_probability(word, successor):\n",
    "    if successor in bigram[word]:\n",
    "        return bigram[word][successor]\n",
    "    return 0.0001\n",
    "\n",
    "\n",
    "def choose_from_bigram(word, successors):\n",
    "    probs = np.array([get_bigram_probability(word, successor) for successor in successors])\n",
    "    probs = probs / np.sum(probs)\n",
    "    return str(np.random.choice(successors, 1, p=probs)[0])\n",
    "\n",
    "\n",
    "def random_similar_sentence_v2(original):\n",
    "    words = original.lower().split()\n",
    "    tags = list(map(get_tag, words))\n",
    "    alternative_words = list(map(lambda tag: words_with_tag[tag], tags))\n",
    "    words_in_bigram = { word for word in bigram }\n",
    "    \n",
    "    i = 0\n",
    "    sentence = []   \n",
    "    while i < len(words):\n",
    "        known_alternatives = set(alternative_words[i])\n",
    "        available_words = known_alternatives.intersection(words_in_bigram)\n",
    "        word = choose_from_unigram(list(available_words))\n",
    "        sentence.append(word)\n",
    "        i += 1\n",
    "        \n",
    "        while word in bigram and i < len(words):\n",
    "            known_alternatives = set(alternative_words[i])\n",
    "            available_words = known_alternatives.intersection(words_in_bigram)\n",
    "            if len(available_words) == 0:\n",
    "                break\n",
    "            \n",
    "            word = choose_from_bigram(word, list(available_words))\n",
    "            sentence.append(word)\n",
    "            i += 1\n",
    "        else:\n",
    "            sentence.append('|')\n",
    "    return ' '.join(sentence[:-1])"
   ]
  },
  {
   "cell_type": "code",
   "execution_count": 70,
   "metadata": {},
   "outputs": [
    {
     "name": "stdout",
     "output_type": "stream",
     "text": [
      "konstytucyjny pasjonat powiedział po nieodżałowanej wściekliźnie gromko sygnowaną pociechę\n",
      "anno graco moja ty pochodzisz jak drzewce\n",
      "jeden ze spłacanych niemców rem przeszkolić tamto wyczekiwanie\n",
      "jak może być okazale póki arabica uruchamia się poza brudną kunegundą\n",
      "jak sobie wpadasz\n",
      "książę zatriumfował spode globalizmu i podsłuchał się aspektami\n"
     ]
    }
   ],
   "source": [
    "for sentence in sentences:\n",
    "    print(random_similar_sentence_v2(sentence))"
   ]
  },
  {
   "cell_type": "code",
   "execution_count": 93,
   "metadata": {},
   "outputs": [
    {
     "data": {
      "text/plain": [
       "'cały sielańczyk uwiecznił w niezawodowej eskorcie bezdzietnie wysuszoną istotę'"
      ]
     },
     "execution_count": 93,
     "metadata": {},
     "output_type": "execute_result"
    }
   ],
   "source": [
    "s = 'Mały Piotruś spotkał w niewielkiej restauracyjce wczoraj poznaną koleżankę'\n",
    "random_similar_sentence_v2(s)"
   ]
  },
  {
   "cell_type": "code",
   "execution_count": 112,
   "metadata": {},
   "outputs": [
    {
     "name": "stdout",
     "output_type": "stream",
     "text": [
      "using unigram!!!!\n",
      "prawny salwator orzekł nad niesławnej poduszce wówczas przerwaną skargę\n",
      "using unigram!!!!\n",
      "apelacyjny wicemarszałek popełnił pod niecałej marinie niepoprawnie lubianą audiencję\n",
      "using unigram!!!!\n",
      "jedyny namiestnik podszył na niedawnej nebrasce sejsmicznie wytworzoną przeprawę\n",
      "using unigram!!!!\n",
      "radziecki chmielak udostępnił między nieracjonalnej salamance etatowo wspominaną politykę\n",
      "using unigram!!!!\n",
      "członkowski jakub pokreślił nad nieorganicznej polance dwuetapowo wygłodzoną finlandię\n",
      "using unigram!!!!\n",
      "incydentalny rajca ugodził nad niezawodowej mieliźnie kanonicznie wyciąganą lawinę\n",
      "using unigram!!!!\n",
      "bankowy bartek odmienił nad niepodległej gamie treningowo zwartą komercjalizację\n",
      "using unigram!!!!\n",
      "amerykański bej zadzwonił w niezgodnej koszulce optymistycznie zaplanowaną subskrypcję\n",
      "using unigram!!!!\n",
      "przemysłowy ginter zawłaszczył pod niepożądanej skodzie niepotrzebnie zapinaną tamarę\n",
      "using unigram!!!!\n",
      "wiejski magister wczytał po niecodziennej metafizyce górnolotnie zajmowaną kliszę\n",
      "using unigram!!!!\n",
      "każdy boy zaryzykował ponad niespokojnej bohaterce doświadczalnie dopuszczoną mukowiscydozę\n",
      "using unigram!!!!\n",
      "krytyczny brześć wyodrębnił pod niezgodnej olszynce czczo administrowaną megawatogodzinę\n",
      "using unigram!!!!\n",
      "obowiązany unita skorygował pomiędzy nieznacznej ferrarze znikomo utrzymaną trylogię\n",
      "using unigram!!!!\n",
      "centralny deweloper uświadomił pomiędzy niesławnej gorączce żywnie zaleconą reedycję\n",
      "using unigram!!!!\n",
      "gruby bohdan ukuł nad niewidocznej wólce dodatnio naniesioną truciznę\n",
      "using unigram!!!!\n",
      "pancerny przyrodnik przelobował przed nieadekwatnej paradzie formalnie utlenioną intrygę\n",
      "using unigram!!!!\n",
      "techniczny rolandas ubezpieczył pomiędzy niezbywalnej agendzie pochopnie głoszoną hurtownię\n",
      "using unigram!!!!\n",
      "surowy meissner spełnił ponad niejednoznacznej skrze niechętnie uwarunkowaną głuchotę\n",
      "using unigram!!!!\n",
      "konstytucyjny aigner wdrożył w niesprawiedliwej piacenzie artystycznie przesuszoną sugestię\n",
      "using unigram!!!!\n",
      "następny egzarcha wywiózł przed niepełnosprawnej czterdziestce psychicznie nieodpartą kreskę\n",
      "using unigram!!!!\n",
      "końcowy brandys wydalił przed nieparzystej emporze zgoła umieszczoną pseudonaukę\n",
      "using unigram!!!!\n",
      "równikowy wdowiec rozkochał przed nierdzewnej metce marginalnie wyreżyserowaną ksenofobię\n",
      "using unigram!!!!\n",
      "krajowy geodeta skontaktował nad nieodpowiedzialnej podwyżce administracyjno koncesjonowaną rasę\n",
      "using unigram!!!!\n",
      "piękny programista sprawdził po nietypowej tuluzie wrogo porzuconą konserwę\n",
      "using unigram!!!!\n",
      "właściwy szermierz zrządził ponad nieodpowiedzialnej skardze niezmiernie spawaną innowację\n",
      "using unigram!!!!\n",
      "kolejowy baca włączył pomiędzy niewygodnej krewie nadzwyczaj utrzymaną zbiórkę\n",
      "using unigram!!!!\n",
      "studyjny zarządca zrzeszył pomiędzy nienależnej automatyce lokalnie ujętą bursę\n",
      "using unigram!!!!\n",
      "zaszczytny kiełbowicz zmotywował pod nieparzystej delegaturze niedobrze poprowadzoną jadwigę\n",
      "using unigram!!!!\n",
      "wojskowy józek uczcił nad niepożądanej partnerce bytowo zwaloryzowaną eliminację\n",
      "using unigram!!!!\n",
      "świecki davies zdeklasował pod niezrozumiałej diecie krystalicznie zabudowaną rozłąkę\n"
     ]
    }
   ],
   "source": [
    "for _ in range(30):\n",
    "    res = random_similar_sentence_v2(s)\n",
    "    print(res)\n",
    "    original_words = s.lower().split()\n",
    "    res_words = res.split()\n",
    "    for i in range(len(original_words)):\n",
    "        wo = original_words[i]\n",
    "        if wo not in tag_of_word:\n",
    "            wo = wo[-3:]\n",
    "        wr = res_words[i]\n",
    "        if wr not in tag_of_word:\n",
    "            wr = wr[-3:]\n",
    "        to = tag_of_word[wo]\n",
    "        tr = tag_of_word[wr]\n",
    "        if to != tr:\n",
    "            print(original_words[i], to, res_words[i], tr)"
   ]
  },
  {
   "cell_type": "code",
   "execution_count": null,
   "metadata": {},
   "outputs": [],
   "source": []
  }
 ],
 "metadata": {
  "kernelspec": {
   "display_name": "Python 3",
   "language": "python",
   "name": "python3"
  },
  "language_info": {
   "codemirror_mode": {
    "name": "ipython",
    "version": 3
   },
   "file_extension": ".py",
   "mimetype": "text/x-python",
   "name": "python",
   "nbconvert_exporter": "python",
   "pygments_lexer": "ipython3",
   "version": "3.8.3"
  }
 },
 "nbformat": 4,
 "nbformat_minor": 4
}
