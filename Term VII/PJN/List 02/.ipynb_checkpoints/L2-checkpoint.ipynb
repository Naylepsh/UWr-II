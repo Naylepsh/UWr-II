{
 "cells": [
  {
   "cell_type": "markdown",
   "metadata": {
    "ExecuteTime": {
     "end_time": "2020-11-05T16:00:54.048005Z",
     "start_time": "2020-11-05T16:00:54.008107Z"
    }
   },
   "source": [
    "# PJN L2"
   ]
  },
  {
   "cell_type": "code",
   "execution_count": 118,
   "metadata": {
    "ExecuteTime": {
     "end_time": "2020-11-07T14:50:31.739330Z",
     "start_time": "2020-11-07T14:50:22.996124Z"
    }
   },
   "outputs": [],
   "source": [
    "import numpy as np\n",
    "import random\n",
    "import itertools\n",
    "from collections import defaultdict\n",
    "import math\n",
    "import os\n",
    "from itertools import permutations\n",
    "import time\n",
    "from scipy.stats import mode"
   ]
  },
  {
   "cell_type": "markdown",
   "metadata": {},
   "source": [
    "## Zadanie 1. (3+1+Xp) \n",
    "Napisz program, który ustala autora zdania. Autorów jest trójka: Prus, Orzeszkowa, Sienkiewicz (POS), na SKOSie znajdziesz odpowiednie dane uczące. Powinieneś je podzielić na część uczącą i walidacyjną. Część X punktacji zależeć będzie od tego, jak Twój program wypadnie na tle innych programów dla danych testowych (które pojawią się później na SKOSie). \n",
    "\n",
    "Dwie podstawowe metody są następujące:\n",
    "\n",
    "a) Naive Bayes (będzie na wykładzie 4, powinieneś użyć przynajmniej jednej cechy, która nie jest słowem)\n",
    "\n",
    "b) Utworzenie trzech modeli językowych i wybór tego, który daje najepszy wynik na klasyfikowanym zdaniu.\n",
    "\n",
    "(Za sprawdzenie dwóch podejść jest punkt premiowy)"
   ]
  },
  {
   "cell_type": "code",
   "execution_count": 15,
   "metadata": {
    "ExecuteTime": {
     "end_time": "2020-11-07T10:00:33.418488Z",
     "start_time": "2020-11-07T10:00:33.404493Z"
    }
   },
   "outputs": [],
   "source": [
    "P_words = defaultdict(lambda:1)\n",
    "O_words = defaultdict(lambda:1)\n",
    "S_words = defaultdict(lambda:1)\n",
    "P_lens = defaultdict(lambda:1)\n",
    "O_lens = defaultdict(lambda:1)\n",
    "S_lens = defaultdict(lambda:1)\n",
    "\n",
    "P_valid_sentences = []\n",
    "O_valid_sentences = []\n",
    "S_valid_sentences = []"
   ]
  },
  {
   "cell_type": "code",
   "execution_count": 54,
   "metadata": {
    "ExecuteTime": {
     "end_time": "2020-11-07T10:27:27.368858Z",
     "start_time": "2020-11-07T10:27:26.948420Z"
    }
   },
   "outputs": [],
   "source": [
    "names = ['prusa','orzeszkowej','sienkiewicza']\n",
    "words_dicts = [P_words,O_words,S_words]\n",
    "lens_dicts = [P_lens,O_lens,S_lens]\n",
    "valid_lists = [P_valid_sentences,O_valid_sentences,S_valid_sentences]\n",
    "\n",
    "random.seed(42)\n",
    "VALID_PROB = 0.15\n",
    "\n",
    "for i,name in enumerate(names):\n",
    "    words_dict = words_dicts[i]\n",
    "    lens_dict = lens_dicts[i]\n",
    "    valid_list = valid_lists[i]\n",
    "    with open(f'./dane_pozytywistyczne/korpus_{name}.txt', 'r', encoding='utf-8') as f:\n",
    "        for l in f:\n",
    "            if len(l[:-1]):\n",
    "                for sentence in l[:-1].split('. '):\n",
    "    \n",
    "                    if random.random() < VALID_PROB:\n",
    "                        valid_list.append(sentence)\n",
    "                        continue\n",
    "                    for w in sentence.split(' '):\n",
    "                        words_dict[w.lower()]+=1\n",
    "                    lens_dict[len(sentence.split(' '))]+=1"
   ]
  },
  {
   "cell_type": "code",
   "execution_count": 55,
   "metadata": {
    "ExecuteTime": {
     "end_time": "2020-11-07T10:27:29.141787Z",
     "start_time": "2020-11-07T10:27:29.133808Z"
    }
   },
   "outputs": [],
   "source": [
    "P_words_c, O_words_c, S_words_c = map(lambda e: sum(list(e.values())), words_dicts)\n",
    "P_lens_c, O_lens_c, S_lens_c = map(lambda e: sum(list(e.values())), lens_dicts)"
   ]
  },
  {
   "cell_type": "code",
   "execution_count": 56,
   "metadata": {
    "ExecuteTime": {
     "end_time": "2020-11-07T10:27:29.751071Z",
     "start_time": "2020-11-07T10:27:29.733532Z"
    }
   },
   "outputs": [],
   "source": [
    "N_sents_P, N_sents_O, N_sents_S = map(lambda e: sum(list(e.values()))-len(list(e.values())), lens_dicts)\n",
    "total_sents_sum = N_sents_P + N_sents_O + N_sents_S\n",
    "totalPP,totalPO,totalPS = math.log(N_sents_P/total_sents_sum), math.log(N_sents_O/total_sents_sum), math.log(N_sents_S/total_sents_sum)"
   ]
  },
  {
   "cell_type": "code",
   "execution_count": 84,
   "metadata": {
    "ExecuteTime": {
     "end_time": "2020-11-07T10:36:57.448661Z",
     "start_time": "2020-11-07T10:36:57.438689Z"
    }
   },
   "outputs": [],
   "source": [
    "def predict(s):\n",
    "    PP,PO,PS = .0,.0,.0\n",
    "    for w in s:\n",
    "        w = w.lower()\n",
    "        PP+=math.log(P_words[w]/P_words_c)\n",
    "        PS+=math.log(S_words[w]/S_words_c)\n",
    "        PO+=math.log(O_words[w]/O_words_c)\n",
    "        \n",
    "    s_len = len(s)\n",
    "    PP+=math.log(P_lens[s_len]/P_lens_c)\n",
    "    PS+=math.log(S_lens[s_len]/S_lens_c)\n",
    "    PO+=math.log(O_lens[s_len]/O_lens_c)\n",
    "    \n",
    "    PP,PS,PO = PP+totalPP,PS+totalPS,PO+totalPO\n",
    "    \n",
    "    return np.argmax(np.array([PP,PO,PS]))"
   ]
  },
  {
   "cell_type": "code",
   "execution_count": 85,
   "metadata": {
    "ExecuteTime": {
     "end_time": "2020-11-07T10:36:58.303606Z",
     "start_time": "2020-11-07T10:36:57.942127Z"
    }
   },
   "outputs": [
    {
     "name": "stdout",
     "output_type": "stream",
     "text": [
      "[[4376.  975.  629.]\n",
      " [  80. 2506.   50.]\n",
      " [ 146.  113.  998.]]\n"
     ]
    },
    {
     "data": {
      "text/plain": [
       "0.798136331408893"
      ]
     },
     "execution_count": 85,
     "metadata": {},
     "output_type": "execute_result"
    }
   ],
   "source": [
    "confustion_matrix = np.zeros((3,3))\n",
    "for i, valid_set in enumerate(valid_lists):\n",
    "    for sent in valid_set:\n",
    "        s = sent.split(' ')\n",
    "        c = predict(s)\n",
    "        confustion_matrix[c,i] += 1\n",
    "\n",
    "print(confustion_matrix)\n",
    "np.sum(np.diag(confustion_matrix))/np.sum(confustion_matrix,axis=None)"
   ]
  },
  {
   "cell_type": "markdown",
   "metadata": {},
   "source": [
    "### Tests"
   ]
  },
  {
   "cell_type": "code",
   "execution_count": 82,
   "metadata": {
    "ExecuteTime": {
     "end_time": "2020-11-07T10:36:52.907166Z",
     "start_time": "2020-11-07T10:36:52.874232Z"
    }
   },
   "outputs": [],
   "source": [
    "test_files = os.listdir('./dane_pozytywistyczne/testy1/')\n",
    "test_sentences = []\n",
    "test_labels = []\n",
    "for test_file in test_files:\n",
    "    if 'prusa' in test_file:\n",
    "        label = 0\n",
    "    elif 'orzeszkowej' in test_file:\n",
    "        label = 1\n",
    "    else:\n",
    "        label = 2\n",
    "        \n",
    "    with open('./dane_pozytywistyczne/testy1/'+test_file, 'r', encoding='utf-8') as f:\n",
    "        for l in f:\n",
    "            if len(l[:-1]):\n",
    "                for sentence in l[:-1].split('. '):\n",
    "                    test_sentences.append(sentence)\n",
    "                    test_labels.append(label)"
   ]
  },
  {
   "cell_type": "code",
   "execution_count": 83,
   "metadata": {
    "ExecuteTime": {
     "end_time": "2020-11-07T10:36:53.405512Z",
     "start_time": "2020-11-07T10:36:53.240967Z"
    }
   },
   "outputs": [
    {
     "name": "stdout",
     "output_type": "stream",
     "text": [
      "[[1236.  122.  863.]\n",
      " [  96.  274.  146.]\n",
      " [ 285.  285.  909.]]\n"
     ]
    },
    {
     "data": {
      "text/plain": [
       "0.5737666034155597"
      ]
     },
     "execution_count": 83,
     "metadata": {},
     "output_type": "execute_result"
    }
   ],
   "source": [
    "confustion_matrix = np.zeros((3,3))\n",
    "for i,sentence in enumerate(test_sentences):\n",
    "    label = test_labels[i]\n",
    "    pred = predict(sentence.split(' '))\n",
    "    confustion_matrix[pred,label] += 1\n",
    "    \n",
    "print(confustion_matrix)\n",
    "np.sum(np.diag(confustion_matrix))/np.sum(confustion_matrix,axis=None)"
   ]
  },
  {
   "cell_type": "markdown",
   "metadata": {},
   "source": [
    "## Zadanie 2. (3+Xp) \n",
    "W zadaniu tym powinieneś uporządkować (spermutować) ciąg słów, żeby utworzył zdanie. W stosunku do poprzedniej listy mamy następujące różnice:\n",
    "\n",
    "a) powinieneś wykorzystać tagi słów (na przykład z pliku supertags.txt, link na SKOSie)\n",
    "\n",
    "b) powinieneś je połączyć ze zwykłymi statystykami bigramowymi (lub, opcjonalnie, z sufiksami)\n",
    "\n",
    "c) powinieneś wyodrębnić z danych uczących część walidacyjną i dobrać parametry łączenia modeli\n",
    "bazujących na słowach i bazujących na tagach.\n",
    "\n",
    "Sposób oceny będzie taki sam, jak w przypadku zadania z P1. Wybór zdań do oceny pojawi się\n",
    "przed zajęciami (będą to zdania zawierające od 4 do 8 tokenów, wybrane losowo z części testowej\n",
    "korpusu PolEval)"
   ]
  },
  {
   "cell_type": "code",
   "execution_count": 34,
   "metadata": {
    "ExecuteTime": {
     "end_time": "2020-11-07T11:33:44.001000Z",
     "start_time": "2020-11-07T11:32:20.663151Z"
    }
   },
   "outputs": [],
   "source": [
    "BIGRAMS_DICT = {}\n",
    "with open('poleval_2grams.txt','r',encoding='UTF-8') as f:\n",
    "    for line in f:\n",
    "        n,s1,s2 = line.lower()[:-1].split(' ')\n",
    "        n = int(n)\n",
    "        if n >= 10:\n",
    "            if s1 not in BIGRAMS_DICT:\n",
    "                BIGRAMS_DICT[s1] = {s2:n}\n",
    "            else:\n",
    "                BIGRAMS_DICT[s1][s2] = n"
   ]
  },
  {
   "cell_type": "code",
   "execution_count": 35,
   "metadata": {
    "ExecuteTime": {
     "end_time": "2020-11-07T11:39:21.396434Z",
     "start_time": "2020-11-07T11:33:44.002998Z"
    }
   },
   "outputs": [],
   "source": [
    "TRIGRAMS_DICT = {}\n",
    "with open('poleval_3grams.txt','r',encoding='UTF-8') as f:\n",
    "    for line in f:\n",
    "        line = line.lower()[:-1].split(' ')\n",
    "        if len(line) != 4:\n",
    "            continue\n",
    "        n,s1,s2,s3 = line\n",
    "        n = int(n)\n",
    "        if n >= 10:\n",
    "            if (s1,s2) not in TRIGRAMS_DICT:\n",
    "                TRIGRAMS_DICT[(s1,s2)] = {s3:n}\n",
    "            else:\n",
    "                TRIGRAMS_DICT[(s1,s2)][s3] = n"
   ]
  },
  {
   "cell_type": "code",
   "execution_count": 90,
   "metadata": {
    "ExecuteTime": {
     "end_time": "2020-11-07T13:55:10.069268Z",
     "start_time": "2020-11-07T13:55:10.056303Z"
    }
   },
   "outputs": [],
   "source": [
    "def P(w,w1=None,w2=None,l1=0.05,l2=0.11,l3=0.84):\n",
    "    N = 4000000\n",
    "    pw,pww,pwww = 1/N,0,0\n",
    "    \n",
    "    if w in BIGRAMS_DICT:\n",
    "        s = sum(BIGRAMS_DICT[w].values())\n",
    "        pw = s/N\n",
    "        \n",
    "    if w1 is not None and w1 in BIGRAMS_DICT:\n",
    "        D = BIGRAMS_DICT[w1]\n",
    "        if w in D:\n",
    "            s = sum(D.values())\n",
    "            pww = D[w]/s\n",
    "                \n",
    "    if w2 is not None and w1 is not None and (w2,w1) in TRIGRAMS_DICT:\n",
    "        D = TRIGRAMS_DICT[(w2,w1)]\n",
    "        if w in D:\n",
    "            s = sum(D.values())\n",
    "            pwww = D[w]/s\n",
    "    \n",
    "    return math.log(l1*pw + l2*pww + l3*pwww)"
   ]
  },
  {
   "cell_type": "code",
   "execution_count": 37,
   "metadata": {
    "ExecuteTime": {
     "end_time": "2020-11-07T11:39:47.125443Z",
     "start_time": "2020-11-07T11:39:47.107475Z"
    }
   },
   "outputs": [],
   "source": [
    "def compare_perms(p1,p2):\n",
    "    for i,w in enumerate(p1):\n",
    "        if w != p2[i]:\n",
    "            return False\n",
    "    return True        "
   ]
  },
  {
   "cell_type": "code",
   "execution_count": 91,
   "metadata": {
    "ExecuteTime": {
     "end_time": "2020-11-07T13:55:17.581731Z",
     "start_time": "2020-11-07T13:55:17.572793Z"
    }
   },
   "outputs": [],
   "source": [
    "def order_words(tokens,f=P,l1=0.05,l2=0.11,l3=0.84):\n",
    "    results = []\n",
    "    tokens = [t.lower() for t in tokens]\n",
    "    for perm in permutations(tokens):\n",
    "        p = 0.0\n",
    "        p += f(perm[0])\n",
    "        p += f(perm[1], perm[0])\n",
    "        for i in range(2,len(tokens)):\n",
    "            p += f(perm[i], perm[i-1], perm[i-2], l1, l2, l3)\n",
    "        results.append((p,perm))\n",
    "    sorted_result = sorted(results,key=lambda e:e[0],reverse=True)\n",
    "    for i,(s,perm) in enumerate(sorted_result):\n",
    "        if compare_perms(tokens,perm):\n",
    "            return 1/(i+1)\n",
    "    return 0"
   ]
  },
  {
   "cell_type": "code",
   "execution_count": 69,
   "metadata": {
    "ExecuteTime": {
     "end_time": "2020-11-07T12:45:38.340679Z",
     "start_time": "2020-11-07T12:45:38.328711Z"
    }
   },
   "outputs": [],
   "source": [
    "def test(f=P,l1=0.05,l2=0.11,l3=0.84):\n",
    "    sum_ = 0.0\n",
    "    N = len(ZDANIA)\n",
    "    ones = 0\n",
    "    for i,s in enumerate(ZDANIA):\n",
    "        if len(s) >= 8:\n",
    "            print(f'Zdanie {i+1}/{N}, wynik: skipped')\n",
    "            continue\n",
    "        score = order_words(s,f,l1,l2,l3)\n",
    "        sum_ += score\n",
    "        if int(score) == 1:\n",
    "            ones+=1\n",
    "        print(f'Zdanie {i+1}/{N}, wynik: {score}')\n",
    "    print()\n",
    "    print(f'Wynik całkowity: {sum_/N}, ilość poprawnych wyników: {ones}/{N}')"
   ]
  },
  {
   "cell_type": "code",
   "execution_count": 47,
   "metadata": {
    "ExecuteTime": {
     "end_time": "2020-11-07T11:51:28.086297Z",
     "start_time": "2020-11-07T11:49:28.081802Z"
    }
   },
   "outputs": [
    {
     "name": "stdout",
     "output_type": "stream",
     "text": [
      "Zdanie 1/65, wynik: 0.01818181818181818\n",
      "Zdanie 2/65, wynik: 0.14285714285714285\n",
      "Zdanie 3/65, wynik: 0.14285714285714285\n",
      "Zdanie 4/65, wynik: 0.006802721088435374\n",
      "Zdanie 5/65, wynik: skipped\n",
      "Zdanie 6/65, wynik: 0.004878048780487805\n",
      "Zdanie 7/65, wynik: 0.004784688995215311\n",
      "Zdanie 8/65, wynik: 0.3333333333333333\n",
      "Zdanie 9/65, wynik: 0.024390243902439025\n",
      "Zdanie 10/65, wynik: 0.043478260869565216\n",
      "Zdanie 11/65, wynik: 0.010416666666666666\n",
      "Zdanie 12/65, wynik: 0.029411764705882353\n",
      "Zdanie 13/65, wynik: 0.011627906976744186\n",
      "Zdanie 14/65, wynik: 0.3333333333333333\n",
      "Zdanie 15/65, wynik: 1.0\n",
      "Zdanie 16/65, wynik: 0.008264462809917356\n",
      "Zdanie 17/65, wynik: 1.0\n",
      "Zdanie 18/65, wynik: 0.04\n",
      "Zdanie 19/65, wynik: 0.004878048780487805\n",
      "Zdanie 20/65, wynik: 1.0\n",
      "Zdanie 21/65, wynik: 0.5\n",
      "Zdanie 22/65, wynik: 1.0\n",
      "Zdanie 23/65, wynik: 0.06666666666666667\n",
      "Zdanie 24/65, wynik: 0.16666666666666666\n",
      "Zdanie 25/65, wynik: 0.047619047619047616\n",
      "Zdanie 26/65, wynik: 0.25\n",
      "Zdanie 27/65, wynik: 1.0\n",
      "Zdanie 28/65, wynik: 0.05263157894736842\n",
      "Zdanie 29/65, wynik: 1.0\n",
      "Zdanie 30/65, wynik: 0.0625\n",
      "Zdanie 31/65, wynik: 0.125\n",
      "Zdanie 32/65, wynik: 1.0\n",
      "Zdanie 33/65, wynik: 0.04\n",
      "Zdanie 34/65, wynik: 0.0034482758620689655\n",
      "Zdanie 35/65, wynik: 0.05\n",
      "Zdanie 36/65, wynik: 1.0\n",
      "Zdanie 37/65, wynik: 1.0\n",
      "Zdanie 38/65, wynik: 0.125\n",
      "Zdanie 39/65, wynik: 0.02564102564102564\n",
      "Zdanie 40/65, wynik: 0.007194244604316547\n",
      "Zdanie 41/65, wynik: 0.006896551724137931\n",
      "Zdanie 42/65, wynik: skipped\n",
      "Zdanie 43/65, wynik: 1.0\n",
      "Zdanie 44/65, wynik: 0.3333333333333333\n",
      "Zdanie 45/65, wynik: 1.0\n",
      "Zdanie 46/65, wynik: 0.1111111111111111\n",
      "Zdanie 47/65, wynik: 0.09090909090909091\n",
      "Zdanie 48/65, wynik: 0.05263157894736842\n",
      "Zdanie 49/65, wynik: 1.0\n",
      "Zdanie 50/65, wynik: 0.14285714285714285\n",
      "Zdanie 51/65, wynik: 0.08333333333333333\n",
      "Zdanie 52/65, wynik: 1.0\n",
      "Zdanie 53/65, wynik: 1.0\n",
      "Zdanie 54/65, wynik: 0.25\n",
      "Zdanie 55/65, wynik: 0.08333333333333333\n",
      "Zdanie 56/65, wynik: 0.02040816326530612\n",
      "Zdanie 57/65, wynik: 0.09090909090909091\n",
      "Zdanie 58/65, wynik: skipped\n",
      "Zdanie 59/65, wynik: 0.1\n",
      "Zdanie 60/65, wynik: 1.0\n",
      "Zdanie 61/65, wynik: 1.0\n",
      "Zdanie 62/65, wynik: 1.0\n",
      "Zdanie 63/65, wynik: 0.5\n",
      "Zdanie 64/65, wynik: 1.0\n",
      "Zdanie 65/65, wynik: 0.006896551724137931\n",
      "\n",
      "Wynik całkowity: 0.3469920364860486, ilość poprawnych wyników: 18/65\n"
     ]
    }
   ],
   "source": [
    "test()"
   ]
  },
  {
   "cell_type": "markdown",
   "metadata": {},
   "source": [
    "### Tags"
   ]
  },
  {
   "cell_type": "code",
   "execution_count": 50,
   "metadata": {
    "ExecuteTime": {
     "end_time": "2020-11-07T12:14:32.562007Z",
     "start_time": "2020-11-07T12:14:30.294498Z"
    }
   },
   "outputs": [],
   "source": [
    "TAGS = {}\n",
    "with open('./supertags.txt','r',encoding='utf-8') as f:\n",
    "    for line in f:\n",
    "        w,t = line[:-1].split(' ')\n",
    "        TAGS[w] = t"
   ]
  },
  {
   "cell_type": "code",
   "execution_count": 52,
   "metadata": {
    "ExecuteTime": {
     "end_time": "2020-11-07T12:22:08.488626Z",
     "start_time": "2020-11-07T12:18:46.720671Z"
    }
   },
   "outputs": [],
   "source": [
    "BIGRAMS_TAGS = {}\n",
    "with open('poleval_2grams.txt','r',encoding='UTF-8') as f:\n",
    "    for line in f:\n",
    "        n,s1,s2 = line.lower()[:-1].split(' ')\n",
    "        if s1 not in TAGS or s2 not in TAGS:\n",
    "            continue\n",
    "        n,t1,t2 = int(n), TAGS[s1], TAGS[s2]\n",
    "        if t1 not in BIGRAMS_TAGS:\n",
    "            BIGRAMS_TAGS[t1] = {t2:n}\n",
    "        else:\n",
    "            if t2 in BIGRAMS_TAGS[t1]:\n",
    "                BIGRAMS_TAGS[t1][t2] += n\n",
    "            else:\n",
    "                BIGRAMS_TAGS[t1][t2] = n"
   ]
  },
  {
   "cell_type": "code",
   "execution_count": 89,
   "metadata": {
    "ExecuteTime": {
     "end_time": "2020-11-07T13:55:03.082474Z",
     "start_time": "2020-11-07T13:55:03.066490Z"
    }
   },
   "outputs": [],
   "source": [
    "def P2(w,w1=None,w2=None,l1=0.2,l2=0.6,l3=0.2):\n",
    "    N = 40000000\n",
    "    pw,pww,pt = 1/N,0,0\n",
    "    \n",
    "    if w in BIGRAMS_DICT:\n",
    "        s = sum(BIGRAMS_DICT[w].values())\n",
    "        pw = s/N\n",
    "        \n",
    "    if w1 is not None and w1 in BIGRAMS_DICT:\n",
    "        D = BIGRAMS_DICT[w1]\n",
    "        if w in D:\n",
    "            s = sum(D.values())\n",
    "            pww = D[w]/s\n",
    "            \n",
    "    if w1 is not None and w in TAGS and w1 in TAGS:\n",
    "        t,t1 = TAGS[w], TAGS[w1]\n",
    "        if t1 in BIGRAMS_TAGS:\n",
    "            D = BIGRAMS_TAGS[t1]\n",
    "            if t in D:\n",
    "                s = sum(D.values())\n",
    "                pt = D[t]/s\n",
    "                \n",
    "    return math.log(l1*pw + l2*pww + l3*pt)"
   ]
  },
  {
   "cell_type": "code",
   "execution_count": 93,
   "metadata": {
    "ExecuteTime": {
     "end_time": "2020-11-07T13:55:36.451410Z",
     "start_time": "2020-11-07T13:55:36.388580Z"
    }
   },
   "outputs": [],
   "source": [
    "tests = []\n",
    "i = 0\n",
    "with open('polish_corpora.txt', 'r', encoding='utf-8') as f:\n",
    "    for line in f:\n",
    "        if random.random() < 0.1:\n",
    "            s = line[:-1].split(' ')\n",
    "            if len(s) > 2 and len(s) < 7:\n",
    "                tests.append(s)\n",
    "                i += 1\n",
    "        if i>20:\n",
    "            break"
   ]
  },
  {
   "cell_type": "code",
   "execution_count": 78,
   "metadata": {
    "ExecuteTime": {
     "end_time": "2020-11-07T12:54:19.319119Z",
     "start_time": "2020-11-07T12:54:19.285167Z"
    }
   },
   "outputs": [
    {
     "data": {
      "text/plain": [
       "[['Odkryta', '10', 'marca', '2002', 'roku', '.'],\n",
       " ['Miejscowość', 'początkowo', 'nosiła', 'nazwę', 'Astapowo', '.'],\n",
       " ['Kto', 'jest', 'za', 'jej', 'odrzuceniem', '?'],\n",
       " ['Jaką', 'sztuką', 'walki', 'jest', 'kick-boxing', '?'],\n",
       " ['Klub', 'Platformy', 'Obywatelskiej', 'poprze', 'poprawkę', '2.'],\n",
       " ['Oczekiwałbym', 'nowelizacji', 'w', 'tym', 'zakresie', '.'],\n",
       " ['Dziękuję', 'bardzo', 'za', 'to', 'wyjaśnienie', '.'],\n",
       " ['Zmarł', '14', 'kwietnia', '1917', 'r.'],\n",
       " ['Próba', 'zabójstwa', 'została', 'jednak', 'udaremniona', '.'],\n",
       " ['Wiersze', 'z', 'l.', '1832-1835', '4.'],\n",
       " ['Czy', 'w', 'świetle', 'nowych', 'kodyfikacji', '...'],\n",
       " ['W', 'dniu', '3', 'grudnia', '2004', 'r.'],\n",
       " ['Następna', 'sprawa', '-', 'gospodarstwo', 'rodzinne', '.'],\n",
       " ['Samorząd', 'terytorialny', 'musi', 'pozostać', 'samorządem', '.'],\n",
       " ['Biskupstwo', 'jest', 'sufraganią', 'archidiecezji', 'Hankou', '.'],\n",
       " ['Odkryta', '7', 'maja', '2002', 'roku', '.'],\n",
       " ['Rzeźba', 'nie', 'doczekała', 'się', 'kopii', '.'],\n",
       " ['Raport', 'Marlanda', 'ukończony', 'w', '1972r', '.'],\n",
       " ['Zapowiedziałem', 'według', 'kolejności', 'wcześniej', 'ustalonej', '.'],\n",
       " ['W', '1906', 'rozpoczęto', 'prace', 'studialne', '.'],\n",
       " ['Producentem', 'jest', 'ponownie', 'George', 'Martin', '.'],\n",
       " ['Odkryta', '28', 'kwietnia', '1998', 'roku', '.'],\n",
       " ['A.', 'Żółkowskiego', ',', 'tekst', 'według', 'wyd.'],\n",
       " ['And', 'Then', 'There', 'Were', 'Three', '...'],\n",
       " ['Dowodzili', 'nim', 'przydzieleni', 'oficerowie', 'holenderscy', '.'],\n",
       " ['Stolicą', 'administracyjną', 'gminy', 'jest', 'Wilwerwiltz', '.'],\n",
       " ['Dziękuję', 'panu', 'posłowi', 'Zdobysławowi', 'Milewskiemu', '.'],\n",
       " ['Wyposażenie', 'kościoła', 'w', 'stylu', 'neogotyckim', '.'],\n",
       " ['Ukończył', 'medycynę', 'na', 'Uniwersytecie', 'Warszawskim', '.'],\n",
       " ['Niewzruszenie', 'trwał', 'przy', 'swoich', 'przekonaniach', '.'],\n",
       " ['W', '2005', 'założył', 'kabaret', 'Macież', '.'],\n",
       " ['To', 'właśnie', 'spółki', 'skarbu', 'państwa', '.'],\n",
       " ['Książę', 'litewski', 'Witenes', 'zdławił', 'powstanie', '.'],\n",
       " ['Podczas', 'tej', 'edycji', 'wystąpił', 'Basshunter', '.'],\n",
       " ['Kształcił', 'się', 'pod', 'kierunkiem', 'ojca', '.'],\n",
       " ['Umowy', 'społeczne', 'obowiązują', 'do', '2016', 'r.'],\n",
       " ['Wobec', 'tego', 'otwieram', 'listę', 'mówców', '.'],\n",
       " ['Dz', '.', 'U.', 'z', '2010', 'r.'],\n",
       " ['Kompleks', 'ten', 'polega', 'nadleśnictwu', 'Miękinia', '.'],\n",
       " ['Żeński', 'odpowiednik', 'jakszy', 'to', 'jakszini', '.'],\n",
       " ['Skarb', 'Państwa', 'gwarantuje', 'wypłatę', 'świadczeń', '.']]"
      ]
     },
     "execution_count": 78,
     "metadata": {},
     "output_type": "execute_result"
    }
   ],
   "source": [
    "tests"
   ]
  },
  {
   "cell_type": "code",
   "execution_count": 94,
   "metadata": {
    "ExecuteTime": {
     "end_time": "2020-11-07T14:27:50.661369Z",
     "start_time": "2020-11-07T13:55:40.826652Z"
    }
   },
   "outputs": [],
   "source": [
    "res = []\n",
    "for i in np.arange(0.05,1,0.05):\n",
    "    for j in np.arange(i+0.05,1,0.05):\n",
    "        l1,l2,l3 = i,j-i,1-j\n",
    "        sum_ = 0.0\n",
    "        N = len(tests)\n",
    "        for s in tests:\n",
    "            sum_ += order_words(s,P2,l1,l2,l3)\n",
    "        res.append(((sum_/N),(l1,l2,l3)))"
   ]
  },
  {
   "cell_type": "code",
   "execution_count": 113,
   "metadata": {
    "ExecuteTime": {
     "end_time": "2020-11-07T14:44:20.098148Z",
     "start_time": "2020-11-07T14:44:20.062211Z"
    }
   },
   "outputs": [
    {
     "data": {
      "text/plain": [
       "[(0.5623431877111825, (0.05, 0.9000000000000002, 0.04999999999999971)),\n",
       " (0.5419370658594178, (0.1, 0.8499999999999999, 0.050000000000000155)),\n",
       " (0.5396012986943438, (0.05, 0.8500000000000002, 0.09999999999999976)),\n",
       " (0.5345999548786162,\n",
       "  (0.15000000000000002, 0.7499999999999999, 0.10000000000000009)),\n",
       " (0.5341227260693794,\n",
       "  (0.15000000000000002, 0.7999999999999997, 0.050000000000000266)),\n",
       " (0.5327469624883419, (0.1, 0.7999999999999998, 0.1000000000000002)),\n",
       " (0.5315463106361626, (0.2, 0.7, 0.10000000000000009)),\n",
       " (0.5296609424682641,\n",
       "  (0.15000000000000002, 0.6999999999999998, 0.15000000000000013)),\n",
       " (0.5296463914404114, (0.3, 0.5999999999999999, 0.1000000000000002)),\n",
       " (0.5287552592195653, (0.2, 0.6499999999999999, 0.15000000000000013)),\n",
       " (0.5281715261255678, (0.1, 0.7499999999999999, 0.15000000000000013)),\n",
       " (0.5273882304743166, (0.3, 0.5499999999999998, 0.15000000000000013)),\n",
       " (0.5270272540804748,\n",
       "  (0.35000000000000003, 0.5499999999999998, 0.10000000000000009)),\n",
       " (0.526824231801992, (0.55, 0.3500000000000003, 0.09999999999999964)),\n",
       " (0.526622937200924,\n",
       "  (0.7000000000000001, 0.20000000000000018, 0.09999999999999976)),\n",
       " (0.5264779028708355, (0.4, 0.44999999999999984, 0.15000000000000013)),\n",
       " (0.5264082384211692,\n",
       "  (0.35000000000000003, 0.49999999999999983, 0.15000000000000013)),\n",
       " (0.5262162435990556, (0.4, 0.4999999999999999, 0.10000000000000009)),\n",
       " (0.5261023801065592, (0.45, 0.4000000000000003, 0.1499999999999997)),\n",
       " (0.5260550265309158,\n",
       "  (0.6000000000000001, 0.30000000000000027, 0.09999999999999964)),\n",
       " (0.5259036231731176,\n",
       "  (0.6500000000000001, 0.2500000000000002, 0.09999999999999964)),\n",
       " (0.5257024191886187, (0.45, 0.45000000000000034, 0.09999999999999964)),\n",
       " (0.5249301758570961, (0.5, 0.40000000000000036, 0.09999999999999964)),\n",
       " (0.5246579644606733, (0.25, 0.6499999999999999, 0.10000000000000009)),\n",
       " (0.5239884839351518, (0.5, 0.3500000000000003, 0.1499999999999997)),\n",
       " (0.5231977817442031, (0.2, 0.7499999999999998, 0.050000000000000155)),\n",
       " (0.5229213438507367, (0.25, 0.5999999999999999, 0.15000000000000013)),\n",
       " (0.5194565578464284, (0.25, 0.7, 0.050000000000000044)),\n",
       " (0.5188738829903636, (0.3, 0.6499999999999999, 0.050000000000000155)),\n",
       " (0.5179309468234452,\n",
       "  (0.35000000000000003, 0.5999999999999999, 0.050000000000000155)),\n",
       " (0.5170924862227058, (0.4, 0.5499999999999999, 0.050000000000000044)),\n",
       " (0.5162340578789812, (0.45, 0.5000000000000004, 0.0499999999999996)),\n",
       " (0.5152547493662468, (0.5, 0.4500000000000004, 0.0499999999999996)),\n",
       " (0.5149195139350038, (0.55, 0.40000000000000036, 0.0499999999999996)),\n",
       " (0.5142675140581938,\n",
       "  (0.6000000000000001, 0.3500000000000003, 0.0499999999999996)),\n",
       " (0.512425249103139,\n",
       "  (0.6500000000000001, 0.30000000000000027, 0.0499999999999996)),\n",
       " (0.5115600726980629,\n",
       "  (0.7000000000000001, 0.2500000000000002, 0.04999999999999971)),\n",
       " (0.5035917661362875,\n",
       "  (0.15000000000000002, 0.6499999999999998, 0.20000000000000018)),\n",
       " (0.5029782595910463, (0.2, 0.5999999999999999, 0.20000000000000018)),\n",
       " (0.5013894449472038,\n",
       "  (0.6000000000000001, 0.2500000000000002, 0.1499999999999997)),\n",
       " (0.5011232800751932,\n",
       "  (0.6500000000000001, 0.20000000000000018, 0.1499999999999997)),\n",
       " (0.5010432566687817,\n",
       "  (0.7500000000000001, 0.15000000000000013, 0.09999999999999976)),\n",
       " (0.4996366072032525, (0.55, 0.30000000000000027, 0.1499999999999997)),\n",
       " (0.4978191558102087, (0.05, 0.8000000000000002, 0.1499999999999998)),\n",
       " (0.49490186723931046,\n",
       "  (0.6000000000000001, 0.20000000000000018, 0.19999999999999973)),\n",
       " (0.4943811182371377, (0.3, 0.39999999999999997, 0.30000000000000004)),\n",
       " (0.4942020671703878, (0.4, 0.35, 0.25)),\n",
       " (0.49417272431229753, (0.4, 0.29999999999999993, 0.30000000000000004)),\n",
       " (0.4940581688464245, (0.1, 0.7, 0.20000000000000007)),\n",
       " (0.4936012555586988, (0.35000000000000003, 0.39999999999999997, 0.25)),\n",
       " (0.4935827109327655, (0.45, 0.3000000000000002, 0.24999999999999978)),\n",
       " (0.4934858982774573, (0.45, 0.25000000000000017, 0.2999999999999998)),\n",
       " (0.49345787736843566,\n",
       "  (0.35000000000000003, 0.3499999999999999, 0.30000000000000004)),\n",
       " (0.4932516106197682, (0.5, 0.30000000000000027, 0.19999999999999973)),\n",
       " (0.4929477699546461, (0.5, 0.2500000000000002, 0.24999999999999978)),\n",
       " (0.4928739850396417, (0.55, 0.2500000000000002, 0.19999999999999973)),\n",
       " (0.49268672536287045, (0.55, 0.20000000000000018, 0.24999999999999978)),\n",
       " (0.49100028643074395,\n",
       "  (0.7500000000000001, 0.20000000000000018, 0.04999999999999971)),\n",
       " (0.4859526256038113, (0.4, 0.2499999999999999, 0.3500000000000001)),\n",
       " (0.48532122698832114,\n",
       "  (0.35000000000000003, 0.2999999999999999, 0.3500000000000001)),\n",
       " (0.48243526134886816, (0.3, 0.3499999999999999, 0.3500000000000001)),\n",
       " (0.4814361663193631, (0.8, 0.15000000000000013, 0.04999999999999982)),\n",
       " (0.47898595292827145, (0.3, 0.49999999999999983, 0.20000000000000018)),\n",
       " (0.4780619273635156, (0.2, 0.5499999999999998, 0.2500000000000001)),\n",
       " (0.47757817306119865,\n",
       "  (0.35000000000000003, 0.4499999999999999, 0.20000000000000007)),\n",
       " (0.47449658122640803, (0.25, 0.5499999999999998, 0.20000000000000018)),\n",
       " (0.47068633484205413, (0.3, 0.4499999999999999, 0.2500000000000001)),\n",
       " (0.4705028590469662, (0.4, 0.3999999999999999, 0.20000000000000007)),\n",
       " (0.47012148403031134, (0.45, 0.35000000000000026, 0.19999999999999973)),\n",
       " (0.46671732192833, (0.25, 0.4999999999999999, 0.2500000000000001)),\n",
       " (0.4650286404609157, (0.25, 0.44999999999999996, 0.30000000000000004)),\n",
       " (0.4509555400951067, (0.35000000000000003, 0.24999999999999994, 0.4)),\n",
       " (0.4507175738842199, (0.3, 0.2999999999999999, 0.40000000000000013)),\n",
       " (0.44505981379457155, (0.8, 0.10000000000000009, 0.09999999999999987)),\n",
       " (0.4431093028731143,\n",
       "  (0.15000000000000002, 0.5999999999999998, 0.2500000000000002)),\n",
       " (0.43970780320995556, (0.05, 0.7500000000000001, 0.19999999999999984)),\n",
       " (0.4375124595254778,\n",
       "  (0.6500000000000001, 0.15000000000000013, 0.19999999999999973)),\n",
       " (0.43744314478138774, (0.5, 0.20000000000000018, 0.2999999999999998)),\n",
       " (0.43734815283151396,\n",
       "  (0.7000000000000001, 0.15000000000000013, 0.1499999999999998)),\n",
       " (0.43723820011942166,\n",
       "  (0.8500000000000001, 0.10000000000000009, 0.04999999999999982)),\n",
       " (0.43685875961622567,\n",
       "  (0.15000000000000002, 0.5499999999999999, 0.30000000000000004)),\n",
       " (0.43612430010360737, (0.2, 0.49999999999999994, 0.30000000000000004)),\n",
       " (0.4355316402706309, (0.1, 0.6499999999999999, 0.2500000000000001)),\n",
       " (0.43126953609990715, (0.2, 0.4499999999999999, 0.3500000000000001)),\n",
       " (0.43062775976668677, (0.25, 0.3999999999999999, 0.3500000000000001)),\n",
       " (0.42790735102982247, (0.25, 0.34999999999999987, 0.40000000000000013)),\n",
       " (0.41558479045321156,\n",
       "  (0.6000000000000001, 0.15000000000000013, 0.24999999999999978)),\n",
       " (0.41389198597225335, (0.45, 0.20000000000000012, 0.34999999999999987)),\n",
       " (0.4136220685551428, (0.5, 0.15000000000000013, 0.34999999999999987)),\n",
       " (0.41324937939233813, (0.55, 0.15000000000000013, 0.2999999999999998)),\n",
       " (0.409404004558515,\n",
       "  (0.15000000000000002, 0.4999999999999999, 0.3500000000000001)),\n",
       " (0.40923074989454566,\n",
       "  (0.15000000000000002, 0.44999999999999984, 0.40000000000000013)),\n",
       " (0.4086065543456128, (0.05, 0.7000000000000002, 0.24999999999999978)),\n",
       " (0.40850229013776707, (0.1, 0.5999999999999999, 0.30000000000000016)),\n",
       " (0.40761697852400874,\n",
       "  (0.15000000000000002, 0.3999999999999999, 0.45000000000000007)),\n",
       " (0.40648911277568756, (0.1, 0.5499999999999999, 0.3500000000000001)),\n",
       " (0.40627827564541924, (0.4, 0.19999999999999996, 0.4)),\n",
       " (0.4059970652373749, (0.45, 0.15000000000000008, 0.3999999999999999)),\n",
       " (0.40517463532578046, (0.2, 0.39999999999999986, 0.40000000000000013)),\n",
       " (0.40415844080382146, (0.2, 0.3499999999999999, 0.45000000000000007)),\n",
       " (0.40271452421427334, (0.25, 0.29999999999999993, 0.45000000000000007)),\n",
       " (0.4023084139233208, (0.1, 0.4999999999999999, 0.40000000000000013)),\n",
       " (0.40180060957908303, (0.05, 0.6500000000000001, 0.2999999999999998)),\n",
       " (0.40054764894890454, (0.3, 0.24999999999999994, 0.45000000000000007)),\n",
       " (0.400240709752099, (0.1, 0.44999999999999996, 0.45000000000000007)),\n",
       " (0.3987931103273548, (0.05, 0.6000000000000001, 0.34999999999999987)),\n",
       " (0.39624454464020575, (0.55, 0.10000000000000009, 0.34999999999999987)),\n",
       " (0.39441345435542874, (0.25, 0.24999999999999994, 0.5)),\n",
       " (0.39433146286374565, (0.05, 0.5500000000000002, 0.3999999999999998)),\n",
       " (0.3922359280169127, (0.15000000000000002, 0.3499999999999999, 0.5)),\n",
       " (0.3904226343921315, (0.35000000000000003, 0.2, 0.44999999999999996)),\n",
       " (0.38962511825414836, (0.4, 0.15000000000000002, 0.44999999999999996)),\n",
       " (0.38929308440996246, (0.1, 0.3999999999999999, 0.5)),\n",
       " (0.38861386682867927, (0.5, 0.10000000000000009, 0.3999999999999999)),\n",
       " (0.3876476847380457, (0.2, 0.29999999999999993, 0.5)),\n",
       " (0.38377253019223434, (0.2, 0.24999999999999994, 0.55)),\n",
       " (0.382428212879914, (0.45, 0.10000000000000003, 0.44999999999999996)),\n",
       " (0.38134833421182535, (0.05, 0.5000000000000001, 0.44999999999999984)),\n",
       " (0.3812485578180164, (0.15000000000000002, 0.29999999999999993, 0.55)),\n",
       " (0.3808607595379947, (0.1, 0.35, 0.55)),\n",
       " (0.379278788083136, (0.05, 0.4500000000000001, 0.4999999999999999)),\n",
       " (0.3781588106815134,\n",
       "  (0.15000000000000002, 0.24999999999999994, 0.6000000000000001)),\n",
       " (0.3769343198512588, (0.25, 0.19999999999999996, 0.55)),\n",
       " (0.3752931698226856,\n",
       "  (0.7500000000000001, 0.10000000000000009, 0.1499999999999998)),\n",
       " (0.3745331126179987,\n",
       "  (0.6000000000000001, 0.10000000000000009, 0.2999999999999998)),\n",
       " (0.3732510794045673, (0.1, 0.29999999999999993, 0.6000000000000001)),\n",
       " (0.3729714948227042, (0.4, 0.09999999999999998, 0.5)),\n",
       " (0.37157139937131245, (0.05, 0.4000000000000001, 0.5499999999999999)),\n",
       " (0.37056826927012043, (0.2, 0.19999999999999996, 0.6000000000000001)),\n",
       " (0.36839266871549714, (0.05, 0.35000000000000014, 0.5999999999999999)),\n",
       " (0.36736023516639604, (0.1, 0.24999999999999997, 0.65)),\n",
       " (0.3665360341898148,\n",
       "  (0.6500000000000001, 0.10000000000000009, 0.24999999999999978)),\n",
       " (0.3655822925360448, (0.1, 0.19999999999999998, 0.7)),\n",
       " (0.3647976644199578,\n",
       "  (0.9000000000000001, 0.050000000000000044, 0.04999999999999982)),\n",
       " (0.3647532309687104,\n",
       "  (0.7000000000000001, 0.10000000000000009, 0.19999999999999984)),\n",
       " (0.3646448942580721, (0.3, 0.19999999999999996, 0.5)),\n",
       " (0.3643673182043361, (0.15000000000000002, 0.19999999999999996, 0.65)),\n",
       " (0.3631207269365299,\n",
       "  (0.8500000000000001, 0.050000000000000044, 0.09999999999999987)),\n",
       " (0.3619828731141461, (0.35000000000000003, 0.14999999999999997, 0.5)),\n",
       " (0.35183217680831746, (0.25, 0.14999999999999997, 0.6000000000000001)),\n",
       " (0.3517089472475435, (0.3, 0.14999999999999997, 0.55)),\n",
       " (0.34328247381507887, (0.05, 0.3000000000000001, 0.6499999999999999)),\n",
       " (0.338955168639687,\n",
       "  (0.6500000000000001, 0.050000000000000044, 0.2999999999999998)),\n",
       " (0.33701142873765494, (0.2, 0.14999999999999997, 0.65)),\n",
       " (0.33531108259025366,\n",
       "  (0.6000000000000001, 0.050000000000000044, 0.34999999999999987)),\n",
       " (0.3342378717357414, (0.35000000000000003, 0.09999999999999998, 0.55)),\n",
       " (0.3325438753238148,\n",
       "  (0.7000000000000001, 0.050000000000000044, 0.2499999999999999)),\n",
       " (0.33167169304734656, (0.05, 0.25000000000000006, 0.7)),\n",
       " (0.32965978433122833, (0.8, 0.050000000000000044, 0.1499999999999999)),\n",
       " (0.3292245171458536,\n",
       "  (0.7500000000000001, 0.050000000000000044, 0.19999999999999984)),\n",
       " (0.3276244070708439, (0.3, 0.09999999999999998, 0.6000000000000001)),\n",
       " (0.32415615623138283, (0.05, 0.20000000000000007, 0.75)),\n",
       " (0.3126767538830504, (0.55, 0.050000000000000044, 0.3999999999999999)),\n",
       " (0.3041803501316773, (0.5, 0.050000000000000044, 0.44999999999999996)),\n",
       " (0.3035473780343126, (0.25, 0.09999999999999998, 0.65)),\n",
       " (0.29714085886017394, (0.15000000000000002, 0.14999999999999997, 0.7)),\n",
       " (0.2966576979961551, (0.45, 0.04999999999999999, 0.5)),\n",
       " (0.2943357344977978, (0.1, 0.15, 0.75)),\n",
       " (0.2912333011844381, (0.05, 0.15000000000000002, 0.7999999999999999)),\n",
       " (0.2869973239372521, (0.2, 0.09999999999999998, 0.7)),\n",
       " (0.28634561325337926, (0.15000000000000002, 0.09999999999999998, 0.75)),\n",
       " (0.2837538905678838, (0.35000000000000003, 0.04999999999999999, 0.6)),\n",
       " (0.27820300714559953, (0.4, 0.04999999999999999, 0.55)),\n",
       " (0.2722159034894179, (0.1, 0.1, 0.8)),\n",
       " (0.2629154218187022, (0.3, 0.04999999999999999, 0.65)),\n",
       " (0.2594682934973654, (0.25, 0.04999999999999999, 0.7)),\n",
       " (0.258215142054146, (0.05, 0.10000000000000002, 0.85)),\n",
       " (0.2561181645894551, (0.1, 0.05000000000000002, 0.85)),\n",
       " (0.2547011129592584, (0.2, 0.04999999999999999, 0.75)),\n",
       " (0.24808091377439662, (0.05, 0.05, 0.9)),\n",
       " (0.24338684810725691, (0.15000000000000002, 0.04999999999999999, 0.8))]"
      ]
     },
     "execution_count": 113,
     "metadata": {},
     "output_type": "execute_result"
    }
   ],
   "source": [
    "sorted(res, key=lambda e:e[0], reverse=True)"
   ]
  },
  {
   "cell_type": "code",
   "execution_count": 115,
   "metadata": {
    "ExecuteTime": {
     "end_time": "2020-11-07T14:48:03.390863Z",
     "start_time": "2020-11-07T14:44:58.289450Z"
    }
   },
   "outputs": [
    {
     "name": "stdout",
     "output_type": "stream",
     "text": [
      "Zdanie 1/65, wynik: 1.0\n",
      "Zdanie 2/65, wynik: 0.5\n",
      "Zdanie 3/65, wynik: 0.1111111111111111\n",
      "Zdanie 4/65, wynik: 0.5\n",
      "Zdanie 5/65, wynik: skipped\n",
      "Zdanie 6/65, wynik: 0.0053475935828877\n",
      "Zdanie 7/65, wynik: 0.00267379679144385\n",
      "Zdanie 8/65, wynik: 0.008547008547008548\n",
      "Zdanie 9/65, wynik: 0.1111111111111111\n",
      "Zdanie 10/65, wynik: 0.014084507042253521\n",
      "Zdanie 11/65, wynik: 0.007518796992481203\n",
      "Zdanie 12/65, wynik: 0.006493506493506494\n",
      "Zdanie 13/65, wynik: 0.015151515151515152\n",
      "Zdanie 14/65, wynik: 0.1\n",
      "Zdanie 15/65, wynik: 0.06666666666666667\n",
      "Zdanie 16/65, wynik: 0.2\n",
      "Zdanie 17/65, wynik: 0.07142857142857142\n",
      "Zdanie 18/65, wynik: 0.058823529411764705\n",
      "Zdanie 19/65, wynik: 0.5\n",
      "Zdanie 20/65, wynik: 1.0\n",
      "Zdanie 21/65, wynik: 0.03225806451612903\n",
      "Zdanie 22/65, wynik: 0.058823529411764705\n",
      "Zdanie 23/65, wynik: 0.004032258064516129\n",
      "Zdanie 24/65, wynik: 0.05555555555555555\n",
      "Zdanie 25/65, wynik: 0.06666666666666667\n",
      "Zdanie 26/65, wynik: 0.3333333333333333\n",
      "Zdanie 27/65, wynik: 0.14285714285714285\n",
      "Zdanie 28/65, wynik: 1.0\n",
      "Zdanie 29/65, wynik: 0.025\n",
      "Zdanie 30/65, wynik: 0.009174311926605505\n",
      "Zdanie 31/65, wynik: 0.2\n",
      "Zdanie 32/65, wynik: 1.0\n",
      "Zdanie 33/65, wynik: 1.0\n",
      "Zdanie 34/65, wynik: 0.005434782608695652\n",
      "Zdanie 35/65, wynik: 0.09090909090909091\n",
      "Zdanie 36/65, wynik: 0.029411764705882353\n",
      "Zdanie 37/65, wynik: 1.0\n",
      "Zdanie 38/65, wynik: 0.125\n",
      "Zdanie 39/65, wynik: 0.038461538461538464\n",
      "Zdanie 40/65, wynik: 0.03571428571428571\n",
      "Zdanie 41/65, wynik: 0.16666666666666666\n",
      "Zdanie 42/65, wynik: skipped\n",
      "Zdanie 43/65, wynik: 0.3333333333333333\n",
      "Zdanie 44/65, wynik: 1.0\n",
      "Zdanie 45/65, wynik: 0.05263157894736842\n",
      "Zdanie 46/65, wynik: 0.3333333333333333\n",
      "Zdanie 47/65, wynik: 0.016666666666666666\n",
      "Zdanie 48/65, wynik: 0.14285714285714285\n",
      "Zdanie 49/65, wynik: 0.3333333333333333\n",
      "Zdanie 50/65, wynik: 0.5\n",
      "Zdanie 51/65, wynik: 0.09090909090909091\n",
      "Zdanie 52/65, wynik: 0.25\n",
      "Zdanie 53/65, wynik: 0.14285714285714285\n",
      "Zdanie 54/65, wynik: 0.5\n",
      "Zdanie 55/65, wynik: 0.0029239766081871343\n",
      "Zdanie 56/65, wynik: 0.25\n",
      "Zdanie 57/65, wynik: 0.003787878787878788\n",
      "Zdanie 58/65, wynik: skipped\n",
      "Zdanie 59/65, wynik: 0.012987012987012988\n",
      "Zdanie 60/65, wynik: 0.03225806451612903\n",
      "Zdanie 61/65, wynik: 0.07692307692307693\n",
      "Zdanie 62/65, wynik: 0.014705882352941176\n",
      "Zdanie 63/65, wynik: 0.0625\n",
      "Zdanie 64/65, wynik: 0.14285714285714285\n",
      "Zdanie 65/65, wynik: 0.125\n",
      "\n",
      "Wynik całkowity: 0.21720186712304582, ilość poprawnych wyników: 7/65\n"
     ]
    }
   ],
   "source": [
    "test(f=P2,l1=0.05,l2=0.9,l3=0.05)"
   ]
  },
  {
   "cell_type": "markdown",
   "metadata": {},
   "source": [
    "## Zadanie 3. (4p) \n",
    "W zadaniu tym powinieneś losować zdania o słowach z identyczną charakterystyką gramatyczną jak zdanie wejściowe). Przykładowo dla zdania: \n",
    "\n",
    "Mały Piotruś spotkał w niewielkiej restauracyjce wczoraj poznaną koleżankę.\n",
    "\n",
    "wynikiem mogłoby być\n",
    "\n",
    "Gruby Stefan przeczytał we wczorajszej gazecie starannie przygotowaną analizę.\n",
    "\n",
    "Zgodność gramatyczną sprawdzamy za pomocą tagów z pliku supertags. Przyjmijmy, że słowo s niewystępujące w tym pliku ma opis gramatyczny (’^’ + s)[-3:]. Powinieneś korzystać ze\n",
    "statystyk unigramowych."
   ]
  },
  {
   "cell_type": "code",
   "execution_count": 116,
   "metadata": {
    "ExecuteTime": {
     "end_time": "2020-11-07T14:48:55.814745Z",
     "start_time": "2020-11-07T14:48:52.614948Z"
    }
   },
   "outputs": [],
   "source": [
    "SUFIX_TAGS = {}\n",
    "with open('./supertags.txt','r',encoding='utf-8') as f:\n",
    "    for line in f:\n",
    "        w,t = line[:-1].split(' ')\n",
    "        sufix = w[-3:]\n",
    "        if sufix not in SUFIX_TAGS:\n",
    "            SUFIX_TAGS[sufix] = [t]\n",
    "        else:\n",
    "            SUFIX_TAGS[sufix].append(t)"
   ]
  },
  {
   "cell_type": "code",
   "execution_count": 122,
   "metadata": {
    "ExecuteTime": {
     "end_time": "2020-11-07T14:51:20.859656Z",
     "start_time": "2020-11-07T14:51:17.975999Z"
    }
   },
   "outputs": [],
   "source": [
    "for sufix in SUFIX_TAGS.keys():\n",
    "    SUFIX_TAGS[sufix] = mode(SUFIX_TAGS[sufix])[0][0]"
   ]
  },
  {
   "cell_type": "code",
   "execution_count": 124,
   "metadata": {
    "ExecuteTime": {
     "end_time": "2020-11-07T14:59:48.232272Z",
     "start_time": "2020-11-07T14:59:45.950330Z"
    }
   },
   "outputs": [],
   "source": [
    "TAGS_TO_WORDS = {}\n",
    "with open('./supertags.txt','r',encoding='utf-8') as f:\n",
    "    for line in f:\n",
    "        w,t = line[:-1].split(' ')\n",
    "        if t in TAGS_TO_WORDS:\n",
    "            TAGS_TO_WORDS[t].append(w)\n",
    "        else:\n",
    "            TAGS_TO_WORDS[t] = [w]"
   ]
  },
  {
   "cell_type": "code",
   "execution_count": 135,
   "metadata": {
    "ExecuteTime": {
     "end_time": "2020-11-07T16:08:26.151992Z",
     "start_time": "2020-11-07T16:08:26.142992Z"
    }
   },
   "outputs": [],
   "source": [
    "def get_tag(w):\n",
    "    if w in TAGS:\n",
    "        return TAGS[w]\n",
    "    elif w[-3:] in SUFIX_TAGS:\n",
    "         return SUFIX_TAGS[w[-3:]]\n",
    "    return random.choice(list(TAGS_TO_WORDS.keys()))"
   ]
  },
  {
   "cell_type": "code",
   "execution_count": 136,
   "metadata": {
    "ExecuteTime": {
     "end_time": "2020-11-07T16:09:18.651642Z",
     "start_time": "2020-11-07T16:09:18.632695Z"
    }
   },
   "outputs": [],
   "source": [
    "def generate_similar(s):\n",
    "    res = []\n",
    "    for w in s.split(' '):\n",
    "        w = w.lower()\n",
    "        t = get_tag(w)\n",
    "        res.append(random.choice(TAGS_TO_WORDS[t]))\n",
    "        \n",
    "    return ' '.join(res)"
   ]
  },
  {
   "cell_type": "code",
   "execution_count": 137,
   "metadata": {
    "ExecuteTime": {
     "end_time": "2020-11-07T16:09:20.139803Z",
     "start_time": "2020-11-07T16:09:20.132821Z"
    }
   },
   "outputs": [
    {
     "data": {
      "text/plain": [
       "'gołoziarnisty narwaniec powił nad niedalekiej żyrafie sanitarno zdecentralizowaną wrzutkę'"
      ]
     },
     "execution_count": 137,
     "metadata": {},
     "output_type": "execute_result"
    }
   ],
   "source": [
    "generate_similar('Mały Piotruś spotkał w niewielkiej restauracyjce wczoraj poznaną koleżankę')"
   ]
  },
  {
   "cell_type": "markdown",
   "metadata": {},
   "source": [
    "## Zadanie 4. (3p) \n",
    "Dodaj statystyki bigramowe do powyższego zadania. Postaraj się, by jak najrzadziej zdażały się sytuacje, w których musisz losować posługując się unigramami. Zaznaczaj znakiem \"|\" każdą taką nieciągłość."
   ]
  },
  {
   "cell_type": "code",
   "execution_count": 221,
   "metadata": {
    "ExecuteTime": {
     "end_time": "2020-11-07T16:41:44.155650Z",
     "start_time": "2020-11-07T16:41:44.135705Z"
    }
   },
   "outputs": [],
   "source": [
    "def generate_similar2(s):\n",
    "    res = []\n",
    "    words = s.split(' ')\n",
    "    lw = ''\n",
    "    \n",
    "    w = words[0]\n",
    "    t = get_tag(w)\n",
    "    options = TAGS_TO_WORDS[t]\n",
    "    filtered_options = [w for w in options if w in BIGRAMS_DICT]\n",
    "    if len(filtered_options):\n",
    "        lw = random.choice(filtered_options)\n",
    "    else:\n",
    "        lw = random.choice(options)\n",
    "    res.append(lw)\n",
    "\n",
    "    for w in words[1:]:\n",
    "        w = w.lower()\n",
    "        t = get_tag(w)\n",
    "        if lw in BIGRAMS_DICT:\n",
    "            D = BIGRAMS_DICT[lw]\n",
    "            options = np.array([[k,v] for k,v in D.items() if get_tag(k)==t])\n",
    "\n",
    "            if len(options):\n",
    "                words,weights = options[:,0],list(map(int,options[:,1]))\n",
    "                new_w = random.choices(words,weights=weights,k=1)[0]\n",
    "                res.append(new_w)\n",
    "                continue\n",
    "            \n",
    "        res.append('|')\n",
    "        res.append(random.choice(TAGS_TO_WORDS[t]))\n",
    "            \n",
    "    return ' '.join(res)"
   ]
  },
  {
   "cell_type": "code",
   "execution_count": 229,
   "metadata": {
    "ExecuteTime": {
     "end_time": "2020-11-07T16:42:09.301124Z",
     "start_time": "2020-11-07T16:42:09.279699Z"
    }
   },
   "outputs": [
    {
     "data": {
      "text/plain": [
       "'realizowały | ofiarnik | zadzierzgnął na | niepoczytalnej | sekretarce odpowiednio | zapienioną budowę'"
      ]
     },
     "execution_count": 229,
     "metadata": {},
     "output_type": "execute_result"
    }
   ],
   "source": [
    "generate_similar2('Mały Piotruś spotkał w niewielkiej restauracyjce wczoraj poznaną koleżankę')"
   ]
  },
  {
   "cell_type": "markdown",
   "metadata": {},
   "source": [
    "## Zadanie 5. (5+1p) \n",
    "W zadaniu tym zajmiemy się kolokacjami słów, o których mamy informacje gramatyczną. Napisz program, który dla danego słowa znajduje k najbardziej z nim „spokrewnionych” słów. Rozważ następujące metody wyznaczania kolokacji:\n",
    "\n",
    "a) PPMI (Positive Pointwise Mutual Information)\n",
    "\n",
    "b) jakiś inny, dowolnie wybrany, z używanych na kolokacje wzorów (więcej na wykładzie),\n",
    "\n",
    "c) kolokacje gramatyczno-słowowe (tzn. żeby dwa słowa były uznane za kolokacje, warunek kolokacyjności (dowolnie wybrany) powinny spełniać zarówno tagi słów, jak i same słowa.\n",
    "\n",
    "d) jakaś dowolna inna metoda, lub Twoja modyfikacja powyższych (za to dodatkowy punkt).\n",
    "\n",
    "Możesz się ograniczyć do słów, które są stosunkowo częste (więcej niż n wystąpień w korpusie)\n",
    "i występują co najmniej raz w jakimś trigramie (lub k razy w jakimś bigramie). Wybierz niewielki\n",
    "zbiór słów (powiedzmy koło 10). Przygotuj raport, w którym dla każdego z tych słów jest 10\n",
    "najbardziej spokrewnionych słow"
   ]
  },
  {
   "cell_type": "code",
   "execution_count": 301,
   "metadata": {
    "ExecuteTime": {
     "end_time": "2020-11-07T19:25:21.918749Z",
     "start_time": "2020-11-07T19:25:21.900764Z"
    }
   },
   "outputs": [],
   "source": [
    "def PPMI(w1,w2):\n",
    "    if w1 in BIGRAMS_DICT:\n",
    "        Pw1 = sum(BIGRAMS_DICT[w1].values())\n",
    "        if w2 in BIGRAMS_DICT[w1]:\n",
    "            Pw1w2 = BIGRAMS_DICT[w1][w2]\n",
    "        else:\n",
    "            Pw1w2 = 1\n",
    "    else:\n",
    "        return 0\n",
    "    if w2 in BIGRAMS_DICT:\n",
    "        Pw2 = sum(BIGRAMS_DICT[w2].values())\n",
    "    else:\n",
    "        return 0\n",
    "    N = 383345990\n",
    "    if Pw1w2 == 0:\n",
    "        return 0\n",
    "    return max(0,math.log((N*Pw1w2)/(Pw1*Pw2)))  "
   ]
  },
  {
   "cell_type": "code",
   "execution_count": 302,
   "metadata": {
    "ExecuteTime": {
     "end_time": "2020-11-07T19:25:22.366921Z",
     "start_time": "2020-11-07T19:25:22.307108Z"
    }
   },
   "outputs": [],
   "source": [
    "def PPMI_alpha(w1,w2):\n",
    "    if w1 in BIGRAMS_DICT:\n",
    "        Pw1 = sum(BIGRAMS_DICT[w1].values())**0.75\n",
    "        if w2 in BIGRAMS_DICT[w1]:\n",
    "            Pw1w2 = (BIGRAMS_DICT[w1][w2])**0.75\n",
    "        else:\n",
    "            Pw1w2 = 1\n",
    "    else:\n",
    "        return 0\n",
    "    if w2 in BIGRAMS_DICT:\n",
    "        Pw2 = sum(BIGRAMS_DICT[w2].values())**0.75\n",
    "    else:\n",
    "        return 0\n",
    "    N = 26544910\n",
    "    if Pw1w2 == 0:\n",
    "        return 0\n",
    "    return max(0,math.log((N*Pw1w2)/(Pw1*Pw2)))  "
   ]
  },
  {
   "cell_type": "code",
   "execution_count": 303,
   "metadata": {
    "ExecuteTime": {
     "end_time": "2020-11-07T19:26:40.157792Z",
     "start_time": "2020-11-07T19:26:40.141803Z"
    }
   },
   "outputs": [],
   "source": [
    "def PSM(w1,w2):\n",
    "    if w1 in BIGRAMS_DICT:\n",
    "        Pw1 = sum(BIGRAMS_DICT[w1].values())\n",
    "        if w2 in BIGRAMS_DICT[w1]:\n",
    "            f = BIGRAMS_DICT[w1][w2]\n",
    "        else:\n",
    "            f = 1\n",
    "    else:\n",
    "        Pw1 = 1\n",
    "    if w2 in BIGRAMS_DICT:\n",
    "        Pw2 = sum(BIGRAMS_DICT[w2].values())\n",
    "    else:\n",
    "        Pw2 = 1\n",
    "    \n",
    "    N = 383345990\n",
    "    f = max(1,f)\n",
    "    f_dash = (Pw1*Pw2)/N\n",
    "    return f*(math.log(f)-math.log(f_dash)-1)"
   ]
  },
  {
   "cell_type": "code",
   "execution_count": 267,
   "metadata": {
    "ExecuteTime": {
     "end_time": "2020-11-07T19:12:23.994233Z",
     "start_time": "2020-11-07T18:47:42.256696Z"
    }
   },
   "outputs": [],
   "source": [
    "BIGRAMS_TAGS_DICT = {}\n",
    "with open('poleval_2grams.txt','r',encoding='UTF-8') as f:\n",
    "    for line in f:\n",
    "        n,s1,s2 = line.lower()[:-1].split(' ')\n",
    "        t1,t2 = get_tag(s1),get_tag(s2)\n",
    "        n = int(n)\n",
    "        if n >= 10:\n",
    "            if t1 not in BIGRAMS_TAGS_DICT:\n",
    "                BIGRAMS_TAGS_DICT[t1] = {t2:n}\n",
    "            elif t2 not in BIGRAMS_TAGS_DICT[t1]:\n",
    "                BIGRAMS_TAGS_DICT[t1][t2] = n\n",
    "            else:\n",
    "                BIGRAMS_TAGS_DICT[t1][t2] += n"
   ]
  },
  {
   "cell_type": "code",
   "execution_count": 304,
   "metadata": {
    "ExecuteTime": {
     "end_time": "2020-11-07T19:27:16.844163Z",
     "start_time": "2020-11-07T19:27:16.834190Z"
    }
   },
   "outputs": [],
   "source": [
    "def tags_PPMI(w1,w2):\n",
    "    t1,t2=get_tag(w1),get_tag(w2)\n",
    "    w_ppmi = PPMI(w1,w2)\n",
    "    \n",
    "    t_ppmi = -1\n",
    "    if t1 in BIGRAMS_TAGS_DICT:\n",
    "        Pt1 = sum(BIGRAMS_TAGS_DICT[t1].values())\n",
    "        if t2 in BIGRAMS_TAGS_DICT[t1]:\n",
    "            Pt1t2 = BIGRAMS_TAGS_DICT[t1][t2]\n",
    "        else:\n",
    "            Pt1t2 = 1\n",
    "    else:\n",
    "        t_ppmi = 0\n",
    "    if t2 in BIGRAMS_TAGS_DICT:\n",
    "        Pt2 = sum(BIGRAMS_TAGS_DICT[t2].values())\n",
    "    else:\n",
    "        t_ppmi = 0\n",
    "    N = 383345990\n",
    "    Pt1t2 = max(1,Pt1t2)\n",
    "    if t_ppmi < 0:\n",
    "        t_ppmi = max(0,math.log((N*Pt1t2)/(Pt1*Pt2)))  \n",
    "    \n",
    "    return t_ppmi * w_ppmi"
   ]
  },
  {
   "cell_type": "code",
   "execution_count": 315,
   "metadata": {
    "ExecuteTime": {
     "end_time": "2020-11-07T19:40:07.790507Z",
     "start_time": "2020-11-07T19:40:05.377837Z"
    }
   },
   "outputs": [
    {
     "name": "stdout",
     "output_type": "stream",
     "text": [
      "Test word: zaraz\n",
      "\n",
      "Method: PPMI\n",
      "zaraz skończę 7.570587474063663\n",
      "zaraz wyjaśnię 7.545610190977466\n",
      "zaraz udzielę 6.649804346735922\n",
      "zaraz padnie 6.525250099209104\n",
      "zaraz potem 6.295957889403607\n",
      "zaraz przejdę 6.197812965359857\n",
      "zaraz wrócę 6.11088021275798\n",
      "zaraz kończę 6.079464016524601\n",
      "zaraz idę 5.84772823655224\n",
      "zaraz wracam 5.687771642151082\n",
      "\n",
      "Method: PPMI, alpha=0.75\n",
      "zaraz skończę 7.948952798448117\n",
      "zaraz wyjaśnię 7.930219836133469\n",
      "zaraz udzielę 7.258365452952312\n",
      "zaraz padnie 7.164949767307197\n",
      "zaraz potem 6.992980609953075\n",
      "zaraz przejdę 6.919371916920262\n",
      "zaraz wrócę 6.854172352468854\n",
      "zaraz kończę 6.83061020529382\n",
      "zaraz idę 6.6568083703145495\n",
      "zaraz wracam 6.536840924513681\n",
      "\n",
      "Method: PSM\n",
      "zaraz po 26473.00154846656\n",
      "zaraz potem 4353.277385089765\n",
      "zaraz za 1276.2782921746407\n",
      "zaraz powiem 933.3065014551216\n",
      "zaraz obok 864.9702522985185\n",
      "zaraz będę 283.6316421938258\n",
      "zaraz przejdę 213.11033157975413\n",
      "zaraz będzie 179.2027843513347\n",
      "zaraz wyjaśnię 170.18586496541408\n",
      "zaraz udzielę 158.19452170860586\n",
      "\n",
      "Method: PPMI with tags\n",
      "zaraz skończę 31.133143762188027\n",
      "zaraz wyjaśnię 31.030427645667938\n",
      "zaraz potem 29.64233703955056\n",
      "zaraz przejdę 28.27267873177992\n",
      "zaraz udzielę 27.34653227726662\n",
      "zaraz obok 26.16465809605587\n",
      "zaraz wrócę 25.13027064664288\n",
      "zaraz przedstawię 23.127848261850506\n",
      "zaraz poproszę 22.664630608642355\n",
      "zaraz powiem 22.564844835519217\n",
      "\n",
      "-----------------------------------------------\n",
      "\n",
      "Test word: jadę\n",
      "\n",
      "Method: PPMI\n",
      "jadę samochodem 7.473977270332729\n",
      "jadę dalej 5.361676783794922\n",
      "jadę tam 4.572164257234807\n",
      "jadę sobie 3.9152122106155134\n",
      "jadę do 3.0098786744946584\n",
      "jadę na 2.614005155449223\n",
      "jadę po 2.229833764847423\n",
      "jadę z 1.8446383226979866\n",
      "jadę za 1.4797916667542794\n",
      "jadę przez 1.167241382301645\n",
      "\n",
      "Method: PPMI, alpha=0.75\n",
      "jadę samochodem 7.876495145649916\n",
      "jadę dalej 6.292269780746561\n",
      "jadę tam 5.700135385826474\n",
      "jadę sobie 5.207421350862004\n",
      "jadę do 4.528421198771364\n",
      "jadę na 4.231516059487286\n",
      "jadę po 3.9433875165359367\n",
      "jadę z 3.6544909349238592\n",
      "jadę za 3.3808559429660794\n",
      "jadę przez 3.146443229626603\n",
      "\n",
      "Method: PSM\n",
      "jadę do 454.2325804357929\n",
      "jadę na 317.9590156234969\n",
      "jadę samochodem 129.47954540665455\n",
      "jadę tam 96.44843494533978\n",
      "jadę dalej 87.23353567589842\n",
      "jadę z 76.01744904281877\n",
      "jadę sobie 55.389032001694744\n",
      "jadę po 31.975677886032997\n",
      "jadę za 4.797916667542797\n",
      "jadę przez 1.8396552053180948\n",
      "\n",
      "Method: PPMI with tags\n",
      "jadę sobie 11.482791390925316\n",
      "jadę za 3.2341755431972667\n",
      "jadę tam 0.0\n",
      "jadę do 0.0\n",
      "jadę dalej 0.0\n",
      "jadę w 0.0\n",
      "jadę i 0.0\n",
      "jadę samochodem 0.0\n",
      "jadę . 0.0\n",
      "jadę , 0.0\n",
      "\n",
      "-----------------------------------------------\n",
      "\n",
      "Test word: bardzo\n",
      "\n",
      "Method: PPMI\n",
      "bardzo sugestywnie 7.006855611794257\n",
      "bardzo mgliście 6.889730254556844\n",
      "bardzo rygorystyczną 6.868528046906241\n",
      "bardzo restrykcyjnie 6.75741911833755\n",
      "bardzo sprytnie 6.704924224435227\n",
      "bardzo obszernymi 6.704327031225481\n",
      "bardzo wymowna 6.627365990089353\n",
      "bardzo przystępnie 6.627365990089353\n",
      "bardzo zżyci 6.627365990089353\n",
      "bardzo obiecującą 6.627365990089353\n",
      "\n",
      "Method: PPMI, alpha=0.75\n",
      "bardzo sugestywnie 7.526153901746062\n",
      "bardzo mgliście 7.438309883818002\n",
      "bardzo rygorystyczną 7.422408228080051\n",
      "bardzo restrykcyjnie 7.339076531653532\n",
      "bardzo sprytnie 7.29970536122679\n",
      "bardzo obszernymi 7.299257466319481\n",
      "bardzo wymowna 7.241536685467384\n",
      "bardzo przystępnie 7.241536685467384\n",
      "bardzo zżyci 7.241536685467384\n",
      "bardzo obiecującą 7.241536685467384\n",
      "\n",
      "Method: PSM\n",
      "bardzo proszę 96848.68724352468\n",
      "bardzo często 56027.02470992913\n",
      "bardzo dobrze 48553.688690361065\n",
      "bardzo ważne 40377.63653384292\n",
      "bardzo dużo 29298.94203835906\n",
      "bardzo szybko 24591.42646158462\n",
      "bardzo ważna 21673.996403353463\n",
      "bardzo istotne 18671.137019790545\n",
      "bardzo mocno 18527.947407584936\n",
      "bardzo duże 18318.020882162527\n",
      "\n",
      "Method: PPMI with tags\n",
      "bardzo duze 17.59862660259662\n",
      "bardzo lubiłam 13.129197040172908\n",
      "bardzo szanuję 12.159008294459086\n",
      "bardzo cenię 11.94301962123945\n",
      "bardzo ostrożnie 11.074754945586783\n",
      "bardzo doceniam 9.802352276034176\n",
      "bardzo proszę 9.74494327510687\n",
      "bardzo chwalę 9.719192977329937\n",
      "bardzo bym 9.465403652336702\n",
      "bardzo dobrze 9.144667482384957\n",
      "\n",
      "-----------------------------------------------\n",
      "\n",
      "Test word: zielony\n",
      "\n",
      "Method: PPMI\n",
      "zielony balonik 11.03062017130033\n",
      "zielony metalik 10.424484367730015\n",
      "zielony listek 9.909819967656858\n",
      "zielony groszek 9.24917945827365\n",
      "zielony zakątek 9.116151548079836\n",
      "zielony skwer 8.691723239263915\n",
      "zielony liść 8.665106308004999\n",
      "zielony ogórek 8.66232536827825\n",
      "zielony szlak 8.659540187698584\n",
      "zielony nawóz 8.533633995857729\n",
      "\n",
      "Method: PPMI, alpha=0.75\n",
      "zielony balonik 10.543977321375616\n",
      "zielony metalik 10.08937546869788\n",
      "zielony listek 9.703377168643012\n",
      "zielony groszek 9.207896786605607\n",
      "zielony zakątek 9.108125853960246\n",
      "zielony skwer 8.789804622348306\n",
      "zielony liść 8.769841923904119\n",
      "zielony ogórek 8.767756219109057\n",
      "zielony szlak 8.765667333674307\n",
      "zielony nawóz 8.671237689793665\n",
      "\n",
      "Method: PSM\n",
      "zielony szlak 2581.265043254423\n",
      "zielony kolor 905.4152294407328\n",
      "zielony balonik 220.6736437686073\n",
      "zielony groszek 189.73112754029395\n",
      "zielony ) 162.00277192825473\n",
      "zielony śląsk 160.48466298216374\n",
      "zielony krzew 140.94944756052817\n",
      "zielony metalik 131.94278114822018\n",
      "zielony liść 130.30680723608498\n",
      "zielony ogród 126.62220036533533\n",
      "\n",
      "Method: PPMI with tags\n",
      "zielony balonik 29.060520390588977\n",
      "zielony metalik 27.46363629834626\n",
      "zielony krzew 27.175635256371436\n",
      "zielony listek 26.1077365338389\n",
      "zielony groszek 24.367258057050172\n",
      "zielony zakątek 24.016791788003665\n",
      "zielony skwer 22.898621881765813\n",
      "zielony szlak 22.85545050062991\n",
      "zielony liść 22.828498728074315\n",
      "zielony ogórek 22.82117225373478\n",
      "\n",
      "-----------------------------------------------\n",
      "\n",
      "Test word: dobry\n",
      "\n",
      "Method: PPMI\n",
      "dobry łotr 9.816875719182807\n",
      "dobry prognostyk 9.50238238928037\n",
      "dobry uczynek 9.045563765773526\n",
      "dobry pasterz 8.406483806483857\n",
      "dobry obyczaj 8.264250259678787\n",
      "dobry gastrolog 8.1366687358605\n",
      "dobry humor 8.070798042573257\n",
      "dobry pomysl 8.047669134617227\n",
      "dobry węch 7.938406850923027\n",
      "dobry ginekolog 7.855651335154452\n",
      "\n",
      "Method: PPMI, alpha=0.75\n",
      "dobry łotr 9.633668982287475\n",
      "dobry prognostyk 9.397798984860648\n",
      "dobry uczynek 9.055185017230514\n",
      "dobry pasterz 8.575875047763262\n",
      "dobry obyczaj 8.46919988765946\n",
      "dobry gastrolog 8.373513744795744\n",
      "dobry humor 8.324110724830312\n",
      "dobry pomysl 8.30676404386329\n",
      "dobry węch 8.22481733109264\n",
      "dobry ginekolog 8.162750694266208\n",
      "\n",
      "Method: PSM\n",
      "dobry pomysł 7278.19162566379\n",
      "dobry stosunek 3900.845569640373\n",
      "dobry wynik 2793.960950851228\n",
      "dobry moment 2264.9459864207624\n",
      "dobry kierunek 2097.617255095214\n",
      "dobry kontakt 2091.5460927092386\n",
      "dobry przykład 2066.5672098677414\n",
      "dobry humor 1873.7614812819131\n",
      "dobry wybór 1789.824821496785\n",
      "dobry początek 1378.0037327756118\n",
      "\n",
      "Method: PPMI with tags\n",
      "dobry uczynek 23.8308260258631\n",
      "dobry obyczaj 21.77243069335188\n",
      "dobry humor 21.262774662004986\n",
      "dobry węch 20.91398584825397\n",
      "dobry trop 20.64734652234008\n",
      "dobry omen 19.712377783865968\n",
      "dobry gust 18.552915698374214\n",
      "dobry pomysł 18.53389156852335\n",
      "dobry stosunek 18.32445854875408\n",
      "dobry słuch 18.273372429203146\n",
      "\n",
      "-----------------------------------------------\n",
      "\n",
      "Test word: widze\n",
      "\n",
      "Method: PPMI\n",
      "widze sensu 7.12774420731651\n",
      "widze problemu 4.936851216493321\n",
      "widze powodu 4.921721682157329\n",
      "widze ze 4.770227422758024\n",
      "widze nic 4.585278833162186\n",
      "widze potrzeby 4.382753868717716\n",
      "widze tu 3.74966425086086\n",
      "widze tutaj 3.657049244087187\n",
      "widze tylko 2.797668680747875\n",
      "widze jak 2.6843678151747534\n",
      "\n",
      "Method: PPMI, alpha=0.75\n",
      "widze sensu 7.616820348387751\n",
      "widze problemu 5.97365060527036\n",
      "widze powodu 5.9623034545183655\n",
      "widze ze 5.848682759968888\n",
      "widze nic 5.709971317772009\n",
      "widze potrzeby 5.5580775944386565\n",
      "widze tu 5.083260381046014\n",
      "widze tutaj 5.01379912596576\n",
      "widze tylko 4.369263703461276\n",
      "widze jak 4.2842880542814346\n",
      "\n",
      "Method: PSM\n",
      "widze ze 984.0293573398444\n",
      "widze że 177.19571025392833\n",
      "widze sensu 159.32134939022922\n",
      "widze , 121.39026874348602\n",
      "widze powodu 105.88648541824787\n",
      "widze nic 86.04669199589249\n",
      "widze jak 80.84965512838818\n",
      "widze problemu 59.05276824739981\n",
      "widze tu 54.9932850172172\n",
      "widze to 52.48026830403539\n",
      "\n",
      "Method: PPMI with tags\n",
      "widze nic 7.369787514736447\n",
      "widze ze 1.6870287693213681\n",
      "widze te 1.3228215108700676\n",
      "widze potrzeby 0.9222449357656557\n",
      "widze tutaj 0.0\n",
      "widze ... 0.0\n",
      "widze i 0\n",
      "widze w 0.0\n",
      "widze , 0.0\n",
      "widze . 0\n",
      "\n",
      "-----------------------------------------------\n",
      "\n",
      "Test word: promień\n",
      "\n",
      "Method: PPMI\n",
      "promień schwarzschilda 12.789268252202776\n",
      "promień krzywizny 12.471733216601315\n",
      "promień mońki 11.823706471321838\n",
      "promień skrętu 11.341539355882906\n",
      "promień świetlny 11.145462696264469\n",
      "promień lasera 10.484664995052494\n",
      "promień żary 10.083240296481334\n",
      "promień rażenia 9.40333834267141\n",
      "promień orbity 9.266316545107118\n",
      "promień łuku 8.976254567665158\n",
      "\n",
      "Method: PPMI, alpha=0.75\n",
      "promień schwarzschilda 11.862963382052452\n",
      "promień krzywizny 11.624812105351355\n",
      "promień mońki 11.138792046391748\n",
      "promień skrętu 10.777166709812548\n",
      "promień świetlny 10.63010921509872\n",
      "promień lasera 10.13451093918974\n",
      "promień żary 9.83344241526137\n",
      "promień rażenia 9.323515949903927\n",
      "promień orbity 9.220749601730708\n",
      "promień łuku 9.003203118649237\n",
      "\n",
      "Method: PSM\n",
      "promień skrętu 682.5415974882717\n",
      "promień słońca 532.6149085691654\n",
      "promień lasera 341.4479398218898\n",
      "promień krzywizny 309.7367968482355\n",
      "promień światła 299.42646712705067\n",
      "promień świetlny 263.7820301028762\n",
      "promień łuku 207.38261875929413\n",
      "promień mońki 194.8267164837931\n",
      "promień schwarzschilda 188.6282920352444\n",
      "promień równy 182.24789937777098\n",
      "\n",
      "Method: PPMI with tags\n",
      "promień mońki 31.457785807806225\n",
      "promień świetlny 29.65327150825195\n",
      "promień równy 22.864031179198655\n",
      "promień krzywizny 6.770057446531262\n",
      "promień rażenia 5.4493285793923345\n",
      "promień orbity 5.030054302686075\n",
      "promień schwarzschilda 5.026146399490969\n",
      "promień płetwy 4.817277047466348\n",
      "promień słońca 4.8076697828351\n",
      "promień ziemi 3.9153503371923652\n",
      "\n",
      "-----------------------------------------------\n",
      "\n",
      "Test word: europejska\n",
      "\n",
      "Method: PPMI\n",
      "europejska zakwestionowała 10.249126565993677\n",
      "europejska zobligowała 10.115595173369154\n",
      "europejska pozwała 10.01023465771133\n",
      "europejska nakazała 8.970462869066152\n",
      "europejska podtrzymała 8.897923524685057\n",
      "europejska zaleciła 8.84864756988183\n",
      "europejska zatwierdziła 8.472820840667463\n",
      "europejska uwzględniła 8.383024575531431\n",
      "europejska przedłużyła 8.193782575892902\n",
      "europejska agenda 8.097797794800526\n",
      "\n",
      "Method: PPMI, alpha=0.75\n",
      "europejska zakwestionowała 9.957857117395628\n",
      "europejska zobligowała 9.857708572927235\n",
      "europejska pozwała 9.778688186183865\n",
      "europejska nakazała 8.998859344699984\n",
      "europejska podtrzymała 8.944454836414163\n",
      "europejska zaleciła 8.907497870311742\n",
      "europejska zatwierdziła 8.625627823400967\n",
      "europejska uwzględniła 8.558280624548942\n",
      "europejska przedłużyła 8.416349124820046\n",
      "europejska agenda 8.344360539000764\n",
      "\n",
      "Method: PSM\n",
      "europejska przyjęła 961.5877555942614\n",
      "europejska agencja 930.5137105462981\n",
      "europejska karta 925.3779167540805\n",
      "europejska konwencja 898.9328040624035\n",
      "europejska podjęła 845.4839306610984\n",
      "europejska uznała 819.8846991847643\n",
      "europejska przedstawiła 759.5477772035356\n",
      "europejska nie 682.290228615555\n",
      "europejska stolica 678.4084109248676\n",
      "europejska przedłożyła 620.3472722657043\n",
      "\n",
      "Method: PPMI with tags\n",
      "europejska agenda 25.48117750026966\n",
      "europejska stolica 22.378518686459167\n",
      "europejska federacja 22.04544786743958\n",
      "europejska konwencja 21.51456158088419\n",
      "europejska wspólnota 20.838617035959054\n",
      "europejska konfederacja 19.90679915226803\n",
      "europejska fundacja 18.106587133571384\n",
      "europejska agencja 17.713987273035478\n",
      "europejska nagroda 16.44480657134902\n",
      "europejska integracja 15.528341651581215\n",
      "\n",
      "-----------------------------------------------\n",
      "\n",
      "Test word: samolot\n",
      "\n",
      "Method: PPMI\n"
     ]
    },
    {
     "name": "stdout",
     "output_type": "stream",
     "text": [
      "samolot szkolno-treningowy 11.917011543852835\n",
      "samolot szturmowy 10.825319698029299\n",
      "samolot an-2td 10.818399255184724\n",
      "samolot an-2p 10.636077698390771\n",
      "samolot wielozadaniowy 10.581161940794656\n",
      "samolot patrolowy 10.033902296036551\n",
      "samolot przewoził 9.985490132249621\n",
      "samolot zwiadowczy 9.88409001780789\n",
      "samolot bombowy 9.84041495430523\n",
      "samolot odrzutowy 9.82852016665308\n",
      "\n",
      "Method: PPMI, alpha=0.75\n",
      "samolot szkolno-treningowy 11.208770850789996\n",
      "samolot szturmowy 10.390001966422343\n",
      "samolot an-2td 10.384811634288914\n",
      "samolot an-2p 10.248070466693447\n",
      "samolot wielozadaniowy 10.206883648496362\n",
      "samolot patrolowy 9.796438914927784\n",
      "samolot przewoził 9.760129792087586\n",
      "samolot zwiadowczy 9.684079706256288\n",
      "samolot bombowy 9.651323408629292\n",
      "samolot odrzutowy 9.64240231789018\n",
      "\n",
      "Method: PSM\n",
      "samolot miał 1838.9089364269546\n",
      "samolot został 1741.7203864829585\n",
      "samolot myśliwski 1733.8187704402194\n",
      "samolot wielozadaniowy 1188.0640806585375\n",
      "samolot pasażerski 1166.3909002099451\n",
      "samolot był 1112.04980670845\n",
      "samolot transportowy 1067.343241757594\n",
      "samolot rozbił 930.0828335388082\n",
      "samolot rozpoznawczy 837.8247787204273\n",
      "samolot bombowy 777.9565159788604\n",
      "\n",
      "Method: PPMI with tags\n",
      "samolot szkolno-treningowy 31.706030382684766\n",
      "samolot szturmowy 28.8015090012261\n",
      "samolot zwiadowczy 28.655189443044794\n",
      "samolot wielozadaniowy 28.15191046382744\n",
      "samolot rozpoznawczy 27.434039937528688\n",
      "samolot patrolowy 26.695888468710038\n",
      "samolot bombowy 26.18110206332448\n",
      "samolot odrzutowy 26.149455161137062\n",
      "samolot dwupłatowy 25.90898213747019\n",
      "samolot myśliwski 25.72529046588497\n",
      "\n",
      "-----------------------------------------------\n",
      "\n"
     ]
    }
   ],
   "source": [
    "TEST_WORDS = ['zaraz','jadę','bardzo','zielony','dobry','widze','promień','europejska','samolot']\n",
    "methods = [('PPMI',PPMI),('PPMI, alpha=0.75',PPMI_alpha),('PSM',PSM),('PPMI with tags',tags_PPMI)]\n",
    "for w in TEST_WORDS:\n",
    "    print(f'Test word: {w}')\n",
    "    for name,method in methods:\n",
    "        print()\n",
    "        print('Method:',name)\n",
    "        scores = [(method(w,nw),nw) for nw in BIGRAMS_DICT[w].keys()]\n",
    "        scores.sort(key=lambda e:e[0],reverse=True)\n",
    "        for (score,nw) in scores[:10]:\n",
    "            print(w,nw,score)\n",
    "    print()\n",
    "    print('-----------------------------------------------')\n",
    "    print()"
   ]
  },
  {
   "cell_type": "markdown",
   "metadata": {},
   "source": [
    "## Zadanie 6. (7p) \n",
    "W zadaniu tym będziemy tworzyć pierwszą wersję programu tworzącego poezję (przypominającą Pana Tadeusza, oznaczanego dalej PT)). Przypomnijmy najważniejsze fakty odnoszące się do tego utworu (i ogólnie Poezji (1)):\n",
    "\n",
    "F1. Wiersz składa się z wersetów, z których każdy ma ustaloną liczbę sylab (w PT to 13)\n",
    "\n",
    "F2. Ostatnie słowo w wersecie n rymuje się z ostatnim słowem w wersecie n + 1 (dla n parzystego,\n",
    "numeracja od 0 (2)).\n",
    "\n",
    "F3. Rym to zgodność ostatniej sylaby i części od samogłoski sylaby przedostatniej (zdrowie-dowie).\n",
    "W zasadzie rymy to zjawisko fonetyczne, ale dla języka polskiego (w pierwszej wersji) można\n",
    "sobie to trochę uprościć i powiedzieć, że dotyczą one liter.\n",
    "\n",
    "F4. Akcenty słów i podziały słów muszą się jakoś sensownie układać. Nam wystarczy przyjąć,\n",
    "że godzimy się jedynie na takie podziały wersu na słowa k-sylabowe (3), których użył Adam\n",
    "Mickiewicz, na przykład:\n",
    "\n",
    "Litwo, Ojczyzno moja, Ty jesteś jak zdrowie, ile cię trzeba cenić, ten tylko się dowie\n",
    "ma schemat: [2,3,2,1,2,1,2] -- [2,1,2,2,1,2,1,2]\n",
    "\n",
    "F5. Podział na sylaby nie jest trywialny (dlaczego?). Ale na nasze szczęście policzenie sylab jest\n",
    "łatwe. Słowo ma tyle sylab, ile ma samogłosek (przy czym połączenia ie, iu, ię, itd traktujemy\n",
    "jako jedną samogłoskę). Część rymowana wyrazu to część wyrazu od przedostatniej samogłoski\n",
    "do końca.\n",
    "\n",
    "Powinieneś stworzyć program, generujący dwuwersowe fragmenty wierszy w stylu PT, czyli powinieneś przypilnować:\n",
    "\n",
    "a) żeby wersy były poprawne rytmicznie i się rymowały,\n",
    "\n",
    "b) żeby dwuwers miał sens gramatyczny (czyli by tagi słów pasowały do jakiegoś zdania lub fragmentu zdania)\n",
    "\n",
    "c) żeby były jakoś wykorzystane statystyki N-gra\n",
    "\n",
    "\n",
    "---\n",
    "\n",
    "(1) Bardzo proszę nie pokazywać tego żadnemu Poloniście ani Polonistce\n",
    "\n",
    "(2) Jest to najprostszy schemat rymów aabb. Oczywiście są też inne, np. abab, ale na razie nimi się nie zajmujemy\n",
    "\n",
    "(3) Korzystamy tu istotnie z tego, że z dobrym przybliżeniem, w języku polskim akcent wyrazowy jest funkcją liczby sylab\n"
   ]
  },
  {
   "cell_type": "code",
   "execution_count": null,
   "metadata": {},
   "outputs": [],
   "source": []
  },
  {
   "cell_type": "code",
   "execution_count": null,
   "metadata": {},
   "outputs": [],
   "source": []
  },
  {
   "cell_type": "markdown",
   "metadata": {},
   "source": [
    "## Zadanie 7. (5p) \n",
    "Zmodyfikuj algorytm z poprzedniego zadania w ten sposób, by starał się on maksymalizować wzajemną „kolokacyjność” słów z dwuwersu (tak, by jak najwięcej słów było ze sobą powiązanych, na przykład przez wysokie PPMI). Akceptowalna jest dowolna procedura (local search, jakieś błądzenie losowe, metody ewolucyjne, ...), która daje wartość liczby par słów będących kolokacjami istotnie większą niż losowanie z poprzedniego zadania."
   ]
  },
  {
   "cell_type": "code",
   "execution_count": null,
   "metadata": {},
   "outputs": [],
   "source": []
  },
  {
   "cell_type": "code",
   "execution_count": null,
   "metadata": {},
   "outputs": [],
   "source": []
  },
  {
   "cell_type": "code",
   "execution_count": 14,
   "metadata": {
    "ExecuteTime": {
     "end_time": "2020-11-07T11:11:49.503953Z",
     "start_time": "2020-11-07T11:11:49.469021Z"
    }
   },
   "outputs": [],
   "source": [
    "ZDANIA = [['nasz', 'przedmiot', 'to', 'przetwarzanie', 'języka', 'naturalnego'],\n",
    " ['jedną', 'grupę', 'prowadzi', 'jakub', 'michaliszyn'],\n",
    " ['wykładowcą', 'jest', 'paweł', 'rychlikowski'],\n",
    " ['pan', 'paweł', 'prowadzi', 'również', 'dwie', 'pozostałe', 'grupy'],\n",
    " ['na', 'stronie', 'wykładu', 'będą', 'pojawiać', 'się', 'listy', 'zadań'],\n",
    " ['będą', 'to', 'listy', 'ćwiczeniowe', 'i', 'pracowniowe'],\n",
    " ['będą', 'to', 'listy', 'pracowniowe', 'i', 'ćwiczeniowe'],\n",
    " ['mogą', 'się', 'pojawiać', 'również', 'dodatkowe', 'aktywności', ''],\n",
    " ['te', 'aktywności', 'będą', 'premiowane', ''],\n",
    " ['na', 'przykłąd', 'quizy', 'na', 'platformie', 'zdalnej'],\n",
    " ['rozważamy', 'też', 'miniprojekty', 'na', 'temat', 'wykładu'],\n",
    " ['zapowiadamy', 'je', 'z', 'co', 'najmniej', 'tygodniowym', 'wyprzedzeniem'],\n",
    " ['zadania', 'są', 'przeznaczone', 'na', 'konkretne', 'zajęcia'],\n",
    " ['ćwiczenia', 'zaczynają', 'się', 'w', 'sali', 'seminaryjnej'],\n",
    " ['jest', 'tak', 'tylko', 'w', 'trybie', 'stacjonarnym', ''],\n",
    " ['pozostałe', 'zajęcia', 'domyślnie', 'zaczynają', 'się', 'w', 'pracowni'],\n",
    " ['pracownia', 'polega', 'na', 'indywidualnych', 'konsutlacjach'],\n",
    " ['rozmawiamy', 'tam', 'na', 'temat', 'rozwiązań', ''],\n",
    " ['podczas',\n",
    "  'ćwiczeń',\n",
    "  'studenci',\n",
    "  'przedstawiają',\n",
    "  'pisemne',\n",
    "  'rozwiązania',\n",
    "  'zadań'],\n",
    " ['tryb', 'zajęć', 'zależy', 'od', 'sytuacji', 'epidemiologicznej'],\n",
    " ['zależy', 'też', 'od', 'wymogów', 'formalnych', ''],\n",
    " ['zależy', 'również', 'od', 'decyzji', 'władz'],\n",
    " ['uwzględnia', 'się', 'możliwości', 'studentów', 'i', 'prowadzących'],\n",
    " ['może', 'się', 'on', 'zmieniać', 'w', 'trakcie', 'semestru'],\n",
    " ['przed',\n",
    "  'ćwiczeniami',\n",
    "  'studenci',\n",
    "  'dostarczają',\n",
    "  'prowadzącemu',\n",
    "  'deklaracje'],\n",
    " ['zawiera', 'ona', 'numery', 'zadań'],\n",
    " ['studenci', 'pokazują', 'rozwiązania', 'przy', 'tablicy'],\n",
    " ['jest', 'źle', ',', 'jeżeli', 'student', 'nie', 'umie'],\n",
    " ['dodatkowo', 'coś', 'mu', 'się', 'odejmuje'],\n",
    " ['zadania', 'można', 'oddawać', 'podczas', 'zajęć', 'na', 'pracowni'],\n",
    " ['zadania', 'należy', 'rozwiązywać', 'samodzielnie'],\n",
    " ['prowadzący', 'ocenia', 'poprawność', 'rozwiązania'],\n",
    " ['czasem', 'mogą', 'pojawić', 'się', 'informacje', 'o', 'regułach'],\n",
    " ['na', 'każdej', 'liście', 'podany', 'jest', 'termin'],\n",
    " ['za', 'poprawne', 'rozwiązanie', 'dostajemy', 'dużo', 'punktów'],\n",
    " ['spóźnione', 'zadania', 'nie', 'będą', 'sprawdzane'],\n",
    " ['pierwsza', 'lista', 'ma', 'dłuższy', 'termin'],\n",
    " ['zasada', 'musi', 'być', 'zmodyfikowana', 'pod', 'koniec', 'semestru'],\n",
    " ['w', 'przypadku', 'choroby', 'studenta', 'obowiązują', 'inne', 'zasady'],\n",
    " ['w', 'przypadku', 'kwarantanny', 'studenta', 'obowiązują', 'inne', 'zasady'],\n",
    " ['w', 'przypadku', 'izolacji', 'studenta', 'obowiązują', 'inne', 'zasady'],\n",
    " ['możliwe',\n",
    "  'jest',\n",
    "  'oddawanie',\n",
    "  'zaległych',\n",
    "  'zadań',\n",
    "  'bez',\n",
    "  'straty',\n",
    "  'punktowej'],\n",
    " ['ocenę', 'wystawia', 'się', 'zgodnie', 'z', 'tabelką'],\n",
    " ['50', 'punktów', 'daje', 'ocenę', 'dostateczną'],\n",
    " ['120', 'punktów', 'daje', 'ocenę', 'bardzo', 'dobrą'],\n",
    " ['powyższa', 'tabelka', 'zostanie', 'przeskalowana'],\n",
    " ['może', 'też', 'zostać', 'przeskalowana', 'z', 'innych', 'powodów'],\n",
    " ['w', 'pierwszym', 'tygodniu', 'zajęć', 'coś', 'podamy'],\n",
    " ['dodatkowe', 'zasady', 'umożliwiające', 'zwolnienie', 'z', 'egzaminu'],\n",
    " ['dotyczą', 'osób', 'z', 'dużą', 'liczbą', 'punktów'],\n",
    " ['można', 'rozwiązać', 'też', 'zadanie', 'specjalne'],\n",
    " ['forma', 'egzaminu', 'zależy', 'od', 'wielu', 'czynników'],\n",
    " ['należy', 'się', 'spodziewać', 'różnych', 'wariantów'],\n",
    " ['nie', 'wykluczamy', 'indywidualnego', 'egzaminu', 'ustnego'],\n",
    " ['jaś', 'i', 'małgosia', 'też', 'są', 'tutaj'],\n",
    " ['puchatek', 'z', 'prosiaczkiem', 'nie', 'przybędą'],\n",
    " ['raz', 'kotek', 'był', 'chory', 'i', 'odpoczywał'],\n",
    " ['raz', 'kotek', 'był', 'chory', 'i', 'leżał', 'w', 'łóżeczku'],\n",
    " ['definicja', 'relacji', 'równoważności', 'nie', 'jest', 'trudna'],\n",
    " ['hipoteza', 'continuum', 'jest', 'niezależna', 'od', 'aksjomatów'],\n",
    " ['teoria', 'mnogości', 'daje', 'wiele', 'radości'],\n",
    " ['programowanie', 'nie', 'jest', 'szczególnie', 'trudne'],\n",
    " ['rachunek', 'prawdopodobieństwa', 'przydaje', 'się', 'w', 'życiu'],\n",
    " ['rycerze', 'osaczyli', 'smoka', 'zanim', 'strawił', 'księżniczkę'],\n",
    " ['chyba', 'należy', 'już', 'przestać', 'wymyślać', 'zdania']]"
   ]
  },
  {
   "cell_type": "code",
   "execution_count": null,
   "metadata": {},
   "outputs": [],
   "source": []
  }
 ],
 "metadata": {
  "kernelspec": {
   "display_name": "Python 3",
   "language": "python",
   "name": "python3"
  },
  "language_info": {
   "codemirror_mode": {
    "name": "ipython",
    "version": 3
   },
   "file_extension": ".py",
   "mimetype": "text/x-python",
   "name": "python",
   "nbconvert_exporter": "python",
   "pygments_lexer": "ipython3",
   "version": "3.8.3"
  },
  "toc": {
   "base_numbering": 1,
   "nav_menu": {},
   "number_sections": true,
   "sideBar": true,
   "skip_h1_title": false,
   "title_cell": "Table of Contents",
   "title_sidebar": "Contents",
   "toc_cell": false,
   "toc_position": {
    "height": "calc(100% - 180px)",
    "left": "10px",
    "top": "150px",
    "width": "614.4px"
   },
   "toc_section_display": true,
   "toc_window_display": true
  }
 },
 "nbformat": 4,
 "nbformat_minor": 4
}
