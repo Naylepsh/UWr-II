{
 "metadata": {
  "language_info": {
   "codemirror_mode": {
    "name": "ipython",
    "version": 3
   },
   "file_extension": ".py",
   "mimetype": "text/x-python",
   "name": "python",
   "nbconvert_exporter": "python",
   "pygments_lexer": "ipython3",
   "version": "3.8.3-final"
  },
  "orig_nbformat": 2,
  "kernelspec": {
   "name": "python3",
   "display_name": "Python 3"
  }
 },
 "nbformat": 4,
 "nbformat_minor": 2,
 "cells": [
  {
   "source": [
    "## Validation"
   ],
   "cell_type": "markdown",
   "metadata": {}
  },
  {
   "cell_type": "code",
   "execution_count": 4,
   "metadata": {},
   "outputs": [],
   "source": [
    "from naive_bayes_v2 import naive_bayes, AuthorshipClass\n",
    "from file_utils import count_words_in_file, count_sentence_lengths_in_file, get_sentences_from_text\n",
    "\n",
    "orzeszkowa_suffix = 'korpus_orzeszkowej.txt'\n",
    "prus_suffix = 'korpus_prusa.txt'\n",
    "sienkiewicz_suffix = 'korpus_sienkiewicza.txt'\n",
    "\n",
    "teaching_set_prefix = './dane/teaching'\n",
    "orzeszkowa_teaching_file = f'{teaching_set_prefix}_{orzeszkowa_suffix}'\n",
    "prus_teaching_file = f'{teaching_set_prefix}_{prus_suffix}'\n",
    "sienkiewicz_teaching_file = f'{teaching_set_prefix}_{sienkiewicz_suffix}'\n",
    "\n",
    "orzeszkowa_words = count_words_in_file(orzeszkowa_teaching_file)\n",
    "orzeszkowa_lengths = count_sentence_lengths_in_file(orzeszkowa_teaching_file)\n",
    "prus_words = count_words_in_file(prus_teaching_file)\n",
    "prus_lengths = count_sentence_lengths_in_file(prus_teaching_file)\n",
    "sienkiewicz_words = count_words_in_file(sienkiewicz_teaching_file)\n",
    "sienkiewicz_lengths = count_sentence_lengths_in_file(sienkiewicz_teaching_file)\n",
    "\n",
    "orzeszkowa = AuthorshipClass('o', orzeszkowa_words, orzeszkowa_lengths)\n",
    "prus = AuthorshipClass('p', prus_words, prus_lengths)\n",
    "sienkiewicz = AuthorshipClass('s', sienkiewicz_words, sienkiewicz_lengths)\n"
   ]
  },
  {
   "cell_type": "code",
   "execution_count": 5,
   "metadata": {},
   "outputs": [],
   "source": [
    "def validate(expected_symbol, filename, mult):\n",
    "    with open(filename, 'r', encoding='utf-8') as f:\n",
    "        sentences = get_sentences_from_text(f.read())\n",
    "\n",
    "    total = 0\n",
    "    correct = 0\n",
    "    for sentence in sentences:\n",
    "        words = sentence.split()\n",
    "        res = naive_bayes(words, [orzeszkowa, prus, sienkiewicz], mult)\n",
    "        if res[0][0] == expected_symbol:\n",
    "            correct += 1\n",
    "        total += 1\n",
    "    return correct, total\n",
    "\n",
    "\n",
    "def validate_orzeszkowa(mult):\n",
    "    correct, total = validate(orzeszkowa.symbol, f'./dane/validation_{orzeszkowa_suffix}', mult)\n",
    "    return correct / total\n",
    "\n",
    "\n",
    "def validate_prus(mult):\n",
    "    correct, total = validate(prus.symbol, f'./dane/validation_{prus_suffix}', mult)\n",
    "    return correct / total\n",
    "\n",
    "\n",
    "def validate_sienkiewicz(mult):\n",
    "    correct, total = validate(sienkiewicz.symbol, f'./dane/validation_{sienkiewicz_suffix}', mult)\n",
    "    return correct / total"
   ]
  },
  {
   "source": [
    "#### Testing multipliers"
   ],
   "cell_type": "markdown",
   "metadata": {}
  },
  {
   "cell_type": "code",
   "execution_count": 7,
   "metadata": {},
   "outputs": [
    {
     "output_type": "stream",
     "name": "stdout",
     "text": [
      "orzeszkowa 0.4711033274956217\nprus 0.4949685534591195\nsienkiewicz 0.7849462365591398\n"
     ]
    }
   ],
   "source": [
    "mult = lambda _: 1.0\n",
    "\n",
    "print('orzeszkowa', validate_orzeszkowa(mult))\n",
    "print('prus', validate_prus(mult))\n",
    "print('sienkiewicz', validate_sienkiewicz(mult))"
   ]
  },
  {
   "cell_type": "code",
   "execution_count": 9,
   "metadata": {},
   "outputs": [
    {
     "output_type": "stream",
     "name": "stdout",
     "text": [
      "orzeszkowa 0.4366608289550496\nprus 0.5276729559748428\nsienkiewicz 0.7526881720430108\n"
     ]
    }
   ],
   "source": [
    "mult = lambda _: 5.0\n",
    "\n",
    "print('orzeszkowa', validate_orzeszkowa(mult))\n",
    "print('prus', validate_prus(mult))\n",
    "print('sienkiewicz', validate_sienkiewicz(mult))"
   ]
  },
  {
   "cell_type": "code",
   "execution_count": 8,
   "metadata": {},
   "outputs": [
    {
     "output_type": "stream",
     "name": "stdout",
     "text": [
      "orzeszkowa 0.4127262113251605\nprus 0.5641509433962264\nsienkiewicz 0.6469534050179212\n"
     ]
    }
   ],
   "source": [
    "mult = lambda _: 10.0\n",
    "\n",
    "print('orzeszkowa', validate_orzeszkowa(mult))\n",
    "print('prus', validate_prus(mult))\n",
    "print('sienkiewicz', validate_sienkiewicz(mult))"
   ]
  },
  {
   "cell_type": "code",
   "execution_count": 32,
   "metadata": {},
   "outputs": [
    {
     "output_type": "stream",
     "name": "stdout",
     "text": [
      "orzeszkowa 0.46351430239346175\nprus 0.5886792452830188\nsienkiewicz 0.5824372759856631\n"
     ]
    }
   ],
   "source": [
    "mult = lambda words: len(words)\n",
    "\n",
    "print('orzeszkowa', validate_orzeszkowa(mult))\n",
    "print('prus', validate_prus(mult))\n",
    "print('sienkiewicz', validate_sienkiewicz(mult))"
   ]
  },
  {
   "cell_type": "code",
   "execution_count": 27,
   "metadata": {},
   "outputs": [
    {
     "output_type": "stream",
     "name": "stdout",
     "text": [
      "orzeszkowa 0.4349095154699358\nprus 0.6050314465408805\nsienkiewicz 0.507168458781362\n"
     ]
    }
   ],
   "source": [
    "mult = lambda words: 1.5 * len(words)\n",
    "\n",
    "print('orzeszkowa', validate_orzeszkowa(mult))\n",
    "print('prus', validate_prus(mult))\n",
    "print('sienkiewicz', validate_sienkiewicz(mult))"
   ]
  },
  {
   "cell_type": "code",
   "execution_count": 81,
   "metadata": {},
   "outputs": [
    {
     "output_type": "stream",
     "name": "stdout",
     "text": [
      "orzeszkowa 0.47752481027437244\nprus 0.5056603773584906\nsienkiewicz 0.7634408602150538\n"
     ]
    }
   ],
   "source": [
    "mult = lambda words: 10 if len(words) > 20 else 1\n",
    "\n",
    "print('orzeszkowa', validate_orzeszkowa(mult))\n",
    "print('prus', validate_prus(mult))\n",
    "print('sienkiewicz', validate_sienkiewicz(mult))"
   ]
  },
  {
   "cell_type": "code",
   "execution_count": 82,
   "metadata": {},
   "outputs": [
    {
     "output_type": "stream",
     "name": "stdout",
     "text": [
      "orzeszkowa 0.50379451255108\nprus 0.5144654088050314\nsienkiewicz 0.7329749103942652\n"
     ]
    }
   ],
   "source": [
    "mult = lambda words: 10 if len(words) > 15 else 0\n",
    "\n",
    "print('orzeszkowa', validate_orzeszkowa(mult))\n",
    "print('prus', validate_prus(mult))\n",
    "print('sienkiewicz', validate_sienkiewicz(mult))"
   ]
  },
  {
   "cell_type": "code",
   "execution_count": 83,
   "metadata": {},
   "outputs": [
    {
     "output_type": "stream",
     "name": "stdout",
     "text": [
      "orzeszkowa 0.5078809106830122\nprus 0.5364779874213836\nsienkiewicz 0.6792114695340502\n"
     ]
    }
   ],
   "source": [
    "mult = lambda words: 10 if len(words) > 10 else 0\n",
    "\n",
    "print('orzeszkowa', validate_orzeszkowa(mult))\n",
    "print('prus', validate_prus(mult))\n",
    "print('sienkiewicz', validate_sienkiewicz(mult))"
   ]
  },
  {
   "cell_type": "code",
   "execution_count": 84,
   "metadata": {},
   "outputs": [
    {
     "output_type": "stream",
     "name": "stdout",
     "text": [
      "orzeszkowa 0.500875656742557\nprus 0.5547169811320755\nsienkiewicz 0.5376344086021505\n"
     ]
    }
   ],
   "source": [
    "mult = lambda words: 40 if len(words) > 10 else 0\n",
    "\n",
    "print('orzeszkowa', validate_orzeszkowa(mult))\n",
    "print('prus', validate_prus(mult))\n",
    "print('sienkiewicz', validate_sienkiewicz(mult))"
   ]
  },
  {
   "cell_type": "code",
   "execution_count": 85,
   "metadata": {},
   "outputs": [
    {
     "output_type": "stream",
     "name": "stdout",
     "text": [
      "orzeszkowa 0.4868651488616462\nprus 0.5125786163522013\nsienkiewicz 0.7329749103942652\n"
     ]
    }
   ],
   "source": [
    "mult = lambda words: len(words) * 0.5 if len(words) > 15 else 1\n",
    "\n",
    "print('orzeszkowa', validate_orzeszkowa(mult))\n",
    "print('prus', validate_prus(mult))\n",
    "print('sienkiewicz', validate_sienkiewicz(mult))"
   ]
  },
  {
   "source": [
    "## Tests"
   ],
   "cell_type": "markdown",
   "metadata": {}
  },
  {
   "cell_type": "code",
   "execution_count": 47,
   "metadata": {},
   "outputs": [],
   "source": [
    "def test_authorship(filenames, expected_symbol, mult):\n",
    "    correct = 0\n",
    "    total = 0\n",
    "    for filename in filenames:\n",
    "            c, t = validate(expected_symbol, filename, mult)\n",
    "            # print(c / t)\n",
    "            correct += c\n",
    "            total += t\n",
    "    if total != 0:\n",
    "        print(f'Total stats: {correct / total}')"
   ]
  },
  {
   "cell_type": "code",
   "execution_count": 48,
   "metadata": {},
   "outputs": [],
   "source": [
    "def test_orzeszkowa(mult):\n",
    "    filenames = [\n",
    "        f'./dane/testy1/test_orzeszkowej{i}.txt' for i in range(1, 22, 2)]\n",
    "    test_authorship(filenames, orzeszkowa.symbol, mult)"
   ]
  },
  {
   "cell_type": "code",
   "execution_count": 49,
   "metadata": {},
   "outputs": [],
   "source": [
    "def test_prus(mult):\n",
    "    filenames = [f'./dane/testy1/test_prusa{i}.txt' for i in range(0, 40, 2)]\n",
    "    test_authorship(filenames, prus.symbol, mult)"
   ]
  },
  {
   "cell_type": "code",
   "execution_count": 50,
   "metadata": {},
   "outputs": [],
   "source": [
    "def test_sienkiewicz(mult):\n",
    "    filenames = [\n",
    "        f'./dane/testy1/test_sienkiewicza{i}.txt' for i in range(1, 53, 2)]\n",
    "    test_authorship(filenames, sienkiewicz.symbol, mult)"
   ]
  },
  {
   "cell_type": "code",
   "execution_count": 51,
   "metadata": {},
   "outputs": [
    {
     "output_type": "stream",
     "name": "stdout",
     "text": [
      "Total stats: 0.2777777777777778\n\nTotal stats: 0.45378973105134474\n\nTotal stats: 0.6395161290322581\n"
     ]
    }
   ],
   "source": [
    "mult = lambda _: 1.0\n",
    "\n",
    "test_orzeszkowa(mult)\n",
    "print()\n",
    "test_prus(mult)\n",
    "print()\n",
    "test_sienkiewicz(mult)"
   ]
  },
  {
   "source": [
    "#### Najlepszy wynik?"
   ],
   "cell_type": "markdown",
   "metadata": {}
  },
  {
   "cell_type": "code",
   "execution_count": 54,
   "metadata": {},
   "outputs": [
    {
     "output_type": "stream",
     "name": "stdout",
     "text": [
      "Total stats: 0.3242894056847545\n",
      "\n",
      "Total stats: 0.5662591687041565\n",
      "\n",
      "Total stats: 0.5112903225806451\n"
     ]
    }
   ],
   "source": [
    "mult = lambda words: len(words)\n",
    "\n",
    "test_orzeszkowa(mult)\n",
    "print()\n",
    "test_prus(mult)\n",
    "print()\n",
    "test_sienkiewicz(mult)"
   ]
  },
  {
   "cell_type": "code",
   "execution_count": 66,
   "metadata": {},
   "outputs": [
    {
     "output_type": "stream",
     "name": "stdout",
     "text": [
      "Total stats: 0.32041343669250644\n",
      "\n",
      "Total stats: 0.5105134474327628\n",
      "\n",
      "Total stats: 0.5665322580645161\n"
     ]
    }
   ],
   "source": [
    "mult = lambda words: 10 if len(words) > 10 else 0\n",
    "\n",
    "test_orzeszkowa(mult)\n",
    "print()\n",
    "test_prus(mult)\n",
    "print()\n",
    "test_sienkiewicz(mult)"
   ]
  },
  {
   "cell_type": "code",
   "execution_count": null,
   "metadata": {},
   "outputs": [],
   "source": []
  }
 ]
}