{
 "metadata": {
  "language_info": {
   "codemirror_mode": {
    "name": "ipython",
    "version": 3
   },
   "file_extension": ".py",
   "mimetype": "text/x-python",
   "name": "python",
   "nbconvert_exporter": "python",
   "pygments_lexer": "ipython3",
   "version": "3.8.3-final"
  },
  "orig_nbformat": 2,
  "kernelspec": {
   "name": "python3",
   "display_name": "Python 3"
  }
 },
 "nbformat": 4,
 "nbformat_minor": 2,
 "cells": [
  {
   "source": [
    "## Validation"
   ],
   "cell_type": "markdown",
   "metadata": {}
  },
  {
   "cell_type": "code",
   "execution_count": 1,
   "metadata": {},
   "outputs": [],
   "source": [
    "from naive_bayes_v2 import naive_bayes, AuthorshipClass\n",
    "from file_utils import count_words_in_file, count_sentence_lengths_in_file, get_sentences_from_text\n",
    "\n",
    "orzeszkowa_suffix = 'korpus_orzeszkowej.txt'\n",
    "prus_suffix = 'korpus_prusa.txt'\n",
    "sienkiewicz_suffix = 'korpus_sienkiewicza.txt'\n",
    "\n",
    "teaching_set_prefix = './dane/teaching'\n",
    "orzeszkowa_teaching_file = f'{teaching_set_prefix}_{orzeszkowa_suffix}'\n",
    "prus_teaching_file = f'{teaching_set_prefix}_{prus_suffix}'\n",
    "sienkiewicz_teaching_file = f'{teaching_set_prefix}_{sienkiewicz_suffix}'\n",
    "\n",
    "orzeszkowa_words = count_words_in_file(orzeszkowa_teaching_file)\n",
    "orzeszkowa_lengths = count_sentence_lengths_in_file(orzeszkowa_teaching_file)\n",
    "prus_words = count_words_in_file(prus_teaching_file)\n",
    "prus_lengths = count_sentence_lengths_in_file(prus_teaching_file)\n",
    "sienkiewicz_words = count_words_in_file(sienkiewicz_teaching_file)\n",
    "sienkiewicz_lengths = count_sentence_lengths_in_file(sienkiewicz_teaching_file)\n",
    "\n",
    "orzeszkowa = AuthorshipClass('o', orzeszkowa_words, orzeszkowa_lengths)\n",
    "prus = AuthorshipClass('p', prus_words, prus_lengths)\n",
    "sienkiewicz = AuthorshipClass('s', sienkiewicz_words, sienkiewicz_lengths)\n"
   ]
  },
  {
   "cell_type": "code",
   "execution_count": 6,
   "metadata": {},
   "outputs": [],
   "source": [
    "def validate(expected_symbol, filename):\n",
    "    with open(filename, 'r', encoding='utf-8') as f:\n",
    "        sentences = get_sentences_from_text(f.read())\n",
    "\n",
    "    total = 0\n",
    "    correct = 0\n",
    "    for sentence in sentences:\n",
    "        words = sentence.split()\n",
    "        res = naive_bayes(words, [orzeszkowa, prus, sienkiewicz])\n",
    "        if res[0][0] == expected_symbol:\n",
    "            correct += 1\n",
    "        total += 1\n",
    "    return correct, total\n",
    "\n",
    "\n",
    "def validate_orzeszkowa():\n",
    "    correct, total = validate(orzeszkowa.symbol, f'./dane/validation_{orzeszkowa_suffix}')\n",
    "    return correct / total\n",
    "\n",
    "\n",
    "def validate_prus():\n",
    "    correct, total = validate(prus.symbol, f'./dane/validation_{prus_suffix}')\n",
    "    return correct / total\n",
    "\n",
    "\n",
    "def validate_sienkiewicz():\n",
    "    correct, total = validate(sienkiewicz.symbol, f'./dane/validation_{sienkiewicz_suffix}')\n",
    "    return correct / total"
   ]
  },
  {
   "cell_type": "code",
   "execution_count": 7,
   "metadata": {},
   "outputs": [
    {
     "output_type": "stream",
     "name": "stdout",
     "text": [
      "orzeszkowa\n0.4711033274956217\n"
     ]
    }
   ],
   "source": [
    "print('orzeszkowa')\n",
    "print(validate_orzeszkowa())"
   ]
  },
  {
   "cell_type": "code",
   "execution_count": 8,
   "metadata": {},
   "outputs": [
    {
     "output_type": "stream",
     "name": "stdout",
     "text": [
      "prus\n0.4949685534591195\n"
     ]
    }
   ],
   "source": [
    "print('prus')\n",
    "print(validate_prus())"
   ]
  },
  {
   "cell_type": "code",
   "execution_count": 9,
   "metadata": {},
   "outputs": [
    {
     "output_type": "stream",
     "name": "stdout",
     "text": [
      "sienkiewicz\n0.7849462365591398\n"
     ]
    }
   ],
   "source": [
    "print('sienkiewicz')\n",
    "print(validate_sienkiewicz())"
   ]
  },
  {
   "source": [
    "## Tests"
   ],
   "cell_type": "markdown",
   "metadata": {}
  },
  {
   "cell_type": "code",
   "execution_count": 33,
   "metadata": {},
   "outputs": [],
   "source": [
    "def test_authorship(filenames, expected_symbol):\n",
    "    correct = 0\n",
    "    total = 0\n",
    "    for filename in filenames:\n",
    "            c, t = validate(expected_symbol, filename)\n",
    "            print(c / t)\n",
    "            correct += c\n",
    "            total += t\n",
    "    if total != 0:\n",
    "        print(f'Total stats: {correct / total}')"
   ]
  },
  {
   "cell_type": "code",
   "execution_count": 34,
   "metadata": {},
   "outputs": [],
   "source": [
    "def test_orzeszkowa():\n",
    "    filenames = [\n",
    "        f'./dane/testy1/test_orzeszkowej{i}.txt' for i in range(1, 22, 2)]\n",
    "    test_authorship(filenames, orzeszkowa.symbol)"
   ]
  },
  {
   "cell_type": "code",
   "execution_count": 35,
   "metadata": {},
   "outputs": [
    {
     "output_type": "stream",
     "name": "stdout",
     "text": [
      "0.27380952380952384\n0.3548387096774194\n0.19834710743801653\n0.2727272727272727\n0.2033898305084746\n0.2\n0.1896551724137931\n0.061224489795918366\n0.42424242424242425\n0.48333333333333334\n0.32786885245901637\nTotal stats: 0.2777777777777778\n"
     ]
    }
   ],
   "source": [
    "test_orzeszkowa()"
   ]
  },
  {
   "cell_type": "code",
   "execution_count": 38,
   "metadata": {},
   "outputs": [],
   "source": [
    "def test_prus():\n",
    "    filenames = [f'./dane/testy1/test_prusa{i}.txt' for i in range(0, 40, 2)]\n",
    "    test_authorship(filenames, prus.symbol)"
   ]
  },
  {
   "cell_type": "code",
   "execution_count": 39,
   "metadata": {},
   "outputs": [
    {
     "output_type": "stream",
     "name": "stdout",
     "text": [
      "0.313953488372093\n",
      "0.4482758620689655\n",
      "0.4578313253012048\n",
      "0.42424242424242425\n",
      "0.45161290322580644\n",
      "0.40476190476190477\n",
      "0.5283018867924528\n",
      "0.46551724137931033\n",
      "0.43795620437956206\n",
      "0.35374149659863946\n",
      "0.5092592592592593\n",
      "0.3146067415730337\n",
      "0.5535714285714286\n",
      "0.5633802816901409\n",
      "0.49137931034482757\n",
      "0.44954128440366975\n",
      "0.4609375\n",
      "0.5042016806722689\n",
      "0.4752475247524752\n",
      "0.5277777777777778\n",
      "Total stats: 0.45378973105134474\n"
     ]
    }
   ],
   "source": [
    "test_prus()"
   ]
  },
  {
   "cell_type": "code",
   "execution_count": 42,
   "metadata": {},
   "outputs": [],
   "source": [
    "def test_sienkiewicz():\n",
    "    filenames = [\n",
    "        f'./dane/testy1/test_sienkiewicza{i}.txt' for i in range(1, 53, 2)]\n",
    "    test_authorship(filenames, sienkiewicz.symbol)"
   ]
  },
  {
   "cell_type": "code",
   "execution_count": 43,
   "metadata": {},
   "outputs": [
    {
     "output_type": "stream",
     "name": "stdout",
     "text": [
      "0.7611940298507462\n",
      "0.75\n",
      "0.7073170731707317\n",
      "0.691358024691358\n",
      "0.7333333333333333\n",
      "0.6554621848739496\n",
      "0.6862745098039216\n",
      "0.6142857142857143\n",
      "0.6923076923076923\n",
      "0.5867768595041323\n",
      "0.6446280991735537\n",
      "0.6643356643356644\n",
      "0.7362637362637363\n",
      "0.7922077922077922\n",
      "0.40404040404040403\n",
      "0.4696969696969697\n",
      "0.66\n",
      "0.6830985915492958\n",
      "0.5813953488372093\n",
      "0.4470588235294118\n",
      "0.6170212765957447\n",
      "0.5114503816793893\n",
      "0.6\n",
      "0.6132075471698113\n",
      "0.5614035087719298\n",
      "0.7719298245614035\n",
      "Total stats: 0.6395161290322581\n"
     ]
    }
   ],
   "source": [
    "test_sienkiewicz()"
   ]
  },
  {
   "cell_type": "code",
   "execution_count": null,
   "metadata": {},
   "outputs": [],
   "source": []
  }
 ]
}