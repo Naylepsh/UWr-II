{
 "metadata": {
  "language_info": {
   "codemirror_mode": {
    "name": "ipython",
    "version": 3
   },
   "file_extension": ".py",
   "mimetype": "text/x-python",
   "name": "python",
   "nbconvert_exporter": "python",
   "pygments_lexer": "ipython3",
   "version": "3.8.3-final"
  },
  "orig_nbformat": 2,
  "kernelspec": {
   "name": "python3",
   "display_name": "Python 3"
  }
 },
 "nbformat": 4,
 "nbformat_minor": 2,
 "cells": [
  {
   "source": [
    "## Validation"
   ],
   "cell_type": "markdown",
   "metadata": {}
  },
  {
   "cell_type": "code",
   "execution_count": 1,
   "metadata": {},
   "outputs": [],
   "source": [
    "from naive_bayes_v2 import naive_bayes, AuthorshipClass\n",
    "from file_utils import count_words_in_file, count_sentence_lengths_in_file, get_sentences_from_text\n",
    "\n",
    "orzeszkowa_suffix = 'korpus_orzeszkowej.txt'\n",
    "prus_suffix = 'korpus_prusa.txt'\n",
    "sienkiewicz_suffix = 'korpus_sienkiewicza.txt'\n",
    "\n",
    "teaching_set_prefix = './dane/teaching'\n",
    "orzeszkowa_teaching_file = f'{teaching_set_prefix}_{orzeszkowa_suffix}'\n",
    "prus_teaching_file = f'{teaching_set_prefix}_{prus_suffix}'\n",
    "sienkiewicz_teaching_file = f'{teaching_set_prefix}_{sienkiewicz_suffix}'\n",
    "\n",
    "orzeszkowa_words = count_words_in_file(orzeszkowa_teaching_file)\n",
    "orzeszkowa_lengths = count_sentence_lengths_in_file(orzeszkowa_teaching_file)\n",
    "prus_words = count_words_in_file(prus_teaching_file)\n",
    "prus_lengths = count_sentence_lengths_in_file(prus_teaching_file)\n",
    "sienkiewicz_words = count_words_in_file(sienkiewicz_teaching_file)\n",
    "sienkiewicz_lengths = count_sentence_lengths_in_file(sienkiewicz_teaching_file)\n",
    "\n",
    "orzeszkowa = AuthorshipClass('o', orzeszkowa_words, orzeszkowa_lengths)\n",
    "prus = AuthorshipClass('p', prus_words, prus_lengths)\n",
    "sienkiewicz = AuthorshipClass('s', sienkiewicz_words, sienkiewicz_lengths)\n"
   ]
  },
  {
   "cell_type": "code",
   "execution_count": 2,
   "metadata": {},
   "outputs": [],
   "source": [
    "def validate(expected_symbol, filename, mult):\n",
    "    with open(filename, 'r', encoding='utf-8') as f:\n",
    "        sentences = get_sentences_from_text(f.read())\n",
    "\n",
    "    total = 0\n",
    "    correct = 0\n",
    "    for sentence in sentences:\n",
    "        words = sentence.split()\n",
    "        res = naive_bayes(words, [orzeszkowa, prus, sienkiewicz], mult)\n",
    "        if res[0][0] == expected_symbol:\n",
    "            correct += 1\n",
    "        total += 1\n",
    "    return correct, total\n",
    "\n",
    "\n",
    "def validate_orzeszkowa(mult):\n",
    "    correct, total = validate(orzeszkowa.symbol, f'./dane/validation_{orzeszkowa_suffix}', mult)\n",
    "    return correct / total\n",
    "\n",
    "\n",
    "def validate_prus(mult):\n",
    "    correct, total = validate(prus.symbol, f'./dane/validation_{prus_suffix}', mult)\n",
    "    return correct / total\n",
    "\n",
    "\n",
    "def validate_sienkiewicz(mult):\n",
    "    correct, total = validate(sienkiewicz.symbol, f'./dane/validation_{sienkiewicz_suffix}', mult)\n",
    "    return correct / total"
   ]
  },
  {
   "source": [
    "#### Testing multipliers"
   ],
   "cell_type": "markdown",
   "metadata": {}
  },
  {
   "cell_type": "code",
   "execution_count": 4,
   "metadata": {
    "tags": []
   },
   "outputs": [
    {
     "output_type": "stream",
     "name": "stdout",
     "text": [
      "orzeszkowa 0.5134488942020323\nprus 0.5309734513274337\nsienkiewicz 0.795751633986928\n"
     ]
    }
   ],
   "source": [
    "mult = lambda _: 1.0\n",
    "\n",
    "print('orzeszkowa', validate_orzeszkowa(mult))\n",
    "print('prus', validate_prus(mult))\n",
    "print('sienkiewicz', validate_sienkiewicz(mult))"
   ]
  },
  {
   "cell_type": "code",
   "execution_count": 5,
   "metadata": {},
   "outputs": [
    {
     "output_type": "stream",
     "name": "stdout",
     "text": [
      "orzeszkowa 0.5002988643156007\nprus 0.5699115044247788\nsienkiewicz 0.7483660130718954\n"
     ]
    }
   ],
   "source": [
    "mult = lambda _: 5.0\n",
    "\n",
    "print('orzeszkowa', validate_orzeszkowa(mult))\n",
    "print('prus', validate_prus(mult))\n",
    "print('sienkiewicz', validate_sienkiewicz(mult))"
   ]
  },
  {
   "cell_type": "code",
   "execution_count": 6,
   "metadata": {},
   "outputs": [
    {
     "output_type": "stream",
     "name": "stdout",
     "text": [
      "orzeszkowa 0.44172145845786015\nprus 0.6489675516224189\nsienkiewicz 0.6797385620915033\n"
     ]
    }
   ],
   "source": [
    "mult = lambda _: 10.0\n",
    "\n",
    "print('orzeszkowa', validate_orzeszkowa(mult))\n",
    "print('prus', validate_prus(mult))\n",
    "print('sienkiewicz', validate_sienkiewicz(mult))"
   ]
  },
  {
   "cell_type": "code",
   "execution_count": 7,
   "metadata": {},
   "outputs": [
    {
     "output_type": "stream",
     "name": "stdout",
     "text": [
      "orzeszkowa 0.4255827854154214\nprus 0.5309734513274337\nsienkiewicz 0.7843137254901961\n"
     ]
    }
   ],
   "source": [
    "mult = lambda words: len(words)\n",
    "\n",
    "print('orzeszkowa', validate_orzeszkowa(mult))\n",
    "print('prus', validate_prus(mult))\n",
    "print('sienkiewicz', validate_sienkiewicz(mult))"
   ]
  },
  {
   "cell_type": "code",
   "execution_count": 8,
   "metadata": {},
   "outputs": [
    {
     "output_type": "stream",
     "name": "stdout",
     "text": [
      "orzeszkowa 0.3723849372384937\nprus 0.5356932153392331\nsienkiewicz 0.7663398692810458\n"
     ]
    }
   ],
   "source": [
    "mult = lambda words: 1.5 * len(words)\n",
    "\n",
    "print('orzeszkowa', validate_orzeszkowa(mult))\n",
    "print('prus', validate_prus(mult))\n",
    "print('sienkiewicz', validate_sienkiewicz(mult))"
   ]
  },
  {
   "cell_type": "code",
   "execution_count": 9,
   "metadata": {},
   "outputs": [
    {
     "output_type": "stream",
     "name": "stdout",
     "text": [
      "orzeszkowa 0.5218170950388523\nprus 0.51976401179941\nsienkiewicz 0.7941176470588235\n"
     ]
    }
   ],
   "source": [
    "mult = lambda words: 10 if len(words) > 20 else 1\n",
    "\n",
    "print('orzeszkowa', validate_orzeszkowa(mult))\n",
    "print('prus', validate_prus(mult))\n",
    "print('sienkiewicz', validate_sienkiewicz(mult))"
   ]
  },
  {
   "cell_type": "code",
   "execution_count": 10,
   "metadata": {},
   "outputs": [
    {
     "output_type": "stream",
     "name": "stdout",
     "text": [
      "orzeszkowa 0.5260011954572624\nprus 0.5073746312684366\nsienkiewicz 0.8022875816993464\n"
     ]
    }
   ],
   "source": [
    "mult = lambda words: 10 if len(words) > 15 else 0\n",
    "\n",
    "print('orzeszkowa', validate_orzeszkowa(mult))\n",
    "print('prus', validate_prus(mult))\n",
    "print('sienkiewicz', validate_sienkiewicz(mult))"
   ]
  },
  {
   "cell_type": "code",
   "execution_count": 11,
   "metadata": {},
   "outputs": [
    {
     "output_type": "stream",
     "name": "stdout",
     "text": [
      "orzeszkowa 0.4967124925283921\nprus 0.5073746312684366\nsienkiewicz 0.8120915032679739\n"
     ]
    }
   ],
   "source": [
    "mult = lambda words: 10 if len(words) > 10 else 0\n",
    "\n",
    "print('orzeszkowa', validate_orzeszkowa(mult))\n",
    "print('prus', validate_prus(mult))\n",
    "print('sienkiewicz', validate_sienkiewicz(mult))"
   ]
  },
  {
   "cell_type": "code",
   "execution_count": 84,
   "metadata": {},
   "outputs": [
    {
     "output_type": "stream",
     "name": "stdout",
     "text": [
      "orzeszkowa 0.500875656742557\nprus 0.5547169811320755\nsienkiewicz 0.5376344086021505\n"
     ]
    }
   ],
   "source": [
    "mult = lambda words: 40 if len(words) > 10 else 0\n",
    "\n",
    "print('orzeszkowa', validate_orzeszkowa(mult))\n",
    "print('prus', validate_prus(mult))\n",
    "print('sienkiewicz', validate_sienkiewicz(mult))"
   ]
  },
  {
   "cell_type": "code",
   "execution_count": 12,
   "metadata": {},
   "outputs": [
    {
     "output_type": "stream",
     "name": "stdout",
     "text": [
      "orzeszkowa 0.5152420800956365\nprus 0.5067846607669616\nsienkiewicz 0.8022875816993464\n"
     ]
    }
   ],
   "source": [
    "mult = lambda words: len(words) * 0.5 if len(words) > 15 else 1\n",
    "\n",
    "print('orzeszkowa', validate_orzeszkowa(mult))\n",
    "print('prus', validate_prus(mult))\n",
    "print('sienkiewicz', validate_sienkiewicz(mult))"
   ]
  },
  {
   "source": [
    "## Tests"
   ],
   "cell_type": "markdown",
   "metadata": {}
  },
  {
   "cell_type": "code",
   "execution_count": 27,
   "metadata": {},
   "outputs": [],
   "source": [
    "def test_authorship(filenames, expected_symbol, mult):\n",
    "    correct = 0\n",
    "    total = 0\n",
    "    for filename in filenames:\n",
    "            c, t = validate(expected_symbol, filename, mult)\n",
    "            # print(c / t)\n",
    "            correct += c\n",
    "            total += t\n",
    "    if total != 0:\n",
    "        print(f'{expected_symbol} stats: {correct / total}')"
   ]
  },
  {
   "cell_type": "code",
   "execution_count": 15,
   "metadata": {},
   "outputs": [],
   "source": [
    "def test_orzeszkowa(mult):\n",
    "    filenames = [\n",
    "        f'./dane/testy1/test_orzeszkowej{i}.txt' for i in range(1, 22, 2)]\n",
    "    test_authorship(filenames, orzeszkowa.symbol, mult)"
   ]
  },
  {
   "cell_type": "code",
   "execution_count": 16,
   "metadata": {},
   "outputs": [],
   "source": [
    "def test_prus(mult):\n",
    "    filenames = [f'./dane/testy1/test_prusa{i}.txt' for i in range(0, 40, 2)]\n",
    "    test_authorship(filenames, prus.symbol, mult)"
   ]
  },
  {
   "cell_type": "code",
   "execution_count": 17,
   "metadata": {},
   "outputs": [],
   "source": [
    "def test_sienkiewicz(mult):\n",
    "    filenames = [\n",
    "        f'./dane/testy1/test_sienkiewicza{i}.txt' for i in range(1, 53, 2)]\n",
    "    test_authorship(filenames, sienkiewicz.symbol, mult)"
   ]
  },
  {
   "source": [
    "#### Najlepszy wynik?"
   ],
   "cell_type": "markdown",
   "metadata": {}
  },
  {
   "cell_type": "code",
   "execution_count": 28,
   "metadata": {},
   "outputs": [
    {
     "output_type": "stream",
     "name": "stdout",
     "text": [
      "o stats: 0.30103359173126615\n",
      "p stats: 0.4308068459657702\n",
      "s stats: 0.6479838709677419\n"
     ]
    }
   ],
   "source": [
    "mult = lambda words: len(words) * 0.5 if len(words) > 15 else 1\n",
    "test_orzeszkowa(mult)\n",
    "test_prus(mult)\n",
    "test_sienkiewicz(mult)"
   ]
  },
  {
   "cell_type": "code",
   "execution_count": null,
   "metadata": {},
   "outputs": [],
   "source": []
  }
 ]
}